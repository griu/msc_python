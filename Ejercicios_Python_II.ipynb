{
  "nbformat": 4,
  "nbformat_minor": 0,
  "metadata": {
    "colab": {
      "name": "Ejercicios_Python_II.ipynb",
      "provenance": [],
      "collapsed_sections": []
    },
    "kernelspec": {
      "display_name": "initPython383",
      "language": "python",
      "name": "initpython383"
    },
    "language_info": {
      "codemirror_mode": {
        "name": "ipython",
        "version": 3
      },
      "file_extension": ".py",
      "mimetype": "text/x-python",
      "name": "python",
      "nbconvert_exporter": "python",
      "pygments_lexer": "ipython3",
      "version": "3.6.9"
    }
  },
  "cells": [
    {
      "cell_type": "markdown",
      "metadata": {
        "id": "g-0-smZ6lnEA"
      },
      "source": [
        "<img align=\"left\" style=\"padding-right:10px;\" width=\"150\" src=\"https://upload.wikimedia.org/wikipedia/commons/thumb/6/6c/Star_Wars_Logo.svg/320px-Star_Wars_Logo.svg.png\" />\n",
        "\n",
        "*elaborado por Ferran Carrascosa Mallafrè.*"
      ]
    },
    {
      "cell_type": "markdown",
      "metadata": {
        "id": "hmeyeBPNltaj"
      },
      "source": [
        "__[Abre en Colab](https://colab.research.google.com/github/griu/init_python_b1/blob/master/Ejercicios_Python_II.ipynb)__"
      ]
    },
    {
      "cell_type": "markdown",
      "metadata": {
        "id": "5zZfGqOugjnr"
      },
      "source": [
        "# Preparación del entorno\n",
        "\n",
        "Padawan! Cuando inicies sesión en Colab, prepara el entorno ejecutando el siguiente código."
      ]
    },
    {
      "cell_type": "code",
      "metadata": {
        "id": "2SBF5dlSTi-h"
      },
      "source": [
        "if 'google.colab' in str(get_ipython()):\n",
        "    !git clone https://github.com/griu/init_python_b1.git /content/init_python_b1\n",
        "    !git -C /content/init_python_b1 pull\n",
        "    %cd /content/init_python_b1"
      ],
      "execution_count": null,
      "outputs": []
    },
    {
      "cell_type": "markdown",
      "metadata": {
        "id": "EljLebnxgjqM"
      },
      "source": [
        "# Ejercicio 2\n",
        "\n",
        "Para el ejercicio 2, añadimos los datos del ejercicio 1 los datos de planetas."
      ]
    },
    {
      "cell_type": "code",
      "metadata": {
        "id": "2V3mrVHSgjn7"
      },
      "source": [
        "import numpy as np\n",
        "import pandas as pd\n",
        "import matplotlib.pyplot as plt\n",
        "import seaborn as sns; sns.set()  # para el estilo de graficos\n",
        "\n",
        "entidades = ['planets','starships','vehicles','people','species']\n",
        "entidades_df = {x: pd.read_pickle('www/' + x + '_df.pkl') for x in entidades}\n",
        "\n",
        "# Datos people\n",
        "people_df = entidades_df['people'][[\"height\",\"mass\",\"birth_year\",\"gender\",\"homeworld\"]].dropna()\n",
        "\n",
        "# planetas\n",
        "planets_df = entidades_df['planets'][[\"orbital_period\",\"url\"]].dropna()\n",
        "planets_df.head()"
      ],
      "execution_count": null,
      "outputs": []
    },
    {
      "cell_type": "markdown",
      "metadata": {
        "id": "XfAwzyybgjqV"
      },
      "source": [
        "## Ejercicio 2.1.\n",
        "\n",
        "Construye una función que diga \"buenos días\", \"buenas tardes\" o \"buenas noches\" en función de la hora del día.\n",
        "\n",
        "> Truco 1: Para testear la función haz que tenga un parametro de entrada que tenga como valor por defecto: `datetime.now()` (primero carga `from datetime import datetime`).\n",
        "\n",
        "> Truco 2: Puedes extraer la hora de un datetime con `.hour`."
      ]
    },
    {
      "cell_type": "code",
      "metadata": {
        "id": "ztjRWz0kgjqW"
      },
      "source": [
        "# Solución:\n"
      ],
      "execution_count": null,
      "outputs": []
    },
    {
      "cell_type": "markdown",
      "metadata": {
        "id": "N4CDynU2gjqe"
      },
      "source": [
        "## Ejercicio 2.2.\n",
        "\n",
        "En el data frame personajes_df, calcula de nuevo el IMC y crea una nueva variable con el trameado de la variable IMC definido en la siguiente tabla:\n",
        "\n",
        " | Categoría de nivel de peso | Intervalo del percentil |\n",
        " | -------------------------- | ----------------------- | \n",
        " | Bajo peso | < 18.5 |\n",
        " | Normal | >= 18.5 y < 25 |\n",
        " | Sobrepeso | >= 25 y <30 |\n",
        " | Obeso | >= 30 |\n",
        "\n",
        "> Truco: utiliza `pd.cut(..., right=False)` y modifica las etiquetas con `.cat.categories`.  "
      ]
    },
    {
      "cell_type": "code",
      "metadata": {
        "id": "1DPbZLk4gjqf"
      },
      "source": [
        "# Solución:\n"
      ],
      "execution_count": null,
      "outputs": []
    },
    {
      "cell_type": "markdown",
      "metadata": {
        "id": "edo1k7Y-gjqn"
      },
      "source": [
        "## Ejercicio 2.3.\n",
        "\n",
        "Muestra las frecuencias de la nueva variable definida en 2.2."
      ]
    },
    {
      "cell_type": "code",
      "metadata": {
        "id": "6OxcRrVpgjqo"
      },
      "source": [
        "# Solución:\n"
      ],
      "execution_count": null,
      "outputs": []
    },
    {
      "cell_type": "markdown",
      "metadata": {
        "id": "1CKTldfbgjqv"
      },
      "source": [
        "## Ejercicio 2.4.\n",
        "\n",
        "Calcula ahora un trameado de la edad en 5 grupos equiprobables.\n",
        "\n",
        "Muestra los recuentos (frecuencias) de la nueva obtenida por pantalla.\n",
        "\n",
        "> Truco: Busca ayuda de la función [pd.qcut()](https://pandas.pydata.org/pandas-docs/stable/reference/api/pandas.qcut.html)"
      ]
    },
    {
      "cell_type": "code",
      "metadata": {
        "id": "O_WpukQVgjqx"
      },
      "source": [
        "# Solución:\n"
      ],
      "execution_count": null,
      "outputs": []
    },
    {
      "cell_type": "markdown",
      "metadata": {
        "id": "ounCvVAGgjq6"
      },
      "source": [
        "## Ejercicio 2.5.\n",
        "\n",
        "Presenta la tabla cruzada de tramos de edad (ej. 2.4) por tramos de IMC (ej. 2.2). \n",
        "\n",
        "¿Qué tramo de edad tiene un mayor número de personajes con Bajo peso?"
      ]
    },
    {
      "cell_type": "code",
      "metadata": {
        "id": "umepvEN9gjq8"
      },
      "source": [
        "# Solución:\n"
      ],
      "execution_count": null,
      "outputs": []
    },
    {
      "cell_type": "markdown",
      "metadata": {
        "id": "l2716nMZgjrE"
      },
      "source": [
        "## Ejercicio 2.6.\n",
        "\n",
        "Calcula una tabla resumen (data frame) donde se presente la media del IMC en cada tramo de edad calculado en ejercicio 2.4.\n",
        "\n",
        "Presenta por pantalla la nueva tabla resumen.\n"
      ]
    },
    {
      "cell_type": "code",
      "metadata": {
        "id": "6fMs6ud7gjrG"
      },
      "source": [
        "# Solución:\n"
      ],
      "execution_count": null,
      "outputs": []
    },
    {
      "cell_type": "markdown",
      "metadata": {
        "id": "pcJwb6B5gjrO"
      },
      "source": [
        "## Ejercicio 2.7.\n",
        "\n",
        "Presenta los datos del ej. 2.6. como un gráfico de líneas donde el eje x sea la edad y el eje y el IMC medio.\n",
        "\n",
        "> Truco: Como eje x del gráfico de líneas, puedes calcular en 2.6., en el mismo cálculo del IMC medio, la mediana de edad de cada tramo de edad."
      ]
    },
    {
      "cell_type": "code",
      "metadata": {
        "id": "U8dJ4dr5gjrQ"
      },
      "source": [
        "# Solución:\n"
      ],
      "execution_count": null,
      "outputs": []
    },
    {
      "cell_type": "markdown",
      "metadata": {
        "id": "qmjm1lwigjrY"
      },
      "source": [
        "## Ejercicio 2.8.\n",
        "\n",
        "Calcula el ratio del IMC sobre la mediana del IMC de su tramo de edad (definidos en el ejercicio 2.2.) mediante la función groupby(...).apply(...).\n",
        "\n",
        "> truco: primero crea una función que devuelva:  `x / np.nanmedian(x)`.\n",
        "\n",
        "Presenta los datos mediante un boxplot de la nueva variable: [pd.boxplot()](https://pandas.pydata.org/pandas-docs/stable/reference/api/pandas.DataFrame.boxplot.html). "
      ]
    },
    {
      "cell_type": "code",
      "metadata": {
        "id": "XH3ijt6Dgjra"
      },
      "source": [
        "# Solución:\n"
      ],
      "execution_count": null,
      "outputs": []
    },
    {
      "cell_type": "markdown",
      "metadata": {
        "id": "mkK-wUxCgjrg"
      },
      "source": [
        "## Ejercicio 2.9.\n",
        "\n",
        "¿Cual es planeta con un menor índice IMC medio de sus personajes?\n",
        "¿Que personaje/s son de ese planeta?"
      ]
    },
    {
      "cell_type": "code",
      "metadata": {
        "id": "WsgelSYigjrh"
      },
      "source": [
        "# Solución:\n"
      ],
      "execution_count": null,
      "outputs": []
    },
    {
      "cell_type": "markdown",
      "metadata": {
        "id": "7tWxDDGmgjrn"
      },
      "source": [
        "## Ejercicio 2.10.\n",
        "\n",
        "Convierte a datetime los siguientes strings con la función [datetime.strptime()](https://docs.python.org/3/library/datetime.html#strftime-strptime-behavior) (consulta la ayuda si es necesario) de la libreria datetime:\n",
        "\n",
        "- \"1 january, 2020\"\n",
        "- \"15-feb.-2017\"\n",
        "- \"20190701 22:30\"  # 1 de julio de 2019\n",
        "\n"
      ]
    },
    {
      "cell_type": "code",
      "metadata": {
        "id": "ajD2V-K3gjrp"
      },
      "source": [
        "# Solución:\n"
      ],
      "execution_count": null,
      "outputs": []
    }
  ]
}