{
 "cells": [
  {
   "cell_type": "markdown",
   "metadata": {
    "toc": true
   },
   "source": [
    "<h1>Table of Contents<span class=\"tocSkip\"></span></h1>\n",
    "<div class=\"toc\"><ul class=\"toc-item\"><li><span><a href=\"#Environment-preparation\" data-toc-modified-id=\"Environment-preparation-1\"><span class=\"toc-item-num\">1&nbsp;&nbsp;</span>Environment preparation</a></span></li><li><span><a href=\"#Data-processing-and-modelling-with-Python\" data-toc-modified-id=\"Data-processing-and-modelling-with-Python-2\"><span class=\"toc-item-num\">2&nbsp;&nbsp;</span>Data processing and modelling with Python</a></span><ul class=\"toc-item\"><li><span><a href=\"#Modeling:-Simple-Regression\" data-toc-modified-id=\"Modeling:-Simple-Regression-2.1\"><span class=\"toc-item-num\">2.1&nbsp;&nbsp;</span>Modeling: Simple Regression</a></span><ul class=\"toc-item\"><li><span><a href=\"#Galton-(1885)\" data-toc-modified-id=\"Galton-(1885)-2.1.1\"><span class=\"toc-item-num\">2.1.1&nbsp;&nbsp;</span>Galton (1885)</a></span></li><li><span><a href=\"#Income-and-Expenses\" data-toc-modified-id=\"Income-and-Expenses-2.1.2\"><span class=\"toc-item-num\">2.1.2&nbsp;&nbsp;</span>Income and Expenses</a></span><ul class=\"toc-item\"><li><span><a href=\"#Normalizing-columns\" data-toc-modified-id=\"Normalizing-columns-2.1.2.1\"><span class=\"toc-item-num\">2.1.2.1&nbsp;&nbsp;</span>Normalizing columns</a></span></li></ul></li><li><span><a href=\"#PAISOS-(CONTRIES)\" data-toc-modified-id=\"PAISOS-(CONTRIES)-2.1.3\"><span class=\"toc-item-num\">2.1.3&nbsp;&nbsp;</span>PAISOS (CONTRIES)</a></span></li><li><span><a href=\"#Regressió-simple-with-statsmodels\" data-toc-modified-id=\"Regressió-simple-with-statsmodels-2.1.4\"><span class=\"toc-item-num\">2.1.4&nbsp;&nbsp;</span>Regressió simple with statsmodels</a></span><ul class=\"toc-item\"><li><span><a href=\"#Residus-versus-predicció\" data-toc-modified-id=\"Residus-versus-predicció-2.1.4.1\"><span class=\"toc-item-num\">2.1.4.1&nbsp;&nbsp;</span>Residus versus predicció</a></span></li><li><span><a href=\"#Controlling-for-other-variables\" data-toc-modified-id=\"Controlling-for-other-variables-2.1.4.2\"><span class=\"toc-item-num\">2.1.4.2&nbsp;&nbsp;</span>Controlling for other variables</a></span></li></ul></li><li><span><a href=\"#Simple-linear-regression\" data-toc-modified-id=\"Simple-linear-regression-2.1.5\"><span class=\"toc-item-num\">2.1.5&nbsp;&nbsp;</span>Simple linear regression</a></span></li><li><span><a href=\"#Multiple-linear-regression\" data-toc-modified-id=\"Multiple-linear-regression-2.1.6\"><span class=\"toc-item-num\">2.1.6&nbsp;&nbsp;</span>Multiple linear regression</a></span></li><li><span><a href=\"#Partial-regression-plots\" data-toc-modified-id=\"Partial-regression-plots-2.1.7\"><span class=\"toc-item-num\">2.1.7&nbsp;&nbsp;</span>Partial regression plots</a></span></li></ul></li><li><span><a href=\"#Variance-Inflation-Factor-(VIF)\" data-toc-modified-id=\"Variance-Inflation-Factor-(VIF)-2.2\"><span class=\"toc-item-num\">2.2&nbsp;&nbsp;</span>Variance Inflation Factor (VIF)</a></span></li><li><span><a href=\"#Salaries\" data-toc-modified-id=\"Salaries-2.3\"><span class=\"toc-item-num\">2.3&nbsp;&nbsp;</span>Salaries</a></span><ul class=\"toc-item\"><li><span><a href=\"#Univariate-analysis\" data-toc-modified-id=\"Univariate-analysis-2.3.1\"><span class=\"toc-item-num\">2.3.1&nbsp;&nbsp;</span>Univariate analysis</a></span></li><li><span><a href=\"#Bivariate-analysis\" data-toc-modified-id=\"Bivariate-analysis-2.3.2\"><span class=\"toc-item-num\">2.3.2&nbsp;&nbsp;</span>Bivariate analysis</a></span></li><li><span><a href=\"#Realció-log-log\" data-toc-modified-id=\"Realció-log-log-2.3.3\"><span class=\"toc-item-num\">2.3.3&nbsp;&nbsp;</span>Realció log-log</a></span></li><li><span><a href=\"#Realció-x**2\" data-toc-modified-id=\"Realció-x**2-2.3.4\"><span class=\"toc-item-num\">2.3.4&nbsp;&nbsp;</span>Realció x**2</a></span></li><li><span><a href=\"#Interactions\" data-toc-modified-id=\"Interactions-2.3.5\"><span class=\"toc-item-num\">2.3.5&nbsp;&nbsp;</span>Interactions</a></span></li><li><span><a href=\"#Final-Model\" data-toc-modified-id=\"Final-Model-2.3.6\"><span class=\"toc-item-num\">2.3.6&nbsp;&nbsp;</span>Final Model</a></span></li><li><span><a href=\"#Estimadors-robustos\" data-toc-modified-id=\"Estimadors-robustos-2.3.7\"><span class=\"toc-item-num\">2.3.7&nbsp;&nbsp;</span>Estimadors robustos</a></span></li></ul></li></ul></li></ul></div>"
   ]
  },
  {
   "cell_type": "markdown",
   "metadata": {},
   "source": [
    "\n"
   ]
  },
  {
   "cell_type": "markdown",
   "metadata": {
    "id": "8dbKvXOBMtBa"
   },
   "source": [
    "# Environment preparation\n"
   ]
  },
  {
   "cell_type": "code",
   "execution_count": null,
   "metadata": {
    "colab": {
     "base_uri": "https://localhost:8080/"
    },
    "executionInfo": {
     "elapsed": 25678,
     "status": "ok",
     "timestamp": 1604317087349,
     "user": {
      "displayName": "alumnos bigdata",
      "photoUrl": "",
      "userId": "10710302360204190833"
     },
     "user_tz": -60
    },
    "id": "2SBF5dlSTi-h",
    "outputId": "b85ff6ea-725c-464c-abf4-fc481a6882de"
   },
   "outputs": [],
   "source": [
    "if 'google.colab' in str(get_ipython()):\n",
    "    !git clone https://github.com/griu/msc_python.git /content/msc_python\n",
    "    !git -C /content/msc_python pull\n",
    "    %cd /content/msc_python\n",
    "    !pip install stargazer"
   ]
  },
  {
   "cell_type": "markdown",
   "metadata": {},
   "source": [
    "__[Open in Colab](https://colab.research.google.com/github/griu/msc_python/blob/master/Linear_Regression_with_Python.ipynb)__   *: <span style=\"color:rgba(255, 99, 71, 0.8)\">Padawan! When you login to Colab, prepare the environment by running the following code.</span>*"
   ]
  },
  {
   "cell_type": "code",
   "execution_count": null,
   "metadata": {},
   "outputs": [],
   "source": [
    "# Importing the packages\n",
    "\n",
    "import pandas as pd\n",
    "import numpy as np\n",
    "import seaborn as sns\n",
    "import matplotlib.pyplot as plt\n",
    "\n",
    "import statsmodels.api as sm\n",
    "import statsmodels.formula.api as smf\n",
    "import statsmodels.graphics.api as smg\n",
    "from statsmodels.stats.outliers_influence import variance_inflation_factor\n",
    "from patsy import dmatrices\n",
    "\n",
    "# !pip install stargazer\n",
    "from stargazer.stargazer import Stargazer\n",
    "\n",
    "from sklearn import preprocessing\n",
    "from IPython.core.display import display, HTML\n",
    "\n",
    "\n",
    "import scipy.stats as stats\n"
   ]
  },
  {
   "cell_type": "code",
   "execution_count": null,
   "metadata": {},
   "outputs": [],
   "source": [
    "sns.set_theme(color_codes=True)\n"
   ]
  },
  {
   "cell_type": "code",
   "execution_count": null,
   "metadata": {},
   "outputs": [],
   "source": [
    "%matplotlib inline"
   ]
  },
  {
   "cell_type": "markdown",
   "metadata": {},
   "source": [
    "# Data processing and modelling with Python\n",
    "\n",
    "## Modeling: Simple Regression\n",
    "\n",
    "### Galton (1885)\n",
    "\n",
    "Origin of the concept of regression"
   ]
  },
  {
   "cell_type": "code",
   "execution_count": null,
   "metadata": {},
   "outputs": [],
   "source": [
    "# Importing data\n",
    "\n",
    "Galton = pd.read_csv(\"Galton.csv\")\n"
   ]
  },
  {
   "cell_type": "code",
   "execution_count": null,
   "metadata": {
    "scrolled": true
   },
   "outputs": [],
   "source": [
    "Galton.info()"
   ]
  },
  {
   "cell_type": "code",
   "execution_count": null,
   "metadata": {},
   "outputs": [],
   "source": [
    "Galton.describe()"
   ]
  },
  {
   "cell_type": "code",
   "execution_count": null,
   "metadata": {},
   "outputs": [],
   "source": [
    "Galton.head()"
   ]
  },
  {
   "cell_type": "code",
   "execution_count": null,
   "metadata": {},
   "outputs": [],
   "source": [
    "g = sns.lmplot(x=\"parent\", y=\"child\", data=Galton , x_jitter = .1, y_jitter = .1)\n",
    "\n",
    "# titles\n",
    "g.fig.suptitle(\"Parent-child height ratio (Galton, 1885)\",fontsize = 12,y=1.01) # y adds some space\n",
    "g.set_axis_labels(\"Parents average height (inches)\", \"Children height (inches)\",fontsize = 10);\n",
    "\n",
    "# Draw a line of x=y \n",
    "lim = (Galton.min().max(),Galton.max().min())   # diagonal limits\n",
    "for ax in g.axes.ravel():\n",
    "    ax.plot(lim, lim, ls='--', color='0.2')\n"
   ]
  },
  {
   "cell_type": "markdown",
   "metadata": {},
   "source": [
    "### Income and Expenses\n",
    "\n",
    "It is a very common relationship in nature.\n"
   ]
  },
  {
   "cell_type": "code",
   "execution_count": null,
   "metadata": {},
   "outputs": [],
   "source": [
    "data= pd.read_csv(\"M2013RegressioSamp.csv\")\n"
   ]
  },
  {
   "cell_type": "code",
   "execution_count": null,
   "metadata": {},
   "outputs": [],
   "source": [
    "data.info()"
   ]
  },
  {
   "cell_type": "markdown",
   "metadata": {},
   "source": [
    "\n"
   ]
  },
  {
   "cell_type": "markdown",
   "metadata": {},
   "source": [
    "Selecting desired columns:"
   ]
  },
  {
   "cell_type": "code",
   "execution_count": null,
   "metadata": {},
   "outputs": [],
   "source": [
    "cols1 = [\"Lrenda\",\"Ldespeses\"]"
   ]
  },
  {
   "cell_type": "code",
   "execution_count": null,
   "metadata": {},
   "outputs": [],
   "source": [
    "data[cols1].describe()"
   ]
  },
  {
   "cell_type": "markdown",
   "metadata": {},
   "source": [
    "#### Normalizing columns\n"
   ]
  },
  {
   "cell_type": "markdown",
   "metadata": {},
   "source": [
    "`StandardScaler` is the sklearn function to calculate de mean and standar deviation (mean 0, Variance 1)\n"
   ]
  },
  {
   "cell_type": "code",
   "execution_count": null,
   "metadata": {},
   "outputs": [],
   "source": [
    "scaler = preprocessing.StandardScaler().fit(data[cols1])\n"
   ]
  },
  {
   "cell_type": "code",
   "execution_count": null,
   "metadata": {},
   "outputs": [],
   "source": [
    "scaler.mean_  # mean"
   ]
  },
  {
   "cell_type": "code",
   "execution_count": null,
   "metadata": {},
   "outputs": [],
   "source": [
    "scaler.scale_  # standar deviation"
   ]
  },
  {
   "cell_type": "markdown",
   "metadata": {},
   "source": [
    "Aplying the scaling to our data:"
   ]
  },
  {
   "cell_type": "code",
   "execution_count": null,
   "metadata": {},
   "outputs": [],
   "source": [
    "X_scaled = pd.DataFrame(scaler.transform(data[cols1]),columns=cols1)\n",
    "X_scaled"
   ]
  },
  {
   "cell_type": "code",
   "execution_count": null,
   "metadata": {},
   "outputs": [],
   "source": [
    "g = sns.lmplot(x=\"Lrenda\", y=\"Ldespeses\", data=X_scaled)\n",
    "\n",
    "# titles\n",
    "g.fig.suptitle(\"Income and Expenses Relationship\",fontsize = 12,y=1.01) # y adds some space\n",
    "g.set_axis_labels(\"Standardized Income Log\", \"Standardized Expenses Log\",fontsize = 10);\n",
    "\n",
    "# Draw a line of x=y \n",
    "lim = (X_scaled.min().max(),X_scaled.max().min())   # diagonal limits\n",
    "for ax in g.axes.ravel():\n",
    "    ax.plot(lim, lim, ls='--', color='0.2')\n"
   ]
  },
  {
   "cell_type": "code",
   "execution_count": null,
   "metadata": {},
   "outputs": [],
   "source": [
    "data[cols1].corr()"
   ]
  },
  {
   "cell_type": "markdown",
   "metadata": {},
   "source": [
    "### PAISOS (CONTRIES)\n",
    "\n",
    "Alert! Correlation does not always indicate causality. There may be other hidden factors with an effect on both factors.\n"
   ]
  },
  {
   "cell_type": "code",
   "execution_count": null,
   "metadata": {},
   "outputs": [],
   "source": [
    "data = pd.read_csv(\"PAISOS.csv\")"
   ]
  },
  {
   "cell_type": "markdown",
   "metadata": {},
   "source": [
    "\n"
   ]
  },
  {
   "cell_type": "code",
   "execution_count": null,
   "metadata": {},
   "outputs": [],
   "source": [
    "data.info()\n"
   ]
  },
  {
   "cell_type": "markdown",
   "metadata": {},
   "source": [
    "\n"
   ]
  },
  {
   "cell_type": "code",
   "execution_count": null,
   "metadata": {},
   "outputs": [],
   "source": [
    "cols1 = [\"PAIS\",\"NIVELL\", \"ESPVIDA\", \"CALORIES\", \"PIB\", \"HABMETG\" , \"ALFAB\"]\n"
   ]
  },
  {
   "cell_type": "code",
   "execution_count": null,
   "metadata": {},
   "outputs": [],
   "source": [
    "data.shape # rows x columns"
   ]
  },
  {
   "cell_type": "code",
   "execution_count": null,
   "metadata": {},
   "outputs": [],
   "source": [
    "data[cols1].describe()"
   ]
  },
  {
   "cell_type": "markdown",
   "metadata": {},
   "source": [
    "We note that of the 160 countries, some have missing values in some of the variables.\n"
   ]
  },
  {
   "cell_type": "code",
   "execution_count": null,
   "metadata": {},
   "outputs": [],
   "source": [
    "sns.displot(\n",
    "    data=data[cols1].isna().melt(value_name=\"missing\"),\n",
    "    y=\"variable\",\n",
    "    hue=\"missing\",\n",
    "    multiple=\"fill\",\n",
    "    aspect=1.25\n",
    ");"
   ]
  },
  {
   "cell_type": "markdown",
   "metadata": {},
   "source": [
    "Other possible approaches will be discussed in subsequent sessions. At the moment, a first treatment is to filter the countries with missing values."
   ]
  },
  {
   "cell_type": "code",
   "execution_count": null,
   "metadata": {},
   "outputs": [],
   "source": [
    "data_clean = data[cols1].dropna()"
   ]
  },
  {
   "cell_type": "code",
   "execution_count": null,
   "metadata": {},
   "outputs": [],
   "source": [
    "data_clean.shape "
   ]
  },
  {
   "cell_type": "code",
   "execution_count": null,
   "metadata": {},
   "outputs": [],
   "source": [
    "sns.displot(\n",
    "    data=data_clean.isna().melt(value_name=\"missing\"),\n",
    "    y=\"variable\",\n",
    "    hue=\"missing\",\n",
    "    multiple=\"fill\",\n",
    "    aspect=1.25\n",
    ");"
   ]
  },
  {
   "cell_type": "markdown",
   "metadata": {},
   "source": [
    "\n"
   ]
  },
  {
   "cell_type": "code",
   "execution_count": null,
   "metadata": {},
   "outputs": [],
   "source": [
    "sns.lmplot(data= data_clean, x=\"CALORIES\", y= \"ESPVIDA\");\n"
   ]
  },
  {
   "cell_type": "markdown",
   "metadata": {},
   "source": [
    "### Regressió simple with statsmodels\n",
    "\n"
   ]
  },
  {
   "cell_type": "code",
   "execution_count": null,
   "metadata": {},
   "outputs": [],
   "source": [
    "mod = smf.ols(formula='ESPVIDA ~ CALORIES', data=data_clean)  #specification\n",
    "res = mod.fit()  # fitting\n",
    "print(res.summary())    # summary"
   ]
  },
  {
   "cell_type": "markdown",
   "metadata": {},
   "source": [
    "We standardize the variables and compare models with stargazer.\n"
   ]
  },
  {
   "cell_type": "code",
   "execution_count": null,
   "metadata": {},
   "outputs": [],
   "source": [
    "cols2 = [\"ESPVIDA\",\"CALORIES\"]\n",
    "scaler = preprocessing.StandardScaler().fit(data_clean[cols2])\n",
    "X_scaled = pd.DataFrame(scaler.transform(data_clean[cols2]),columns=cols2)\n",
    "X_scaled.head()"
   ]
  },
  {
   "cell_type": "code",
   "execution_count": null,
   "metadata": {},
   "outputs": [],
   "source": [
    "mod_scale = smf.ols(formula='ESPVIDA ~ CALORIES', data=X_scaled)  #specification\n",
    "res_scale = mod_scale.fit()  # fitting\n",
    "\n",
    "stargazer = Stargazer([res, res_scale])"
   ]
  },
  {
   "cell_type": "code",
   "execution_count": null,
   "metadata": {},
   "outputs": [],
   "source": [
    "display(HTML(stargazer.render_html()))\n"
   ]
  },
  {
   "cell_type": "markdown",
   "metadata": {},
   "source": [
    "Note that: $0.748^2=0.559$  .\n",
    "\n",
    "And regression coefficient of scaled version, corresponds to correlation of the original variabels: "
   ]
  },
  {
   "cell_type": "code",
   "execution_count": null,
   "metadata": {},
   "outputs": [],
   "source": [
    "data_clean[cols2].corr()"
   ]
  },
  {
   "cell_type": "markdown",
   "metadata": {},
   "source": [
    "#### Residus versus predicció\n"
   ]
  },
  {
   "cell_type": "code",
   "execution_count": null,
   "metadata": {},
   "outputs": [],
   "source": [
    "# fitted values\n",
    "model_fitted_y = res.fittedvalues\n",
    "\n",
    "#  Plot\n",
    "plot = sns.residplot(x=model_fitted_y, y='ESPVIDA', data=data_clean, lowess=True, \n",
    "                     scatter_kws={'alpha': 0.5}, \n",
    "                     line_kws={'color': 'red', 'lw': 1, 'alpha': 0.8})\n",
    "\n",
    "# Titel and labels\n",
    "plot.set_title('Residuals vs Fitted')\n",
    "plot.set_xlabel('Fitted values')\n",
    "plot.set_ylabel('Residuals');"
   ]
  },
  {
   "cell_type": "code",
   "execution_count": null,
   "metadata": {},
   "outputs": [],
   "source": [
    "# https://www.statsmodels.org/stable/examples/notebooks/generated/regression_plots.html#\n",
    "fig, ax = plt.subplots(figsize=(12,8))\n",
    "\n",
    "fig = sm.graphics.influence_plot(res, criterion=\"cooks\", ax=ax)\n"
   ]
  },
  {
   "cell_type": "code",
   "execution_count": null,
   "metadata": {},
   "outputs": [],
   "source": [
    "model_cooks = res.get_influence().cooks_distance[0]  # Cook > 1 influential\n",
    "pd.Series(model_cooks).describe()"
   ]
  },
  {
   "cell_type": "markdown",
   "metadata": {},
   "source": [
    "A rule of thumb, values of cook greater than 1 are influential.\n"
   ]
  },
  {
   "cell_type": "code",
   "execution_count": null,
   "metadata": {},
   "outputs": [],
   "source": [
    "data_clean.PAIS[model_cooks>1]"
   ]
  },
  {
   "cell_type": "markdown",
   "metadata": {},
   "source": [
    "#### Controlling for other variables"
   ]
  },
  {
   "cell_type": "markdown",
   "metadata": {},
   "source": [
    "\n"
   ]
  },
  {
   "cell_type": "code",
   "execution_count": null,
   "metadata": {},
   "outputs": [],
   "source": [
    "mod2 = smf.ols(formula='ESPVIDA ~ CALORIES + ALFAB', data=data_clean)  #specification\n",
    "res2 = mod2.fit()  # fitting\n",
    "\n",
    "stargazer = Stargazer([res, res2])\n",
    "display(HTML(stargazer.render_html()))\n"
   ]
  },
  {
   "cell_type": "markdown",
   "metadata": {},
   "source": [
    "\n"
   ]
  },
  {
   "cell_type": "markdown",
   "metadata": {},
   "source": [
    "\n"
   ]
  },
  {
   "cell_type": "code",
   "execution_count": null,
   "metadata": {},
   "outputs": [],
   "source": [
    "# fitted values\n",
    "model_fitted_y = res2.fittedvalues\n",
    "\n",
    "#  Plot\n",
    "plot = sns.residplot(x=model_fitted_y, y='ESPVIDA', data=data_clean, lowess=True, \n",
    "                     scatter_kws={'alpha': 0.5}, \n",
    "                     line_kws={'color': 'red', 'lw': 1, 'alpha': 0.8})\n",
    "\n",
    "# Titel and labels\n",
    "plot.set_title('Residuals vs Fitted')\n",
    "plot.set_xlabel('Fitted values')\n",
    "plot.set_ylabel('Residuals');\n"
   ]
  },
  {
   "cell_type": "markdown",
   "metadata": {},
   "source": [
    "\n",
    "\n"
   ]
  },
  {
   "cell_type": "code",
   "execution_count": null,
   "metadata": {},
   "outputs": [],
   "source": [
    "sns.pairplot(data_clean[[\"NIVELL\",\"ESPVIDA\", \"CALORIES\",\"PIB\", \"HABMETG\", \"ALFAB\"]], hue=\"NIVELL\", height=2.5);\n"
   ]
  },
  {
   "cell_type": "markdown",
   "metadata": {},
   "source": [
    "\n"
   ]
  },
  {
   "cell_type": "code",
   "execution_count": null,
   "metadata": {},
   "outputs": [],
   "source": [
    "\n",
    "cols3 = [\"ESPVIDA\", \"CALORIES\",\"PIB\", \"HABMETG\", \"ALFAB\"]\n",
    "corr_matrix = np.corrcoef(data_clean[cols3].T)\n",
    "smg.plot_corr(corr_matrix, xnames=cols3);"
   ]
  },
  {
   "cell_type": "code",
   "execution_count": null,
   "metadata": {},
   "outputs": [],
   "source": [
    "# Transformation of variables (linearizing regression) \n",
    "data_clean[\"LPIB\"] = np.log(data_clean[\"PIB\"])\n",
    "data_clean[\"Lhabmetges\"] = np.log(data_clean[\"HABMETG\"])\n",
    "\n",
    "sns.pairplot(data_clean[[\"NIVELL\",\"ESPVIDA\", \"CALORIES\",\"LPIB\", \"Lhabmetges\", \"ALFAB\"]], hue=\"NIVELL\", height=2.5);\n"
   ]
  },
  {
   "cell_type": "markdown",
   "metadata": {},
   "source": [
    "\n",
    "\n"
   ]
  },
  {
   "cell_type": "code",
   "execution_count": null,
   "metadata": {},
   "outputs": [],
   "source": [
    "cols3 = [\"ESPVIDA\", \"CALORIES\",\"LPIB\", \"Lhabmetges\", \"ALFAB\"]\n",
    "corr_matrix = np.corrcoef(data_clean[cols3].T)\n",
    "smg.plot_corr(corr_matrix, xnames=cols3);"
   ]
  },
  {
   "cell_type": "markdown",
   "metadata": {},
   "source": [
    "\n",
    "\n"
   ]
  },
  {
   "cell_type": "code",
   "execution_count": null,
   "metadata": {},
   "outputs": [],
   "source": [
    "mod3 = smf.ols(formula='ESPVIDA ~ CALORIES + LPIB + Lhabmetges  +ALFAB', data=data_clean)  #specification\n",
    "res3 = mod3.fit()  # fitting\n",
    "\n",
    "stargazer = Stargazer([res, res2,res3])\n",
    "display(HTML(stargazer.render_html()))"
   ]
  },
  {
   "cell_type": "markdown",
   "metadata": {},
   "source": [
    "### Simple linear regression\n",
    "\n",
    "$$ Y = \\ beta_0 + \\ beta_1x + \\ epsilon $$\n",
    "\n",
    "- The $ \\ beta_0 $ independent term\n",
    "- The $ \\ beta_1 $ regression coefficient\n",
    "- Hope, $ E (Y) = \\ beta_0 + \\ beta_1E (x) $\n",
    "- The coefficient, $ \\ beta_1 $ is an increase in the expected value of $ Y $ of a unit increase in the variable X\n",
    "- $ \\ epsilon $ is a perturbation term, statistical variable $ \\ epsilon∼N (0, \\ sigma ^ 2) $, zero expected value and constant variance. Note that the variance of $ \\ epsilon $ represents the intensity of variation of Y around the regression line $ Y = \\ beta_0 + \\ beta_1x $.\n",
    "\n",
    "** Regression adjustment: **\n",
    "\n",
    "$$ Y = b_0 + b_1x + \\ epsilon $$\n",
    "\n",
    "$ b_0 = $ 27,061, $ b_1 = $ 0.014, $ b_0 $ and $ b_1 $ are estimates of $ \\ beta_0 $ and $ \\ beta_1 $ respectively.\n",
    "\n",
    "All estimates are subject to a standard error. In our example, the standard error of the estimate ´of $ beta_1 = $ 0.014 is $ 0.001 $.\n",
    "\n",
    "Multiple coefficient of determination, $ R ^ 2 = 0.559 $ that is, $ 55.9% $ of the variation of $ Y $ is due to the variable X.\n",
    "\n",
    "### Multiple linear regression\n",
    "\n",
    "$$ Y = \\ beta_0 + \\ beta_1x_1 + \\ beta_2x_2 + \\ epsilon $$\n",
    "\n",
    "- The independent term $ \\ beta_0 $\n",
    "- The $ \\ beta_1 $, $ \\ beta_2 $ partial regression coefficients\n",
    "- Hope: $ E (Y) = \\ beta_0 + \\ beta_1E (x_1) + \\ beta_2E (x_2) $\n",
    "- $ \\ beta_2 $ is an increase in the expected value of $ Y $ of a unit increase in the variable $ X_2 $ when $ X_1 $ remains constant. Same for $ \\ beta_1 $ (versus $ X_2 $)\n",
    "- $ \\ epsilon $ disturbance term, statistical variable $ \\ epsilon∼N (0, \\ sigma ^ 2) $, zero expected value and constant variance. Note that the variance of $ \\ epsilon $ represents the intensity of variation of Y around the regression line $ Y = \\ beta_0 + \\ beta_1x_1 + \\ beta_2x_2 $.\n",
    "\n",
    "** Estimated regression: **\n",
    "\n",
    "$$ Y = b_0 + b_1x_1 + b_2x_2 $$\n",
    "\n",
    "The coefficients: $ b_0 = $ 25,403; $ b_1 = $ 0.007; $ b_2 = $ 0.278\n",
    "\n",
    "The $ R ^ 2 = 0.044 $ is a $ 4.4% $ variation of $ Y $ is explained by the combined variation of $ X_1 $ and $ X_2 $."
   ]
  },
  {
   "cell_type": "code",
   "execution_count": null,
   "metadata": {},
   "outputs": [],
   "source": [
    "# fitted values\n",
    "model_fitted_y = res3.fittedvalues\n",
    "\n",
    "#  Plot\n",
    "plot = sns.residplot(x=model_fitted_y, y='ESPVIDA', data=data_clean, lowess=True, \n",
    "                     scatter_kws={'alpha': 0.5}, \n",
    "                     line_kws={'color': 'red', 'lw': 1, 'alpha': 0.8})\n",
    "\n",
    "# Titel and labels\n",
    "plot.set_title('Residuals vs Fitted')\n",
    "plot.set_xlabel('Fitted values')\n",
    "plot.set_ylabel('Residuals');"
   ]
  },
  {
   "cell_type": "markdown",
   "metadata": {},
   "source": [
    "Residuals versus Leverage: "
   ]
  },
  {
   "cell_type": "code",
   "execution_count": null,
   "metadata": {},
   "outputs": [],
   "source": [
    "# https://www.statsmodels.org/stable/examples/notebooks/generated/regression_plots.html#\n",
    "fig, ax = plt.subplots(figsize=(12,8))\n",
    "\n",
    "fig = sm.graphics.influence_plot(res3, criterion=\"cooks\", ax=ax)\n"
   ]
  },
  {
   "cell_type": "code",
   "execution_count": null,
   "metadata": {},
   "outputs": [],
   "source": [
    "model_cooks = res.get_influence().cooks_distance[0]  # Cook > 1 influential\n",
    "pd.Series(model_cooks).describe()"
   ]
  },
  {
   "cell_type": "markdown",
   "metadata": {},
   "source": [
    "### Partial regression plots\n"
   ]
  },
  {
   "cell_type": "code",
   "execution_count": null,
   "metadata": {},
   "outputs": [],
   "source": [
    "fig, ax =  plt.subplots(figsize=(12,8))\n",
    "fig = sm.graphics.plot_partregress_grid(res3, fig=fig)\n"
   ]
  },
  {
   "cell_type": "code",
   "execution_count": null,
   "metadata": {},
   "outputs": [],
   "source": [
    "fig, ax =  plt.subplots(figsize=(12,8))\n",
    "fig = sm.graphics.plot_partregress(\"ESPVIDA\",\"CALORIES\", [\"LPIB\",\"Lhabmetges\",\"ALFAB\"],data_clean,obs_labels=False,ax=ax )\n"
   ]
  },
  {
   "cell_type": "markdown",
   "metadata": {},
   "source": [
    "## Variance Inflation Factor (VIF)\n",
    "\n",
    "VIF or variance inflation factors (VIF) can be used to identify multicollinearity between explanatory variables. The higher the heat, the higher the multicollinearity. The VIF of a variable is obtained from its regression against the other variables in the model: The VIF is calculated for each explanatory variable and those with the highest value are removed. The border is arbitrary, although it is usually considered values higher than 5 as very high ..."
   ]
  },
  {
   "cell_type": "code",
   "execution_count": null,
   "metadata": {},
   "outputs": [],
   "source": [
    "y, X = dmatrices('ESPVIDA ~ CALORIES + LPIB + Lhabmetges  +ALFAB', data_clean, return_type='dataframe')\n",
    "\n",
    "vif = pd.DataFrame()\n",
    "vif['VIF'] = [variance_inflation_factor(X.values, i) for i in range(X.shape[1])]\n",
    "vif['variable'] = X.columns\n",
    "\n",
    "vif"
   ]
  },
  {
   "cell_type": "markdown",
   "metadata": {},
   "source": [
    "## Salaries\n",
    "\n",
    "The Salary dataset reports a sample of college faculty salaries collected during the 2008-2009 school year in the USA. In addition to dollar salaries, the data include the following 5 variables: gender, doctoral years, years of service, discipline (theory (1) or applied (2)), and academic rank.\n",
    "\n",
    "There is a consultation on possible wage discrimination by gender."
   ]
  },
  {
   "cell_type": "code",
   "execution_count": null,
   "metadata": {},
   "outputs": [],
   "source": [
    "Salaries = pd.read_csv(\"Salaries.csv\")\n",
    "\n",
    "Salaries.rename(columns={\"yrs.since.phd\": \"yrs_since_phd\", \"yrs.service\": \"yrs_service\"}, inplace=True)\n",
    "\n",
    "Salaries.info()"
   ]
  },
  {
   "cell_type": "markdown",
   "metadata": {},
   "source": [
    "\n"
   ]
  },
  {
   "cell_type": "code",
   "execution_count": null,
   "metadata": {},
   "outputs": [],
   "source": [
    "Salaries.head()"
   ]
  },
  {
   "cell_type": "code",
   "execution_count": null,
   "metadata": {},
   "outputs": [],
   "source": [
    "Salaries.describe()\n"
   ]
  },
  {
   "cell_type": "markdown",
   "metadata": {},
   "source": [
    "### Univariate analysis\n",
    "\n"
   ]
  },
  {
   "cell_type": "code",
   "execution_count": null,
   "metadata": {},
   "outputs": [],
   "source": [
    "g = sns.displot(Salaries, x=\"salary\", kind=\"kde\", fill=True);\n",
    "g.fig.suptitle(\"Salary density\",fontsize = 12); \n"
   ]
  },
  {
   "cell_type": "markdown",
   "metadata": {},
   "source": [
    "\n"
   ]
  },
  {
   "cell_type": "markdown",
   "metadata": {},
   "source": [
    "Now with log scale:"
   ]
  },
  {
   "cell_type": "code",
   "execution_count": null,
   "metadata": {},
   "outputs": [],
   "source": [
    "g = sns.displot(Salaries, x=\"salary\", kind=\"kde\", fill=True,log_scale=True);\n",
    "g.fig.suptitle(\"Salary density\",fontsize = 12); \n"
   ]
  },
  {
   "cell_type": "markdown",
   "metadata": {},
   "source": [
    "\n",
    "\n"
   ]
  },
  {
   "cell_type": "code",
   "execution_count": null,
   "metadata": {},
   "outputs": [],
   "source": [
    "ax = sns.countplot(x=\"sex\", data=Salaries)"
   ]
  },
  {
   "cell_type": "markdown",
   "metadata": {},
   "source": [
    "\n"
   ]
  },
  {
   "cell_type": "code",
   "execution_count": null,
   "metadata": {},
   "outputs": [],
   "source": [
    "ax = sns.countplot(x=\"rank\", data=Salaries)"
   ]
  },
  {
   "cell_type": "markdown",
   "metadata": {},
   "source": [
    "\n"
   ]
  },
  {
   "cell_type": "code",
   "execution_count": null,
   "metadata": {},
   "outputs": [],
   "source": [
    "ax = sns.countplot(x=\"discipline\", data=Salaries)"
   ]
  },
  {
   "cell_type": "markdown",
   "metadata": {},
   "source": [
    "\n"
   ]
  },
  {
   "cell_type": "code",
   "execution_count": null,
   "metadata": {},
   "outputs": [],
   "source": [
    "g = sns.displot(Salaries, x=\"yrs_since_phd\", kind=\"kde\", fill=True);\n"
   ]
  },
  {
   "cell_type": "markdown",
   "metadata": {},
   "source": [
    "\n"
   ]
  },
  {
   "cell_type": "code",
   "execution_count": null,
   "metadata": {},
   "outputs": [],
   "source": [
    "g = sns.displot(Salaries, x=\"yrs_since_phd\", kind=\"kde\", fill=True,log_scale=True);\n"
   ]
  },
  {
   "cell_type": "markdown",
   "metadata": {},
   "source": [
    "\n"
   ]
  },
  {
   "cell_type": "code",
   "execution_count": null,
   "metadata": {},
   "outputs": [],
   "source": [
    "g = sns.displot(Salaries, x=\"yrs_service\", kind=\"kde\", fill=True);\n"
   ]
  },
  {
   "cell_type": "markdown",
   "metadata": {},
   "source": [
    "\n"
   ]
  },
  {
   "cell_type": "markdown",
   "metadata": {},
   "source": [
    "### Bivariate analysis\n",
    "\n"
   ]
  },
  {
   "cell_type": "code",
   "execution_count": null,
   "metadata": {},
   "outputs": [],
   "source": [
    "Salaries[\"log_salary\"] = np.log(Salaries[\"salary\"])\n",
    "Salaries[\"log_yrs_since_phd\"] = np.log(Salaries[\"yrs_since_phd\"])\n",
    "Salaries[\"yrs_since_phd2\"] = Salaries[\"yrs_since_phd\"]**2\n",
    "\n",
    "cols4 = [\"salary\",\"log_salary\", \"log_yrs_since_phd\",\"yrs_since_phd2\",\"yrs_service\"]\n",
    "\n",
    "sns.pairplot(Salaries[cols4 + [\"sex\"]], hue=\"sex\", height=2.5);\n"
   ]
  },
  {
   "cell_type": "markdown",
   "metadata": {},
   "source": [
    "\n"
   ]
  },
  {
   "cell_type": "code",
   "execution_count": null,
   "metadata": {},
   "outputs": [],
   "source": [
    "corr_matrix = np.corrcoef(Salaries[cols4].T)\n",
    "smg.plot_corr(corr_matrix, xnames=cols4);\n"
   ]
  },
  {
   "cell_type": "markdown",
   "metadata": {},
   "source": [
    "\n",
    "\n"
   ]
  },
  {
   "cell_type": "code",
   "execution_count": null,
   "metadata": {},
   "outputs": [],
   "source": [
    "\n",
    "ax = sns.boxplot(x=\"sex\", y=\"salary\", data=Salaries)\n"
   ]
  },
  {
   "cell_type": "markdown",
   "metadata": {},
   "source": [
    "\n"
   ]
  },
  {
   "cell_type": "code",
   "execution_count": null,
   "metadata": {},
   "outputs": [],
   "source": [
    "\n",
    "ax = sns.boxplot(x=\"sex\", y=\"log_salary\", data=Salaries)\n"
   ]
  },
  {
   "cell_type": "markdown",
   "metadata": {},
   "source": [
    "\n",
    "\n"
   ]
  },
  {
   "cell_type": "code",
   "execution_count": null,
   "metadata": {},
   "outputs": [],
   "source": [
    "reg1 = smf.ols(formula='salary~sex', data=Salaries)  #specification\n",
    "reg1 = reg1.fit()  # fitting\n",
    "\n",
    "print(reg1.summary())\n",
    "\n"
   ]
  },
  {
   "cell_type": "markdown",
   "metadata": {},
   "source": [
    "We note that salaries in men are $ 14,088 higher than in women. This tells us that when we compare salaries directly, between men and women, with a 95% confidence level, there are significant differences.\n",
    "\n"
   ]
  },
  {
   "cell_type": "code",
   "execution_count": null,
   "metadata": {},
   "outputs": [],
   "source": [
    "\n",
    "logreg1 = smf.ols(formula='log_salary~sex', data=Salaries)  #specification\n",
    "logreg1 = logreg1.fit()  # fitting\n"
   ]
  },
  {
   "cell_type": "code",
   "execution_count": null,
   "metadata": {},
   "outputs": [],
   "source": [
    "stargazer = Stargazer([reg1, logreg1])\n",
    "display(HTML(stargazer.render_html()))\n"
   ]
  },
  {
   "cell_type": "markdown",
   "metadata": {},
   "source": [
    "The comparison in terms of the Neperian logarithm of the salary also shows significant differences with 95% confidence. The gender coefficient 0.129, tells us that men have a salary 12.9% (approximately) above women.\n",
    "\n",
    "We now incorporate new factor."
   ]
  },
  {
   "cell_type": "code",
   "execution_count": null,
   "metadata": {},
   "outputs": [],
   "source": [
    "Salaries.columns"
   ]
  },
  {
   "cell_type": "code",
   "execution_count": null,
   "metadata": {},
   "outputs": [],
   "source": [
    "logreg2 = smf.ols(formula='log_salary~sex + yrs_since_phd', data=Salaries)  #specification\n",
    "logreg2 = logreg2.fit()  # fitting\n",
    "\n",
    "stargazer = Stargazer([logreg1, logreg2])\n",
    "display(HTML(stargazer.render_html()))\n"
   ]
  },
  {
   "cell_type": "markdown",
   "metadata": {},
   "source": [
    "We note that the variable \"years from the doctorate\" gains a lot of weight in the regression, and produces the variable gender reports that men earn 7.5% more women (the same number of years since the doctorate), being now, this relationship, not significant with a 95% confidence level.\n",
    "\n",
    "In this case, the coefficient 0.008 tells us that for each additional year, there is a 0.8% increase in salary.\n"
   ]
  },
  {
   "cell_type": "code",
   "execution_count": null,
   "metadata": {},
   "outputs": [],
   "source": [
    "sns.lmplot(data= Salaries, x=\"yrs_since_phd\", y= \"log_salary\",hue=\"sex\");\n"
   ]
  },
  {
   "cell_type": "markdown",
   "metadata": {},
   "source": [
    "### Realció log-log\n",
    "\n"
   ]
  },
  {
   "cell_type": "code",
   "execution_count": null,
   "metadata": {},
   "outputs": [],
   "source": [
    "loglogreg2 = smf.ols(formula='log_salary~sex + log_yrs_since_phd', data=Salaries)  #specification\n",
    "loglogreg2 = loglogreg2.fit()  # fitting\n",
    "\n",
    "stargazer = Stargazer([logreg1, logreg2, loglogreg2])\n",
    "display(HTML(stargazer.render_html()))\n"
   ]
  },
  {
   "cell_type": "markdown",
   "metadata": {},
   "source": [
    "If we take the years of experience in terms of logarithm we see 3 things:\n",
    "\n",
    "- The coefficient 0.167 indicates that for every 100% increase (double) the years since the doctorate, the salary increases by 16.7%.\n",
    "- On the other hand, the gender variable becomes significant with 95% confidence.\n",
    "- The regression goes from 18.8% to 27.8% of the variability of the logarithm of Salary.\n"
   ]
  },
  {
   "cell_type": "code",
   "execution_count": null,
   "metadata": {},
   "outputs": [],
   "source": [
    "sns.lmplot(data= Salaries, x=\"log_yrs_since_phd\", y= \"log_salary\",hue=\"sex\");\n"
   ]
  },
  {
   "cell_type": "markdown",
   "metadata": {},
   "source": [
    "### Realció x**2\n",
    "\n"
   ]
  },
  {
   "cell_type": "code",
   "execution_count": null,
   "metadata": {},
   "outputs": [],
   "source": [
    "\n",
    "logreg22 = smf.ols(formula='log_salary~sex + yrs_since_phd + I(yrs_since_phd**2)', data=Salaries)  #specification\n",
    "\n",
    "logreg22 = logreg22.fit()  # fitting\n",
    "\n",
    "stargazer = Stargazer([logreg1, logreg2, loglogreg2,logreg22])\n",
    "display(HTML(stargazer.render_html()))\n",
    "\n"
   ]
  },
  {
   "cell_type": "markdown",
   "metadata": {},
   "source": [
    "There is no direct interpretation now. We see that it is a significant 95% confidence ratio in all factors.\n"
   ]
  },
  {
   "cell_type": "code",
   "execution_count": null,
   "metadata": {},
   "outputs": [],
   "source": [
    "fig, ax =  plt.subplots(figsize=(12,8))\n",
    "fig = sm.graphics.plot_partregress_grid(logreg22, fig=fig)\n"
   ]
  },
  {
   "cell_type": "markdown",
   "metadata": {},
   "source": [
    "### Interactions\n",
    "\n",
    "Let's analyze the interaction between gender and age from the doctorate.\n"
   ]
  },
  {
   "cell_type": "code",
   "execution_count": null,
   "metadata": {},
   "outputs": [],
   "source": [
    "logreg3 = smf.ols(formula='log_salary~sex * yrs_since_phd ', data=Salaries)  #specification\n",
    "logreg3 = logreg3.fit()  # fitting\n",
    "\n",
    "stargazer = Stargazer([logreg1, logreg2, logreg3])\n",
    "display(HTML(stargazer.render_html()))"
   ]
  },
  {
   "cell_type": "markdown",
   "metadata": {},
   "source": [
    "\n"
   ]
  },
  {
   "cell_type": "code",
   "execution_count": null,
   "metadata": {},
   "outputs": [],
   "source": [
    "logreg4 = smf.ols(formula='log_salary~sex * yrs_since_phd + rank + discipline', data=Salaries)  #specification\n",
    "logreg4 = logreg4.fit()  # fitting\n",
    "\n",
    "stargazer = Stargazer([logreg1, logreg2, logreg3,logreg4])\n",
    "display(HTML(stargazer.render_html()))"
   ]
  },
  {
   "cell_type": "markdown",
   "metadata": {},
   "source": [
    "\n",
    "\n"
   ]
  },
  {
   "cell_type": "markdown",
   "metadata": {},
   "source": [
    "### Final Model"
   ]
  },
  {
   "cell_type": "code",
   "execution_count": null,
   "metadata": {},
   "outputs": [],
   "source": [
    "logreg5 = smf.ols(formula='log_salary~sex + yrs_since_phd + rank + discipline', data=Salaries)  #specification\n",
    "logreg5 = logreg5.fit()  # fitting\n",
    "\n",
    "stargazer = Stargazer([logreg1, logreg2, logreg3,logreg4,logreg5])\n",
    "display(HTML(stargazer.render_html()))\n",
    "\n"
   ]
  },
  {
   "cell_type": "markdown",
   "metadata": {},
   "source": [
    "\n",
    "\n"
   ]
  },
  {
   "cell_type": "code",
   "execution_count": null,
   "metadata": {},
   "outputs": [],
   "source": [
    "# fitted values\n",
    "model_fitted_y = logreg5.fittedvalues\n",
    "\n",
    "#  Plot\n",
    "plot = sns.residplot(x=model_fitted_y, y='log_salary', data=Salaries, lowess=True, \n",
    "                     scatter_kws={'alpha': 0.5}, \n",
    "                     line_kws={'color': 'red', 'lw': 1, 'alpha': 0.8})\n",
    "\n",
    "# Titel and labels\n",
    "plot.set_title('Residuals vs Fitted')\n",
    "plot.set_xlabel('Fitted values')\n",
    "plot.set_ylabel('Residuals');\n"
   ]
  },
  {
   "cell_type": "markdown",
   "metadata": {},
   "source": [
    "Clearly some **heteroscedasticity** can be detected."
   ]
  },
  {
   "cell_type": "code",
   "execution_count": null,
   "metadata": {
    "scrolled": true
   },
   "outputs": [],
   "source": [
    "fig, ax =  plt.subplots(figsize=(12,8))\n",
    "fig = sm.graphics.plot_partregress_grid(logreg5, fig=fig)\n",
    "\n"
   ]
  },
  {
   "cell_type": "markdown",
   "metadata": {},
   "source": [
    "No linearity issues."
   ]
  },
  {
   "cell_type": "markdown",
   "metadata": {},
   "source": [
    "\n"
   ]
  },
  {
   "cell_type": "code",
   "execution_count": null,
   "metadata": {},
   "outputs": [],
   "source": [
    "y, X = dmatrices('log_salary ~ sex + yrs_since_phd + rank + discipline', Salaries, return_type='dataframe')\n",
    "\n",
    "vif = pd.DataFrame()\n",
    "vif['VIF'] = [variance_inflation_factor(X.values, i) for i in range(X.shape[1])]\n",
    "vif['variable'] = X.columns\n",
    "\n",
    "vif"
   ]
  },
  {
   "cell_type": "markdown",
   "metadata": {},
   "source": [
    "No multicollinearity issues.\n",
    "\n",
    "If we try with years of service."
   ]
  },
  {
   "cell_type": "code",
   "execution_count": null,
   "metadata": {},
   "outputs": [],
   "source": [
    "y, X = dmatrices('log_salary ~ sex + yrs_since_phd + yrs_service+ rank + discipline', Salaries, return_type='dataframe')\n",
    "\n",
    "vif = pd.DataFrame()\n",
    "vif['VIF'] = [variance_inflation_factor(X.values, i) for i in range(X.shape[1])]\n",
    "vif['variable'] = X.columns\n",
    "\n",
    "vif"
   ]
  },
  {
   "cell_type": "markdown",
   "metadata": {},
   "source": [
    "In this case, the VIF greater that 5 shows some multicollinearity problems."
   ]
  },
  {
   "cell_type": "code",
   "execution_count": null,
   "metadata": {},
   "outputs": [],
   "source": [
    "# https://www.statsmodels.org/stable/examples/notebooks/generated/regression_plots.html#\n",
    "fig, ax = plt.subplots(figsize=(12,8))\n",
    "\n",
    "fig = sm.graphics.influence_plot(logreg5, criterion=\"cooks\", ax=ax)\n"
   ]
  },
  {
   "cell_type": "markdown",
   "metadata": {},
   "source": [
    "Some candidates to be influential cases.\n",
    "\n",
    "Let's see the Cook distance..."
   ]
  },
  {
   "cell_type": "code",
   "execution_count": null,
   "metadata": {},
   "outputs": [],
   "source": [
    "model_cooks = logreg5.get_influence().cooks_distance[0]  # Cook > 1 influential\n",
    "pd.Series(model_cooks).describe()\n"
   ]
  },
  {
   "cell_type": "markdown",
   "metadata": {},
   "source": [
    "All values are lesser than 1, that is the tule of thum breakpoint."
   ]
  },
  {
   "cell_type": "code",
   "execution_count": null,
   "metadata": {},
   "outputs": [],
   "source": [
    "Salaries[model_cooks>1]\n"
   ]
  },
  {
   "cell_type": "markdown",
   "metadata": {},
   "source": [
    "### Estimadors robustos\n",
    "\n",
    "[stats models documentation](https://www.statsmodels.org/dev/generated/statsmodels.regression.linear_model.RegressionResults.html)\n",
    "\n",
    "- HC0 = is the original of White (Wooldridge 2016)\n",
    "- HC1 = It is the one that uses the software of Stata\n",
    "- HC3 = It is the most conservative, therefore, it is highly recommended\n"
   ]
  },
  {
   "cell_type": "code",
   "execution_count": null,
   "metadata": {},
   "outputs": [],
   "source": [
    "\n",
    "\n",
    "logreg5_1 = smf.ols(formula='log_salary~sex + yrs_since_phd + rank + discipline', data=Salaries)  #specification\n",
    "logreg5_1 = logreg5_1.fit(cov_type='HC1')  # fitting\n",
    "\n",
    "logreg5_2 = smf.ols(formula='log_salary~sex + yrs_since_phd + rank + discipline', data=Salaries)  #specification\n",
    "logreg5_2 = logreg5_2.fit(cov_type='HC2')  # fitting\n",
    "\n",
    "logreg5_3 = smf.ols(formula='log_salary~sex + yrs_since_phd + rank + discipline', data=Salaries)  #specification\n",
    "logreg5_3 = logreg5_3.fit(cov_type='HC3')  # fitting\n",
    "\n",
    "stargazer = Stargazer([logreg5,logreg5_1,logreg5_2,logreg5_3])\n",
    "display(HTML(stargazer.render_html()))\n"
   ]
  },
  {
   "cell_type": "markdown",
   "metadata": {},
   "source": [
    "\n",
    "Normalidad\n"
   ]
  },
  {
   "cell_type": "code",
   "execution_count": null,
   "metadata": {},
   "outputs": [],
   "source": [
    "\n",
    "#fig = sm.qqplot(logreg5, stats.t, fit=True, line=\"45\");\n",
    "\n",
    "res = logreg5.resid # residuals\n",
    "fig = sm.qqplot(res, fit=True, line=\"45\");"
   ]
  },
  {
   "cell_type": "markdown",
   "metadata": {},
   "source": [
    "No normality issues detected."
   ]
  }
 ],
 "metadata": {
  "anaconda-cloud": "",
  "kernelspec": {
   "display_name": "Python 3 (ipykernel)",
   "language": "python",
   "name": "python3"
  },
  "language_info": {
   "codemirror_mode": {
    "name": "ipython",
    "version": 3
   },
   "file_extension": ".py",
   "mimetype": "text/x-python",
   "name": "python",
   "nbconvert_exporter": "python",
   "pygments_lexer": "ipython3",
   "version": "3.8.13"
  },
  "toc": {
   "base_numbering": 1,
   "nav_menu": {},
   "number_sections": true,
   "sideBar": true,
   "skip_h1_title": false,
   "title_cell": "Table of Contents",
   "title_sidebar": "Contents",
   "toc_cell": true,
   "toc_position": {},
   "toc_section_display": true,
   "toc_window_display": false
  }
 },
 "nbformat": 4,
 "nbformat_minor": 4
}
