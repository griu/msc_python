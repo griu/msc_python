{
 "cells": [
  {
   "cell_type": "markdown",
   "metadata": {
    "toc": true
   },
   "source": [
    "<h1>Table of Contents<span class=\"tocSkip\"></span></h1>\n",
    "<div class=\"toc\"><ul class=\"toc-item\"><li><span><a href=\"#Preparación-del-entorno\" data-toc-modified-id=\"Preparación-del-entorno-1\"><span class=\"toc-item-num\">1&nbsp;&nbsp;</span>Preparación del entorno</a></span></li><li><span><a href=\"#8---Data-Management\" data-toc-modified-id=\"8---Data-Management-2\"><span class=\"toc-item-num\">2&nbsp;&nbsp;</span>8 - Data Management</a></span><ul class=\"toc-item\"><li><ul class=\"toc-item\"><li><span><a href=\"#8.2.-Import-and-Export-Data\" data-toc-modified-id=\"8.2.-Import-and-Export-Data-2.0.1\"><span class=\"toc-item-num\">2.0.1&nbsp;&nbsp;</span>8.2. Import and Export Data</a></span><ul class=\"toc-item\"><li><span><a href=\"#8.2.1.-Reading-Text-with-Separator\" data-toc-modified-id=\"8.2.1.-Reading-Text-with-Separator-2.0.1.1\"><span class=\"toc-item-num\">2.0.1.1&nbsp;&nbsp;</span>8.2.1. Reading Text with Separator</a></span></li><li><span><a href=\"#8.2.2.-Writing-Text-with-Separator\" data-toc-modified-id=\"8.2.2.-Writing-Text-with-Separator-2.0.1.2\"><span class=\"toc-item-num\">2.0.1.2&nbsp;&nbsp;</span>8.2.2. Writing Text with Separator</a></span></li><li><span><a href=\"#8.2.3.-Reading-and-Writing-in-PICKLE-Format\" data-toc-modified-id=\"8.2.3.-Reading-and-Writing-in-PICKLE-Format-2.0.1.3\"><span class=\"toc-item-num\">2.0.1.3&nbsp;&nbsp;</span>8.2.3. Reading and Writing in PICKLE Format</a></span></li></ul></li><li><span><a href=\"#8.3.-Crossing-between-tables\" data-toc-modified-id=\"8.3.-Crossing-between-tables-2.0.2\"><span class=\"toc-item-num\">2.0.2&nbsp;&nbsp;</span>8.3. Crossing between tables</a></span><ul class=\"toc-item\"><li><span><a href=\"#8.3.1.-Crosses-by-Ordination-Without-Shared-Index\" data-toc-modified-id=\"8.3.1.-Crosses-by-Ordination-Without-Shared-Index-2.0.2.1\"><span class=\"toc-item-num\">2.0.2.1&nbsp;&nbsp;</span>8.3.1. Crosses by Ordination Without Shared Index</a></span></li><li><span><a href=\"#8.3.2.-Table-Sorting\" data-toc-modified-id=\"8.3.2.-Table-Sorting-2.0.2.2\"><span class=\"toc-item-num\">2.0.2.2&nbsp;&nbsp;</span>8.3.2. Table Sorting</a></span></li><li><span><a href=\"#8.3.3.-Union-by-Columns-Without-Shared-Index\" data-toc-modified-id=\"8.3.3.-Union-by-Columns-Without-Shared-Index-2.0.2.3\"><span class=\"toc-item-num\">2.0.2.3&nbsp;&nbsp;</span>8.3.3. Union by Columns Without Shared Index</a></span></li><li><span><a href=\"#8.3.4.-Union-by-rows\" data-toc-modified-id=\"8.3.4.-Union-by-rows-2.0.2.4\"><span class=\"toc-item-num\">2.0.2.4&nbsp;&nbsp;</span>8.3.4. Union by rows</a></span></li><li><span><a href=\"#8.3.5.-Key-Field-Crossing\" data-toc-modified-id=\"8.3.5.-Key-Field-Crossing-2.0.2.5\"><span class=\"toc-item-num\">2.0.2.5&nbsp;&nbsp;</span>8.3.5. Key Field Crossing</a></span></li></ul></li><li><span><a href=\"#8.4.-Aggregate-Summaries\" data-toc-modified-id=\"8.4.-Aggregate-Summaries-2.0.3\"><span class=\"toc-item-num\">2.0.3&nbsp;&nbsp;</span>8.4. Aggregate Summaries</a></span><ul class=\"toc-item\"><li><span><a href=\"#8.4.1.-describe\" data-toc-modified-id=\"8.4.1.-describe-2.0.3.1\"><span class=\"toc-item-num\">2.0.3.1&nbsp;&nbsp;</span>8.4.1. describe</a></span></li><li><span><a href=\"#8.4.2.-Basic-Statistics\" data-toc-modified-id=\"8.4.2.-Basic-Statistics-2.0.3.2\"><span class=\"toc-item-num\">2.0.3.2&nbsp;&nbsp;</span>8.4.2. Basic Statistics</a></span></li><li><span><a href=\"#8.4.3.-Tables-of-Frequencies-or-Counts\" data-toc-modified-id=\"8.4.3.-Tables-of-Frequencies-or-Counts-2.0.3.3\"><span class=\"toc-item-num\">2.0.3.3&nbsp;&nbsp;</span>8.4.3. Tables of Frequencies or Counts</a></span></li></ul></li><li><span><a href=\"#8.5.-Aggregated-by-Subgroups\" data-toc-modified-id=\"8.5.-Aggregated-by-Subgroups-2.0.4\"><span class=\"toc-item-num\">2.0.4&nbsp;&nbsp;</span>8.5. Aggregated by Subgroups</a></span><ul class=\"toc-item\"><li><span><a href=\"#8.5.1.-Grouping-or-GROUPBY\" data-toc-modified-id=\"8.5.1.-Grouping-or-GROUPBY-2.0.4.1\"><span class=\"toc-item-num\">2.0.4.1&nbsp;&nbsp;</span>8.5.1. Grouping or <em>GROUPBY</em></a></span></li><li><span><a href=\"#8.5.2.-Aggregate\" data-toc-modified-id=\"8.5.2.-Aggregate-2.0.4.2\"><span class=\"toc-item-num\">2.0.4.2&nbsp;&nbsp;</span>8.5.2. Aggregate</a></span></li><li><span><a href=\"#8.5.3.-Filtered-out\" data-toc-modified-id=\"8.5.3.-Filtered-out-2.0.4.3\"><span class=\"toc-item-num\">2.0.4.3&nbsp;&nbsp;</span>8.5.3. Filtered out</a></span></li><li><span><a href=\"#8.5.4.-Transformations\" data-toc-modified-id=\"8.5.4.-Transformations-2.0.4.4\"><span class=\"toc-item-num\">2.0.4.4&nbsp;&nbsp;</span>8.5.4. Transformations</a></span></li><li><span><a href=\"#8.5.5.-Application-of-functions\" data-toc-modified-id=\"8.5.5.-Application-of-functions-2.0.4.5\"><span class=\"toc-item-num\">2.0.4.5&nbsp;&nbsp;</span>8.5.5. Application of functions</a></span></li></ul></li><li><span><a href=\"#8.6.-Pivot-Tables\" data-toc-modified-id=\"8.6.-Pivot-Tables-2.0.5\"><span class=\"toc-item-num\">2.0.5&nbsp;&nbsp;</span>8.6. Pivot Tables</a></span></li><li><span><a href=\"#8.7.-Management-of-Dates-and-Times-(DATETIME)\" data-toc-modified-id=\"8.7.-Management-of-Dates-and-Times-(DATETIME)-2.0.6\"><span class=\"toc-item-num\">2.0.6&nbsp;&nbsp;</span>8.7. Management of Dates and Times (DATETIME)</a></span><ul class=\"toc-item\"><li><span><a href=\"#8.7.1.-Create-Dates-Hours\" data-toc-modified-id=\"8.7.1.-Create-Dates-Hours-2.0.6.1\"><span class=\"toc-item-num\">2.0.6.1&nbsp;&nbsp;</span>8.7.1. Create Dates Hours</a></span></li><li><span><a href=\"#8.7.2.-Get-Components\" data-toc-modified-id=\"8.7.2.-Get-Components-2.0.6.2\"><span class=\"toc-item-num\">2.0.6.2&nbsp;&nbsp;</span>8.7.2. Get Components</a></span></li><li><span><a href=\"#8.7.3.-Datetime-and-Numpy\" data-toc-modified-id=\"8.7.3.-Datetime-and-Numpy-2.0.6.3\"><span class=\"toc-item-num\">2.0.6.3&nbsp;&nbsp;</span>8.7.3. Datetime and Numpy</a></span></li><li><span><a href=\"#8.7.4.-Datetime-and-Pandas\" data-toc-modified-id=\"8.7.4.-Datetime-and-Pandas-2.0.6.4\"><span class=\"toc-item-num\">2.0.6.4&nbsp;&nbsp;</span>8.7.4. Datetime and Pandas</a></span></li><li><span><a href=\"#8.7.5.-Panda-Time-Series\" data-toc-modified-id=\"8.7.5.-Panda-Time-Series-2.0.6.5\"><span class=\"toc-item-num\">2.0.6.5&nbsp;&nbsp;</span>8.7.5. Panda Time Series</a></span></li><li><span><a href=\"#8.7.6.-Date-Sequences\" data-toc-modified-id=\"8.7.6.-Date-Sequences-2.0.6.6\"><span class=\"toc-item-num\">2.0.6.6&nbsp;&nbsp;</span>8.7.6. Date Sequences</a></span></li><li><span><a href=\"#8.7.7.-Tables-of-Counts-or-Frequencies\" data-toc-modified-id=\"8.7.7.-Tables-of-Counts-or-Frequencies-2.0.6.7\"><span class=\"toc-item-num\">2.0.6.7&nbsp;&nbsp;</span>8.7.7. Tables of Counts or Frequencies</a></span></li></ul></li></ul></li></ul></li></ul></div>"
   ]
  },
  {
   "cell_type": "markdown",
   "metadata": {},
   "source": [
    "<img align=\"left\" style=\"padding-right:10px;\" width=\"150\" src=\"https://upload.wikimedia.org/wikipedia/commons/thumb/6/6c/Star_Wars_Logo.svg/320px-Star_Wars_Logo.svg.png\" />\n",
    "\n",
    "*made by Ferran Carrascosa Mallafrè.*"
   ]
  },
  {
   "cell_type": "markdown",
   "metadata": {},
   "source": [
    "< [Flow control](modulo1_tema4_Py_40_contr_flujo.ipynb) | [Table of contents](modulo1_tema4_Py_00_indice.ipynb) | [Anex](modulo1_tema4_Py_60_anexo.ipynb) >\n",
    "\n",
    "__[Open in Colab](https://colab.research.google.com/github/griu/msc_python/blob/master/modulo1_tema4_Py_50_gest_dat.ipynb)__   *: <span style=\"color:rgba(255, 99, 71, 0.8)\">Padawan! When you login to Colab, prepare the environment by running the following code.</span>*"
   ]
  },
  {
   "cell_type": "markdown",
   "metadata": {
    "id": "rwi61M3czOFJ"
   },
   "source": [
    "# Preparación del entorno\n",
    "\n",
    "¡Padawan! Cuando inicies sesión en Colab, prepara el entorno ejecutando el siguiente código:"
   ]
  },
  {
   "cell_type": "code",
   "execution_count": null,
   "metadata": {
    "colab": {
     "base_uri": "https://localhost:8080/"
    },
    "executionInfo": {
     "elapsed": 25678,
     "status": "ok",
     "timestamp": 1604317087349,
     "user": {
      "displayName": "alumnos bigdata",
      "photoUrl": "",
      "userId": "10710302360204190833"
     },
     "user_tz": -60
    },
    "id": "2SBF5dlSTi-h",
    "outputId": "b85ff6ea-725c-464c-abf4-fc481a6882de"
   },
   "outputs": [],
   "source": [
    "if 'google.colab' in str(get_ipython()):\n",
    "    !git clone https://github.com/griu/msc_python.git /content/msc_python\n",
    "    !git -C /content/msc_python pull\n",
    "    %cd /content/msc_python"
   ]
  },
  {
   "cell_type": "markdown",
   "metadata": {
    "id": "J9-tONdozOF2"
   },
   "source": [
    "# 8 - Data Management\n",
    "\n",
    "Next, we present the functions for reading/writing data, crossing and building summary tables.\n",
    "\n",
    "At the end of the chapter, we will introduce how to handle temporary data."
   ]
  },
  {
   "cell_type": "markdown",
   "metadata": {
    "id": "NZv9wCxdzOF7"
   },
   "source": [
    "##### 8.1. Guided Activity 2.5\n",
    "\n",
    "It is about analyzing the characters of the series:\n",
    "\n",
    "> \"He would rather be a monster who believes in something, who would sacrifice everything to improve the galaxy, than be someone who stands on the sidelines and looks like it has no impact on them.\"\n",
    "     ―Princess Leia Organa\n",
    "\n",
    "\n",
    "This activity consists of crossing data of characters and planets to build descriptive summary of the data of characters.\n",
    "\n",
    "The first step is to load the data of the characters and planets:"
   ]
  },
  {
   "cell_type": "code",
   "execution_count": null,
   "metadata": {
    "colab": {
     "base_uri": "https://localhost:8080/",
     "height": 458
    },
    "executionInfo": {
     "elapsed": 25855,
     "status": "ok",
     "timestamp": 1604393639069,
     "user": {
      "displayName": "alumnos bigdata",
      "photoUrl": "",
      "userId": "10710302360204190833"
     },
     "user_tz": -60
    },
    "id": "gYgda8kXzOF9",
    "outputId": "ca317a7a-8ae1-4db7-bad7-394d26df0ece",
    "scrolled": true
   },
   "outputs": [],
   "source": [
    "%matplotlib inline\n",
    "import numpy as np\n",
    "import pandas as pd\n",
    "import matplotlib.pyplot as plt\n",
    "import seaborn as sns; sns.set()  # for graphics style\n",
    "\n",
    "entidades = ['planets','starships','vehicles','people','species']\n",
    "entidades_df = {x: pd.read_pickle('www/' + x + '_df.pkl') for x in entidades}\n",
    "\n",
    "# planetas\n",
    "planets_df = entidades_df['planets'][[\"climate\",\"temperate_tropical\",\"population\",\"url\"]].dropna()\n",
    "\n",
    "# Datos principales\n",
    "people_df = entidades_df['people'][[\"height\",\"mass\",\"eye_color\",\"birth_year\",\"gender\",\"homeworld\"]].dropna()\n",
    "\n",
    "display(people_df.head(),planets_df.head())"
   ]
  },
  {
   "cell_type": "markdown",
   "metadata": {
    "id": "jzpPEaAlzOGn"
   },
   "source": [
    "### 8.2. Import and Export Data\n",
    "\n",
    "The simplest way to import structured data (in the form of a matrix of rows and columns), is through DataFrames. The reason is simple, these objects allow you to store data of different types in a single object or data table.\n",
    "\n"
   ]
  },
  {
   "cell_type": "markdown",
   "metadata": {
    "id": "sTnlKrG84dG8"
   },
   "source": [
    "#### 8.2.1. Reading Text with Separator\n",
    "\n",
    "To read the following text file:"
   ]
  },
  {
   "cell_type": "code",
   "execution_count": null,
   "metadata": {
    "colab": {
     "base_uri": "https://localhost:8080/"
    },
    "eval": false,
    "executionInfo": {
     "elapsed": 25834,
     "status": "ok",
     "timestamp": 1604393639075,
     "user": {
      "displayName": "alumnos bigdata",
      "photoUrl": "",
      "userId": "10710302360204190833"
     },
     "user_tz": -60
    },
    "id": "jIAnGhYVzOGv",
    "outputId": "051f8115-535e-4bdc-ff38-930399ba5c31"
   },
   "outputs": [],
   "source": [
    "# show the first 5 rows\n",
    "n=5\n",
    "with open('www/mtcars.csv') as f:\n",
    "    muestra_texto = \"\"\n",
    "    for i in range(5):\n",
    "        muestra_texto +=f.readline()\n",
    "print(muestra_texto)"
   ]
  },
  {
   "cell_type": "markdown",
   "metadata": {
    "id": "Wf5nTbxBzOHM"
   },
   "source": [
    "Since this is a character-separated file, the generic function for such files is `pd.read_table()`:"
   ]
  },
  {
   "cell_type": "code",
   "execution_count": null,
   "metadata": {
    "colab": {
     "base_uri": "https://localhost:8080/",
     "height": 206
    },
    "executionInfo": {
     "elapsed": 25810,
     "status": "ok",
     "timestamp": 1604393639079,
     "user": {
      "displayName": "alumnos bigdata",
      "photoUrl": "",
      "userId": "10710302360204190833"
     },
     "user_tz": -60
    },
    "id": "gwF4VPPwzOHS",
    "outputId": "8e05a5c9-1fd9-41af-a8db-3d114554fd9d"
   },
   "outputs": [],
   "source": [
    "mtcars = pd.read_table(\"www/mtcars.csv\",sep=',', decimal=\".\")\n",
    "mtcars.head()"
   ]
  },
  {
   "cell_type": "markdown",
   "metadata": {
    "id": "fhGY-VcrzOH-"
   },
   "source": [
    "We can customize the load with the following parameters:\n",
    "\n",
    "- `decimal`: the decimal separator.\n",
    "- `sep`: the column separator.\n",
    "\n",
    "Also, it is common to use `enconding=\"latin_1\"` when the file has been created with Windows.\n",
    "\n",
    "Given the structure of the file, with `pd.read_csv()` the loading is simpler:"
   ]
  },
  {
   "cell_type": "code",
   "execution_count": null,
   "metadata": {
    "id": "tmnVMx3zzOID"
   },
   "outputs": [],
   "source": [
    "mtcars = pd.read_csv(\"www/mtcars.csv\")"
   ]
  },
  {
   "cell_type": "markdown",
   "metadata": {
    "id": "8ro7EDvDzOIa"
   },
   "source": [
    "Aside from `.head()`, it's good practice to check your payload with `.shape()`, and `describe()`:"
   ]
  },
  {
   "cell_type": "code",
   "execution_count": null,
   "metadata": {
    "colab": {
     "base_uri": "https://localhost:8080/"
    },
    "executionInfo": {
     "elapsed": 25785,
     "status": "ok",
     "timestamp": 1604393639087,
     "user": {
      "displayName": "alumnos bigdata",
      "photoUrl": "",
      "userId": "10710302360204190833"
     },
     "user_tz": -60
    },
    "id": "TV3CxR8IzOIc",
    "outputId": "afa022bf-1ad6-4ed9-8d32-390eb60047c6"
   },
   "outputs": [],
   "source": [
    "mtcars.shape"
   ]
  },
  {
   "cell_type": "code",
   "execution_count": null,
   "metadata": {
    "colab": {
     "base_uri": "https://localhost:8080/",
     "height": 300
    },
    "eval": false,
    "executionInfo": {
     "elapsed": 25766,
     "status": "ok",
     "timestamp": 1604393639093,
     "user": {
      "displayName": "alumnos bigdata",
      "photoUrl": "",
      "userId": "10710302360204190833"
     },
     "user_tz": -60
    },
    "id": "0Adljra4zOIq",
    "outputId": "03510b5d-9dfd-4e77-a642-9810a053d1d3"
   },
   "outputs": [],
   "source": [
    "mtcars.describe()"
   ]
  },
  {
   "cell_type": "markdown",
   "metadata": {
    "id": "8ADL7S9ezOI3"
   },
   "source": [
    "#### 8.2.2. Writing Text with Separator\n",
    "\n",
    "For writing, you can use their equivalents: `.to_csv()`. A few minor variations are worth noting:"
   ]
  },
  {
   "cell_type": "code",
   "execution_count": null,
   "metadata": {
    "id": "LxTs7yMDzOI6"
   },
   "outputs": [],
   "source": [
    "mtcars.to_csv(\"www/mtcars2.csv\", decimal=\",\", sep=\";\", index=False, encoding=\"latin_1\")"
   ]
  },
  {
   "cell_type": "markdown",
   "metadata": {
    "id": "SeERnxNJzOJI"
   },
   "source": [
    "- `index`: Logical field True, False. By default, it inserts the row number.\n",
    "\n",
    "Notice how the new csv is now in the european csv format with windows encoding."
   ]
  },
  {
   "cell_type": "code",
   "execution_count": null,
   "metadata": {
    "colab": {
     "base_uri": "https://localhost:8080/"
    },
    "eval": false,
    "executionInfo": {
     "elapsed": 25744,
     "status": "ok",
     "timestamp": 1604393639103,
     "user": {
      "displayName": "alumnos bigdata",
      "photoUrl": "",
      "userId": "10710302360204190833"
     },
     "user_tz": -60
    },
    "id": "HSxqIa6KzOJL",
    "lines_to_next_cell": 0,
    "outputId": "78097c19-6cc6-4782-98b7-ada6c1a709c1"
   },
   "outputs": [],
   "source": [
    "# show the first 5 rows\n",
    "n=5\n",
    "with open('www/mtcars2.csv') as f:\n",
    "    muestra_texto = \"\"\n",
    "    for i in range(5):\n",
    "        muestra_texto +=f.readline()\n",
    "print(muestra_texto)"
   ]
  },
  {
   "cell_type": "markdown",
   "metadata": {
    "id": "zTVxszNXzOJa"
   },
   "source": [
    "To read fixed-width text, check out the [pd.read_fwf()](https://pandas.pydata.org/pandas-docs/stable/reference/api/pandas.read_fwf.html) function."
   ]
  },
  {
   "cell_type": "markdown",
   "metadata": {
    "id": "PNXSv5R6zOJc"
   },
   "source": [
    "#### 8.2.3. Reading and Writing in PICKLE Format\n",
    "\n",
    "Python objects can be made persistent on disk in the pickle format.\n",
    "\n",
    "> **Did you know**: pickle means pepinillo o vinagreta. That is, the pickle format means that we are putting the Python objects into preserves.\n",
    "\n",
    "To save a DataFrame in pickle format, use the `.to_pickle(\"name.pkl\")` method:"
   ]
  },
  {
   "cell_type": "code",
   "execution_count": null,
   "metadata": {
    "colab": {
     "base_uri": "https://localhost:8080/"
    },
    "eval": false,
    "executionInfo": {
     "elapsed": 25732,
     "status": "ok",
     "timestamp": 1604393639107,
     "user": {
      "displayName": "alumnos bigdata",
      "photoUrl": "",
      "userId": "10710302360204190833"
     },
     "user_tz": -60
    },
    "id": "ir-dmCbfzOJe",
    "outputId": "3fbe85ef-fb78-4e9d-8264-ebc5c86d893c"
   },
   "outputs": [],
   "source": [
    "mtcars.to_pickle(\"www/mtcars.pkl\")\n",
    "!dir www/mtcars*"
   ]
  },
  {
   "cell_type": "markdown",
   "metadata": {
    "id": "JiCFYTXjzOJw"
   },
   "source": [
    "To load a pickle file (remove it from the preserve), we use `pd.read_pickle()`:"
   ]
  },
  {
   "cell_type": "code",
   "execution_count": null,
   "metadata": {
    "colab": {
     "base_uri": "https://localhost:8080/"
    },
    "executionInfo": {
     "elapsed": 25722,
     "status": "ok",
     "timestamp": 1604393639112,
     "user": {
      "displayName": "alumnos bigdata",
      "photoUrl": "",
      "userId": "10710302360204190833"
     },
     "user_tz": -60
    },
    "id": "uMfxbRw2zOJ1",
    "outputId": "036fb9ae-a1e9-48fd-d49e-cea89801b629"
   },
   "outputs": [],
   "source": [
    "mtcars_pkl = pd.read_pickle(\"www/mtcars.pkl\")\n",
    "mtcars_pkl.shape"
   ]
  },
  {
   "cell_type": "markdown",
   "metadata": {
    "id": "FKyo1m5KzOKE"
   },
   "source": [
    "### 8.3. Crossing between tables\n",
    "\n",
    "To define a crossover in pandas, it is very important to be aware of the presence of the row and column indexes of the source tables. In this sense, the crossing can be carried out by 3 different systems:\n",
    "\n",
    "- By indices.\n",
    "- By ordination.\n",
    "- By key fields.\n",
    "\n",
    "Let's look at the last two, since index matching is the default option for all functions to be displayed."
   ]
  },
  {
   "cell_type": "markdown",
   "metadata": {
    "id": "O_dLyCbJzOKG"
   },
   "source": [
    "#### 8.3.1. Crosses by Ordination Without Shared Index\n",
    "\n",
    "One way to cross two DataFrames is from the shared ordering, either of the rows or the columns."
   ]
  },
  {
   "cell_type": "markdown",
   "metadata": {
    "id": "dfaI0KpjzOKI"
   },
   "source": [
    "#### 8.3.2. Table Sorting\n",
    "\n",
    "To sort an array, we use the `.sort.values()` method:"
   ]
  },
  {
   "cell_type": "code",
   "execution_count": null,
   "metadata": {
    "colab": {
     "base_uri": "https://localhost:8080/"
    },
    "executionInfo": {
     "elapsed": 25709,
     "status": "ok",
     "timestamp": 1604393639115,
     "user": {
      "displayName": "alumnos bigdata",
      "photoUrl": "",
      "userId": "10710302360204190833"
     },
     "user_tz": -60
    },
    "id": "qZkc-4ZyzOKL",
    "outputId": "66245f68-5e85-4139-a790-bdc16f1f56af"
   },
   "outputs": [],
   "source": [
    "a = people_df.birth_year.sort_values(ascending=False)\n",
    "a.head()"
   ]
  },
  {
   "cell_type": "markdown",
   "metadata": {
    "id": "srHYOhrSzOKf"
   },
   "source": [
    "- `ascending`: Logical field. By default it sorts in ascending order.\n",
    "\n",
    "In DataFrames, it's not much different, but now you have to indicate the sort field in the ` by ` parameter:"
   ]
  },
  {
   "cell_type": "code",
   "execution_count": null,
   "metadata": {
    "colab": {
     "base_uri": "https://localhost:8080/",
     "height": 238
    },
    "executionInfo": {
     "elapsed": 25694,
     "status": "ok",
     "timestamp": 1604393639118,
     "user": {
      "displayName": "alumnos bigdata",
      "photoUrl": "",
      "userId": "10710302360204190833"
     },
     "user_tz": -60
    },
    "id": "yQMkawI2zOKh",
    "outputId": "eca1b061-4a3d-4907-df95-af98c8db58cc"
   },
   "outputs": [],
   "source": [
    "people_df_Ord = people_df.sort_values(by=[\"gender\",\"height\"], ascending=[True, False])\n",
    "people_df_Ord.head()"
   ]
  },
  {
   "cell_type": "markdown",
   "metadata": {
    "id": "NytSxMPNzOKt"
   },
   "source": [
    "Notice how `ascending` allows you to choose a different sort for each sort field.\n",
    "\n",
    "In this way, we know that *Padmé Amidala*, at 185 cm, was the tallest woman in the series."
   ]
  },
  {
   "cell_type": "markdown",
   "metadata": {
    "id": "QJ--QLDGzOKv"
   },
   "source": [
    "#### 8.3.3. Union by Columns Without Shared Index\n",
    "\n",
    "To join the columns of two DataFrames that share sorting, use `pd.concat()`.\n",
    "\n",
    "To see an example, first we are going to prepare 2 example tables.\n",
    "\n",
    "For the first, we select the first four columns and reset the index with `.reset_index()`:"
   ]
  },
  {
   "cell_type": "code",
   "execution_count": null,
   "metadata": {
    "colab": {
     "base_uri": "https://localhost:8080/",
     "height": 206
    },
    "executionInfo": {
     "elapsed": 25673,
     "status": "ok",
     "timestamp": 1604393639121,
     "user": {
      "displayName": "alumnos bigdata",
      "photoUrl": "",
      "userId": "10710302360204190833"
     },
     "user_tz": -60
    },
    "id": "gT7W5mfWzOKx",
    "outputId": "0aab56ee-3bca-4766-bb10-b61ec903813a"
   },
   "outputs": [],
   "source": [
    "people_df1 = people_df.iloc[:,:4].reset_index()\n",
    "people_df1.head()"
   ]
  },
  {
   "cell_type": "markdown",
   "metadata": {
    "id": "WxaD-mPOzOLC"
   },
   "source": [
    "> **Important**: when resetting the index with `.reset_index()`, this has become a new field **name** of the table.\n",
    "\n",
    "Now, the second table with the rest of the fields:"
   ]
  },
  {
   "cell_type": "code",
   "execution_count": null,
   "metadata": {
    "colab": {
     "base_uri": "https://localhost:8080/",
     "height": 238
    },
    "executionInfo": {
     "elapsed": 25656,
     "status": "ok",
     "timestamp": 1604393639125,
     "user": {
      "displayName": "alumnos bigdata",
      "photoUrl": "",
      "userId": "10710302360204190833"
     },
     "user_tz": -60
    },
    "id": "DWUbDXNNzOLE",
    "outputId": "51b17863-a304-4d19-d282-1e7460e4ffb4"
   },
   "outputs": [],
   "source": [
    "people_df2 = people_df.iloc[:,4:]\n",
    "people_df2.head()"
   ]
  },
  {
   "cell_type": "markdown",
   "metadata": {
    "id": "mcHJ1Oq6zOLP"
   },
   "source": [
    "The two tables `people_df1` and `people_df2` share a sort, but not the same index. To perform the crossover `ignore_index=True` prevents the function from using the indices:"
   ]
  },
  {
   "cell_type": "code",
   "execution_count": null,
   "metadata": {
    "colab": {
     "base_uri": "https://localhost:8080/",
     "height": 206
    },
    "executionInfo": {
     "elapsed": 25644,
     "status": "ok",
     "timestamp": 1604393639130,
     "user": {
      "displayName": "alumnos bigdata",
      "photoUrl": "",
      "userId": "10710302360204190833"
     },
     "user_tz": -60
    },
    "id": "sNqHKknVzOLW",
    "outputId": "6ec5db38-cded-4e7a-e7fd-5be657301e87"
   },
   "outputs": [],
   "source": [
    "a = pd.concat([people_df1, people_df2], ignore_index=True)\n",
    "a.head()"
   ]
  },
  {
   "cell_type": "markdown",
   "metadata": {
    "id": "nzp2o2xNzOLk"
   },
   "source": [
    "#### 8.3.4. Union by rows\n",
    "\n",
    "To join two DataFrames with the same column ordering, we can use pd.concat, although it is more direct with the `.append()` method:"
   ]
  },
  {
   "cell_type": "code",
   "execution_count": null,
   "metadata": {
    "colab": {
     "base_uri": "https://localhost:8080/",
     "height": 459
    },
    "executionInfo": {
     "elapsed": 25632,
     "status": "ok",
     "timestamp": 1604393639135,
     "user": {
      "displayName": "alumnos bigdata",
      "photoUrl": "",
      "userId": "10710302360204190833"
     },
     "user_tz": -60
    },
    "id": "P6goaQjWzOLn",
    "outputId": "09686c15-4170-43b4-c3a6-33aa33f6848d"
   },
   "outputs": [],
   "source": [
    "a1 = people_df.iloc[0:2,:2]\n",
    "a2 = people_df.iloc[3:5,:2]\n",
    "a = a1.append(a2)\n",
    "display(a1,a2,a)"
   ]
  },
  {
   "cell_type": "markdown",
   "metadata": {
    "eval": false,
    "id": "8UEtuovxzOLy"
   },
   "source": [
    "> **Important**: In case you don't share the same column names, you can still use the following parameter: `ignore_index=True`."
   ]
  },
  {
   "cell_type": "markdown",
   "metadata": {
    "id": "vqtIszTVzOL0"
   },
   "source": [
    "#### 8.3.5. Key Field Crossing\n",
    "\n",
    "Before performing a key field match, it is important to know if it has duplicate values.\n",
    "\n",
    "##### KEY VECTOR\n",
    "\n",
    "To get the unique keys of a String or DataFrame, use `.unique()`:"
   ]
  },
  {
   "cell_type": "code",
   "execution_count": null,
   "metadata": {
    "colab": {
     "base_uri": "https://localhost:8080/"
    },
    "executionInfo": {
     "elapsed": 25619,
     "status": "ok",
     "timestamp": 1604393639139,
     "user": {
      "displayName": "alumnos bigdata",
      "photoUrl": "",
      "userId": "10710302360204190833"
     },
     "user_tz": -60
    },
    "id": "Gk2564mVzOL4",
    "outputId": "c67134b2-1120-431b-e036-c84f27bcb849"
   },
   "outputs": [],
   "source": [
    "a = people_df.homeworld.unique()\n",
    "a"
   ]
  },
  {
   "cell_type": "markdown",
   "metadata": {
    "id": "tkTjg7IRzOMF"
   },
   "source": [
    "To find out which rows in a DataFrame are duplicates, use `.duplicated()`:"
   ]
  },
  {
   "cell_type": "code",
   "execution_count": null,
   "metadata": {
    "colab": {
     "base_uri": "https://localhost:8080/"
    },
    "executionInfo": {
     "elapsed": 25608,
     "status": "ok",
     "timestamp": 1604393639142,
     "user": {
      "displayName": "alumnos bigdata",
      "photoUrl": "",
      "userId": "10710302360204190833"
     },
     "user_tz": -60
    },
    "id": "35r3S7MRzOMI",
    "outputId": "de2dcc9d-46f3-4884-ad56-8bbf3cf7bb04"
   },
   "outputs": [],
   "source": [
    "people_df_dup = people_df.iloc[[1,1,2,3,3,4,5,5,6],:]\n",
    "people_df_dup.duplicated()"
   ]
  },
  {
   "cell_type": "markdown",
   "metadata": {
    "id": "tVtQRyOEzOMZ"
   },
   "source": [
    "> **Note**: The `.duplicated()` function marks the first copy as `False` and the second copy as `True`.\n",
    "\n",
    "To remove duplicates, `.drop_duplicates()` is used.\n",
    "\n",
    "With `keep=False` all rows with duplicates are removed:"
   ]
  },
  {
   "cell_type": "code",
   "execution_count": null,
   "metadata": {
    "colab": {
     "base_uri": "https://localhost:8080/",
     "height": 175
    },
    "executionInfo": {
     "elapsed": 25594,
     "status": "ok",
     "timestamp": 1604393639144,
     "user": {
      "displayName": "alumnos bigdata",
      "photoUrl": "",
      "userId": "10710302360204190833"
     },
     "user_tz": -60
    },
    "id": "5Zw0rfQEzOMd",
    "outputId": "201c2fa2-a859-4a65-979e-19c6d43c304a"
   },
   "outputs": [],
   "source": [
    "people_df_dup.drop_duplicates(keep=False)"
   ]
  },
  {
   "cell_type": "markdown",
   "metadata": {
    "id": "fK-34ZbJzOMr"
   },
   "source": [
    "##### 8.3.5.1. Fusion with Keys\n",
    "\n",
    "To cross 2 tables with keys, use `pd.merge()`."
   ]
  },
  {
   "cell_type": "markdown",
   "metadata": {
    "id": "Qzlw_lvwzOMt"
   },
   "source": [
    "##### 8.3.5.2. Inner Join\n",
    "\n",
    "Recall that inner join consists of building a table that has matching keys in the tables.\n",
    "\n",
    "To see an example, we are going to select, on the one hand, planets with a bad climate, that is, that is not temperate or tropical:"
   ]
  },
  {
   "cell_type": "code",
   "execution_count": null,
   "metadata": {
    "colab": {
     "base_uri": "https://localhost:8080/",
     "height": 457
    },
    "executionInfo": {
     "elapsed": 25584,
     "status": "ok",
     "timestamp": 1604393639147,
     "user": {
      "displayName": "alumnos bigdata",
      "photoUrl": "",
      "userId": "10710302360204190833"
     },
     "user_tz": -60
    },
    "id": "mTQSVBbJzOMx",
    "outputId": "e4e93849-5c01-4f5e-cf75-f020bb5ce7a4"
   },
   "outputs": [],
   "source": [
    "planets_clima_df = planets_df[planets_df.temperate_tropical==0]\n",
    "planets_clima_df"
   ]
  },
  {
   "cell_type": "markdown",
   "metadata": {
    "id": "Hf-A47YOzOM-"
   },
   "source": [
    "On the other hand, we select characters with blue eye color:"
   ]
  },
  {
   "cell_type": "code",
   "execution_count": null,
   "metadata": {
    "colab": {
     "base_uri": "https://localhost:8080/",
     "height": 363
    },
    "executionInfo": {
     "elapsed": 25572,
     "status": "ok",
     "timestamp": 1604393639150,
     "user": {
      "displayName": "alumnos bigdata",
      "photoUrl": "",
      "userId": "10710302360204190833"
     },
     "user_tz": -60
    },
    "id": "R2i1X6nezONA",
    "outputId": "9f8c2ef7-f7e9-4ced-8e87-7c47d91efc32"
   },
   "outputs": [],
   "source": [
    "people_eyes_df = people_df[people_df.eye_color==\"blue\"]\n",
    "people_eyes_df"
   ]
  },
  {
   "cell_type": "markdown",
   "metadata": {
    "id": "emRgfLpLzONM"
   },
   "source": [
    "The key match field for the match is `url` which is equivalent to the `homeworld` field of people_df:"
   ]
  },
  {
   "cell_type": "code",
   "execution_count": null,
   "metadata": {
    "colab": {
     "base_uri": "https://localhost:8080/",
     "height": 175
    },
    "executionInfo": {
     "elapsed": 25560,
     "status": "ok",
     "timestamp": 1604393639152,
     "user": {
      "displayName": "alumnos bigdata",
      "photoUrl": "",
      "userId": "10710302360204190833"
     },
     "user_tz": -60
    },
    "id": "xgyJxqGyzONO",
    "outputId": "b8e0bd36-29da-4268-ce7b-d1522077264d"
   },
   "outputs": [],
   "source": [
    "a_inner = pd.merge(people_eyes_df, planets_clima_df, left_on=[\"homeworld\"], right_on=[\"url\"])\n",
    "a_inner.head()"
   ]
  },
  {
   "cell_type": "markdown",
   "metadata": {
    "eval": false,
    "id": "ruhPBPl_zONc"
   },
   "source": [
    "We see that there are four blue-eyed characters who were born on planets with bad weather. The problem is that, with the crossing, the names of both tables contained in the indexes have been lost. Let's rescue them, before the crossover, with the reset_index() function:"
   ]
  },
  {
   "cell_type": "code",
   "execution_count": null,
   "metadata": {
    "colab": {
     "base_uri": "https://localhost:8080/",
     "height": 175
    },
    "executionInfo": {
     "elapsed": 25793,
     "status": "ok",
     "timestamp": 1604393639401,
     "user": {
      "displayName": "alumnos bigdata",
      "photoUrl": "",
      "userId": "10710302360204190833"
     },
     "user_tz": -60
    },
    "id": "td_FBxnLzONe",
    "outputId": "16ac4897-e540-417b-d175-6890b0b2c0ad",
    "tags": [
     "remove_input",
     "remove_output"
    ],
    "warning": false
   },
   "outputs": [],
   "source": [
    "people_eyes_df = people_eyes_df.reset_index()\n",
    "planets_clima_df = planets_clima_df.reset_index()\n",
    "\n",
    "a_inner = pd.merge(people_eyes_df, planets_clima_df, left_on=[\"homeworld\"], right_on=[\"url\"])\n",
    "a_inner.head()"
   ]
  },
  {
   "cell_type": "markdown",
   "metadata": {
    "id": "AmT95E3HzONm"
   },
   "source": [
    "> **Note**: the `name` field was duplicated in both tables without being a key field. `pd.merge()` has included both in the final table by adding the suffix `_x` for left table (people_df) and `_y` right table (planets_df).\n",
    "\n",
    "The crossing has been done, implicitly, with the `how=\"inner\"` option:"
   ]
  },
  {
   "cell_type": "markdown",
   "metadata": {
    "id": "iY86G6LSzONo"
   },
   "source": [
    "##### 8.3.5.3. Outer Join\n",
    "\n",
    "To keep **all the records from the original tables**, both from the left table and the right table, whether they match or not, use the `how = \"outer\"` parameter:"
   ]
  },
  {
   "cell_type": "code",
   "execution_count": null,
   "metadata": {
    "colab": {
     "base_uri": "https://localhost:8080/",
     "height": 677
    },
    "executionInfo": {
     "elapsed": 25781,
     "status": "ok",
     "timestamp": 1604393639406,
     "user": {
      "displayName": "alumnos bigdata",
      "photoUrl": "",
      "userId": "10710302360204190833"
     },
     "user_tz": -60
    },
    "id": "7oUmkblRzONq",
    "outputId": "6c2beaa1-8d67-400d-ca2a-f7ef96ff1856"
   },
   "outputs": [],
   "source": [
    "a_outer = pd.merge(people_eyes_df, planets_clima_df, how = \"outer\", left_on=[\"homeworld\"], right_on=[\"url\"])\n",
    "a_outer"
   ]
  },
  {
   "cell_type": "markdown",
   "metadata": {
    "id": "-CUnH-PyzON0"
   },
   "source": [
    "You notice that, now, you have not dropped any records from the source tables. In addition, you have padded with `NaN` the fields that do not match. This behavior in SQL is known as *FULL JOIN* or *OUTTER JOIN*.\n"
   ]
  },
  {
   "cell_type": "markdown",
   "metadata": {
    "id": "KKiuW75ABbL-"
   },
   "source": [
    "##### 8.3.5.4. Left Join\n",
    "\n",
    "To force it to keep **all source values from the left table** and drop those from the right table that are not shared, use `how=\"left\"`:"
   ]
  },
  {
   "cell_type": "code",
   "execution_count": null,
   "metadata": {
    "colab": {
     "base_uri": "https://localhost:8080/",
     "height": 332
    },
    "executionInfo": {
     "elapsed": 25719,
     "status": "ok",
     "timestamp": 1604393639408,
     "user": {
      "displayName": "alumnos bigdata",
      "photoUrl": "",
      "userId": "10710302360204190833"
     },
     "user_tz": -60
    },
    "id": "_3K9xv06zON1",
    "outputId": "64a424c4-f1aa-4ed3-da52-2e998d363528"
   },
   "outputs": [],
   "source": [
    "a_left = pd.merge(people_eyes_df, planets_clima_df, how=\"left\", left_on=[\"homeworld\"], right_on=[\"url\"])\n",
    "a_left"
   ]
  },
  {
   "cell_type": "markdown",
   "metadata": {
    "id": "1xYTlV9czON-"
   },
   "source": [
    "Now, he has retained all the characters."
   ]
  },
  {
   "cell_type": "markdown",
   "metadata": {
    "id": "-fg10B6IzOOA"
   },
   "source": [
    "##### 8.3.5.5. Right Join\n",
    "\n",
    "To preserve **all values from the right table**, use `how=\"right\"`:"
   ]
  },
  {
   "cell_type": "code",
   "execution_count": null,
   "metadata": {
    "colab": {
     "base_uri": "https://localhost:8080/",
     "height": 520
    },
    "executionInfo": {
     "elapsed": 25708,
     "status": "ok",
     "timestamp": 1604393639410,
     "user": {
      "displayName": "alumnos bigdata",
      "photoUrl": "",
      "userId": "10710302360204190833"
     },
     "user_tz": -60
    },
    "id": "VkJAuAHLzOOC",
    "outputId": "b1a58aa3-0f03-4677-85ce-04e5035e9dc7"
   },
   "outputs": [],
   "source": [
    "a_right = pd.merge(people_eyes_df, planets_clima_df, how=\"right\", left_on=[\"homeworld\"], right_on=[\"url\"])\n",
    "a_right"
   ]
  },
  {
   "cell_type": "markdown",
   "metadata": {
    "id": "4QO10oDmzOOQ"
   },
   "source": [
    "Now, it has preserved all the planets with bad weather."
   ]
  },
  {
   "cell_type": "markdown",
   "metadata": {
    "id": "7h-6c6p4zOOX"
   },
   "source": [
    "##### 8.3.5.6. Definition of the Keys\n",
    "\n",
    "When the keys are common fields, it is not necessary to define the `left_on` and `right_on` fields.\n",
    "\n",
    "On the other hand, if one of the key fields is contained in the DataFrame index, the `left_index=True` or `right_index=True` parameter or both can be used."
   ]
  },
  {
   "cell_type": "markdown",
   "metadata": {
    "id": "YZ8EUDhBzOOZ"
   },
   "source": [
    "### 8.4. Aggregate Summaries\n",
    "\n",
    "The numpy and pandas libraries implement an extensive collection of digest functions."
   ]
  },
  {
   "cell_type": "markdown",
   "metadata": {
    "id": "G06KsW3WzOOa"
   },
   "source": [
    "#### 8.4.1. describe\n",
    "\n",
    "To get a first impression of the statistics of a DataFrame, use `.describe()`.\n",
    "\n",
    "Before we add to people_df some new columns of different types and, in addition, some missings:"
   ]
  },
  {
   "cell_type": "code",
   "execution_count": null,
   "metadata": {
    "colab": {
     "base_uri": "https://localhost:8080/",
     "height": 238
    },
    "executionInfo": {
     "elapsed": 697,
     "status": "ok",
     "timestamp": 1604393646855,
     "user": {
      "displayName": "alumnos bigdata",
      "photoUrl": "",
      "userId": "10710302360204190833"
     },
     "user_tz": -60
    },
    "id": "WmvFkwRHzOOf",
    "outputId": "657b9c66-4241-4b03-cf68-bce55cc94bba"
   },
   "outputs": [],
   "source": [
    "people_dfSumm = people_df.copy()\n",
    "\n",
    "people_dfSumm.loc[people_dfSumm.index[[0,2,4,8,20]],'height'] = np.nan\n",
    "people_dfSumm.loc[people_dfSumm.index[[0,2,4,8,20]],'eye_color'] = np.nan\n",
    "people_dfSumm[\"Alto\"] = people_dfSumm.height>188\n",
    "people_dfSumm[\"Fecha_hoy\"] = np.datetime64('2020-09-06')\n",
    "\n",
    "people_dfSumm.head()"
   ]
  },
  {
   "cell_type": "code",
   "execution_count": null,
   "metadata": {
    "colab": {
     "base_uri": "https://localhost:8080/",
     "height": 300
    },
    "executionInfo": {
     "elapsed": 671,
     "status": "ok",
     "timestamp": 1604393646864,
     "user": {
      "displayName": "alumnos bigdata",
      "photoUrl": "",
      "userId": "10710302360204190833"
     },
     "user_tz": -60
    },
    "id": "LTfqHwAHzOOt",
    "outputId": "f2da7007-9a1a-4b28-dcae-827a3383ae37"
   },
   "outputs": [],
   "source": [
    "people_df.describe()"
   ]
  },
  {
   "cell_type": "markdown",
   "metadata": {
    "id": "SQxmGmU_zOO3"
   },
   "source": [
    "By default, it calculates the following basic statistics on numeric columns:\n",
    "\n",
    "- `count`: number of reported values (other than NaN).\n",
    "- `mean`: mean.\n",
    "- `str`: standard deviation.\n",
    "- `min`: minimum.\n",
    "- `25%`: 25% quantile.\n",
    "- `50%`: 50% quantile or median.\n",
    "- `75%`: 75% quantile.\n",
    "- `max`: maximum.\n",
    "\n",
    "To include them all, use `include='all'`:"
   ]
  },
  {
   "cell_type": "code",
   "execution_count": null,
   "metadata": {
    "colab": {
     "base_uri": "https://localhost:8080/",
     "height": 514
    },
    "executionInfo": {
     "elapsed": 654,
     "status": "ok",
     "timestamp": 1604393646869,
     "user": {
      "displayName": "alumnos bigdata",
      "photoUrl": "",
      "userId": "10710302360204190833"
     },
     "user_tz": -60
    },
    "id": "bytcavIczOO5",
    "outputId": "2f43bae3-729d-4d23-b6ab-08143e235845"
   },
   "outputs": [],
   "source": [
    "people_dfSumm.describe(include='all')"
   ]
  },
  {
   "cell_type": "markdown",
   "metadata": {
    "id": "3cXmknWzzOPE"
   },
   "source": [
    "Now, for non-numeric columns, it reports the `count` and, in addition,:\n",
    "\n",
    "- `unique`: number of unique values.\n",
    "- `top`: most frequent value.\n",
    "- `freq`: observed frequency of the top value.\n",
    "- `first` and `last`: for datetimes, the first and last date are reported."
   ]
  },
  {
   "cell_type": "markdown",
   "metadata": {
    "id": "JWdTMOdUzOPH"
   },
   "source": [
    "#### 8.4.2. Basic Statistics\n",
    "\n",
    "To calculate the statistics displayed in the `.describe()` function with numpy functions:"
   ]
  },
  {
   "cell_type": "code",
   "execution_count": null,
   "metadata": {
    "id": "ZUecbUjNzOPI",
    "outputId": "e180e009-073d-43dc-83fd-957c935526b1"
   },
   "outputs": [],
   "source": [
    "def resumen_numericas_numpy(x):\n",
    "    return {\n",
    "        \"count\":np.sum(~np.isnan(x))\n",
    "        ,\"mean\":np.nanmean(x)\n",
    "        ,\"std\":np.nanstd(x)\n",
    "        ,\"min\":np.min(x)\n",
    "        ,\"quantile 25, 50, 75\":np.nanquantile(x, [0.25,.5,.75])\n",
    "        ,\"max\":np.max(x)}\n",
    "    \n",
    "resumen_numericas_numpy(people_dfSumm.height)"
   ]
  },
  {
   "cell_type": "markdown",
   "metadata": {
    "id": "yRV43iwfzOPQ"
   },
   "source": [
    "> **Important**: The equivalent functions np.mean, np.std or np.quantile return NaN when the array contains any NaN values.\n",
    "\n",
    "Now with equivalent functions in pandas:"
   ]
  },
  {
   "cell_type": "code",
   "execution_count": null,
   "metadata": {
    "id": "X7bvIUhOzOPQ",
    "outputId": "18dac0b1-1dbb-4187-f292-0f6792c01270"
   },
   "outputs": [],
   "source": [
    "def resumen_numericas_pandas(x):\n",
    "    return {\n",
    "        \"count\":x.count()\n",
    "        ,\"mean\":x.mean()\n",
    "        ,\"std\":x.std()\n",
    "        ,\"min\":x.min()\n",
    "        ,\"quantile 25, 50, 75\":x.quantile([0.25,.5,.75])\n",
    "        ,\"max\":x.max()}\n",
    "    \n",
    "resumen_numericas_pandas(people_dfSumm.height)"
   ]
  },
  {
   "cell_type": "markdown",
   "metadata": {
    "id": "g9zpCcwPzOPX"
   },
   "source": [
    "Note that the default option in pandas is to remove NaNs:"
   ]
  },
  {
   "cell_type": "code",
   "execution_count": null,
   "metadata": {
    "id": "akvpqcbdzOPZ",
    "outputId": "d4a4fcb9-7067-45dd-a2ae-f7878d80334a"
   },
   "outputs": [],
   "source": [
    "def resumen_no_numericas_numpy(x):\n",
    "    value, counts = np.unique(x[~pd.isnull(x)], return_counts=True)\n",
    "    return {\n",
    "        \"count\":np.sum(~pd.isnull(x))\n",
    "        ,\"unique\": len(np.unique(x[~pd.isnull(x)]))\n",
    "        ,\"top\": value[np.argmax(counts)]\n",
    "        ,\"freq\":np.max(counts)}\n",
    "\n",
    "resumen_no_numericas_numpy(people_dfSumm.eye_color)"
   ]
  },
  {
   "cell_type": "markdown",
   "metadata": {
    "id": "uZXNal3mzOPi"
   },
   "source": [
    "> **Important**: For non-numeric columns, None or NaN values have been filtered out with pd.isnull().\n",
    "\n",
    "Now, with pandas functions:"
   ]
  },
  {
   "cell_type": "code",
   "execution_count": null,
   "metadata": {
    "id": "05HGqJkozOPj",
    "outputId": "92c32404-6f02-4744-e3b7-cbbd487b1b05"
   },
   "outputs": [],
   "source": [
    "def resumen_no_numericas_pandas(x):\n",
    "    value, counts = np.unique(x[~pd.isnull(x)], return_counts=True)\n",
    "    return {\n",
    "        \"count\":x.count()\n",
    "        ,\"unique\": x.nunique()\n",
    "        ,\"top\": list(x.mode())[0]\n",
    "        ,\"freq\":(x==list(x.mode())[0]).sum()}\n",
    "\n",
    "resumen_no_numericas_pandas(people_dfSumm.eye_color)"
   ]
  },
  {
   "cell_type": "markdown",
   "metadata": {
    "id": "hIoRiuQizOPq"
   },
   "source": [
    "#### 8.4.3. Tables of Frequencies or Counts\n",
    "\n",
    "##### FREQUENCIES OR COUNTS OF A COLUMN\n",
    "\n",
    "To get the frequencies of a pandas series, use `.value_counts()`:"
   ]
  },
  {
   "cell_type": "code",
   "execution_count": null,
   "metadata": {
    "eval": false,
    "id": "qXfFTHgkzOPs",
    "outputId": "34e02782-243d-4394-c0dd-b10b3780d8df"
   },
   "outputs": [],
   "source": [
    "people_dfSumm.eye_color.value_counts()"
   ]
  },
  {
   "cell_type": "markdown",
   "metadata": {
    "id": "sTI-tTz9zOP0"
   },
   "source": [
    "By default, it sorts from most to least frequent.\n",
    "\n",
    "We can later sort it by index with `.sort_index()`:"
   ]
  },
  {
   "cell_type": "code",
   "execution_count": null,
   "metadata": {
    "id": "a94nPRoyzOP2",
    "outputId": "b48d07bd-02b7-4658-af01-3eb8003a2f8a"
   },
   "outputs": [],
   "source": [
    "people_dfSumm.eye_color.value_counts().sort_index()"
   ]
  },
  {
   "cell_type": "markdown",
   "metadata": {
    "id": "jjQk0CpPzOP-"
   },
   "source": [
    "##### 8.4.3.1. Cross Tables\n",
    "\n",
    "To get the counts or frequencies of two columns, use `pd.crosstab()`:"
   ]
  },
  {
   "cell_type": "code",
   "execution_count": null,
   "metadata": {
    "eval": false,
    "id": "FlbsDAMJzOQC",
    "outputId": "af3dd75f-76ed-418d-e328-a07ef9f3c2af"
   },
   "outputs": [],
   "source": [
    "pd.crosstab(people_dfSumm.eye_color,people_dfSumm.gender)"
   ]
  },
  {
   "cell_type": "markdown",
   "metadata": {
    "id": "uORXJsKHzOQK"
   },
   "source": [
    "##### 8.4.3.2. Columns cutting\n",
    "\n",
    "In pandas series, you can cut a column with the `pd.cut()` function:"
   ]
  },
  {
   "cell_type": "code",
   "execution_count": null,
   "metadata": {
    "id": "kTn6icSrzOQL",
    "outputId": "89e03664-db03-45c6-f641-48343d9f81c9"
   },
   "outputs": [],
   "source": [
    "people_dfSumm[\"Altura_Cat\"] = pd.cut(people_dfSumm.height,[-np.infty,171,189,np.infty], right=False)\n",
    "\n",
    "people_dfSumm[[\"height\",\"Altura_Cat\"]].head(8)"
   ]
  },
  {
   "cell_type": "markdown",
   "metadata": {
    "id": "zfFO7Zo1zOQT"
   },
   "source": [
    "Notice how pd.cut() has plotted, at intervals, the `height` column. With `right=False` we ask that the interval be closed on the left and open on the right.\n",
    "\n",
    "The frequencies of each category:"
   ]
  },
  {
   "cell_type": "code",
   "execution_count": null,
   "metadata": {
    "eval": false,
    "id": "gauw9L8czOQU",
    "outputId": "d9e63203-aba9-42de-b947-12c72d3f52f0"
   },
   "outputs": [],
   "source": [
    "people_dfSumm[\"Altura_Cat\"].value_counts().sort_index()"
   ]
  },
  {
   "cell_type": "markdown",
   "metadata": {
    "id": "G-dewkJCzOQb"
   },
   "source": [
    "> **Important**: `pd.cut()` creates a new column of type `pd.Categorical`. This data type contains .categories() and .codes(), similar to the `factors` seen in R:"
   ]
  },
  {
   "cell_type": "code",
   "execution_count": null,
   "metadata": {
    "id": "vza3Ia6BzOQf",
    "outputId": "b08cd4e2-023d-4121-d71d-90cf675194ec"
   },
   "outputs": [],
   "source": [
    "people_dfSumm[\"Altura_Cat\"].dtype"
   ]
  },
  {
   "cell_type": "markdown",
   "metadata": {
    "id": "CA_TMcu-zOQm"
   },
   "source": [
    "To retrieve the categories, use `.cat.categories`:"
   ]
  },
  {
   "cell_type": "code",
   "execution_count": null,
   "metadata": {
    "id": "4RfBgUAkzOQo",
    "outputId": "39d49423-a047-46c3-9042-d826cb3f86ce"
   },
   "outputs": [],
   "source": [
    "people_dfSumm[\"Altura_Cat\"].cat.categories"
   ]
  },
  {
   "cell_type": "markdown",
   "metadata": {
    "id": "QXrtZ4ZkzOQw"
   },
   "source": [
    "The inner codes of the `.cat.codes` values:"
   ]
  },
  {
   "cell_type": "code",
   "execution_count": null,
   "metadata": {
    "id": "oKuyX-X1zOQx",
    "outputId": "8d67c5d1-189f-494f-da80-ee79ebadc1ea"
   },
   "outputs": [],
   "source": [
    "people_dfSumm[\"Altura_Cat\"].cat.codes.head()"
   ]
  },
  {
   "cell_type": "markdown",
   "metadata": {
    "id": "sBRhAI0PzOQ8"
   },
   "source": [
    "To modify the labels, you can directly modify the category indices:"
   ]
  },
  {
   "cell_type": "code",
   "execution_count": null,
   "metadata": {
    "id": "mYh6o6I4zOQ9",
    "outputId": "93440d76-582f-497d-be6b-00701d6decfa"
   },
   "outputs": [],
   "source": [
    "people_dfSumm[\"Altura_Cat\"].cat.categories = [\"Bajo/a\",\"Mediano/a\",\"Alto/a\"]\n",
    "\n",
    "people_dfSumm[[\"height\",\"Altura_Cat\"]].head(8)"
   ]
  },
  {
   "cell_type": "markdown",
   "metadata": {
    "id": "RV3EKBcCzORG"
   },
   "source": [
    "##### 8.4.3.3. Guided Activity 2.5\n",
    "\n",
    "Let's see now, a summary of the height of the characters by the type of climate of their planet.\n",
    "\n",
    "The steps to perform are:\n",
    "\n",
    "1. We cross the tables of characters and planets.\n",
    "1. We build a new hatched column with a height of 171 cm and 189 cm at cutoff points.\n",
    "1. We cross the height with the climate of the planet."
   ]
  },
  {
   "cell_type": "code",
   "execution_count": null,
   "metadata": {
    "id": "tfDxHPeEzORH",
    "outputId": "665f8e54-6980-4803-c466-b9d18fa6f904"
   },
   "outputs": [],
   "source": [
    "personajes_df = pd.merge(people_df.reset_index(), \n",
    "                         planets_df.reset_index(), left_on=[\"homeworld\"], right_on=[\"url\"])\n",
    "personajes_df.index= personajes_df.name_x         # indexamos por nombre del personaje\n",
    "personajes_df.head()"
   ]
  },
  {
   "cell_type": "code",
   "execution_count": null,
   "metadata": {
    "id": "DGh9Gf6EzORQ",
    "outputId": "40595954-4bea-4248-d8db-38981f552299"
   },
   "outputs": [],
   "source": [
    "personajes_df[\"Altura_Cat\"] = pd.cut(personajes_df.height,[-np.infty,171,189,np.infty], right=False)\n",
    "personajes_df.Altura_Cat.cat.categories = [\"Bajo/a\",\"Mediano/a\",\"Alto/a\"]\n",
    "\n",
    "personajes_df.Altura_Cat.value_counts().sort_index()"
   ]
  },
  {
   "cell_type": "code",
   "execution_count": null,
   "metadata": {
    "id": "l6ZccKtQzORW",
    "outputId": "92c4b213-7918-4804-89ef-df14caaefe79"
   },
   "outputs": [],
   "source": [
    "summ_altura_clima = pd.crosstab(personajes_df.Altura_Cat,personajes_df.temperate_tropical)\n",
    "\n",
    "summ_altura_clima"
   ]
  },
  {
   "cell_type": "markdown",
   "metadata": {
    "id": "jUl22nytzOR2"
   },
   "source": [
    "To find out the % of characters of each height that live in a temperate-tropical climate or not, use `normalize=\"index\"`. In this way each row will add 1 (that is, 100%):"
   ]
  },
  {
   "cell_type": "code",
   "execution_count": null,
   "metadata": {
    "id": "aioc6_pozOR4",
    "outputId": "967f7e2b-739a-4856-bb09-529224a3e405"
   },
   "outputs": [],
   "source": [
    "summ_altura_clima = pd.crosstab(personajes_df.Altura_Cat,personajes_df.temperate_tropical, normalize=\"index\")\n",
    "\n",
    "summ_altura_clima.sort_index(axis=1, ascending=False)"
   ]
  },
  {
   "cell_type": "markdown",
   "metadata": {
    "id": "Ww45ihT-zOR9"
   },
   "source": [
    "Gráficamente:"
   ]
  },
  {
   "cell_type": "code",
   "execution_count": null,
   "metadata": {
    "id": "9YhJ37OCzOR-",
    "outputId": "08c9d538-db33-471e-97e7-0fb79cd37ea7"
   },
   "outputs": [],
   "source": [
    "summ_altura_clima = summ_altura_clima.sort_index(axis=1, ascending=False) # cambiamos orden columnas para el gráfico\n",
    "summ_altura_clima"
   ]
  },
  {
   "cell_type": "code",
   "execution_count": null,
   "metadata": {
    "id": "eFMRchBvzOSE",
    "outputId": "7e9389c9-9129-4403-b260-28d2e8e465cb"
   },
   "outputs": [],
   "source": [
    "g = summ_altura_clima.plot.bar(stacked=True,include_bool=True, alpha=0.75, rot=0)\n",
    "g.legend(bbox_to_anchor=(1, 0.8),title=\"temperate or tropical\")\n",
    "\n",
    "plt.gcf().subplots_adjust(bottom=0.15,right=0.7)\n",
    "plt.title(\"% characters in each climate by Height\")\n",
    "plt.ylabel(\"%\")\n",
    "plt.xlabel(\"Height\");"
   ]
  },
  {
   "cell_type": "markdown",
   "metadata": {
    "id": "0vwVJpNnzOSM"
   },
   "source": [
    "Note that **70% of short characters** were born in temperate or tropical climates, compared to **60% of tall characters**."
   ]
  },
  {
   "cell_type": "markdown",
   "metadata": {
    "id": "cfgrSrdCzOSM"
   },
   "source": [
    "### 8.5. Aggregated by Subgroups\n",
    "\n",
    "In addition to frequencies, it is necessary to calculate more relevant statistics. For example, the median age (birth_year), the minimum weight (mass) of the characters, or the average population of their planets by type of climate and height range (high, medium low) of the characters ."
   ]
  },
  {
   "cell_type": "markdown",
   "metadata": {
    "id": "IHCa835QzOSO"
   },
   "source": [
    "#### 8.5.1. Grouping or *GROUPBY*\n",
    "\n",
    "In order to provide an answer to the problem posed, it is first necessary to introduce the concept of Grouping or GroupBy.\n",
    "\n",
    "The solution proposed in pandas is to define a division of the table using `.grouby()`. Once the request is defined, summary statistics can be calculated:"
   ]
  },
  {
   "cell_type": "code",
   "execution_count": null,
   "metadata": {
    "id": "-N_xz14-zOSP",
    "outputId": "18bb4c67-d927-4f20-9b07-74b207b92a8b"
   },
   "outputs": [],
   "source": [
    "summ1_altura_clima = personajes_df.groupby([\"temperate_tropical\"\n",
    "                                            ,\"Altura_Cat\"])[[\"mass\",\"birth_year\",\"population\"]].median()\n",
    "\n",
    "summ1_altura_clima"
   ]
  },
  {
   "cell_type": "markdown",
   "metadata": {
    "id": "_3P6jxNEzOSV"
   },
   "source": [
    "Observe how the mean function has been applied to each of the columns for each combination of the climate of the planets and the height of the people.\n",
    "\n",
    "Also, a new element appears. It is the ability of DataFrames to have an index composed of more than one column, in this case `temperate_tropical` and `Altura_Cat`.\n",
    "\n",
    "One way to get around multiple indexes is to add them as columns with `.reset_index()`:"
   ]
  },
  {
   "cell_type": "code",
   "execution_count": null,
   "metadata": {
    "id": "l0qSj-ryzOSX",
    "outputId": "09cbe67b-f05b-40d7-a7b7-fee1666a76ea"
   },
   "outputs": [],
   "source": [
    "summ1_altura_clima = summ1_altura_clima.reset_index()\n",
    "\n",
    "summ1_altura_clima"
   ]
  },
  {
   "cell_type": "markdown",
   "metadata": {
    "id": "Wek7fZXuzOSd"
   },
   "source": [
    "Now the 2 indexes have become columns of the table."
   ]
  },
  {
   "cell_type": "markdown",
   "metadata": {
    "id": "n1T4FStTzOSd"
   },
   "source": [
    "#### 8.5.2. Aggregate\n",
    "\n",
    "To apply different aggregation functions to different columns, use `.aggregate()` or `.agg()` for short in combination with `.groupby()`.\n",
    "\n",
    "A first pass consists of applying several functions to all the selected columns of the data frame:"
   ]
  },
  {
   "cell_type": "code",
   "execution_count": null,
   "metadata": {
    "id": "UFjizovvzOSe",
    "outputId": "badeb40a-57b7-43dd-c1a2-c968bc9f6976"
   },
   "outputs": [],
   "source": [
    "summ2_altura_clima = personajes_df.groupby(\n",
    "    [\"temperate_tropical\",\"Altura_Cat\"])[\n",
    "    [\"mass\",\"birth_year\",\"population\"]].agg([\"min\",\"median\",\"mean\"])\n",
    "summ2_altura_clima"
   ]
  },
  {
   "cell_type": "markdown",
   "metadata": {
    "id": "gFW6X1tvzOSk"
   },
   "source": [
    "Notice that there are now multiple column indexes:"
   ]
  },
  {
   "cell_type": "code",
   "execution_count": null,
   "metadata": {
    "id": "KCNzs4ZOzOSl",
    "outputId": "f23dba6a-1cda-4399-e023-9b4da47ee622"
   },
   "outputs": [],
   "source": [
    "summ2_altura_clima.columns"
   ]
  },
  {
   "cell_type": "markdown",
   "metadata": {
    "id": "XbonJ2n9zOSq"
   },
   "source": [
    "One way to combine the two levels of the index into a single name of type `Statistic_Variable`, is by using the function vectorization function `.map()` (you can see more information at: [map](https://www.w3schools.com/python/ref_func_map.asp)). The function to combine the 2 levels is: `\"_\".join`:"
   ]
  },
  {
   "cell_type": "code",
   "execution_count": null,
   "metadata": {
    "id": "VtjX_fH-zOSs",
    "outputId": "dae4e85f-b30c-4b49-9415-d51680a3237d"
   },
   "outputs": [],
   "source": [
    "summ2_altura_clima.columns = summ2_altura_clima.columns.map(\"_\".join)  # combina nombres columna\n",
    "summ2_altura_clima = summ2_altura_clima.reset_index() # pasamos los indices fila a columnas.\n",
    "\n",
    "summ2_altura_clima"
   ]
  },
  {
   "cell_type": "markdown",
   "metadata": {
    "id": "4KJFRCUazOSz"
   },
   "source": [
    "To resolve the question posed, we need to be able to decide which statistic we want to apply to each column.\n",
    "\n",
    "We can do this using a dictionary:"
   ]
  },
  {
   "cell_type": "code",
   "execution_count": null,
   "metadata": {
    "id": "fEuZ3AvAzOS0",
    "outputId": "f8a756b5-961d-4abe-9b43-d47a272a89ce"
   },
   "outputs": [],
   "source": [
    "summ3_altura_clima = personajes_df.groupby(\n",
    "    [\"temperate_tropical\",\"Altura_Cat\"]).agg({'name_x': 'count', 'birth_year': 'median'\n",
    "                                              ,'mass':'min','population':'mean'})\n",
    "\n",
    "summ3_altura_clima = summ3_altura_clima.reset_index()\n",
    "summ3_altura_clima"
   ]
  },
  {
   "cell_type": "markdown",
   "metadata": {
    "id": "AuqIVLPkzOS7"
   },
   "source": [
    "Observe, for example, that there are 2 characters of short stature who were born on a planet with a non-temperate or tropical climate, with a median age of 79.5 years BBY, a minimum weight of 75 Kg and who live on planets with an average of 200,000 inhabitants.\n",
    "\n",
    "In order to identify each row with a label, we are going to combine the tropical_temperature column with the height of the character:"
   ]
  },
  {
   "cell_type": "code",
   "execution_count": null,
   "metadata": {
    "id": "xG832W5DzOS8",
    "outputId": "eaa3d229-2ce4-476c-98de-10ae92b1b7bd"
   },
   "outputs": [],
   "source": [
    "summ3_altura_clima[\"clima_altura\"] = pd.Series(\n",
    "    np.where(summ3_altura_clima[\"temperate_tropical\"]==0,\"Clima Malo\",\"Clima Bueno\")\n",
    "    ) + \"-\" + summ3_altura_clima[\"Altura_Cat\"].astype(str)\n",
    "\n",
    "summ3_altura_clima\n"
   ]
  },
  {
   "cell_type": "markdown",
   "metadata": {
    "id": "4PIaYN9EzOTK"
   },
   "source": [
    "To represent this Pandas graphically, we can directly use `plot.scatter()`:"
   ]
  },
  {
   "cell_type": "code",
   "execution_count": null,
   "metadata": {
    "id": "psBCMEARzOTL",
    "outputId": "cb612beb-e476-470f-93a0-2ddbcfb60657",
    "scrolled": true
   },
   "outputs": [],
   "source": [
    "summ3_altura_clima.plot.scatter(x=\"birth_year\",y=\"mass\",s=20*np.log(summ3_altura_clima.population)\n",
    "                               ,c=\"temperate_tropical\");\n",
    "\n",
    "plt.gcf().subplots_adjust(bottom=0.15, left=0.15)\n",
    "plt.title(\"Groups by climate and height of the characters\");\n",
    "plt.xlabel(\"Age\");\n",
    "plt.ylabel(\"Weight\");\n",
    "plt.text(50,20,\"Age\")\n",
    "for index,x in summ3_altura_clima.iterrows():\n",
    "    plt.text(x[\"birth_year\"],x[\"mass\"]+4,x[\"clima_altura\"],horizontalalignment='center',size=8)\n",
    "plt.show()"
   ]
  },
  {
   "cell_type": "markdown",
   "metadata": {
    "id": "7Up-TX3QzOTR"
   },
   "source": [
    "Note that the 3 Bad weather groups (white balls) have higher weight characters."
   ]
  },
  {
   "cell_type": "markdown",
   "metadata": {
    "id": "mtZRf11MzOTT"
   },
   "source": [
    "#### 8.5.3. Filtered out\n",
    "\n",
    "Apart from adding `.groupby()`, we can use it, in combination, with the `.filter()` function to select groups from the original table that meet certain conditions.\n",
    "\n",
    "For example, we select the group of characters with the same climate and altitude range where the median age of this group is greater than 90 years:"
   ]
  },
  {
   "cell_type": "code",
   "execution_count": null,
   "metadata": {
    "id": "-tl90DF_zOTU",
    "outputId": "54349950-b621-4a20-dbb8-4b4f0c758202"
   },
   "outputs": [],
   "source": [
    "seleccion1 = personajes_df.groupby(\n",
    "    [\"temperate_tropical\",\"Altura_Cat\"]).filter(lambda fila: fila['birth_year'].median() > 90)\n",
    "\n",
    "seleccion1"
   ]
  },
  {
   "cell_type": "markdown",
   "metadata": {
    "id": "9Lhvm4XNzOTe"
   },
   "source": [
    "We see how the group formed by \"Jar Jar Binks\", \"Chewbacca\", \"Ki-Adi-Mundi\" are part of the same climate and altitude group and have a median age of over 90 years."
   ]
  },
  {
   "cell_type": "markdown",
   "metadata": {
    "id": "yBnGI3yAzOTh"
   },
   "source": [
    "#### 8.5.4. Transformations\n",
    "\n",
    "Another utility of `.groupby()` combined with `.transform()` is to be able to transform the original data with aggregates, in a simple way.\n",
    "\n",
    "We compare the age of each character, with respect to the median of their climate group and height range:"
   ]
  },
  {
   "cell_type": "code",
   "execution_count": null,
   "metadata": {
    "id": "XNer6Th_zOTi",
    "outputId": "873169ed-123c-4671-d293-08284ae91c92"
   },
   "outputs": [],
   "source": [
    "compara1 = personajes_df.groupby(\n",
    "    [\"temperate_tropical\",\"Altura_Cat\"]).birth_year.transform(lambda x: np.abs(x - x.median()))\n",
    "\n",
    "compara1.sort_values(ascending=False).head()"
   ]
  },
  {
   "cell_type": "markdown",
   "metadata": {
    "id": "I7w590pSzOT0"
   },
   "source": [
    "Notice how \"Jabba Desilijic Tiure\" has a difference of 554 years over the average of his group."
   ]
  },
  {
   "cell_type": "markdown",
   "metadata": {
    "id": "eh9ljA8-zOT3"
   },
   "source": [
    "#### 8.5.5. Application of functions\n",
    "\n",
    "Finally, to gain even more flexibility in transforming data, `.groupby()` is combined with `.apply()` to allow you to selectively apply transformations to certain columns in the DataFrame:"
   ]
  },
  {
   "cell_type": "code",
   "execution_count": null,
   "metadata": {
    "id": "iL2nKl4mzOT8",
    "outputId": "128b9404-3aba-4bb5-e5ea-ce718e9efc12"
   },
   "outputs": [],
   "source": [
    "def centrado(x):\n",
    "    x['Edad_c'] = x['birth_year']-x['birth_year'].median()\n",
    "    return x\n",
    "\n",
    "personajes_df2 = personajes_df.groupby([\"temperate_tropical\",\"Altura_Cat\"]).apply(centrado)\n",
    "\n",
    "personajes_df2.head()"
   ]
  },
  {
   "cell_type": "markdown",
   "metadata": {
    "id": "XLpSygszzOUF"
   },
   "source": [
    "Notice that the new Age_c column lets you know that Luke is 19 years below the median for his climate group (bad) and altitude range (medium)."
   ]
  },
  {
   "cell_type": "markdown",
   "metadata": {
    "id": "r6lP2TbOzOUI"
   },
   "source": [
    "### 8.6. Pivot Tables\n",
    "\n",
    "`.pivot_table()` pivot tables are an intermediate solution between `pd.crosstabs()`, aimed at obtaining cross tables (rows x columns) and the aggregations performed with `.groupby()`.\n",
    "\n",
    "That is, apply different aggregation functions, on predefined row and column crossings:"
   ]
  },
  {
   "cell_type": "code",
   "execution_count": null,
   "metadata": {
    "id": "mNSp812MzOUL",
    "outputId": "be67cdd7-dbea-4ade-e2e6-10b5f83b4f1a"
   },
   "outputs": [],
   "source": [
    "personajes_df.pivot_table(\"birth_year\", index='Altura_Cat', columns='temperate_tropical')"
   ]
  },
  {
   "cell_type": "markdown",
   "metadata": {
    "id": "DsATkOSPzOUZ"
   },
   "source": [
    "This table informs us of the average age BBY ('birth_year') over the crossing of the altitude and climate categories.\n",
    "\n",
    "Pivot table, allows to create multiple index in rows and columns:"
   ]
  },
  {
   "cell_type": "code",
   "execution_count": null,
   "metadata": {
    "id": "PooTwY6wzOUb",
    "outputId": "70ed9484-c39d-4afc-de7a-c194160b4377"
   },
   "outputs": [],
   "source": [
    "personajes_df.pivot_table(\"birth_year\", index=['gender','Altura_Cat'], columns='temperate_tropical')"
   ]
  },
  {
   "cell_type": "markdown",
   "metadata": {
    "id": "-eBUXMxGzOUn"
   },
   "source": [
    "Also, it allows selecting which aggregation function is required at each defined junction:\n"
   ]
  },
  {
   "cell_type": "code",
   "execution_count": null,
   "metadata": {
    "id": "6k1MHtTdzOUq",
    "outputId": "1990bd70-e819-4b11-d5b2-84834d3d734b"
   },
   "outputs": [],
   "source": [
    "personalizarDict = {'name_x': 'count', 'birth_year': 'median'\n",
    "                                              ,'mass':'min','population':'mean'}\n",
    "personajes_df.pivot_table(index='Altura_Cat', columns='temperate_tropical'\n",
    "                          , aggfunc=personalizarDict)"
   ]
  },
  {
   "cell_type": "markdown",
   "metadata": {
    "id": "xFTChbQqzOVC"
   },
   "source": [
    "Notice how the same table as in the exercise with `.agg()` has been obtained, but now, with a different orientation of rows and columns."
   ]
  },
  {
   "cell_type": "markdown",
   "metadata": {
    "id": "a-xhLCgMzOVE"
   },
   "source": [
    "### 8.7. Management of Dates and Times (DATETIME)\n",
    "\n",
    "The library for managing dates and times in Python is `datetime`. In addition, the `dateutil` extended functionality library is also used:"
   ]
  },
  {
   "cell_type": "code",
   "execution_count": null,
   "metadata": {
    "id": "9P_nlszTzOVF",
    "lines_to_next_cell": 0
   },
   "outputs": [],
   "source": [
    "from datetime import datetime\n",
    "from dateutil import parser"
   ]
  },
  {
   "cell_type": "markdown",
   "metadata": {
    "id": "TEQ5OyARzOVO"
   },
   "source": [
    "#### 8.7.1. Create Dates Hours\n",
    "\n",
    "To create dates:"
   ]
  },
  {
   "cell_type": "code",
   "execution_count": null,
   "metadata": {
    "id": "77v8ce1UzOVT"
   },
   "outputs": [],
   "source": [
    "fecha = datetime(year=2020, month=9, day=7) # con datetime"
   ]
  },
  {
   "cell_type": "markdown",
   "metadata": {
    "id": "IzibXTlozOVg"
   },
   "source": [
    "#### 8.7.2. Get Components\n",
    "\n",
    "To obtain the months and days of the week in Spanish:"
   ]
  },
  {
   "cell_type": "code",
   "execution_count": null,
   "metadata": {
    "id": "KVisUAhvzOVh",
    "outputId": "1a3d8e88-77ed-4ed3-d168-fceb0c00c49c"
   },
   "outputs": [],
   "source": [
    "import locale\n",
    "\n",
    "locale.setlocale(locale.LC_TIME, 'es_ES.UTF-8')\n",
    "\n",
    "fecha.strftime('%A')"
   ]
  },
  {
   "cell_type": "markdown",
   "metadata": {
    "id": "09EJOhPwzOVs"
   },
   "source": [
    "More information about other components can be found in the [strftime section](https://docs.python.org/3/library/datetime.html#strftime-and-strptime-behavior), or in the [datetime] documentation (https://docs.python.org/3/library/datetime.html) from Python."
   ]
  },
  {
   "cell_type": "markdown",
   "metadata": {
    "id": "-AO1V8QuzOVu"
   },
   "source": [
    "#### 8.7.3. Datetime and Numpy\n",
    "\n",
    "We can define arrays of datetime64 data type:"
   ]
  },
  {
   "cell_type": "code",
   "execution_count": null,
   "metadata": {
    "id": "QJ0CweW_zOVy",
    "outputId": "953cf9c0-4213-4993-b67a-d5132b99082f"
   },
   "outputs": [],
   "source": [
    "fecha = np.array('2020-09-07', dtype=np.datetime64)\n",
    "fecha"
   ]
  },
  {
   "cell_type": "markdown",
   "metadata": {
    "id": "cF4TS4ztzOWI"
   },
   "source": [
    "Now, we can optimally perform vectorized operations in numpy:"
   ]
  },
  {
   "cell_type": "code",
   "execution_count": null,
   "metadata": {
    "id": "YTYeB6eKzOWL",
    "outputId": "07afb21d-6ecf-422d-a98a-9ca18a8a22c9"
   },
   "outputs": [],
   "source": [
    "fecha + np.arange(12)"
   ]
  },
  {
   "cell_type": "markdown",
   "metadata": {
    "id": "2lhSBaQEzOWV"
   },
   "source": [
    "Also, we can declare datetime with date and time:"
   ]
  },
  {
   "cell_type": "code",
   "execution_count": null,
   "metadata": {
    "id": "dHjjMI5WzOWX",
    "outputId": "7e04cac1-e25f-4677-c1d0-a5330d35639c"
   },
   "outputs": [],
   "source": [
    "np.datetime64('2020-09-07 12:00')"
   ]
  },
  {
   "cell_type": "markdown",
   "metadata": {
    "id": "m6mWlNWTzOWj"
   },
   "source": [
    "#### 8.7.4. Datetime and Pandas\n",
    "\n",
    "To define dates:"
   ]
  },
  {
   "cell_type": "code",
   "execution_count": null,
   "metadata": {
    "id": "0gz8KdBXzOWl",
    "outputId": "aac3d3ea-e810-499b-b479-908929eac2f7"
   },
   "outputs": [],
   "source": [
    "fecha = pd.to_datetime(\"2020-9-7\")\n",
    "fecha"
   ]
  },
  {
   "cell_type": "markdown",
   "metadata": {
    "id": "SzmL7ZsrzOWt"
   },
   "source": [
    "Turn into:"
   ]
  },
  {
   "cell_type": "code",
   "execution_count": null,
   "metadata": {
    "id": "NL1y64wDzOWv",
    "outputId": "14a7776f-d67f-41d1-e81f-8567ea49c7d9"
   },
   "outputs": [],
   "source": [
    "fecha.strftime(\"%A, %d de %m de %Y\")"
   ]
  },
  {
   "cell_type": "markdown",
   "metadata": {
    "id": "AaCbm0_8zOW4"
   },
   "source": [
    "Vectorize operations:"
   ]
  },
  {
   "cell_type": "code",
   "execution_count": null,
   "metadata": {
    "id": "N8U1GjlozOW5",
    "outputId": "2d968f4b-c1de-4ef3-e119-d73dd643de9f"
   },
   "outputs": [],
   "source": [
    "fecha + pd.to_timedelta(np.arange(12), 'D')"
   ]
  },
  {
   "cell_type": "markdown",
   "metadata": {
    "id": "ot2NN58MzOXB"
   },
   "source": [
    "#####  8.7.4.1. Pandas with Datetime Indexing \n",
    "\n",
    "Combining both features is very useful:"
   ]
  },
  {
   "cell_type": "code",
   "execution_count": null,
   "metadata": {
    "id": "yqisnWqIzOXC",
    "outputId": "f47fbcdb-f458-46fa-f413-165caf122c5c"
   },
   "outputs": [],
   "source": [
    "index = pd.DatetimeIndex(['2019-08-07', '2019-09-07',\n",
    "                          '2020-08-07', '2020-09-07'])\n",
    "fecha = pd.Series([0, 1, 2, 3], index=index)\n",
    "fecha"
   ]
  },
  {
   "cell_type": "markdown",
   "metadata": {
    "id": "6Z5QlBgZzOXL"
   },
   "source": [
    "It can be selected by ranges:"
   ]
  },
  {
   "cell_type": "code",
   "execution_count": null,
   "metadata": {
    "id": "FkF6br79zOXM",
    "outputId": "58a2e3a3-cc12-448a-d63d-50482edbb1f8"
   },
   "outputs": [],
   "source": [
    "fecha['2019-08-07':'2020-08-07']"
   ]
  },
  {
   "cell_type": "markdown",
   "metadata": {
    "id": "TAbBCN-UzOXo"
   },
   "source": [
    "Even just by year:"
   ]
  },
  {
   "cell_type": "code",
   "execution_count": null,
   "metadata": {
    "id": "RU_lyuhdzOXp",
    "outputId": "d41ef070-a2fb-41c4-9420-34bb50c47af6"
   },
   "outputs": [],
   "source": [
    "fecha['2020']"
   ]
  },
  {
   "cell_type": "markdown",
   "metadata": {
    "id": "apUPvWG_zOXx"
   },
   "source": [
    "#### 8.7.5. Panda Time Series\n",
    "\n",
    "To define a pandas datetime series:"
   ]
  },
  {
   "cell_type": "code",
   "execution_count": null,
   "metadata": {
    "id": "iMmRgxPSzOXz",
    "outputId": "86beb82f-3ed0-4f02-b392-6480918d0473"
   },
   "outputs": [],
   "source": [
    "fecha = pd.to_datetime(['2019-08-07', '2019-09-07',\n",
    "                          '2020-08-07', '2020-09-07'])\n",
    "fecha"
   ]
  },
  {
   "cell_type": "markdown",
   "metadata": {
    "id": "9QzhLsJIzOX6"
   },
   "source": [
    "Convert to daily rate:"
   ]
  },
  {
   "cell_type": "code",
   "execution_count": null,
   "metadata": {
    "id": "XtJ5R8kDzOX8",
    "outputId": "36d02536-0412-4fdb-e3e7-abb84a70f5f4"
   },
   "outputs": [],
   "source": [
    "fecha.to_period('D')"
   ]
  },
  {
   "cell_type": "markdown",
   "metadata": {
    "id": "BUFt2ZGGzOYE"
   },
   "source": [
    "subtract dates:"
   ]
  },
  {
   "cell_type": "code",
   "execution_count": null,
   "metadata": {
    "id": "cwv0U2lBzOYH",
    "outputId": "45fb4e21-8882-4978-b5b6-08d204705766"
   },
   "outputs": [],
   "source": [
    "fecha - fecha[0]"
   ]
  },
  {
   "cell_type": "markdown",
   "metadata": {
    "id": "cA0uGSVHzOYQ"
   },
   "source": [
    "#### 8.7.6. Date Sequences\n",
    "\n",
    "To define a sequence:"
   ]
  },
  {
   "cell_type": "code",
   "execution_count": null,
   "metadata": {
    "id": "KV2dOQgyzOYS",
    "outputId": "2e318ab2-42b5-4eea-eb47-be3ec1cfecdb"
   },
   "outputs": [],
   "source": [
    "pd.date_range('2020-09-03', '2020-09-07')"
   ]
  },
  {
   "cell_type": "markdown",
   "metadata": {
    "id": "mt1MPipXzOYb"
   },
   "source": [
    "Or, specifying the length of the sequence and the periodicity:"
   ]
  },
  {
   "cell_type": "code",
   "execution_count": null,
   "metadata": {
    "id": "cBKBnI_azOYc",
    "outputId": "30ab4156-b64d-4147-b45f-a257c8c464d7"
   },
   "outputs": [],
   "source": [
    "pd.period_range('2020-07', periods=8, freq='M')"
   ]
  },
  {
   "cell_type": "markdown",
   "metadata": {
    "id": "WW-1HJCWzOYk"
   },
   "source": [
    "#### 8.7.7. Tables of Counts or Frequencies\n",
    "\n",
    "To generate frequencies use `pd.timedelta_range()`:"
   ]
  },
  {
   "cell_type": "code",
   "execution_count": null,
   "metadata": {
    "id": "X_WUBkODzOYm",
    "outputId": "0bea5c86-feef-47af-e3c6-eacbdecf4e29",
    "scrolled": true
   },
   "outputs": [],
   "source": [
    "pd.timedelta_range(0, periods=9, freq=\"2H30T\")"
   ]
  },
  {
   "cell_type": "markdown",
   "metadata": {
    "id": "YcRqpnYnzOYt"
   },
   "source": [
    "You can learn more in the [\"Time Series/Date\"](https://pandas.pydata.org/pandas-docs/stable/user_guide/timeseries.html) section of the Pandas documentation."
   ]
  },
  {
   "cell_type": "markdown",
   "metadata": {},
   "source": [
    "< [Flow control](modulo1_tema4_Py_40_contr_flujo.ipynb) | [Table of contents](modulo1_tema4_Py_00_indice.ipynb) | [Anex](modulo1_tema4_Py_60_anexo.ipynb) >\n",
    "\n",
    "__[Open in Colab](https://colab.research.google.com/github/griu/msc_python/blob/master/modulo1_tema4_Py_50_gest_dat.ipynb)__"
   ]
  }
 ],
 "metadata": {
  "colab": {
   "collapsed_sections": [
    "O_dLyCbJzOKG"
   ],
   "name": "M1_BloqueII_Python_8_Gestion_datos.ipynb",
   "provenance": []
  },
  "kernelspec": {
   "display_name": "mufib_env383",
   "language": "python",
   "name": "mufib_env383"
  },
  "language_info": {
   "codemirror_mode": {
    "name": "ipython",
    "version": 3
   },
   "file_extension": ".py",
   "mimetype": "text/x-python",
   "name": "python",
   "nbconvert_exporter": "python",
   "pygments_lexer": "ipython3",
   "version": "3.8.3"
  },
  "toc": {
   "base_numbering": 1,
   "nav_menu": {},
   "number_sections": true,
   "sideBar": true,
   "skip_h1_title": false,
   "title_cell": "Table of Contents",
   "title_sidebar": "Contents",
   "toc_cell": true,
   "toc_position": {},
   "toc_section_display": true,
   "toc_window_display": false
  }
 },
 "nbformat": 4,
 "nbformat_minor": 1
}
