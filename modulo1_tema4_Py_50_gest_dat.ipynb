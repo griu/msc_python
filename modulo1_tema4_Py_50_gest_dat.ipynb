{
 "cells": [
  {
   "cell_type": "markdown",
   "metadata": {
    "toc": true
   },
   "source": [
    "<h1>Table of Contents<span class=\"tocSkip\"></span></h1>\n",
    "<div class=\"toc\"><ul class=\"toc-item\"><li><span><a href=\"#Preparación-del-entorno\" data-toc-modified-id=\"Preparación-del-entorno-1\"><span class=\"toc-item-num\">1&nbsp;&nbsp;</span>Preparación del entorno</a></span></li><li><span><a href=\"#8---Data-Management\" data-toc-modified-id=\"8---Data-Management-2\"><span class=\"toc-item-num\">2&nbsp;&nbsp;</span>8 - Data Management</a></span><ul class=\"toc-item\"><li><ul class=\"toc-item\"><li><span><a href=\"#8.2.-Import-and-Export-Data\" data-toc-modified-id=\"8.2.-Import-and-Export-Data-2.0.1\"><span class=\"toc-item-num\">2.0.1&nbsp;&nbsp;</span>8.2. Import and Export Data</a></span><ul class=\"toc-item\"><li><span><a href=\"#8.2.1.-Reading-Text-with-Separator\" data-toc-modified-id=\"8.2.1.-Reading-Text-with-Separator-2.0.1.1\"><span class=\"toc-item-num\">2.0.1.1&nbsp;&nbsp;</span>8.2.1. Reading Text with Separator</a></span></li><li><span><a href=\"#8.2.2.-Writing-Text-with-Separator\" data-toc-modified-id=\"8.2.2.-Writing-Text-with-Separator-2.0.1.2\"><span class=\"toc-item-num\">2.0.1.2&nbsp;&nbsp;</span>8.2.2. Writing Text with Separator</a></span></li><li><span><a href=\"#8.2.3.-Reading-and-Writing-in-PICKLE-Format\" data-toc-modified-id=\"8.2.3.-Reading-and-Writing-in-PICKLE-Format-2.0.1.3\"><span class=\"toc-item-num\">2.0.1.3&nbsp;&nbsp;</span>8.2.3. Reading and Writing in PICKLE Format</a></span></li></ul></li><li><span><a href=\"#8.3.-Crossing-between-tables\" data-toc-modified-id=\"8.3.-Crossing-between-tables-2.0.2\"><span class=\"toc-item-num\">2.0.2&nbsp;&nbsp;</span>8.3. Crossing between tables</a></span><ul class=\"toc-item\"><li><span><a href=\"#8.3.1.-Crosses-by-Ordination-Without-Shared-Index\" data-toc-modified-id=\"8.3.1.-Crosses-by-Ordination-Without-Shared-Index-2.0.2.1\"><span class=\"toc-item-num\">2.0.2.1&nbsp;&nbsp;</span>8.3.1. Crosses by Ordination Without Shared Index</a></span></li><li><span><a href=\"#8.3.2.-Table-Sorting\" data-toc-modified-id=\"8.3.2.-Table-Sorting-2.0.2.2\"><span class=\"toc-item-num\">2.0.2.2&nbsp;&nbsp;</span>8.3.2. Table Sorting</a></span></li><li><span><a href=\"#8.3.3.-Union-by-Columns-Without-Shared-Index\" data-toc-modified-id=\"8.3.3.-Union-by-Columns-Without-Shared-Index-2.0.2.3\"><span class=\"toc-item-num\">2.0.2.3&nbsp;&nbsp;</span>8.3.3. Union by Columns Without Shared Index</a></span></li><li><span><a href=\"#8.3.4.-Union-by-rows\" data-toc-modified-id=\"8.3.4.-Union-by-rows-2.0.2.4\"><span class=\"toc-item-num\">2.0.2.4&nbsp;&nbsp;</span>8.3.4. Union by rows</a></span></li><li><span><a href=\"#8.3.5.-Key-Field-Crossing\" data-toc-modified-id=\"8.3.5.-Key-Field-Crossing-2.0.2.5\"><span class=\"toc-item-num\">2.0.2.5&nbsp;&nbsp;</span>8.3.5. Key Field Crossing</a></span></li></ul></li><li><span><a href=\"#8.4.-Aggregate-Summaries\" data-toc-modified-id=\"8.4.-Aggregate-Summaries-2.0.3\"><span class=\"toc-item-num\">2.0.3&nbsp;&nbsp;</span>8.4. Aggregate Summaries</a></span><ul class=\"toc-item\"><li><span><a href=\"#8.4.1.-describe\" data-toc-modified-id=\"8.4.1.-describe-2.0.3.1\"><span class=\"toc-item-num\">2.0.3.1&nbsp;&nbsp;</span>8.4.1. describe</a></span></li><li><span><a href=\"#8.4.2.-Basic-Statistics\" data-toc-modified-id=\"8.4.2.-Basic-Statistics-2.0.3.2\"><span class=\"toc-item-num\">2.0.3.2&nbsp;&nbsp;</span>8.4.2. Basic Statistics</a></span></li><li><span><a href=\"#8.4.3.-Tables-of-Frequencies-or-Counts\" data-toc-modified-id=\"8.4.3.-Tables-of-Frequencies-or-Counts-2.0.3.3\"><span class=\"toc-item-num\">2.0.3.3&nbsp;&nbsp;</span>8.4.3. Tables of Frequencies or Counts</a></span></li></ul></li><li><span><a href=\"#8.5.-Aggregated-by-Subgroups\" data-toc-modified-id=\"8.5.-Aggregated-by-Subgroups-2.0.4\"><span class=\"toc-item-num\">2.0.4&nbsp;&nbsp;</span>8.5. Aggregated by Subgroups</a></span><ul class=\"toc-item\"><li><span><a href=\"#8.5.1.-Grouping-or-GROUPBY\" data-toc-modified-id=\"8.5.1.-Grouping-or-GROUPBY-2.0.4.1\"><span class=\"toc-item-num\">2.0.4.1&nbsp;&nbsp;</span>8.5.1. Grouping or <em>GROUPBY</em></a></span></li><li><span><a href=\"#8.5.2.-Aggregate\" data-toc-modified-id=\"8.5.2.-Aggregate-2.0.4.2\"><span class=\"toc-item-num\">2.0.4.2&nbsp;&nbsp;</span>8.5.2. Aggregate</a></span></li><li><span><a href=\"#8.5.3.-Filtered-out\" data-toc-modified-id=\"8.5.3.-Filtered-out-2.0.4.3\"><span class=\"toc-item-num\">2.0.4.3&nbsp;&nbsp;</span>8.5.3. Filtered out</a></span></li><li><span><a href=\"#8.5.4.-Transformations\" data-toc-modified-id=\"8.5.4.-Transformations-2.0.4.4\"><span class=\"toc-item-num\">2.0.4.4&nbsp;&nbsp;</span>8.5.4. Transformations</a></span></li><li><span><a href=\"#8.5.5.-Application-of-functions\" data-toc-modified-id=\"8.5.5.-Application-of-functions-2.0.4.5\"><span class=\"toc-item-num\">2.0.4.5&nbsp;&nbsp;</span>8.5.5. Application of functions</a></span></li></ul></li><li><span><a href=\"#8.6.-Pivot-Tables\" data-toc-modified-id=\"8.6.-Pivot-Tables-2.0.5\"><span class=\"toc-item-num\">2.0.5&nbsp;&nbsp;</span>8.6. Pivot Tables</a></span></li><li><span><a href=\"#8.7.-Management-of-Dates-and-Times-(DATETIME)\" data-toc-modified-id=\"8.7.-Management-of-Dates-and-Times-(DATETIME)-2.0.6\"><span class=\"toc-item-num\">2.0.6&nbsp;&nbsp;</span>8.7. Management of Dates and Times (DATETIME)</a></span><ul class=\"toc-item\"><li><span><a href=\"#8.7.1.-Create-Dates-Hours\" data-toc-modified-id=\"8.7.1.-Create-Dates-Hours-2.0.6.1\"><span class=\"toc-item-num\">2.0.6.1&nbsp;&nbsp;</span>8.7.1. Create Dates Hours</a></span></li><li><span><a href=\"#8.7.2.-Get-Components\" data-toc-modified-id=\"8.7.2.-Get-Components-2.0.6.2\"><span class=\"toc-item-num\">2.0.6.2&nbsp;&nbsp;</span>8.7.2. Get Components</a></span></li><li><span><a href=\"#8.7.3.-Datetime-and-Numpy\" data-toc-modified-id=\"8.7.3.-Datetime-and-Numpy-2.0.6.3\"><span class=\"toc-item-num\">2.0.6.3&nbsp;&nbsp;</span>8.7.3. Datetime and Numpy</a></span></li><li><span><a href=\"#8.7.4.-Datetime-and-Pandas\" data-toc-modified-id=\"8.7.4.-Datetime-and-Pandas-2.0.6.4\"><span class=\"toc-item-num\">2.0.6.4&nbsp;&nbsp;</span>8.7.4. Datetime and Pandas</a></span></li><li><span><a href=\"#8.7.5.-Panda-Time-Series\" data-toc-modified-id=\"8.7.5.-Panda-Time-Series-2.0.6.5\"><span class=\"toc-item-num\">2.0.6.5&nbsp;&nbsp;</span>8.7.5. Panda Time Series</a></span></li><li><span><a href=\"#8.7.6.-Date-Sequences\" data-toc-modified-id=\"8.7.6.-Date-Sequences-2.0.6.6\"><span class=\"toc-item-num\">2.0.6.6&nbsp;&nbsp;</span>8.7.6. Date Sequences</a></span></li><li><span><a href=\"#8.7.7.-Tables-of-Counts-or-Frequencies\" data-toc-modified-id=\"8.7.7.-Tables-of-Counts-or-Frequencies-2.0.6.7\"><span class=\"toc-item-num\">2.0.6.7&nbsp;&nbsp;</span>8.7.7. Tables of Counts or Frequencies</a></span></li></ul></li></ul></li></ul></li></ul></div>"
   ]
  },
  {
   "cell_type": "markdown",
   "metadata": {},
   "source": [
    "<img align=\"left\" style=\"padding-right:10px;\" width=\"150\" src=\"https://upload.wikimedia.org/wikipedia/commons/thumb/6/6c/Star_Wars_Logo.svg/320px-Star_Wars_Logo.svg.png\" />\n",
    "\n",
    "*made by Ferran Carrascosa Mallafrè.*"
   ]
  },
  {
   "cell_type": "markdown",
   "metadata": {},
   "source": [
    "< [Control de flujo](modulo1_tema4_Py_40_contr_flujo.ipynb) | [Índice](modulo1_tema4_Py_00_indice.ipynb) | [Anexo](modulo1_tema4_Py_60_anexo.ipynb) >\n",
    "\n",
    "__[Open in Colab](https://colab.research.google.com/github/griu/msc_python/blob/master/modulo1_tema4_Py_50_gest_dat.ipynb)__   *: <span style=\"color:rgba(255, 99, 71, 0.8)\">Padawan! When you login to Colab, prepare the environment by running the following code.</span>*"
   ]
  },
  {
   "cell_type": "markdown",
   "metadata": {
    "id": "rwi61M3czOFJ"
   },
   "source": [
    "# Preparación del entorno\n",
    "\n",
    "¡Padawan! Cuando inicies sesión en Colab, prepara el entorno ejecutando el siguiente código:"
   ]
  },
  {
   "cell_type": "code",
   "execution_count": null,
   "metadata": {
    "colab": {
     "base_uri": "https://localhost:8080/"
    },
    "executionInfo": {
     "elapsed": 25678,
     "status": "ok",
     "timestamp": 1604317087349,
     "user": {
      "displayName": "alumnos bigdata",
      "photoUrl": "",
      "userId": "10710302360204190833"
     },
     "user_tz": -60
    },
    "id": "2SBF5dlSTi-h",
    "outputId": "b85ff6ea-725c-464c-abf4-fc481a6882de"
   },
   "outputs": [],
   "source": [
    "if 'google.colab' in str(get_ipython()):\n",
    "    !git clone https://github.com/griu/msc_python.git /content/msc_python\n",
    "    !git -C /content/msc_python pull\n",
    "    %cd /content/msc_python"
   ]
  },
  {
   "cell_type": "markdown",
   "metadata": {
    "id": "J9-tONdozOF2"
   },
   "source": [
    "# 8 - Data Management\n",
    "\n",
    "Next, we present the functions for reading/writing data, crossing and building summary tables.\n",
    "\n",
    "At the end of the chapter, we will introduce how to handle temporary data."
   ]
  },
  {
   "cell_type": "markdown",
   "metadata": {
    "id": "NZv9wCxdzOF7"
   },
   "source": [
    "##### 8.1. Guided Activity 2.5\n",
    "\n",
    "It is about analyzing the characters of the series:\n",
    "\n",
    "> \"He would rather be a monster who believes in something, who would sacrifice everything to improve the galaxy, than be someone who stands on the sidelines and looks like it has no impact on them.\"\n",
    "     ―Princess Leia Organa\n",
    "\n",
    "\n",
    "This activity consists of crossing data of characters and planets to build descriptive summary of the data of characters.\n",
    "\n",
    "The first step is to load the data of the characters and planets:"
   ]
  },
  {
   "cell_type": "code",
   "execution_count": null,
   "metadata": {
    "colab": {
     "base_uri": "https://localhost:8080/",
     "height": 458
    },
    "executionInfo": {
     "elapsed": 25855,
     "status": "ok",
     "timestamp": 1604393639069,
     "user": {
      "displayName": "alumnos bigdata",
      "photoUrl": "",
      "userId": "10710302360204190833"
     },
     "user_tz": -60
    },
    "id": "gYgda8kXzOF9",
    "outputId": "ca317a7a-8ae1-4db7-bad7-394d26df0ece",
    "scrolled": true
   },
   "outputs": [
    {
     "data": {
      "text/html": [
       "<div>\n",
       "<style scoped>\n",
       "    .dataframe tbody tr th:only-of-type {\n",
       "        vertical-align: middle;\n",
       "    }\n",
       "\n",
       "    .dataframe tbody tr th {\n",
       "        vertical-align: top;\n",
       "    }\n",
       "\n",
       "    .dataframe thead th {\n",
       "        text-align: right;\n",
       "    }\n",
       "</style>\n",
       "<table border=\"1\" class=\"dataframe\">\n",
       "  <thead>\n",
       "    <tr style=\"text-align: right;\">\n",
       "      <th></th>\n",
       "      <th>height</th>\n",
       "      <th>mass</th>\n",
       "      <th>eye_color</th>\n",
       "      <th>birth_year</th>\n",
       "      <th>gender</th>\n",
       "      <th>homeworld</th>\n",
       "    </tr>\n",
       "    <tr>\n",
       "      <th>name</th>\n",
       "      <th></th>\n",
       "      <th></th>\n",
       "      <th></th>\n",
       "      <th></th>\n",
       "      <th></th>\n",
       "      <th></th>\n",
       "    </tr>\n",
       "  </thead>\n",
       "  <tbody>\n",
       "    <tr>\n",
       "      <th>Luke Skywalker</th>\n",
       "      <td>172.0</td>\n",
       "      <td>77.0</td>\n",
       "      <td>blue</td>\n",
       "      <td>19.0</td>\n",
       "      <td>male</td>\n",
       "      <td>http://swapi.dev/api/planets/1/</td>\n",
       "    </tr>\n",
       "    <tr>\n",
       "      <th>C-3PO</th>\n",
       "      <td>167.0</td>\n",
       "      <td>75.0</td>\n",
       "      <td>yellow</td>\n",
       "      <td>112.0</td>\n",
       "      <td>none</td>\n",
       "      <td>http://swapi.dev/api/planets/1/</td>\n",
       "    </tr>\n",
       "    <tr>\n",
       "      <th>R2-D2</th>\n",
       "      <td>96.0</td>\n",
       "      <td>32.0</td>\n",
       "      <td>red</td>\n",
       "      <td>33.0</td>\n",
       "      <td>none</td>\n",
       "      <td>http://swapi.dev/api/planets/8/</td>\n",
       "    </tr>\n",
       "    <tr>\n",
       "      <th>Darth Vader</th>\n",
       "      <td>202.0</td>\n",
       "      <td>136.0</td>\n",
       "      <td>yellow</td>\n",
       "      <td>41.9</td>\n",
       "      <td>male</td>\n",
       "      <td>http://swapi.dev/api/planets/1/</td>\n",
       "    </tr>\n",
       "    <tr>\n",
       "      <th>Leia Organa</th>\n",
       "      <td>150.0</td>\n",
       "      <td>49.0</td>\n",
       "      <td>brown</td>\n",
       "      <td>19.0</td>\n",
       "      <td>female</td>\n",
       "      <td>http://swapi.dev/api/planets/2/</td>\n",
       "    </tr>\n",
       "  </tbody>\n",
       "</table>\n",
       "</div>"
      ],
      "text/plain": [
       "                height   mass  ...  gender                        homeworld\n",
       "name                           ...                                         \n",
       "Luke Skywalker   172.0   77.0  ...    male  http://swapi.dev/api/planets/1/\n",
       "C-3PO            167.0   75.0  ...    none  http://swapi.dev/api/planets/1/\n",
       "R2-D2             96.0   32.0  ...    none  http://swapi.dev/api/planets/8/\n",
       "Darth Vader      202.0  136.0  ...    male  http://swapi.dev/api/planets/1/\n",
       "Leia Organa      150.0   49.0  ...  female  http://swapi.dev/api/planets/2/\n",
       "\n",
       "[5 rows x 6 columns]"
      ]
     },
     "metadata": {
      "tags": []
     },
     "output_type": "display_data"
    },
    {
     "data": {
      "text/html": [
       "<div>\n",
       "<style scoped>\n",
       "    .dataframe tbody tr th:only-of-type {\n",
       "        vertical-align: middle;\n",
       "    }\n",
       "\n",
       "    .dataframe tbody tr th {\n",
       "        vertical-align: top;\n",
       "    }\n",
       "\n",
       "    .dataframe thead th {\n",
       "        text-align: right;\n",
       "    }\n",
       "</style>\n",
       "<table border=\"1\" class=\"dataframe\">\n",
       "  <thead>\n",
       "    <tr style=\"text-align: right;\">\n",
       "      <th></th>\n",
       "      <th>climate</th>\n",
       "      <th>temperate_tropical</th>\n",
       "      <th>population</th>\n",
       "      <th>url</th>\n",
       "    </tr>\n",
       "    <tr>\n",
       "      <th>name</th>\n",
       "      <th></th>\n",
       "      <th></th>\n",
       "      <th></th>\n",
       "      <th></th>\n",
       "    </tr>\n",
       "  </thead>\n",
       "  <tbody>\n",
       "    <tr>\n",
       "      <th>Tatooine</th>\n",
       "      <td>arid</td>\n",
       "      <td>0</td>\n",
       "      <td>2.000000e+05</td>\n",
       "      <td>http://swapi.dev/api/planets/1/</td>\n",
       "    </tr>\n",
       "    <tr>\n",
       "      <th>Alderaan</th>\n",
       "      <td>temperate</td>\n",
       "      <td>1</td>\n",
       "      <td>2.000000e+09</td>\n",
       "      <td>http://swapi.dev/api/planets/2/</td>\n",
       "    </tr>\n",
       "    <tr>\n",
       "      <th>Yavin IV</th>\n",
       "      <td>temperate, tropical</td>\n",
       "      <td>1</td>\n",
       "      <td>1.000000e+03</td>\n",
       "      <td>http://swapi.dev/api/planets/3/</td>\n",
       "    </tr>\n",
       "    <tr>\n",
       "      <th>Bespin</th>\n",
       "      <td>temperate</td>\n",
       "      <td>1</td>\n",
       "      <td>6.000000e+06</td>\n",
       "      <td>http://swapi.dev/api/planets/6/</td>\n",
       "    </tr>\n",
       "    <tr>\n",
       "      <th>Endor</th>\n",
       "      <td>temperate</td>\n",
       "      <td>1</td>\n",
       "      <td>3.000000e+07</td>\n",
       "      <td>http://swapi.dev/api/planets/7/</td>\n",
       "    </tr>\n",
       "  </tbody>\n",
       "</table>\n",
       "</div>"
      ],
      "text/plain": [
       "                      climate  ...                              url\n",
       "name                           ...                                 \n",
       "Tatooine                 arid  ...  http://swapi.dev/api/planets/1/\n",
       "Alderaan            temperate  ...  http://swapi.dev/api/planets/2/\n",
       "Yavin IV  temperate, tropical  ...  http://swapi.dev/api/planets/3/\n",
       "Bespin              temperate  ...  http://swapi.dev/api/planets/6/\n",
       "Endor               temperate  ...  http://swapi.dev/api/planets/7/\n",
       "\n",
       "[5 rows x 4 columns]"
      ]
     },
     "metadata": {
      "tags": []
     },
     "output_type": "display_data"
    }
   ],
   "source": [
    "%matplotlib inline\n",
    "import numpy as np\n",
    "import pandas as pd\n",
    "import matplotlib.pyplot as plt\n",
    "import seaborn as sns; sns.set()  # for graphics style\n",
    "\n",
    "entidades = ['planets','starships','vehicles','people','species']\n",
    "entidades_df = {x: pd.read_pickle('www/' + x + '_df.pkl') for x in entidades}\n",
    "\n",
    "# planetas\n",
    "planets_df = entidades_df['planets'][[\"climate\",\"temperate_tropical\",\"population\",\"url\"]].dropna()\n",
    "\n",
    "# Datos principales\n",
    "people_df = entidades_df['people'][[\"height\",\"mass\",\"eye_color\",\"birth_year\",\"gender\",\"homeworld\"]].dropna()\n",
    "\n",
    "display(people_df.head(),planets_df.head())"
   ]
  },
  {
   "cell_type": "markdown",
   "metadata": {
    "id": "jzpPEaAlzOGn"
   },
   "source": [
    "### 8.2. Import and Export Data\n",
    "\n",
    "The simplest way to import structured data (in the form of a matrix of rows and columns), is through DataFrames. The reason is simple, these objects allow you to store data of different types in a single object or data table.\n",
    "\n"
   ]
  },
  {
   "cell_type": "markdown",
   "metadata": {
    "id": "sTnlKrG84dG8"
   },
   "source": [
    "#### 8.2.1. Reading Text with Separator\n",
    "\n",
    "To read the following text file:"
   ]
  },
  {
   "cell_type": "code",
   "execution_count": null,
   "metadata": {
    "colab": {
     "base_uri": "https://localhost:8080/"
    },
    "eval": false,
    "executionInfo": {
     "elapsed": 25834,
     "status": "ok",
     "timestamp": 1604393639075,
     "user": {
      "displayName": "alumnos bigdata",
      "photoUrl": "",
      "userId": "10710302360204190833"
     },
     "user_tz": -60
    },
    "id": "jIAnGhYVzOGv",
    "outputId": "051f8115-535e-4bdc-ff38-930399ba5c31"
   },
   "outputs": [
    {
     "name": "stdout",
     "output_type": "stream",
     "text": [
      "\"mpg\",\"cyl\",\"disp\",\"hp\",\"drat\",\"wt\",\"qsec\",\"vs\",\"am\",\"gear\",\"carb\"\n",
      "21,6,160,110,3.9,2.62,16.46,0,1,4,4\n",
      "21,6,160,110,3.9,2.875,17.02,0,1,4,4\n",
      "22.8,4,108,93,3.85,2.32,18.61,1,1,4,1\n",
      "21.4,6,258,110,3.08,3.215,19.44,1,0,3,1\n",
      "\n"
     ]
    }
   ],
   "source": [
    "# show the first 5 rows\n",
    "n=5\n",
    "with open('www/mtcars.csv') as f:\n",
    "    muestra_texto = \"\"\n",
    "    for i in range(5):\n",
    "        muestra_texto +=f.readline()\n",
    "print(muestra_texto)"
   ]
  },
  {
   "cell_type": "markdown",
   "metadata": {
    "id": "Wf5nTbxBzOHM"
   },
   "source": [
    "Since this is a character-separated file, the generic function for such files is `pd.read_table()`:"
   ]
  },
  {
   "cell_type": "code",
   "execution_count": null,
   "metadata": {
    "colab": {
     "base_uri": "https://localhost:8080/",
     "height": 206
    },
    "executionInfo": {
     "elapsed": 25810,
     "status": "ok",
     "timestamp": 1604393639079,
     "user": {
      "displayName": "alumnos bigdata",
      "photoUrl": "",
      "userId": "10710302360204190833"
     },
     "user_tz": -60
    },
    "id": "gwF4VPPwzOHS",
    "outputId": "8e05a5c9-1fd9-41af-a8db-3d114554fd9d"
   },
   "outputs": [
    {
     "data": {
      "text/html": [
       "<div>\n",
       "<style scoped>\n",
       "    .dataframe tbody tr th:only-of-type {\n",
       "        vertical-align: middle;\n",
       "    }\n",
       "\n",
       "    .dataframe tbody tr th {\n",
       "        vertical-align: top;\n",
       "    }\n",
       "\n",
       "    .dataframe thead th {\n",
       "        text-align: right;\n",
       "    }\n",
       "</style>\n",
       "<table border=\"1\" class=\"dataframe\">\n",
       "  <thead>\n",
       "    <tr style=\"text-align: right;\">\n",
       "      <th></th>\n",
       "      <th>mpg</th>\n",
       "      <th>cyl</th>\n",
       "      <th>disp</th>\n",
       "      <th>hp</th>\n",
       "      <th>drat</th>\n",
       "      <th>wt</th>\n",
       "      <th>qsec</th>\n",
       "      <th>vs</th>\n",
       "      <th>am</th>\n",
       "      <th>gear</th>\n",
       "      <th>carb</th>\n",
       "    </tr>\n",
       "  </thead>\n",
       "  <tbody>\n",
       "    <tr>\n",
       "      <th>0</th>\n",
       "      <td>21.0</td>\n",
       "      <td>6</td>\n",
       "      <td>160.0</td>\n",
       "      <td>110</td>\n",
       "      <td>3.90</td>\n",
       "      <td>2.620</td>\n",
       "      <td>16.46</td>\n",
       "      <td>0</td>\n",
       "      <td>1</td>\n",
       "      <td>4</td>\n",
       "      <td>4</td>\n",
       "    </tr>\n",
       "    <tr>\n",
       "      <th>1</th>\n",
       "      <td>21.0</td>\n",
       "      <td>6</td>\n",
       "      <td>160.0</td>\n",
       "      <td>110</td>\n",
       "      <td>3.90</td>\n",
       "      <td>2.875</td>\n",
       "      <td>17.02</td>\n",
       "      <td>0</td>\n",
       "      <td>1</td>\n",
       "      <td>4</td>\n",
       "      <td>4</td>\n",
       "    </tr>\n",
       "    <tr>\n",
       "      <th>2</th>\n",
       "      <td>22.8</td>\n",
       "      <td>4</td>\n",
       "      <td>108.0</td>\n",
       "      <td>93</td>\n",
       "      <td>3.85</td>\n",
       "      <td>2.320</td>\n",
       "      <td>18.61</td>\n",
       "      <td>1</td>\n",
       "      <td>1</td>\n",
       "      <td>4</td>\n",
       "      <td>1</td>\n",
       "    </tr>\n",
       "    <tr>\n",
       "      <th>3</th>\n",
       "      <td>21.4</td>\n",
       "      <td>6</td>\n",
       "      <td>258.0</td>\n",
       "      <td>110</td>\n",
       "      <td>3.08</td>\n",
       "      <td>3.215</td>\n",
       "      <td>19.44</td>\n",
       "      <td>1</td>\n",
       "      <td>0</td>\n",
       "      <td>3</td>\n",
       "      <td>1</td>\n",
       "    </tr>\n",
       "    <tr>\n",
       "      <th>4</th>\n",
       "      <td>18.7</td>\n",
       "      <td>8</td>\n",
       "      <td>360.0</td>\n",
       "      <td>175</td>\n",
       "      <td>3.15</td>\n",
       "      <td>3.440</td>\n",
       "      <td>17.02</td>\n",
       "      <td>0</td>\n",
       "      <td>0</td>\n",
       "      <td>3</td>\n",
       "      <td>2</td>\n",
       "    </tr>\n",
       "  </tbody>\n",
       "</table>\n",
       "</div>"
      ],
      "text/plain": [
       "    mpg  cyl   disp   hp  drat     wt   qsec  vs  am  gear  carb\n",
       "0  21.0    6  160.0  110  3.90  2.620  16.46   0   1     4     4\n",
       "1  21.0    6  160.0  110  3.90  2.875  17.02   0   1     4     4\n",
       "2  22.8    4  108.0   93  3.85  2.320  18.61   1   1     4     1\n",
       "3  21.4    6  258.0  110  3.08  3.215  19.44   1   0     3     1\n",
       "4  18.7    8  360.0  175  3.15  3.440  17.02   0   0     3     2"
      ]
     },
     "execution_count": 6,
     "metadata": {
      "tags": []
     },
     "output_type": "execute_result"
    }
   ],
   "source": [
    "mtcars = pd.read_table(\"www/mtcars.csv\",sep=',', decimal=\".\")\n",
    "mtcars.head()"
   ]
  },
  {
   "cell_type": "markdown",
   "metadata": {
    "id": "fhGY-VcrzOH-"
   },
   "source": [
    "We can customize the load with the following parameters:\n",
    "\n",
    "- `decimal`: the decimal separator.\n",
    "- `sep`: the column separator.\n",
    "\n",
    "Also, it is common to use `enconding=\"latin_1\"` when the file has been created with Windows.\n",
    "\n",
    "Given the structure of the file, with `pd.read_csv()` the loading is simpler:"
   ]
  },
  {
   "cell_type": "code",
   "execution_count": null,
   "metadata": {
    "id": "tmnVMx3zzOID"
   },
   "outputs": [],
   "source": [
    "mtcars = pd.read_csv(\"www/mtcars.csv\")"
   ]
  },
  {
   "cell_type": "markdown",
   "metadata": {
    "id": "8ro7EDvDzOIa"
   },
   "source": [
    "Aside from `.head()`, it's good practice to check your payload with `.shape()`, and `describe()`:"
   ]
  },
  {
   "cell_type": "code",
   "execution_count": null,
   "metadata": {
    "colab": {
     "base_uri": "https://localhost:8080/"
    },
    "executionInfo": {
     "elapsed": 25785,
     "status": "ok",
     "timestamp": 1604393639087,
     "user": {
      "displayName": "alumnos bigdata",
      "photoUrl": "",
      "userId": "10710302360204190833"
     },
     "user_tz": -60
    },
    "id": "TV3CxR8IzOIc",
    "outputId": "afa022bf-1ad6-4ed9-8d32-390eb60047c6"
   },
   "outputs": [
    {
     "data": {
      "text/plain": [
       "(32, 11)"
      ]
     },
     "execution_count": 8,
     "metadata": {
      "tags": []
     },
     "output_type": "execute_result"
    }
   ],
   "source": [
    "mtcars.shape"
   ]
  },
  {
   "cell_type": "code",
   "execution_count": null,
   "metadata": {
    "colab": {
     "base_uri": "https://localhost:8080/",
     "height": 300
    },
    "eval": false,
    "executionInfo": {
     "elapsed": 25766,
     "status": "ok",
     "timestamp": 1604393639093,
     "user": {
      "displayName": "alumnos bigdata",
      "photoUrl": "",
      "userId": "10710302360204190833"
     },
     "user_tz": -60
    },
    "id": "0Adljra4zOIq",
    "outputId": "03510b5d-9dfd-4e77-a642-9810a053d1d3"
   },
   "outputs": [
    {
     "data": {
      "text/html": [
       "<div>\n",
       "<style scoped>\n",
       "    .dataframe tbody tr th:only-of-type {\n",
       "        vertical-align: middle;\n",
       "    }\n",
       "\n",
       "    .dataframe tbody tr th {\n",
       "        vertical-align: top;\n",
       "    }\n",
       "\n",
       "    .dataframe thead th {\n",
       "        text-align: right;\n",
       "    }\n",
       "</style>\n",
       "<table border=\"1\" class=\"dataframe\">\n",
       "  <thead>\n",
       "    <tr style=\"text-align: right;\">\n",
       "      <th></th>\n",
       "      <th>mpg</th>\n",
       "      <th>cyl</th>\n",
       "      <th>disp</th>\n",
       "      <th>hp</th>\n",
       "      <th>drat</th>\n",
       "      <th>wt</th>\n",
       "      <th>qsec</th>\n",
       "      <th>vs</th>\n",
       "      <th>am</th>\n",
       "      <th>gear</th>\n",
       "      <th>carb</th>\n",
       "    </tr>\n",
       "  </thead>\n",
       "  <tbody>\n",
       "    <tr>\n",
       "      <th>count</th>\n",
       "      <td>32.000000</td>\n",
       "      <td>32.000000</td>\n",
       "      <td>32.000000</td>\n",
       "      <td>32.000000</td>\n",
       "      <td>32.000000</td>\n",
       "      <td>32.000000</td>\n",
       "      <td>32.000000</td>\n",
       "      <td>32.000000</td>\n",
       "      <td>32.000000</td>\n",
       "      <td>32.000000</td>\n",
       "      <td>32.0000</td>\n",
       "    </tr>\n",
       "    <tr>\n",
       "      <th>mean</th>\n",
       "      <td>20.090625</td>\n",
       "      <td>6.187500</td>\n",
       "      <td>230.721875</td>\n",
       "      <td>146.687500</td>\n",
       "      <td>3.596563</td>\n",
       "      <td>3.217250</td>\n",
       "      <td>17.848750</td>\n",
       "      <td>0.437500</td>\n",
       "      <td>0.406250</td>\n",
       "      <td>3.687500</td>\n",
       "      <td>2.8125</td>\n",
       "    </tr>\n",
       "    <tr>\n",
       "      <th>std</th>\n",
       "      <td>6.026948</td>\n",
       "      <td>1.785922</td>\n",
       "      <td>123.938694</td>\n",
       "      <td>68.562868</td>\n",
       "      <td>0.534679</td>\n",
       "      <td>0.978457</td>\n",
       "      <td>1.786943</td>\n",
       "      <td>0.504016</td>\n",
       "      <td>0.498991</td>\n",
       "      <td>0.737804</td>\n",
       "      <td>1.6152</td>\n",
       "    </tr>\n",
       "    <tr>\n",
       "      <th>min</th>\n",
       "      <td>10.400000</td>\n",
       "      <td>4.000000</td>\n",
       "      <td>71.100000</td>\n",
       "      <td>52.000000</td>\n",
       "      <td>2.760000</td>\n",
       "      <td>1.513000</td>\n",
       "      <td>14.500000</td>\n",
       "      <td>0.000000</td>\n",
       "      <td>0.000000</td>\n",
       "      <td>3.000000</td>\n",
       "      <td>1.0000</td>\n",
       "    </tr>\n",
       "    <tr>\n",
       "      <th>25%</th>\n",
       "      <td>15.425000</td>\n",
       "      <td>4.000000</td>\n",
       "      <td>120.825000</td>\n",
       "      <td>96.500000</td>\n",
       "      <td>3.080000</td>\n",
       "      <td>2.581250</td>\n",
       "      <td>16.892500</td>\n",
       "      <td>0.000000</td>\n",
       "      <td>0.000000</td>\n",
       "      <td>3.000000</td>\n",
       "      <td>2.0000</td>\n",
       "    </tr>\n",
       "    <tr>\n",
       "      <th>50%</th>\n",
       "      <td>19.200000</td>\n",
       "      <td>6.000000</td>\n",
       "      <td>196.300000</td>\n",
       "      <td>123.000000</td>\n",
       "      <td>3.695000</td>\n",
       "      <td>3.325000</td>\n",
       "      <td>17.710000</td>\n",
       "      <td>0.000000</td>\n",
       "      <td>0.000000</td>\n",
       "      <td>4.000000</td>\n",
       "      <td>2.0000</td>\n",
       "    </tr>\n",
       "    <tr>\n",
       "      <th>75%</th>\n",
       "      <td>22.800000</td>\n",
       "      <td>8.000000</td>\n",
       "      <td>326.000000</td>\n",
       "      <td>180.000000</td>\n",
       "      <td>3.920000</td>\n",
       "      <td>3.610000</td>\n",
       "      <td>18.900000</td>\n",
       "      <td>1.000000</td>\n",
       "      <td>1.000000</td>\n",
       "      <td>4.000000</td>\n",
       "      <td>4.0000</td>\n",
       "    </tr>\n",
       "    <tr>\n",
       "      <th>max</th>\n",
       "      <td>33.900000</td>\n",
       "      <td>8.000000</td>\n",
       "      <td>472.000000</td>\n",
       "      <td>335.000000</td>\n",
       "      <td>4.930000</td>\n",
       "      <td>5.424000</td>\n",
       "      <td>22.900000</td>\n",
       "      <td>1.000000</td>\n",
       "      <td>1.000000</td>\n",
       "      <td>5.000000</td>\n",
       "      <td>8.0000</td>\n",
       "    </tr>\n",
       "  </tbody>\n",
       "</table>\n",
       "</div>"
      ],
      "text/plain": [
       "             mpg        cyl        disp  ...         am       gear     carb\n",
       "count  32.000000  32.000000   32.000000  ...  32.000000  32.000000  32.0000\n",
       "mean   20.090625   6.187500  230.721875  ...   0.406250   3.687500   2.8125\n",
       "std     6.026948   1.785922  123.938694  ...   0.498991   0.737804   1.6152\n",
       "min    10.400000   4.000000   71.100000  ...   0.000000   3.000000   1.0000\n",
       "25%    15.425000   4.000000  120.825000  ...   0.000000   3.000000   2.0000\n",
       "50%    19.200000   6.000000  196.300000  ...   0.000000   4.000000   2.0000\n",
       "75%    22.800000   8.000000  326.000000  ...   1.000000   4.000000   4.0000\n",
       "max    33.900000   8.000000  472.000000  ...   1.000000   5.000000   8.0000\n",
       "\n",
       "[8 rows x 11 columns]"
      ]
     },
     "execution_count": 9,
     "metadata": {
      "tags": []
     },
     "output_type": "execute_result"
    }
   ],
   "source": [
    "mtcars.describe()"
   ]
  },
  {
   "cell_type": "markdown",
   "metadata": {
    "id": "8ADL7S9ezOI3"
   },
   "source": [
    "#### 8.2.2. Writing Text with Separator\n",
    "\n",
    "For writing, you can use their equivalents: `.to_csv()`. A few minor variations are worth noting:"
   ]
  },
  {
   "cell_type": "code",
   "execution_count": null,
   "metadata": {
    "id": "LxTs7yMDzOI6"
   },
   "outputs": [],
   "source": [
    "mtcars.to_csv(\"www/mtcars2.csv\", decimal=\",\", sep=\";\", index=False, encoding=\"latin_1\")"
   ]
  },
  {
   "cell_type": "markdown",
   "metadata": {
    "id": "SeERnxNJzOJI"
   },
   "source": [
    "- `index`: Logical field True, False. By default, it inserts the row number.\n",
    "\n",
    "Notice how the new csv is now in the european csv format with windows encoding."
   ]
  },
  {
   "cell_type": "code",
   "execution_count": null,
   "metadata": {
    "colab": {
     "base_uri": "https://localhost:8080/"
    },
    "eval": false,
    "executionInfo": {
     "elapsed": 25744,
     "status": "ok",
     "timestamp": 1604393639103,
     "user": {
      "displayName": "alumnos bigdata",
      "photoUrl": "",
      "userId": "10710302360204190833"
     },
     "user_tz": -60
    },
    "id": "HSxqIa6KzOJL",
    "lines_to_next_cell": 0,
    "outputId": "78097c19-6cc6-4782-98b7-ada6c1a709c1"
   },
   "outputs": [
    {
     "name": "stdout",
     "output_type": "stream",
     "text": [
      "mpg;cyl;disp;hp;drat;wt;qsec;vs;am;gear;carb\n",
      "21,0;6;160,0;110;3,9;2,62;16,46;0;1;4;4\n",
      "21,0;6;160,0;110;3,9;2,875;17,02;0;1;4;4\n",
      "22,8;4;108,0;93;3,85;2,32;18,61;1;1;4;1\n",
      "21,4;6;258,0;110;3,08;3,215;19,44;1;0;3;1\n",
      "\n"
     ]
    }
   ],
   "source": [
    "# show the first 5 rows\n",
    "n=5\n",
    "with open('www/mtcars2.csv') as f:\n",
    "    muestra_texto = \"\"\n",
    "    for i in range(5):\n",
    "        muestra_texto +=f.readline()\n",
    "print(muestra_texto)"
   ]
  },
  {
   "cell_type": "markdown",
   "metadata": {
    "id": "zTVxszNXzOJa"
   },
   "source": [
    "To read fixed-width text, check out the [pd.read_fwf()](https://pandas.pydata.org/pandas-docs/stable/reference/api/pandas.read_fwf.html) function."
   ]
  },
  {
   "cell_type": "markdown",
   "metadata": {
    "id": "PNXSv5R6zOJc"
   },
   "source": [
    "#### 8.2.3. Reading and Writing in PICKLE Format\n",
    "\n",
    "Python objects can be made persistent on disk in the pickle format.\n",
    "\n",
    "> **Did you know**: pickle means pepinillo o vinagreta. That is, the pickle format means that we are putting the Python objects into preserves.\n",
    "\n",
    "To save a DataFrame in pickle format, use the `.to_pickle(\"name.pkl\")` method:"
   ]
  },
  {
   "cell_type": "code",
   "execution_count": null,
   "metadata": {
    "colab": {
     "base_uri": "https://localhost:8080/"
    },
    "eval": false,
    "executionInfo": {
     "elapsed": 25732,
     "status": "ok",
     "timestamp": 1604393639107,
     "user": {
      "displayName": "alumnos bigdata",
      "photoUrl": "",
      "userId": "10710302360204190833"
     },
     "user_tz": -60
    },
    "id": "ir-dmCbfzOJe",
    "outputId": "3fbe85ef-fb78-4e9d-8264-ebc5c86d893c"
   },
   "outputs": [
    {
     "name": "stdout",
     "output_type": "stream",
     "text": [
      "www/mtcars2.csv  www/mtcars.csv  www/mtcars.pkl\n"
     ]
    }
   ],
   "source": [
    "mtcars.to_pickle(\"www/mtcars.pkl\")\n",
    "!dir www/mtcars*"
   ]
  },
  {
   "cell_type": "markdown",
   "metadata": {
    "id": "JiCFYTXjzOJw"
   },
   "source": [
    "To load a pickle file (remove it from the preserve), we use `pd.read_pickle()`:"
   ]
  },
  {
   "cell_type": "code",
   "execution_count": null,
   "metadata": {
    "colab": {
     "base_uri": "https://localhost:8080/"
    },
    "executionInfo": {
     "elapsed": 25722,
     "status": "ok",
     "timestamp": 1604393639112,
     "user": {
      "displayName": "alumnos bigdata",
      "photoUrl": "",
      "userId": "10710302360204190833"
     },
     "user_tz": -60
    },
    "id": "uMfxbRw2zOJ1",
    "outputId": "036fb9ae-a1e9-48fd-d49e-cea89801b629"
   },
   "outputs": [
    {
     "data": {
      "text/plain": [
       "(32, 11)"
      ]
     },
     "execution_count": 13,
     "metadata": {
      "tags": []
     },
     "output_type": "execute_result"
    }
   ],
   "source": [
    "mtcars_pkl = pd.read_pickle(\"www/mtcars.pkl\")\n",
    "mtcars_pkl.shape"
   ]
  },
  {
   "cell_type": "markdown",
   "metadata": {
    "id": "FKyo1m5KzOKE"
   },
   "source": [
    "### 8.3. Crossing between tables\n",
    "\n",
    "To define a crossover in pandas, it is very important to be aware of the presence of the row and column indexes of the source tables. In this sense, the crossing can be carried out by 3 different systems:\n",
    "\n",
    "- By indices.\n",
    "- By ordination.\n",
    "- By key fields.\n",
    "\n",
    "Let's look at the last two, since index matching is the default option for all functions to be displayed."
   ]
  },
  {
   "cell_type": "markdown",
   "metadata": {
    "id": "O_dLyCbJzOKG"
   },
   "source": [
    "#### 8.3.1. Crosses by Ordination Without Shared Index\n",
    "\n",
    "One way to cross two DataFrames is from the shared ordering, either of the rows or the columns."
   ]
  },
  {
   "cell_type": "markdown",
   "metadata": {
    "id": "dfaI0KpjzOKI"
   },
   "source": [
    "#### 8.3.2. Table Sorting\n",
    "\n",
    "To sort an array, we use the `.sort.values()` method:"
   ]
  },
  {
   "cell_type": "code",
   "execution_count": null,
   "metadata": {
    "colab": {
     "base_uri": "https://localhost:8080/"
    },
    "executionInfo": {
     "elapsed": 25709,
     "status": "ok",
     "timestamp": 1604393639115,
     "user": {
      "displayName": "alumnos bigdata",
      "photoUrl": "",
      "userId": "10710302360204190833"
     },
     "user_tz": -60
    },
    "id": "qZkc-4ZyzOKL",
    "outputId": "66245f68-5e85-4139-a790-bdc16f1f56af"
   },
   "outputs": [
    {
     "data": {
      "text/plain": [
       "name\n",
       "Yoda                     896.0\n",
       "Jabba Desilijic Tiure    600.0\n",
       "Chewbacca                200.0\n",
       "C-3PO                    112.0\n",
       "Dooku                    102.0\n",
       "Name: birth_year, dtype: float64"
      ]
     },
     "execution_count": 14,
     "metadata": {
      "tags": []
     },
     "output_type": "execute_result"
    }
   ],
   "source": [
    "a = people_df.birth_year.sort_values(ascending=False)\n",
    "a.head()"
   ]
  },
  {
   "cell_type": "markdown",
   "metadata": {
    "id": "srHYOhrSzOKf"
   },
   "source": [
    "- `ascending`: Logical field. By default it sorts in ascending order.\n",
    "\n",
    "In DataFrames, it's not much different, but now you have to indicate the sort field in the ` by ` parameter:"
   ]
  },
  {
   "cell_type": "code",
   "execution_count": null,
   "metadata": {
    "colab": {
     "base_uri": "https://localhost:8080/",
     "height": 238
    },
    "executionInfo": {
     "elapsed": 25694,
     "status": "ok",
     "timestamp": 1604393639118,
     "user": {
      "displayName": "alumnos bigdata",
      "photoUrl": "",
      "userId": "10710302360204190833"
     },
     "user_tz": -60
    },
    "id": "yQMkawI2zOKh",
    "outputId": "eca1b061-4a3d-4907-df95-af98c8db58cc"
   },
   "outputs": [
    {
     "data": {
      "text/html": [
       "<div>\n",
       "<style scoped>\n",
       "    .dataframe tbody tr th:only-of-type {\n",
       "        vertical-align: middle;\n",
       "    }\n",
       "\n",
       "    .dataframe tbody tr th {\n",
       "        vertical-align: top;\n",
       "    }\n",
       "\n",
       "    .dataframe thead th {\n",
       "        text-align: right;\n",
       "    }\n",
       "</style>\n",
       "<table border=\"1\" class=\"dataframe\">\n",
       "  <thead>\n",
       "    <tr style=\"text-align: right;\">\n",
       "      <th></th>\n",
       "      <th>height</th>\n",
       "      <th>mass</th>\n",
       "      <th>eye_color</th>\n",
       "      <th>birth_year</th>\n",
       "      <th>gender</th>\n",
       "      <th>homeworld</th>\n",
       "    </tr>\n",
       "    <tr>\n",
       "      <th>name</th>\n",
       "      <th></th>\n",
       "      <th></th>\n",
       "      <th></th>\n",
       "      <th></th>\n",
       "      <th></th>\n",
       "      <th></th>\n",
       "    </tr>\n",
       "  </thead>\n",
       "  <tbody>\n",
       "    <tr>\n",
       "      <th>Padmé Amidala</th>\n",
       "      <td>185.0</td>\n",
       "      <td>45.0</td>\n",
       "      <td>brown</td>\n",
       "      <td>46.0</td>\n",
       "      <td>female</td>\n",
       "      <td>http://swapi.dev/api/planets/8/</td>\n",
       "    </tr>\n",
       "    <tr>\n",
       "      <th>Ayla Secura</th>\n",
       "      <td>178.0</td>\n",
       "      <td>55.0</td>\n",
       "      <td>hazel</td>\n",
       "      <td>48.0</td>\n",
       "      <td>female</td>\n",
       "      <td>http://swapi.dev/api/planets/37/</td>\n",
       "    </tr>\n",
       "    <tr>\n",
       "      <th>Luminara Unduli</th>\n",
       "      <td>170.0</td>\n",
       "      <td>56.2</td>\n",
       "      <td>blue</td>\n",
       "      <td>58.0</td>\n",
       "      <td>female</td>\n",
       "      <td>http://swapi.dev/api/planets/51/</td>\n",
       "    </tr>\n",
       "    <tr>\n",
       "      <th>Barriss Offee</th>\n",
       "      <td>166.0</td>\n",
       "      <td>50.0</td>\n",
       "      <td>blue</td>\n",
       "      <td>40.0</td>\n",
       "      <td>female</td>\n",
       "      <td>http://swapi.dev/api/planets/51/</td>\n",
       "    </tr>\n",
       "    <tr>\n",
       "      <th>Beru Whitesun lars</th>\n",
       "      <td>165.0</td>\n",
       "      <td>75.0</td>\n",
       "      <td>blue</td>\n",
       "      <td>47.0</td>\n",
       "      <td>female</td>\n",
       "      <td>http://swapi.dev/api/planets/1/</td>\n",
       "    </tr>\n",
       "  </tbody>\n",
       "</table>\n",
       "</div>"
      ],
      "text/plain": [
       "                    height  mass  ...  gender                         homeworld\n",
       "name                              ...                                          \n",
       "Padmé Amidala        185.0  45.0  ...  female   http://swapi.dev/api/planets/8/\n",
       "Ayla Secura          178.0  55.0  ...  female  http://swapi.dev/api/planets/37/\n",
       "Luminara Unduli      170.0  56.2  ...  female  http://swapi.dev/api/planets/51/\n",
       "Barriss Offee        166.0  50.0  ...  female  http://swapi.dev/api/planets/51/\n",
       "Beru Whitesun lars   165.0  75.0  ...  female   http://swapi.dev/api/planets/1/\n",
       "\n",
       "[5 rows x 6 columns]"
      ]
     },
     "execution_count": 15,
     "metadata": {
      "tags": []
     },
     "output_type": "execute_result"
    }
   ],
   "source": [
    "people_df_Ord = people_df.sort_values(by=[\"gender\",\"height\"], ascending=[True, False])\n",
    "people_df_Ord.head()"
   ]
  },
  {
   "cell_type": "markdown",
   "metadata": {
    "id": "NytSxMPNzOKt"
   },
   "source": [
    "Notice how `ascending` allows you to choose a different sort for each sort field.\n",
    "\n",
    "In this way, we know that *Padmé Amidala*, at 185 cm, was the tallest woman in the series."
   ]
  },
  {
   "cell_type": "markdown",
   "metadata": {
    "id": "QJ--QLDGzOKv"
   },
   "source": [
    "#### 8.3.3. Union by Columns Without Shared Index\n",
    "\n",
    "To join the columns of two DataFrames that share sorting, use `pd.concat()`.\n",
    "\n",
    "To see an example, first we are going to prepare 2 example tables.\n",
    "\n",
    "For the first, we select the first four columns and reset the index with `.reset_index()`:"
   ]
  },
  {
   "cell_type": "code",
   "execution_count": null,
   "metadata": {
    "colab": {
     "base_uri": "https://localhost:8080/",
     "height": 206
    },
    "executionInfo": {
     "elapsed": 25673,
     "status": "ok",
     "timestamp": 1604393639121,
     "user": {
      "displayName": "alumnos bigdata",
      "photoUrl": "",
      "userId": "10710302360204190833"
     },
     "user_tz": -60
    },
    "id": "gT7W5mfWzOKx",
    "outputId": "0aab56ee-3bca-4766-bb10-b61ec903813a"
   },
   "outputs": [
    {
     "data": {
      "text/html": [
       "<div>\n",
       "<style scoped>\n",
       "    .dataframe tbody tr th:only-of-type {\n",
       "        vertical-align: middle;\n",
       "    }\n",
       "\n",
       "    .dataframe tbody tr th {\n",
       "        vertical-align: top;\n",
       "    }\n",
       "\n",
       "    .dataframe thead th {\n",
       "        text-align: right;\n",
       "    }\n",
       "</style>\n",
       "<table border=\"1\" class=\"dataframe\">\n",
       "  <thead>\n",
       "    <tr style=\"text-align: right;\">\n",
       "      <th></th>\n",
       "      <th>name</th>\n",
       "      <th>height</th>\n",
       "      <th>mass</th>\n",
       "      <th>eye_color</th>\n",
       "      <th>birth_year</th>\n",
       "    </tr>\n",
       "  </thead>\n",
       "  <tbody>\n",
       "    <tr>\n",
       "      <th>0</th>\n",
       "      <td>Luke Skywalker</td>\n",
       "      <td>172.0</td>\n",
       "      <td>77.0</td>\n",
       "      <td>blue</td>\n",
       "      <td>19.0</td>\n",
       "    </tr>\n",
       "    <tr>\n",
       "      <th>1</th>\n",
       "      <td>C-3PO</td>\n",
       "      <td>167.0</td>\n",
       "      <td>75.0</td>\n",
       "      <td>yellow</td>\n",
       "      <td>112.0</td>\n",
       "    </tr>\n",
       "    <tr>\n",
       "      <th>2</th>\n",
       "      <td>R2-D2</td>\n",
       "      <td>96.0</td>\n",
       "      <td>32.0</td>\n",
       "      <td>red</td>\n",
       "      <td>33.0</td>\n",
       "    </tr>\n",
       "    <tr>\n",
       "      <th>3</th>\n",
       "      <td>Darth Vader</td>\n",
       "      <td>202.0</td>\n",
       "      <td>136.0</td>\n",
       "      <td>yellow</td>\n",
       "      <td>41.9</td>\n",
       "    </tr>\n",
       "    <tr>\n",
       "      <th>4</th>\n",
       "      <td>Leia Organa</td>\n",
       "      <td>150.0</td>\n",
       "      <td>49.0</td>\n",
       "      <td>brown</td>\n",
       "      <td>19.0</td>\n",
       "    </tr>\n",
       "  </tbody>\n",
       "</table>\n",
       "</div>"
      ],
      "text/plain": [
       "             name  height   mass eye_color  birth_year\n",
       "0  Luke Skywalker   172.0   77.0      blue        19.0\n",
       "1           C-3PO   167.0   75.0    yellow       112.0\n",
       "2           R2-D2    96.0   32.0       red        33.0\n",
       "3     Darth Vader   202.0  136.0    yellow        41.9\n",
       "4     Leia Organa   150.0   49.0     brown        19.0"
      ]
     },
     "execution_count": 16,
     "metadata": {
      "tags": []
     },
     "output_type": "execute_result"
    }
   ],
   "source": [
    "people_df1 = people_df.iloc[:,:4].reset_index()\n",
    "people_df1.head()"
   ]
  },
  {
   "cell_type": "markdown",
   "metadata": {
    "id": "WxaD-mPOzOLC"
   },
   "source": [
    "> **Important**: when resetting the index with `.reset_index()`, this has become a new field **name** of the table.\n",
    "\n",
    "Now, the second table with the rest of the fields:"
   ]
  },
  {
   "cell_type": "code",
   "execution_count": null,
   "metadata": {
    "colab": {
     "base_uri": "https://localhost:8080/",
     "height": 238
    },
    "executionInfo": {
     "elapsed": 25656,
     "status": "ok",
     "timestamp": 1604393639125,
     "user": {
      "displayName": "alumnos bigdata",
      "photoUrl": "",
      "userId": "10710302360204190833"
     },
     "user_tz": -60
    },
    "id": "DWUbDXNNzOLE",
    "outputId": "51b17863-a304-4d19-d282-1e7460e4ffb4"
   },
   "outputs": [
    {
     "data": {
      "text/html": [
       "<div>\n",
       "<style scoped>\n",
       "    .dataframe tbody tr th:only-of-type {\n",
       "        vertical-align: middle;\n",
       "    }\n",
       "\n",
       "    .dataframe tbody tr th {\n",
       "        vertical-align: top;\n",
       "    }\n",
       "\n",
       "    .dataframe thead th {\n",
       "        text-align: right;\n",
       "    }\n",
       "</style>\n",
       "<table border=\"1\" class=\"dataframe\">\n",
       "  <thead>\n",
       "    <tr style=\"text-align: right;\">\n",
       "      <th></th>\n",
       "      <th>gender</th>\n",
       "      <th>homeworld</th>\n",
       "    </tr>\n",
       "    <tr>\n",
       "      <th>name</th>\n",
       "      <th></th>\n",
       "      <th></th>\n",
       "    </tr>\n",
       "  </thead>\n",
       "  <tbody>\n",
       "    <tr>\n",
       "      <th>Luke Skywalker</th>\n",
       "      <td>male</td>\n",
       "      <td>http://swapi.dev/api/planets/1/</td>\n",
       "    </tr>\n",
       "    <tr>\n",
       "      <th>C-3PO</th>\n",
       "      <td>none</td>\n",
       "      <td>http://swapi.dev/api/planets/1/</td>\n",
       "    </tr>\n",
       "    <tr>\n",
       "      <th>R2-D2</th>\n",
       "      <td>none</td>\n",
       "      <td>http://swapi.dev/api/planets/8/</td>\n",
       "    </tr>\n",
       "    <tr>\n",
       "      <th>Darth Vader</th>\n",
       "      <td>male</td>\n",
       "      <td>http://swapi.dev/api/planets/1/</td>\n",
       "    </tr>\n",
       "    <tr>\n",
       "      <th>Leia Organa</th>\n",
       "      <td>female</td>\n",
       "      <td>http://swapi.dev/api/planets/2/</td>\n",
       "    </tr>\n",
       "  </tbody>\n",
       "</table>\n",
       "</div>"
      ],
      "text/plain": [
       "                gender                        homeworld\n",
       "name                                                   \n",
       "Luke Skywalker    male  http://swapi.dev/api/planets/1/\n",
       "C-3PO             none  http://swapi.dev/api/planets/1/\n",
       "R2-D2             none  http://swapi.dev/api/planets/8/\n",
       "Darth Vader       male  http://swapi.dev/api/planets/1/\n",
       "Leia Organa     female  http://swapi.dev/api/planets/2/"
      ]
     },
     "execution_count": 17,
     "metadata": {
      "tags": []
     },
     "output_type": "execute_result"
    }
   ],
   "source": [
    "people_df2 = people_df.iloc[:,4:]\n",
    "people_df2.head()"
   ]
  },
  {
   "cell_type": "markdown",
   "metadata": {
    "id": "mcHJ1Oq6zOLP"
   },
   "source": [
    "The two tables `people_df1` and `people_df2` share a sort, but not the same index. To perform the crossover `ignore_index=True` prevents the function from using the indices:"
   ]
  },
  {
   "cell_type": "code",
   "execution_count": null,
   "metadata": {
    "colab": {
     "base_uri": "https://localhost:8080/",
     "height": 206
    },
    "executionInfo": {
     "elapsed": 25644,
     "status": "ok",
     "timestamp": 1604393639130,
     "user": {
      "displayName": "alumnos bigdata",
      "photoUrl": "",
      "userId": "10710302360204190833"
     },
     "user_tz": -60
    },
    "id": "sNqHKknVzOLW",
    "outputId": "6ec5db38-cded-4e7a-e7fd-5be657301e87"
   },
   "outputs": [
    {
     "data": {
      "text/html": [
       "<div>\n",
       "<style scoped>\n",
       "    .dataframe tbody tr th:only-of-type {\n",
       "        vertical-align: middle;\n",
       "    }\n",
       "\n",
       "    .dataframe tbody tr th {\n",
       "        vertical-align: top;\n",
       "    }\n",
       "\n",
       "    .dataframe thead th {\n",
       "        text-align: right;\n",
       "    }\n",
       "</style>\n",
       "<table border=\"1\" class=\"dataframe\">\n",
       "  <thead>\n",
       "    <tr style=\"text-align: right;\">\n",
       "      <th></th>\n",
       "      <th>name</th>\n",
       "      <th>height</th>\n",
       "      <th>mass</th>\n",
       "      <th>eye_color</th>\n",
       "      <th>birth_year</th>\n",
       "      <th>gender</th>\n",
       "      <th>homeworld</th>\n",
       "    </tr>\n",
       "  </thead>\n",
       "  <tbody>\n",
       "    <tr>\n",
       "      <th>0</th>\n",
       "      <td>Luke Skywalker</td>\n",
       "      <td>172.0</td>\n",
       "      <td>77.0</td>\n",
       "      <td>blue</td>\n",
       "      <td>19.0</td>\n",
       "      <td>NaN</td>\n",
       "      <td>NaN</td>\n",
       "    </tr>\n",
       "    <tr>\n",
       "      <th>1</th>\n",
       "      <td>C-3PO</td>\n",
       "      <td>167.0</td>\n",
       "      <td>75.0</td>\n",
       "      <td>yellow</td>\n",
       "      <td>112.0</td>\n",
       "      <td>NaN</td>\n",
       "      <td>NaN</td>\n",
       "    </tr>\n",
       "    <tr>\n",
       "      <th>2</th>\n",
       "      <td>R2-D2</td>\n",
       "      <td>96.0</td>\n",
       "      <td>32.0</td>\n",
       "      <td>red</td>\n",
       "      <td>33.0</td>\n",
       "      <td>NaN</td>\n",
       "      <td>NaN</td>\n",
       "    </tr>\n",
       "    <tr>\n",
       "      <th>3</th>\n",
       "      <td>Darth Vader</td>\n",
       "      <td>202.0</td>\n",
       "      <td>136.0</td>\n",
       "      <td>yellow</td>\n",
       "      <td>41.9</td>\n",
       "      <td>NaN</td>\n",
       "      <td>NaN</td>\n",
       "    </tr>\n",
       "    <tr>\n",
       "      <th>4</th>\n",
       "      <td>Leia Organa</td>\n",
       "      <td>150.0</td>\n",
       "      <td>49.0</td>\n",
       "      <td>brown</td>\n",
       "      <td>19.0</td>\n",
       "      <td>NaN</td>\n",
       "      <td>NaN</td>\n",
       "    </tr>\n",
       "  </tbody>\n",
       "</table>\n",
       "</div>"
      ],
      "text/plain": [
       "             name  height   mass eye_color  birth_year gender homeworld\n",
       "0  Luke Skywalker   172.0   77.0      blue        19.0    NaN       NaN\n",
       "1           C-3PO   167.0   75.0    yellow       112.0    NaN       NaN\n",
       "2           R2-D2    96.0   32.0       red        33.0    NaN       NaN\n",
       "3     Darth Vader   202.0  136.0    yellow        41.9    NaN       NaN\n",
       "4     Leia Organa   150.0   49.0     brown        19.0    NaN       NaN"
      ]
     },
     "execution_count": 18,
     "metadata": {
      "tags": []
     },
     "output_type": "execute_result"
    }
   ],
   "source": [
    "a = pd.concat([people_df1, people_df2], ignore_index=True)\n",
    "a.head()"
   ]
  },
  {
   "cell_type": "markdown",
   "metadata": {
    "id": "nzp2o2xNzOLk"
   },
   "source": [
    "#### 8.3.4. Union by rows\n",
    "\n",
    "To join two DataFrames with the same column ordering, we can use pd.concat, although it is more direct with the `.append()` method:"
   ]
  },
  {
   "cell_type": "code",
   "execution_count": null,
   "metadata": {
    "colab": {
     "base_uri": "https://localhost:8080/",
     "height": 459
    },
    "executionInfo": {
     "elapsed": 25632,
     "status": "ok",
     "timestamp": 1604393639135,
     "user": {
      "displayName": "alumnos bigdata",
      "photoUrl": "",
      "userId": "10710302360204190833"
     },
     "user_tz": -60
    },
    "id": "P6goaQjWzOLn",
    "outputId": "09686c15-4170-43b4-c3a6-33aa33f6848d"
   },
   "outputs": [
    {
     "data": {
      "text/html": [
       "<div>\n",
       "<style scoped>\n",
       "    .dataframe tbody tr th:only-of-type {\n",
       "        vertical-align: middle;\n",
       "    }\n",
       "\n",
       "    .dataframe tbody tr th {\n",
       "        vertical-align: top;\n",
       "    }\n",
       "\n",
       "    .dataframe thead th {\n",
       "        text-align: right;\n",
       "    }\n",
       "</style>\n",
       "<table border=\"1\" class=\"dataframe\">\n",
       "  <thead>\n",
       "    <tr style=\"text-align: right;\">\n",
       "      <th></th>\n",
       "      <th>height</th>\n",
       "      <th>mass</th>\n",
       "    </tr>\n",
       "    <tr>\n",
       "      <th>name</th>\n",
       "      <th></th>\n",
       "      <th></th>\n",
       "    </tr>\n",
       "  </thead>\n",
       "  <tbody>\n",
       "    <tr>\n",
       "      <th>Luke Skywalker</th>\n",
       "      <td>172.0</td>\n",
       "      <td>77.0</td>\n",
       "    </tr>\n",
       "    <tr>\n",
       "      <th>C-3PO</th>\n",
       "      <td>167.0</td>\n",
       "      <td>75.0</td>\n",
       "    </tr>\n",
       "  </tbody>\n",
       "</table>\n",
       "</div>"
      ],
      "text/plain": [
       "                height  mass\n",
       "name                        \n",
       "Luke Skywalker   172.0  77.0\n",
       "C-3PO            167.0  75.0"
      ]
     },
     "metadata": {
      "tags": []
     },
     "output_type": "display_data"
    },
    {
     "data": {
      "text/html": [
       "<div>\n",
       "<style scoped>\n",
       "    .dataframe tbody tr th:only-of-type {\n",
       "        vertical-align: middle;\n",
       "    }\n",
       "\n",
       "    .dataframe tbody tr th {\n",
       "        vertical-align: top;\n",
       "    }\n",
       "\n",
       "    .dataframe thead th {\n",
       "        text-align: right;\n",
       "    }\n",
       "</style>\n",
       "<table border=\"1\" class=\"dataframe\">\n",
       "  <thead>\n",
       "    <tr style=\"text-align: right;\">\n",
       "      <th></th>\n",
       "      <th>height</th>\n",
       "      <th>mass</th>\n",
       "    </tr>\n",
       "    <tr>\n",
       "      <th>name</th>\n",
       "      <th></th>\n",
       "      <th></th>\n",
       "    </tr>\n",
       "  </thead>\n",
       "  <tbody>\n",
       "    <tr>\n",
       "      <th>Darth Vader</th>\n",
       "      <td>202.0</td>\n",
       "      <td>136.0</td>\n",
       "    </tr>\n",
       "    <tr>\n",
       "      <th>Leia Organa</th>\n",
       "      <td>150.0</td>\n",
       "      <td>49.0</td>\n",
       "    </tr>\n",
       "  </tbody>\n",
       "</table>\n",
       "</div>"
      ],
      "text/plain": [
       "             height   mass\n",
       "name                      \n",
       "Darth Vader   202.0  136.0\n",
       "Leia Organa   150.0   49.0"
      ]
     },
     "metadata": {
      "tags": []
     },
     "output_type": "display_data"
    },
    {
     "data": {
      "text/html": [
       "<div>\n",
       "<style scoped>\n",
       "    .dataframe tbody tr th:only-of-type {\n",
       "        vertical-align: middle;\n",
       "    }\n",
       "\n",
       "    .dataframe tbody tr th {\n",
       "        vertical-align: top;\n",
       "    }\n",
       "\n",
       "    .dataframe thead th {\n",
       "        text-align: right;\n",
       "    }\n",
       "</style>\n",
       "<table border=\"1\" class=\"dataframe\">\n",
       "  <thead>\n",
       "    <tr style=\"text-align: right;\">\n",
       "      <th></th>\n",
       "      <th>height</th>\n",
       "      <th>mass</th>\n",
       "    </tr>\n",
       "    <tr>\n",
       "      <th>name</th>\n",
       "      <th></th>\n",
       "      <th></th>\n",
       "    </tr>\n",
       "  </thead>\n",
       "  <tbody>\n",
       "    <tr>\n",
       "      <th>Luke Skywalker</th>\n",
       "      <td>172.0</td>\n",
       "      <td>77.0</td>\n",
       "    </tr>\n",
       "    <tr>\n",
       "      <th>C-3PO</th>\n",
       "      <td>167.0</td>\n",
       "      <td>75.0</td>\n",
       "    </tr>\n",
       "    <tr>\n",
       "      <th>Darth Vader</th>\n",
       "      <td>202.0</td>\n",
       "      <td>136.0</td>\n",
       "    </tr>\n",
       "    <tr>\n",
       "      <th>Leia Organa</th>\n",
       "      <td>150.0</td>\n",
       "      <td>49.0</td>\n",
       "    </tr>\n",
       "  </tbody>\n",
       "</table>\n",
       "</div>"
      ],
      "text/plain": [
       "                height   mass\n",
       "name                         \n",
       "Luke Skywalker   172.0   77.0\n",
       "C-3PO            167.0   75.0\n",
       "Darth Vader      202.0  136.0\n",
       "Leia Organa      150.0   49.0"
      ]
     },
     "metadata": {
      "tags": []
     },
     "output_type": "display_data"
    }
   ],
   "source": [
    "a1 = people_df.iloc[0:2,:2]\n",
    "a2 = people_df.iloc[3:5,:2]\n",
    "a = a1.append(a2)\n",
    "display(a1,a2,a)"
   ]
  },
  {
   "cell_type": "markdown",
   "metadata": {
    "eval": false,
    "id": "8UEtuovxzOLy"
   },
   "source": [
    "> **Important**: In case you don't share the same column names, you can still use the following parameter: `ignore_index=True`."
   ]
  },
  {
   "cell_type": "markdown",
   "metadata": {
    "id": "vqtIszTVzOL0"
   },
   "source": [
    "#### 8.3.5. Key Field Crossing\n",
    "\n",
    "Before performing a key field match, it is important to know if it has duplicate values.\n",
    "\n",
    "##### KEY VECTOR\n",
    "\n",
    "To get the unique keys of a String or DataFrame, use `.unique()`:"
   ]
  },
  {
   "cell_type": "code",
   "execution_count": null,
   "metadata": {
    "colab": {
     "base_uri": "https://localhost:8080/"
    },
    "executionInfo": {
     "elapsed": 25619,
     "status": "ok",
     "timestamp": 1604393639139,
     "user": {
      "displayName": "alumnos bigdata",
      "photoUrl": "",
      "userId": "10710302360204190833"
     },
     "user_tz": -60
    },
    "id": "Gk2564mVzOL4",
    "outputId": "c67134b2-1120-431b-e036-c84f27bcb849"
   },
   "outputs": [
    {
     "data": {
      "text/plain": [
       "array(['http://swapi.dev/api/planets/1/',\n",
       "       'http://swapi.dev/api/planets/8/',\n",
       "       'http://swapi.dev/api/planets/2/',\n",
       "       'http://swapi.dev/api/planets/20/',\n",
       "       'http://swapi.dev/api/planets/14/',\n",
       "       'http://swapi.dev/api/planets/22/',\n",
       "       'http://swapi.dev/api/planets/23/',\n",
       "       'http://swapi.dev/api/planets/24/',\n",
       "       'http://swapi.dev/api/planets/28/',\n",
       "       'http://swapi.dev/api/planets/10/',\n",
       "       'http://swapi.dev/api/planets/29/',\n",
       "       'http://swapi.dev/api/planets/30/',\n",
       "       'http://swapi.dev/api/planets/6/',\n",
       "       'http://swapi.dev/api/planets/31/',\n",
       "       'http://swapi.dev/api/planets/7/',\n",
       "       'http://swapi.dev/api/planets/36/',\n",
       "       'http://swapi.dev/api/planets/37/',\n",
       "       'http://swapi.dev/api/planets/42/',\n",
       "       'http://swapi.dev/api/planets/43/',\n",
       "       'http://swapi.dev/api/planets/49/',\n",
       "       'http://swapi.dev/api/planets/51/',\n",
       "       'http://swapi.dev/api/planets/52/',\n",
       "       'http://swapi.dev/api/planets/53/'], dtype=object)"
      ]
     },
     "execution_count": 20,
     "metadata": {
      "tags": []
     },
     "output_type": "execute_result"
    }
   ],
   "source": [
    "a = people_df.homeworld.unique()\n",
    "a"
   ]
  },
  {
   "cell_type": "markdown",
   "metadata": {
    "id": "tkTjg7IRzOMF"
   },
   "source": [
    "To find out which rows in a DataFrame are duplicates, use `.duplicated()`:"
   ]
  },
  {
   "cell_type": "code",
   "execution_count": null,
   "metadata": {
    "colab": {
     "base_uri": "https://localhost:8080/"
    },
    "executionInfo": {
     "elapsed": 25608,
     "status": "ok",
     "timestamp": 1604393639142,
     "user": {
      "displayName": "alumnos bigdata",
      "photoUrl": "",
      "userId": "10710302360204190833"
     },
     "user_tz": -60
    },
    "id": "35r3S7MRzOMI",
    "outputId": "de2dcc9d-46f3-4884-ad56-8bbf3cf7bb04"
   },
   "outputs": [
    {
     "data": {
      "text/plain": [
       "name\n",
       "C-3PO                 False\n",
       "C-3PO                  True\n",
       "R2-D2                 False\n",
       "Darth Vader           False\n",
       "Darth Vader            True\n",
       "Leia Organa           False\n",
       "Owen Lars             False\n",
       "Owen Lars              True\n",
       "Beru Whitesun lars    False\n",
       "dtype: bool"
      ]
     },
     "execution_count": 21,
     "metadata": {
      "tags": []
     },
     "output_type": "execute_result"
    }
   ],
   "source": [
    "people_df_dup = people_df.iloc[[1,1,2,3,3,4,5,5,6],:]\n",
    "people_df_dup.duplicated()"
   ]
  },
  {
   "cell_type": "markdown",
   "metadata": {
    "id": "tVtQRyOEzOMZ"
   },
   "source": [
    "> **Note**: The `.duplicated()` function marks the first copy as `False` and the second copy as `True`.\n",
    "\n",
    "To remove duplicates, `.drop_duplicates()` is used.\n",
    "\n",
    "With `keep=False` all rows with duplicates are removed:"
   ]
  },
  {
   "cell_type": "code",
   "execution_count": null,
   "metadata": {
    "colab": {
     "base_uri": "https://localhost:8080/",
     "height": 175
    },
    "executionInfo": {
     "elapsed": 25594,
     "status": "ok",
     "timestamp": 1604393639144,
     "user": {
      "displayName": "alumnos bigdata",
      "photoUrl": "",
      "userId": "10710302360204190833"
     },
     "user_tz": -60
    },
    "id": "5Zw0rfQEzOMd",
    "outputId": "201c2fa2-a859-4a65-979e-19c6d43c304a"
   },
   "outputs": [
    {
     "data": {
      "text/html": [
       "<div>\n",
       "<style scoped>\n",
       "    .dataframe tbody tr th:only-of-type {\n",
       "        vertical-align: middle;\n",
       "    }\n",
       "\n",
       "    .dataframe tbody tr th {\n",
       "        vertical-align: top;\n",
       "    }\n",
       "\n",
       "    .dataframe thead th {\n",
       "        text-align: right;\n",
       "    }\n",
       "</style>\n",
       "<table border=\"1\" class=\"dataframe\">\n",
       "  <thead>\n",
       "    <tr style=\"text-align: right;\">\n",
       "      <th></th>\n",
       "      <th>height</th>\n",
       "      <th>mass</th>\n",
       "      <th>eye_color</th>\n",
       "      <th>birth_year</th>\n",
       "      <th>gender</th>\n",
       "      <th>homeworld</th>\n",
       "    </tr>\n",
       "    <tr>\n",
       "      <th>name</th>\n",
       "      <th></th>\n",
       "      <th></th>\n",
       "      <th></th>\n",
       "      <th></th>\n",
       "      <th></th>\n",
       "      <th></th>\n",
       "    </tr>\n",
       "  </thead>\n",
       "  <tbody>\n",
       "    <tr>\n",
       "      <th>R2-D2</th>\n",
       "      <td>96.0</td>\n",
       "      <td>32.0</td>\n",
       "      <td>red</td>\n",
       "      <td>33.0</td>\n",
       "      <td>none</td>\n",
       "      <td>http://swapi.dev/api/planets/8/</td>\n",
       "    </tr>\n",
       "    <tr>\n",
       "      <th>Leia Organa</th>\n",
       "      <td>150.0</td>\n",
       "      <td>49.0</td>\n",
       "      <td>brown</td>\n",
       "      <td>19.0</td>\n",
       "      <td>female</td>\n",
       "      <td>http://swapi.dev/api/planets/2/</td>\n",
       "    </tr>\n",
       "    <tr>\n",
       "      <th>Beru Whitesun lars</th>\n",
       "      <td>165.0</td>\n",
       "      <td>75.0</td>\n",
       "      <td>blue</td>\n",
       "      <td>47.0</td>\n",
       "      <td>female</td>\n",
       "      <td>http://swapi.dev/api/planets/1/</td>\n",
       "    </tr>\n",
       "  </tbody>\n",
       "</table>\n",
       "</div>"
      ],
      "text/plain": [
       "                    height  mass  ...  gender                        homeworld\n",
       "name                              ...                                         \n",
       "R2-D2                 96.0  32.0  ...    none  http://swapi.dev/api/planets/8/\n",
       "Leia Organa          150.0  49.0  ...  female  http://swapi.dev/api/planets/2/\n",
       "Beru Whitesun lars   165.0  75.0  ...  female  http://swapi.dev/api/planets/1/\n",
       "\n",
       "[3 rows x 6 columns]"
      ]
     },
     "execution_count": 22,
     "metadata": {
      "tags": []
     },
     "output_type": "execute_result"
    }
   ],
   "source": [
    "people_df_dup.drop_duplicates(keep=False)"
   ]
  },
  {
   "cell_type": "markdown",
   "metadata": {
    "id": "fK-34ZbJzOMr"
   },
   "source": [
    "##### 8.3.5.1. Fusion with Keys\n",
    "\n",
    "To cross 2 tables with keys, use `pd.merge()`."
   ]
  },
  {
   "cell_type": "markdown",
   "metadata": {
    "id": "Qzlw_lvwzOMt"
   },
   "source": [
    "##### 8.3.5.2. Inner Join\n",
    "\n",
    "Recall that inner join consists of building a table that has matching keys in the tables.\n",
    "\n",
    "To see an example, we are going to select, on the one hand, planets with a bad climate, that is, that is not temperate or tropical:"
   ]
  },
  {
   "cell_type": "code",
   "execution_count": null,
   "metadata": {
    "colab": {
     "base_uri": "https://localhost:8080/",
     "height": 457
    },
    "executionInfo": {
     "elapsed": 25584,
     "status": "ok",
     "timestamp": 1604393639147,
     "user": {
      "displayName": "alumnos bigdata",
      "photoUrl": "",
      "userId": "10710302360204190833"
     },
     "user_tz": -60
    },
    "id": "mTQSVBbJzOMx",
    "outputId": "e4e93849-5c01-4f5e-cf75-f020bb5ce7a4"
   },
   "outputs": [
    {
     "data": {
      "text/html": [
       "<div>\n",
       "<style scoped>\n",
       "    .dataframe tbody tr th:only-of-type {\n",
       "        vertical-align: middle;\n",
       "    }\n",
       "\n",
       "    .dataframe tbody tr th {\n",
       "        vertical-align: top;\n",
       "    }\n",
       "\n",
       "    .dataframe thead th {\n",
       "        text-align: right;\n",
       "    }\n",
       "</style>\n",
       "<table border=\"1\" class=\"dataframe\">\n",
       "  <thead>\n",
       "    <tr style=\"text-align: right;\">\n",
       "      <th></th>\n",
       "      <th>climate</th>\n",
       "      <th>temperate_tropical</th>\n",
       "      <th>population</th>\n",
       "      <th>url</th>\n",
       "    </tr>\n",
       "    <tr>\n",
       "      <th>name</th>\n",
       "      <th></th>\n",
       "      <th></th>\n",
       "      <th></th>\n",
       "      <th></th>\n",
       "    </tr>\n",
       "  </thead>\n",
       "  <tbody>\n",
       "    <tr>\n",
       "      <th>Tatooine</th>\n",
       "      <td>arid</td>\n",
       "      <td>0</td>\n",
       "      <td>2.000000e+05</td>\n",
       "      <td>http://swapi.dev/api/planets/1/</td>\n",
       "    </tr>\n",
       "    <tr>\n",
       "      <th>Mustafar</th>\n",
       "      <td>hot</td>\n",
       "      <td>0</td>\n",
       "      <td>2.000000e+04</td>\n",
       "      <td>http://swapi.dev/api/planets/13/</td>\n",
       "    </tr>\n",
       "    <tr>\n",
       "      <th>Mygeeto</th>\n",
       "      <td>frigid</td>\n",
       "      <td>0</td>\n",
       "      <td>1.900000e+07</td>\n",
       "      <td>http://swapi.dev/api/planets/16/</td>\n",
       "    </tr>\n",
       "    <tr>\n",
       "      <th>Felucia</th>\n",
       "      <td>hot, humid</td>\n",
       "      <td>0</td>\n",
       "      <td>8.500000e+06</td>\n",
       "      <td>http://swapi.dev/api/planets/17/</td>\n",
       "    </tr>\n",
       "    <tr>\n",
       "      <th>Saleucami</th>\n",
       "      <td>hot</td>\n",
       "      <td>0</td>\n",
       "      <td>1.400000e+09</td>\n",
       "      <td>http://swapi.dev/api/planets/19/</td>\n",
       "    </tr>\n",
       "    <tr>\n",
       "      <th>Eriadu</th>\n",
       "      <td>polluted</td>\n",
       "      <td>0</td>\n",
       "      <td>2.200000e+10</td>\n",
       "      <td>http://swapi.dev/api/planets/21/</td>\n",
       "    </tr>\n",
       "    <tr>\n",
       "      <th>Rodia</th>\n",
       "      <td>hot</td>\n",
       "      <td>0</td>\n",
       "      <td>1.300000e+09</td>\n",
       "      <td>http://swapi.dev/api/planets/23/</td>\n",
       "    </tr>\n",
       "    <tr>\n",
       "      <th>Trandosha</th>\n",
       "      <td>arid</td>\n",
       "      <td>0</td>\n",
       "      <td>4.200000e+07</td>\n",
       "      <td>http://swapi.dev/api/planets/29/</td>\n",
       "    </tr>\n",
       "    <tr>\n",
       "      <th>Socorro</th>\n",
       "      <td>arid</td>\n",
       "      <td>0</td>\n",
       "      <td>3.000000e+08</td>\n",
       "      <td>http://swapi.dev/api/planets/30/</td>\n",
       "    </tr>\n",
       "    <tr>\n",
       "      <th>Sullust</th>\n",
       "      <td>superheated</td>\n",
       "      <td>0</td>\n",
       "      <td>1.850000e+10</td>\n",
       "      <td>http://swapi.dev/api/planets/33/</td>\n",
       "    </tr>\n",
       "    <tr>\n",
       "      <th>Tund</th>\n",
       "      <td>unknown</td>\n",
       "      <td>0</td>\n",
       "      <td>0.000000e+00</td>\n",
       "      <td>http://swapi.dev/api/planets/41/</td>\n",
       "    </tr>\n",
       "    <tr>\n",
       "      <th>Ojom</th>\n",
       "      <td>frigid</td>\n",
       "      <td>0</td>\n",
       "      <td>5.000000e+08</td>\n",
       "      <td>http://swapi.dev/api/planets/55/</td>\n",
       "    </tr>\n",
       "  </tbody>\n",
       "</table>\n",
       "</div>"
      ],
      "text/plain": [
       "               climate  ...                               url\n",
       "name                    ...                                  \n",
       "Tatooine          arid  ...   http://swapi.dev/api/planets/1/\n",
       "Mustafar           hot  ...  http://swapi.dev/api/planets/13/\n",
       "Mygeeto         frigid  ...  http://swapi.dev/api/planets/16/\n",
       "Felucia     hot, humid  ...  http://swapi.dev/api/planets/17/\n",
       "Saleucami          hot  ...  http://swapi.dev/api/planets/19/\n",
       "Eriadu        polluted  ...  http://swapi.dev/api/planets/21/\n",
       "Rodia              hot  ...  http://swapi.dev/api/planets/23/\n",
       "Trandosha         arid  ...  http://swapi.dev/api/planets/29/\n",
       "Socorro           arid  ...  http://swapi.dev/api/planets/30/\n",
       "Sullust    superheated  ...  http://swapi.dev/api/planets/33/\n",
       "Tund           unknown  ...  http://swapi.dev/api/planets/41/\n",
       "Ojom            frigid  ...  http://swapi.dev/api/planets/55/\n",
       "\n",
       "[12 rows x 4 columns]"
      ]
     },
     "execution_count": 23,
     "metadata": {
      "tags": []
     },
     "output_type": "execute_result"
    }
   ],
   "source": [
    "planets_clima_df = planets_df[planets_df.temperate_tropical==0]\n",
    "planets_clima_df"
   ]
  },
  {
   "cell_type": "markdown",
   "metadata": {
    "id": "Hf-A47YOzOM-"
   },
   "source": [
    "On the other hand, we select characters with blue eye color:"
   ]
  },
  {
   "cell_type": "code",
   "execution_count": null,
   "metadata": {
    "colab": {
     "base_uri": "https://localhost:8080/",
     "height": 363
    },
    "executionInfo": {
     "elapsed": 25572,
     "status": "ok",
     "timestamp": 1604393639150,
     "user": {
      "displayName": "alumnos bigdata",
      "photoUrl": "",
      "userId": "10710302360204190833"
     },
     "user_tz": -60
    },
    "id": "R2i1X6nezONA",
    "outputId": "9f8c2ef7-f7e9-4ced-8e87-7c47d91efc32"
   },
   "outputs": [
    {
     "data": {
      "text/html": [
       "<div>\n",
       "<style scoped>\n",
       "    .dataframe tbody tr th:only-of-type {\n",
       "        vertical-align: middle;\n",
       "    }\n",
       "\n",
       "    .dataframe tbody tr th {\n",
       "        vertical-align: top;\n",
       "    }\n",
       "\n",
       "    .dataframe thead th {\n",
       "        text-align: right;\n",
       "    }\n",
       "</style>\n",
       "<table border=\"1\" class=\"dataframe\">\n",
       "  <thead>\n",
       "    <tr style=\"text-align: right;\">\n",
       "      <th></th>\n",
       "      <th>height</th>\n",
       "      <th>mass</th>\n",
       "      <th>eye_color</th>\n",
       "      <th>birth_year</th>\n",
       "      <th>gender</th>\n",
       "      <th>homeworld</th>\n",
       "    </tr>\n",
       "    <tr>\n",
       "      <th>name</th>\n",
       "      <th></th>\n",
       "      <th></th>\n",
       "      <th></th>\n",
       "      <th></th>\n",
       "      <th></th>\n",
       "      <th></th>\n",
       "    </tr>\n",
       "  </thead>\n",
       "  <tbody>\n",
       "    <tr>\n",
       "      <th>Luke Skywalker</th>\n",
       "      <td>172.0</td>\n",
       "      <td>77.0</td>\n",
       "      <td>blue</td>\n",
       "      <td>19.0</td>\n",
       "      <td>male</td>\n",
       "      <td>http://swapi.dev/api/planets/1/</td>\n",
       "    </tr>\n",
       "    <tr>\n",
       "      <th>Owen Lars</th>\n",
       "      <td>178.0</td>\n",
       "      <td>120.0</td>\n",
       "      <td>blue</td>\n",
       "      <td>52.0</td>\n",
       "      <td>male</td>\n",
       "      <td>http://swapi.dev/api/planets/1/</td>\n",
       "    </tr>\n",
       "    <tr>\n",
       "      <th>Beru Whitesun lars</th>\n",
       "      <td>165.0</td>\n",
       "      <td>75.0</td>\n",
       "      <td>blue</td>\n",
       "      <td>47.0</td>\n",
       "      <td>female</td>\n",
       "      <td>http://swapi.dev/api/planets/1/</td>\n",
       "    </tr>\n",
       "    <tr>\n",
       "      <th>Anakin Skywalker</th>\n",
       "      <td>188.0</td>\n",
       "      <td>84.0</td>\n",
       "      <td>blue</td>\n",
       "      <td>41.9</td>\n",
       "      <td>male</td>\n",
       "      <td>http://swapi.dev/api/planets/1/</td>\n",
       "    </tr>\n",
       "    <tr>\n",
       "      <th>Chewbacca</th>\n",
       "      <td>228.0</td>\n",
       "      <td>112.0</td>\n",
       "      <td>blue</td>\n",
       "      <td>200.0</td>\n",
       "      <td>male</td>\n",
       "      <td>http://swapi.dev/api/planets/14/</td>\n",
       "    </tr>\n",
       "    <tr>\n",
       "      <th>Lobot</th>\n",
       "      <td>175.0</td>\n",
       "      <td>79.0</td>\n",
       "      <td>blue</td>\n",
       "      <td>37.0</td>\n",
       "      <td>male</td>\n",
       "      <td>http://swapi.dev/api/planets/6/</td>\n",
       "    </tr>\n",
       "    <tr>\n",
       "      <th>Qui-Gon Jinn</th>\n",
       "      <td>193.0</td>\n",
       "      <td>89.0</td>\n",
       "      <td>blue</td>\n",
       "      <td>92.0</td>\n",
       "      <td>male</td>\n",
       "      <td>http://swapi.dev/api/planets/28/</td>\n",
       "    </tr>\n",
       "    <tr>\n",
       "      <th>Luminara Unduli</th>\n",
       "      <td>170.0</td>\n",
       "      <td>56.2</td>\n",
       "      <td>blue</td>\n",
       "      <td>58.0</td>\n",
       "      <td>female</td>\n",
       "      <td>http://swapi.dev/api/planets/51/</td>\n",
       "    </tr>\n",
       "    <tr>\n",
       "      <th>Barriss Offee</th>\n",
       "      <td>166.0</td>\n",
       "      <td>50.0</td>\n",
       "      <td>blue</td>\n",
       "      <td>40.0</td>\n",
       "      <td>female</td>\n",
       "      <td>http://swapi.dev/api/planets/51/</td>\n",
       "    </tr>\n",
       "  </tbody>\n",
       "</table>\n",
       "</div>"
      ],
      "text/plain": [
       "                    height   mass  ...  gender                         homeworld\n",
       "name                               ...                                          \n",
       "Luke Skywalker       172.0   77.0  ...    male   http://swapi.dev/api/planets/1/\n",
       "Owen Lars            178.0  120.0  ...    male   http://swapi.dev/api/planets/1/\n",
       "Beru Whitesun lars   165.0   75.0  ...  female   http://swapi.dev/api/planets/1/\n",
       "Anakin Skywalker     188.0   84.0  ...    male   http://swapi.dev/api/planets/1/\n",
       "Chewbacca            228.0  112.0  ...    male  http://swapi.dev/api/planets/14/\n",
       "Lobot                175.0   79.0  ...    male   http://swapi.dev/api/planets/6/\n",
       "Qui-Gon Jinn         193.0   89.0  ...    male  http://swapi.dev/api/planets/28/\n",
       "Luminara Unduli      170.0   56.2  ...  female  http://swapi.dev/api/planets/51/\n",
       "Barriss Offee        166.0   50.0  ...  female  http://swapi.dev/api/planets/51/\n",
       "\n",
       "[9 rows x 6 columns]"
      ]
     },
     "execution_count": 24,
     "metadata": {
      "tags": []
     },
     "output_type": "execute_result"
    }
   ],
   "source": [
    "people_eyes_df = people_df[people_df.eye_color==\"blue\"]\n",
    "people_eyes_df"
   ]
  },
  {
   "cell_type": "markdown",
   "metadata": {
    "id": "emRgfLpLzONM"
   },
   "source": [
    "The key match field for the match is `url` which is equivalent to the `homeworld` field of people_df:"
   ]
  },
  {
   "cell_type": "code",
   "execution_count": null,
   "metadata": {
    "colab": {
     "base_uri": "https://localhost:8080/",
     "height": 175
    },
    "executionInfo": {
     "elapsed": 25560,
     "status": "ok",
     "timestamp": 1604393639152,
     "user": {
      "displayName": "alumnos bigdata",
      "photoUrl": "",
      "userId": "10710302360204190833"
     },
     "user_tz": -60
    },
    "id": "xgyJxqGyzONO",
    "outputId": "b8e0bd36-29da-4268-ce7b-d1522077264d"
   },
   "outputs": [
    {
     "data": {
      "text/html": [
       "<div>\n",
       "<style scoped>\n",
       "    .dataframe tbody tr th:only-of-type {\n",
       "        vertical-align: middle;\n",
       "    }\n",
       "\n",
       "    .dataframe tbody tr th {\n",
       "        vertical-align: top;\n",
       "    }\n",
       "\n",
       "    .dataframe thead th {\n",
       "        text-align: right;\n",
       "    }\n",
       "</style>\n",
       "<table border=\"1\" class=\"dataframe\">\n",
       "  <thead>\n",
       "    <tr style=\"text-align: right;\">\n",
       "      <th></th>\n",
       "      <th>height</th>\n",
       "      <th>mass</th>\n",
       "      <th>eye_color</th>\n",
       "      <th>birth_year</th>\n",
       "      <th>gender</th>\n",
       "      <th>homeworld</th>\n",
       "      <th>climate</th>\n",
       "      <th>temperate_tropical</th>\n",
       "      <th>population</th>\n",
       "      <th>url</th>\n",
       "    </tr>\n",
       "  </thead>\n",
       "  <tbody>\n",
       "    <tr>\n",
       "      <th>0</th>\n",
       "      <td>172.0</td>\n",
       "      <td>77.0</td>\n",
       "      <td>blue</td>\n",
       "      <td>19.0</td>\n",
       "      <td>male</td>\n",
       "      <td>http://swapi.dev/api/planets/1/</td>\n",
       "      <td>arid</td>\n",
       "      <td>0</td>\n",
       "      <td>200000.0</td>\n",
       "      <td>http://swapi.dev/api/planets/1/</td>\n",
       "    </tr>\n",
       "    <tr>\n",
       "      <th>1</th>\n",
       "      <td>178.0</td>\n",
       "      <td>120.0</td>\n",
       "      <td>blue</td>\n",
       "      <td>52.0</td>\n",
       "      <td>male</td>\n",
       "      <td>http://swapi.dev/api/planets/1/</td>\n",
       "      <td>arid</td>\n",
       "      <td>0</td>\n",
       "      <td>200000.0</td>\n",
       "      <td>http://swapi.dev/api/planets/1/</td>\n",
       "    </tr>\n",
       "    <tr>\n",
       "      <th>2</th>\n",
       "      <td>165.0</td>\n",
       "      <td>75.0</td>\n",
       "      <td>blue</td>\n",
       "      <td>47.0</td>\n",
       "      <td>female</td>\n",
       "      <td>http://swapi.dev/api/planets/1/</td>\n",
       "      <td>arid</td>\n",
       "      <td>0</td>\n",
       "      <td>200000.0</td>\n",
       "      <td>http://swapi.dev/api/planets/1/</td>\n",
       "    </tr>\n",
       "    <tr>\n",
       "      <th>3</th>\n",
       "      <td>188.0</td>\n",
       "      <td>84.0</td>\n",
       "      <td>blue</td>\n",
       "      <td>41.9</td>\n",
       "      <td>male</td>\n",
       "      <td>http://swapi.dev/api/planets/1/</td>\n",
       "      <td>arid</td>\n",
       "      <td>0</td>\n",
       "      <td>200000.0</td>\n",
       "      <td>http://swapi.dev/api/planets/1/</td>\n",
       "    </tr>\n",
       "  </tbody>\n",
       "</table>\n",
       "</div>"
      ],
      "text/plain": [
       "   height   mass  ... population                              url\n",
       "0   172.0   77.0  ...   200000.0  http://swapi.dev/api/planets/1/\n",
       "1   178.0  120.0  ...   200000.0  http://swapi.dev/api/planets/1/\n",
       "2   165.0   75.0  ...   200000.0  http://swapi.dev/api/planets/1/\n",
       "3   188.0   84.0  ...   200000.0  http://swapi.dev/api/planets/1/\n",
       "\n",
       "[4 rows x 10 columns]"
      ]
     },
     "execution_count": 25,
     "metadata": {
      "tags": []
     },
     "output_type": "execute_result"
    }
   ],
   "source": [
    "a_inner = pd.merge(people_eyes_df, planets_clima_df, left_on=[\"homeworld\"], right_on=[\"url\"])\n",
    "a_inner.head()"
   ]
  },
  {
   "cell_type": "markdown",
   "metadata": {
    "eval": false,
    "id": "ruhPBPl_zONc"
   },
   "source": [
    "We see that there are four blue-eyed characters who were born on planets with bad weather. The problem is that, with the crossing, the names of both tables contained in the indexes have been lost. Let's rescue them, before the crossover, with the reset_index() function:"
   ]
  },
  {
   "cell_type": "code",
   "execution_count": null,
   "metadata": {
    "colab": {
     "base_uri": "https://localhost:8080/",
     "height": 175
    },
    "executionInfo": {
     "elapsed": 25793,
     "status": "ok",
     "timestamp": 1604393639401,
     "user": {
      "displayName": "alumnos bigdata",
      "photoUrl": "",
      "userId": "10710302360204190833"
     },
     "user_tz": -60
    },
    "id": "td_FBxnLzONe",
    "outputId": "16ac4897-e540-417b-d175-6890b0b2c0ad",
    "tags": [
     "remove_input",
     "remove_output"
    ],
    "warning": false
   },
   "outputs": [
    {
     "data": {
      "text/html": [
       "<div>\n",
       "<style scoped>\n",
       "    .dataframe tbody tr th:only-of-type {\n",
       "        vertical-align: middle;\n",
       "    }\n",
       "\n",
       "    .dataframe tbody tr th {\n",
       "        vertical-align: top;\n",
       "    }\n",
       "\n",
       "    .dataframe thead th {\n",
       "        text-align: right;\n",
       "    }\n",
       "</style>\n",
       "<table border=\"1\" class=\"dataframe\">\n",
       "  <thead>\n",
       "    <tr style=\"text-align: right;\">\n",
       "      <th></th>\n",
       "      <th>name_x</th>\n",
       "      <th>height</th>\n",
       "      <th>mass</th>\n",
       "      <th>eye_color</th>\n",
       "      <th>birth_year</th>\n",
       "      <th>gender</th>\n",
       "      <th>homeworld</th>\n",
       "      <th>name_y</th>\n",
       "      <th>climate</th>\n",
       "      <th>temperate_tropical</th>\n",
       "      <th>population</th>\n",
       "      <th>url</th>\n",
       "    </tr>\n",
       "  </thead>\n",
       "  <tbody>\n",
       "    <tr>\n",
       "      <th>0</th>\n",
       "      <td>Luke Skywalker</td>\n",
       "      <td>172.0</td>\n",
       "      <td>77.0</td>\n",
       "      <td>blue</td>\n",
       "      <td>19.0</td>\n",
       "      <td>male</td>\n",
       "      <td>http://swapi.dev/api/planets/1/</td>\n",
       "      <td>Tatooine</td>\n",
       "      <td>arid</td>\n",
       "      <td>0</td>\n",
       "      <td>200000.0</td>\n",
       "      <td>http://swapi.dev/api/planets/1/</td>\n",
       "    </tr>\n",
       "    <tr>\n",
       "      <th>1</th>\n",
       "      <td>Owen Lars</td>\n",
       "      <td>178.0</td>\n",
       "      <td>120.0</td>\n",
       "      <td>blue</td>\n",
       "      <td>52.0</td>\n",
       "      <td>male</td>\n",
       "      <td>http://swapi.dev/api/planets/1/</td>\n",
       "      <td>Tatooine</td>\n",
       "      <td>arid</td>\n",
       "      <td>0</td>\n",
       "      <td>200000.0</td>\n",
       "      <td>http://swapi.dev/api/planets/1/</td>\n",
       "    </tr>\n",
       "    <tr>\n",
       "      <th>2</th>\n",
       "      <td>Beru Whitesun lars</td>\n",
       "      <td>165.0</td>\n",
       "      <td>75.0</td>\n",
       "      <td>blue</td>\n",
       "      <td>47.0</td>\n",
       "      <td>female</td>\n",
       "      <td>http://swapi.dev/api/planets/1/</td>\n",
       "      <td>Tatooine</td>\n",
       "      <td>arid</td>\n",
       "      <td>0</td>\n",
       "      <td>200000.0</td>\n",
       "      <td>http://swapi.dev/api/planets/1/</td>\n",
       "    </tr>\n",
       "    <tr>\n",
       "      <th>3</th>\n",
       "      <td>Anakin Skywalker</td>\n",
       "      <td>188.0</td>\n",
       "      <td>84.0</td>\n",
       "      <td>blue</td>\n",
       "      <td>41.9</td>\n",
       "      <td>male</td>\n",
       "      <td>http://swapi.dev/api/planets/1/</td>\n",
       "      <td>Tatooine</td>\n",
       "      <td>arid</td>\n",
       "      <td>0</td>\n",
       "      <td>200000.0</td>\n",
       "      <td>http://swapi.dev/api/planets/1/</td>\n",
       "    </tr>\n",
       "  </tbody>\n",
       "</table>\n",
       "</div>"
      ],
      "text/plain": [
       "               name_x  height  ...  population                              url\n",
       "0      Luke Skywalker   172.0  ...    200000.0  http://swapi.dev/api/planets/1/\n",
       "1           Owen Lars   178.0  ...    200000.0  http://swapi.dev/api/planets/1/\n",
       "2  Beru Whitesun lars   165.0  ...    200000.0  http://swapi.dev/api/planets/1/\n",
       "3    Anakin Skywalker   188.0  ...    200000.0  http://swapi.dev/api/planets/1/\n",
       "\n",
       "[4 rows x 12 columns]"
      ]
     },
     "execution_count": 26,
     "metadata": {
      "tags": []
     },
     "output_type": "execute_result"
    }
   ],
   "source": [
    "people_eyes_df = people_eyes_df.reset_index()\n",
    "planets_clima_df = planets_clima_df.reset_index()\n",
    "\n",
    "a_inner = pd.merge(people_eyes_df, planets_clima_df, left_on=[\"homeworld\"], right_on=[\"url\"])\n",
    "a_inner.head()"
   ]
  },
  {
   "cell_type": "markdown",
   "metadata": {
    "id": "AmT95E3HzONm"
   },
   "source": [
    "> **Note**: the `name` field was duplicated in both tables without being a key field. `pd.merge()` has included both in the final table by adding the suffix `_x` for left table (people_df) and `_y` right table (planets_df).\n",
    "\n",
    "The crossing has been done, implicitly, with the `how=\"inner\"` option:"
   ]
  },
  {
   "cell_type": "markdown",
   "metadata": {
    "id": "iY86G6LSzONo"
   },
   "source": [
    "##### 8.3.5.3. Outer Join\n",
    "\n",
    "To keep **all the records from the original tables**, both from the left table and the right table, whether they match or not, use the `how = \"outer\"` parameter:"
   ]
  },
  {
   "cell_type": "code",
   "execution_count": null,
   "metadata": {
    "colab": {
     "base_uri": "https://localhost:8080/",
     "height": 677
    },
    "executionInfo": {
     "elapsed": 25781,
     "status": "ok",
     "timestamp": 1604393639406,
     "user": {
      "displayName": "alumnos bigdata",
      "photoUrl": "",
      "userId": "10710302360204190833"
     },
     "user_tz": -60
    },
    "id": "7oUmkblRzONq",
    "outputId": "6c2beaa1-8d67-400d-ca2a-f7ef96ff1856"
   },
   "outputs": [
    {
     "data": {
      "text/html": [
       "<div>\n",
       "<style scoped>\n",
       "    .dataframe tbody tr th:only-of-type {\n",
       "        vertical-align: middle;\n",
       "    }\n",
       "\n",
       "    .dataframe tbody tr th {\n",
       "        vertical-align: top;\n",
       "    }\n",
       "\n",
       "    .dataframe thead th {\n",
       "        text-align: right;\n",
       "    }\n",
       "</style>\n",
       "<table border=\"1\" class=\"dataframe\">\n",
       "  <thead>\n",
       "    <tr style=\"text-align: right;\">\n",
       "      <th></th>\n",
       "      <th>name_x</th>\n",
       "      <th>height</th>\n",
       "      <th>mass</th>\n",
       "      <th>eye_color</th>\n",
       "      <th>birth_year</th>\n",
       "      <th>gender</th>\n",
       "      <th>homeworld</th>\n",
       "      <th>name_y</th>\n",
       "      <th>climate</th>\n",
       "      <th>temperate_tropical</th>\n",
       "      <th>population</th>\n",
       "      <th>url</th>\n",
       "    </tr>\n",
       "  </thead>\n",
       "  <tbody>\n",
       "    <tr>\n",
       "      <th>0</th>\n",
       "      <td>Luke Skywalker</td>\n",
       "      <td>172.0</td>\n",
       "      <td>77.0</td>\n",
       "      <td>blue</td>\n",
       "      <td>19.0</td>\n",
       "      <td>male</td>\n",
       "      <td>http://swapi.dev/api/planets/1/</td>\n",
       "      <td>Tatooine</td>\n",
       "      <td>arid</td>\n",
       "      <td>0.0</td>\n",
       "      <td>2.000000e+05</td>\n",
       "      <td>http://swapi.dev/api/planets/1/</td>\n",
       "    </tr>\n",
       "    <tr>\n",
       "      <th>1</th>\n",
       "      <td>Owen Lars</td>\n",
       "      <td>178.0</td>\n",
       "      <td>120.0</td>\n",
       "      <td>blue</td>\n",
       "      <td>52.0</td>\n",
       "      <td>male</td>\n",
       "      <td>http://swapi.dev/api/planets/1/</td>\n",
       "      <td>Tatooine</td>\n",
       "      <td>arid</td>\n",
       "      <td>0.0</td>\n",
       "      <td>2.000000e+05</td>\n",
       "      <td>http://swapi.dev/api/planets/1/</td>\n",
       "    </tr>\n",
       "    <tr>\n",
       "      <th>2</th>\n",
       "      <td>Beru Whitesun lars</td>\n",
       "      <td>165.0</td>\n",
       "      <td>75.0</td>\n",
       "      <td>blue</td>\n",
       "      <td>47.0</td>\n",
       "      <td>female</td>\n",
       "      <td>http://swapi.dev/api/planets/1/</td>\n",
       "      <td>Tatooine</td>\n",
       "      <td>arid</td>\n",
       "      <td>0.0</td>\n",
       "      <td>2.000000e+05</td>\n",
       "      <td>http://swapi.dev/api/planets/1/</td>\n",
       "    </tr>\n",
       "    <tr>\n",
       "      <th>3</th>\n",
       "      <td>Anakin Skywalker</td>\n",
       "      <td>188.0</td>\n",
       "      <td>84.0</td>\n",
       "      <td>blue</td>\n",
       "      <td>41.9</td>\n",
       "      <td>male</td>\n",
       "      <td>http://swapi.dev/api/planets/1/</td>\n",
       "      <td>Tatooine</td>\n",
       "      <td>arid</td>\n",
       "      <td>0.0</td>\n",
       "      <td>2.000000e+05</td>\n",
       "      <td>http://swapi.dev/api/planets/1/</td>\n",
       "    </tr>\n",
       "    <tr>\n",
       "      <th>4</th>\n",
       "      <td>Chewbacca</td>\n",
       "      <td>228.0</td>\n",
       "      <td>112.0</td>\n",
       "      <td>blue</td>\n",
       "      <td>200.0</td>\n",
       "      <td>male</td>\n",
       "      <td>http://swapi.dev/api/planets/14/</td>\n",
       "      <td>NaN</td>\n",
       "      <td>NaN</td>\n",
       "      <td>NaN</td>\n",
       "      <td>NaN</td>\n",
       "      <td>NaN</td>\n",
       "    </tr>\n",
       "    <tr>\n",
       "      <th>5</th>\n",
       "      <td>Lobot</td>\n",
       "      <td>175.0</td>\n",
       "      <td>79.0</td>\n",
       "      <td>blue</td>\n",
       "      <td>37.0</td>\n",
       "      <td>male</td>\n",
       "      <td>http://swapi.dev/api/planets/6/</td>\n",
       "      <td>NaN</td>\n",
       "      <td>NaN</td>\n",
       "      <td>NaN</td>\n",
       "      <td>NaN</td>\n",
       "      <td>NaN</td>\n",
       "    </tr>\n",
       "    <tr>\n",
       "      <th>6</th>\n",
       "      <td>Qui-Gon Jinn</td>\n",
       "      <td>193.0</td>\n",
       "      <td>89.0</td>\n",
       "      <td>blue</td>\n",
       "      <td>92.0</td>\n",
       "      <td>male</td>\n",
       "      <td>http://swapi.dev/api/planets/28/</td>\n",
       "      <td>NaN</td>\n",
       "      <td>NaN</td>\n",
       "      <td>NaN</td>\n",
       "      <td>NaN</td>\n",
       "      <td>NaN</td>\n",
       "    </tr>\n",
       "    <tr>\n",
       "      <th>7</th>\n",
       "      <td>Luminara Unduli</td>\n",
       "      <td>170.0</td>\n",
       "      <td>56.2</td>\n",
       "      <td>blue</td>\n",
       "      <td>58.0</td>\n",
       "      <td>female</td>\n",
       "      <td>http://swapi.dev/api/planets/51/</td>\n",
       "      <td>NaN</td>\n",
       "      <td>NaN</td>\n",
       "      <td>NaN</td>\n",
       "      <td>NaN</td>\n",
       "      <td>NaN</td>\n",
       "    </tr>\n",
       "    <tr>\n",
       "      <th>8</th>\n",
       "      <td>Barriss Offee</td>\n",
       "      <td>166.0</td>\n",
       "      <td>50.0</td>\n",
       "      <td>blue</td>\n",
       "      <td>40.0</td>\n",
       "      <td>female</td>\n",
       "      <td>http://swapi.dev/api/planets/51/</td>\n",
       "      <td>NaN</td>\n",
       "      <td>NaN</td>\n",
       "      <td>NaN</td>\n",
       "      <td>NaN</td>\n",
       "      <td>NaN</td>\n",
       "    </tr>\n",
       "    <tr>\n",
       "      <th>9</th>\n",
       "      <td>NaN</td>\n",
       "      <td>NaN</td>\n",
       "      <td>NaN</td>\n",
       "      <td>NaN</td>\n",
       "      <td>NaN</td>\n",
       "      <td>NaN</td>\n",
       "      <td>NaN</td>\n",
       "      <td>Mustafar</td>\n",
       "      <td>hot</td>\n",
       "      <td>0.0</td>\n",
       "      <td>2.000000e+04</td>\n",
       "      <td>http://swapi.dev/api/planets/13/</td>\n",
       "    </tr>\n",
       "    <tr>\n",
       "      <th>10</th>\n",
       "      <td>NaN</td>\n",
       "      <td>NaN</td>\n",
       "      <td>NaN</td>\n",
       "      <td>NaN</td>\n",
       "      <td>NaN</td>\n",
       "      <td>NaN</td>\n",
       "      <td>NaN</td>\n",
       "      <td>Mygeeto</td>\n",
       "      <td>frigid</td>\n",
       "      <td>0.0</td>\n",
       "      <td>1.900000e+07</td>\n",
       "      <td>http://swapi.dev/api/planets/16/</td>\n",
       "    </tr>\n",
       "    <tr>\n",
       "      <th>11</th>\n",
       "      <td>NaN</td>\n",
       "      <td>NaN</td>\n",
       "      <td>NaN</td>\n",
       "      <td>NaN</td>\n",
       "      <td>NaN</td>\n",
       "      <td>NaN</td>\n",
       "      <td>NaN</td>\n",
       "      <td>Felucia</td>\n",
       "      <td>hot, humid</td>\n",
       "      <td>0.0</td>\n",
       "      <td>8.500000e+06</td>\n",
       "      <td>http://swapi.dev/api/planets/17/</td>\n",
       "    </tr>\n",
       "    <tr>\n",
       "      <th>12</th>\n",
       "      <td>NaN</td>\n",
       "      <td>NaN</td>\n",
       "      <td>NaN</td>\n",
       "      <td>NaN</td>\n",
       "      <td>NaN</td>\n",
       "      <td>NaN</td>\n",
       "      <td>NaN</td>\n",
       "      <td>Saleucami</td>\n",
       "      <td>hot</td>\n",
       "      <td>0.0</td>\n",
       "      <td>1.400000e+09</td>\n",
       "      <td>http://swapi.dev/api/planets/19/</td>\n",
       "    </tr>\n",
       "    <tr>\n",
       "      <th>13</th>\n",
       "      <td>NaN</td>\n",
       "      <td>NaN</td>\n",
       "      <td>NaN</td>\n",
       "      <td>NaN</td>\n",
       "      <td>NaN</td>\n",
       "      <td>NaN</td>\n",
       "      <td>NaN</td>\n",
       "      <td>Eriadu</td>\n",
       "      <td>polluted</td>\n",
       "      <td>0.0</td>\n",
       "      <td>2.200000e+10</td>\n",
       "      <td>http://swapi.dev/api/planets/21/</td>\n",
       "    </tr>\n",
       "    <tr>\n",
       "      <th>14</th>\n",
       "      <td>NaN</td>\n",
       "      <td>NaN</td>\n",
       "      <td>NaN</td>\n",
       "      <td>NaN</td>\n",
       "      <td>NaN</td>\n",
       "      <td>NaN</td>\n",
       "      <td>NaN</td>\n",
       "      <td>Rodia</td>\n",
       "      <td>hot</td>\n",
       "      <td>0.0</td>\n",
       "      <td>1.300000e+09</td>\n",
       "      <td>http://swapi.dev/api/planets/23/</td>\n",
       "    </tr>\n",
       "    <tr>\n",
       "      <th>15</th>\n",
       "      <td>NaN</td>\n",
       "      <td>NaN</td>\n",
       "      <td>NaN</td>\n",
       "      <td>NaN</td>\n",
       "      <td>NaN</td>\n",
       "      <td>NaN</td>\n",
       "      <td>NaN</td>\n",
       "      <td>Trandosha</td>\n",
       "      <td>arid</td>\n",
       "      <td>0.0</td>\n",
       "      <td>4.200000e+07</td>\n",
       "      <td>http://swapi.dev/api/planets/29/</td>\n",
       "    </tr>\n",
       "    <tr>\n",
       "      <th>16</th>\n",
       "      <td>NaN</td>\n",
       "      <td>NaN</td>\n",
       "      <td>NaN</td>\n",
       "      <td>NaN</td>\n",
       "      <td>NaN</td>\n",
       "      <td>NaN</td>\n",
       "      <td>NaN</td>\n",
       "      <td>Socorro</td>\n",
       "      <td>arid</td>\n",
       "      <td>0.0</td>\n",
       "      <td>3.000000e+08</td>\n",
       "      <td>http://swapi.dev/api/planets/30/</td>\n",
       "    </tr>\n",
       "    <tr>\n",
       "      <th>17</th>\n",
       "      <td>NaN</td>\n",
       "      <td>NaN</td>\n",
       "      <td>NaN</td>\n",
       "      <td>NaN</td>\n",
       "      <td>NaN</td>\n",
       "      <td>NaN</td>\n",
       "      <td>NaN</td>\n",
       "      <td>Sullust</td>\n",
       "      <td>superheated</td>\n",
       "      <td>0.0</td>\n",
       "      <td>1.850000e+10</td>\n",
       "      <td>http://swapi.dev/api/planets/33/</td>\n",
       "    </tr>\n",
       "    <tr>\n",
       "      <th>18</th>\n",
       "      <td>NaN</td>\n",
       "      <td>NaN</td>\n",
       "      <td>NaN</td>\n",
       "      <td>NaN</td>\n",
       "      <td>NaN</td>\n",
       "      <td>NaN</td>\n",
       "      <td>NaN</td>\n",
       "      <td>Tund</td>\n",
       "      <td>unknown</td>\n",
       "      <td>0.0</td>\n",
       "      <td>0.000000e+00</td>\n",
       "      <td>http://swapi.dev/api/planets/41/</td>\n",
       "    </tr>\n",
       "    <tr>\n",
       "      <th>19</th>\n",
       "      <td>NaN</td>\n",
       "      <td>NaN</td>\n",
       "      <td>NaN</td>\n",
       "      <td>NaN</td>\n",
       "      <td>NaN</td>\n",
       "      <td>NaN</td>\n",
       "      <td>NaN</td>\n",
       "      <td>Ojom</td>\n",
       "      <td>frigid</td>\n",
       "      <td>0.0</td>\n",
       "      <td>5.000000e+08</td>\n",
       "      <td>http://swapi.dev/api/planets/55/</td>\n",
       "    </tr>\n",
       "  </tbody>\n",
       "</table>\n",
       "</div>"
      ],
      "text/plain": [
       "                name_x  height  ...    population                               url\n",
       "0       Luke Skywalker   172.0  ...  2.000000e+05   http://swapi.dev/api/planets/1/\n",
       "1            Owen Lars   178.0  ...  2.000000e+05   http://swapi.dev/api/planets/1/\n",
       "2   Beru Whitesun lars   165.0  ...  2.000000e+05   http://swapi.dev/api/planets/1/\n",
       "3     Anakin Skywalker   188.0  ...  2.000000e+05   http://swapi.dev/api/planets/1/\n",
       "4            Chewbacca   228.0  ...           NaN                               NaN\n",
       "5                Lobot   175.0  ...           NaN                               NaN\n",
       "6         Qui-Gon Jinn   193.0  ...           NaN                               NaN\n",
       "7      Luminara Unduli   170.0  ...           NaN                               NaN\n",
       "8        Barriss Offee   166.0  ...           NaN                               NaN\n",
       "9                  NaN     NaN  ...  2.000000e+04  http://swapi.dev/api/planets/13/\n",
       "10                 NaN     NaN  ...  1.900000e+07  http://swapi.dev/api/planets/16/\n",
       "11                 NaN     NaN  ...  8.500000e+06  http://swapi.dev/api/planets/17/\n",
       "12                 NaN     NaN  ...  1.400000e+09  http://swapi.dev/api/planets/19/\n",
       "13                 NaN     NaN  ...  2.200000e+10  http://swapi.dev/api/planets/21/\n",
       "14                 NaN     NaN  ...  1.300000e+09  http://swapi.dev/api/planets/23/\n",
       "15                 NaN     NaN  ...  4.200000e+07  http://swapi.dev/api/planets/29/\n",
       "16                 NaN     NaN  ...  3.000000e+08  http://swapi.dev/api/planets/30/\n",
       "17                 NaN     NaN  ...  1.850000e+10  http://swapi.dev/api/planets/33/\n",
       "18                 NaN     NaN  ...  0.000000e+00  http://swapi.dev/api/planets/41/\n",
       "19                 NaN     NaN  ...  5.000000e+08  http://swapi.dev/api/planets/55/\n",
       "\n",
       "[20 rows x 12 columns]"
      ]
     },
     "execution_count": 27,
     "metadata": {
      "tags": []
     },
     "output_type": "execute_result"
    }
   ],
   "source": [
    "a_outer = pd.merge(people_eyes_df, planets_clima_df, how = \"outer\", left_on=[\"homeworld\"], right_on=[\"url\"])\n",
    "a_outer"
   ]
  },
  {
   "cell_type": "markdown",
   "metadata": {
    "id": "-CUnH-PyzON0"
   },
   "source": [
    "You notice that, now, you have not dropped any records from the source tables. In addition, you have padded with `NaN` the fields that do not match. This behavior in SQL is known as *FULL JOIN* or *OUTTER JOIN*.\n"
   ]
  },
  {
   "cell_type": "markdown",
   "metadata": {
    "id": "KKiuW75ABbL-"
   },
   "source": [
    "##### 8.3.5.4. Left Join\n",
    "\n",
    "To force it to keep **all source values from the left table** and drop those from the right table that are not shared, use `how=\"left\"`:"
   ]
  },
  {
   "cell_type": "code",
   "execution_count": null,
   "metadata": {
    "colab": {
     "base_uri": "https://localhost:8080/",
     "height": 332
    },
    "executionInfo": {
     "elapsed": 25719,
     "status": "ok",
     "timestamp": 1604393639408,
     "user": {
      "displayName": "alumnos bigdata",
      "photoUrl": "",
      "userId": "10710302360204190833"
     },
     "user_tz": -60
    },
    "id": "_3K9xv06zON1",
    "outputId": "64a424c4-f1aa-4ed3-da52-2e998d363528"
   },
   "outputs": [
    {
     "data": {
      "text/html": [
       "<div>\n",
       "<style scoped>\n",
       "    .dataframe tbody tr th:only-of-type {\n",
       "        vertical-align: middle;\n",
       "    }\n",
       "\n",
       "    .dataframe tbody tr th {\n",
       "        vertical-align: top;\n",
       "    }\n",
       "\n",
       "    .dataframe thead th {\n",
       "        text-align: right;\n",
       "    }\n",
       "</style>\n",
       "<table border=\"1\" class=\"dataframe\">\n",
       "  <thead>\n",
       "    <tr style=\"text-align: right;\">\n",
       "      <th></th>\n",
       "      <th>name_x</th>\n",
       "      <th>height</th>\n",
       "      <th>mass</th>\n",
       "      <th>eye_color</th>\n",
       "      <th>birth_year</th>\n",
       "      <th>gender</th>\n",
       "      <th>homeworld</th>\n",
       "      <th>name_y</th>\n",
       "      <th>climate</th>\n",
       "      <th>temperate_tropical</th>\n",
       "      <th>population</th>\n",
       "      <th>url</th>\n",
       "    </tr>\n",
       "  </thead>\n",
       "  <tbody>\n",
       "    <tr>\n",
       "      <th>0</th>\n",
       "      <td>Luke Skywalker</td>\n",
       "      <td>172.0</td>\n",
       "      <td>77.0</td>\n",
       "      <td>blue</td>\n",
       "      <td>19.0</td>\n",
       "      <td>male</td>\n",
       "      <td>http://swapi.dev/api/planets/1/</td>\n",
       "      <td>Tatooine</td>\n",
       "      <td>arid</td>\n",
       "      <td>0.0</td>\n",
       "      <td>200000.0</td>\n",
       "      <td>http://swapi.dev/api/planets/1/</td>\n",
       "    </tr>\n",
       "    <tr>\n",
       "      <th>1</th>\n",
       "      <td>Owen Lars</td>\n",
       "      <td>178.0</td>\n",
       "      <td>120.0</td>\n",
       "      <td>blue</td>\n",
       "      <td>52.0</td>\n",
       "      <td>male</td>\n",
       "      <td>http://swapi.dev/api/planets/1/</td>\n",
       "      <td>Tatooine</td>\n",
       "      <td>arid</td>\n",
       "      <td>0.0</td>\n",
       "      <td>200000.0</td>\n",
       "      <td>http://swapi.dev/api/planets/1/</td>\n",
       "    </tr>\n",
       "    <tr>\n",
       "      <th>2</th>\n",
       "      <td>Beru Whitesun lars</td>\n",
       "      <td>165.0</td>\n",
       "      <td>75.0</td>\n",
       "      <td>blue</td>\n",
       "      <td>47.0</td>\n",
       "      <td>female</td>\n",
       "      <td>http://swapi.dev/api/planets/1/</td>\n",
       "      <td>Tatooine</td>\n",
       "      <td>arid</td>\n",
       "      <td>0.0</td>\n",
       "      <td>200000.0</td>\n",
       "      <td>http://swapi.dev/api/planets/1/</td>\n",
       "    </tr>\n",
       "    <tr>\n",
       "      <th>3</th>\n",
       "      <td>Anakin Skywalker</td>\n",
       "      <td>188.0</td>\n",
       "      <td>84.0</td>\n",
       "      <td>blue</td>\n",
       "      <td>41.9</td>\n",
       "      <td>male</td>\n",
       "      <td>http://swapi.dev/api/planets/1/</td>\n",
       "      <td>Tatooine</td>\n",
       "      <td>arid</td>\n",
       "      <td>0.0</td>\n",
       "      <td>200000.0</td>\n",
       "      <td>http://swapi.dev/api/planets/1/</td>\n",
       "    </tr>\n",
       "    <tr>\n",
       "      <th>4</th>\n",
       "      <td>Chewbacca</td>\n",
       "      <td>228.0</td>\n",
       "      <td>112.0</td>\n",
       "      <td>blue</td>\n",
       "      <td>200.0</td>\n",
       "      <td>male</td>\n",
       "      <td>http://swapi.dev/api/planets/14/</td>\n",
       "      <td>NaN</td>\n",
       "      <td>NaN</td>\n",
       "      <td>NaN</td>\n",
       "      <td>NaN</td>\n",
       "      <td>NaN</td>\n",
       "    </tr>\n",
       "    <tr>\n",
       "      <th>5</th>\n",
       "      <td>Lobot</td>\n",
       "      <td>175.0</td>\n",
       "      <td>79.0</td>\n",
       "      <td>blue</td>\n",
       "      <td>37.0</td>\n",
       "      <td>male</td>\n",
       "      <td>http://swapi.dev/api/planets/6/</td>\n",
       "      <td>NaN</td>\n",
       "      <td>NaN</td>\n",
       "      <td>NaN</td>\n",
       "      <td>NaN</td>\n",
       "      <td>NaN</td>\n",
       "    </tr>\n",
       "    <tr>\n",
       "      <th>6</th>\n",
       "      <td>Qui-Gon Jinn</td>\n",
       "      <td>193.0</td>\n",
       "      <td>89.0</td>\n",
       "      <td>blue</td>\n",
       "      <td>92.0</td>\n",
       "      <td>male</td>\n",
       "      <td>http://swapi.dev/api/planets/28/</td>\n",
       "      <td>NaN</td>\n",
       "      <td>NaN</td>\n",
       "      <td>NaN</td>\n",
       "      <td>NaN</td>\n",
       "      <td>NaN</td>\n",
       "    </tr>\n",
       "    <tr>\n",
       "      <th>7</th>\n",
       "      <td>Luminara Unduli</td>\n",
       "      <td>170.0</td>\n",
       "      <td>56.2</td>\n",
       "      <td>blue</td>\n",
       "      <td>58.0</td>\n",
       "      <td>female</td>\n",
       "      <td>http://swapi.dev/api/planets/51/</td>\n",
       "      <td>NaN</td>\n",
       "      <td>NaN</td>\n",
       "      <td>NaN</td>\n",
       "      <td>NaN</td>\n",
       "      <td>NaN</td>\n",
       "    </tr>\n",
       "    <tr>\n",
       "      <th>8</th>\n",
       "      <td>Barriss Offee</td>\n",
       "      <td>166.0</td>\n",
       "      <td>50.0</td>\n",
       "      <td>blue</td>\n",
       "      <td>40.0</td>\n",
       "      <td>female</td>\n",
       "      <td>http://swapi.dev/api/planets/51/</td>\n",
       "      <td>NaN</td>\n",
       "      <td>NaN</td>\n",
       "      <td>NaN</td>\n",
       "      <td>NaN</td>\n",
       "      <td>NaN</td>\n",
       "    </tr>\n",
       "  </tbody>\n",
       "</table>\n",
       "</div>"
      ],
      "text/plain": [
       "               name_x  height  ...  population                              url\n",
       "0      Luke Skywalker   172.0  ...    200000.0  http://swapi.dev/api/planets/1/\n",
       "1           Owen Lars   178.0  ...    200000.0  http://swapi.dev/api/planets/1/\n",
       "2  Beru Whitesun lars   165.0  ...    200000.0  http://swapi.dev/api/planets/1/\n",
       "3    Anakin Skywalker   188.0  ...    200000.0  http://swapi.dev/api/planets/1/\n",
       "4           Chewbacca   228.0  ...         NaN                              NaN\n",
       "5               Lobot   175.0  ...         NaN                              NaN\n",
       "6        Qui-Gon Jinn   193.0  ...         NaN                              NaN\n",
       "7     Luminara Unduli   170.0  ...         NaN                              NaN\n",
       "8       Barriss Offee   166.0  ...         NaN                              NaN\n",
       "\n",
       "[9 rows x 12 columns]"
      ]
     },
     "execution_count": 28,
     "metadata": {
      "tags": []
     },
     "output_type": "execute_result"
    }
   ],
   "source": [
    "a_left = pd.merge(people_eyes_df, planets_clima_df, how=\"left\", left_on=[\"homeworld\"], right_on=[\"url\"])\n",
    "a_left"
   ]
  },
  {
   "cell_type": "markdown",
   "metadata": {
    "id": "1xYTlV9czON-"
   },
   "source": [
    "Now, he has retained all the characters."
   ]
  },
  {
   "cell_type": "markdown",
   "metadata": {
    "id": "-fg10B6IzOOA"
   },
   "source": [
    "##### 8.3.5.5. Right Join\n",
    "\n",
    "To preserve **all values from the right table**, use `how=\"right\"`:"
   ]
  },
  {
   "cell_type": "code",
   "execution_count": null,
   "metadata": {
    "colab": {
     "base_uri": "https://localhost:8080/",
     "height": 520
    },
    "executionInfo": {
     "elapsed": 25708,
     "status": "ok",
     "timestamp": 1604393639410,
     "user": {
      "displayName": "alumnos bigdata",
      "photoUrl": "",
      "userId": "10710302360204190833"
     },
     "user_tz": -60
    },
    "id": "VkJAuAHLzOOC",
    "outputId": "b1a58aa3-0f03-4677-85ce-04e5035e9dc7"
   },
   "outputs": [
    {
     "data": {
      "text/html": [
       "<div>\n",
       "<style scoped>\n",
       "    .dataframe tbody tr th:only-of-type {\n",
       "        vertical-align: middle;\n",
       "    }\n",
       "\n",
       "    .dataframe tbody tr th {\n",
       "        vertical-align: top;\n",
       "    }\n",
       "\n",
       "    .dataframe thead th {\n",
       "        text-align: right;\n",
       "    }\n",
       "</style>\n",
       "<table border=\"1\" class=\"dataframe\">\n",
       "  <thead>\n",
       "    <tr style=\"text-align: right;\">\n",
       "      <th></th>\n",
       "      <th>name_x</th>\n",
       "      <th>height</th>\n",
       "      <th>mass</th>\n",
       "      <th>eye_color</th>\n",
       "      <th>birth_year</th>\n",
       "      <th>gender</th>\n",
       "      <th>homeworld</th>\n",
       "      <th>name_y</th>\n",
       "      <th>climate</th>\n",
       "      <th>temperate_tropical</th>\n",
       "      <th>population</th>\n",
       "      <th>url</th>\n",
       "    </tr>\n",
       "  </thead>\n",
       "  <tbody>\n",
       "    <tr>\n",
       "      <th>0</th>\n",
       "      <td>Luke Skywalker</td>\n",
       "      <td>172.0</td>\n",
       "      <td>77.0</td>\n",
       "      <td>blue</td>\n",
       "      <td>19.0</td>\n",
       "      <td>male</td>\n",
       "      <td>http://swapi.dev/api/planets/1/</td>\n",
       "      <td>Tatooine</td>\n",
       "      <td>arid</td>\n",
       "      <td>0</td>\n",
       "      <td>2.000000e+05</td>\n",
       "      <td>http://swapi.dev/api/planets/1/</td>\n",
       "    </tr>\n",
       "    <tr>\n",
       "      <th>1</th>\n",
       "      <td>Owen Lars</td>\n",
       "      <td>178.0</td>\n",
       "      <td>120.0</td>\n",
       "      <td>blue</td>\n",
       "      <td>52.0</td>\n",
       "      <td>male</td>\n",
       "      <td>http://swapi.dev/api/planets/1/</td>\n",
       "      <td>Tatooine</td>\n",
       "      <td>arid</td>\n",
       "      <td>0</td>\n",
       "      <td>2.000000e+05</td>\n",
       "      <td>http://swapi.dev/api/planets/1/</td>\n",
       "    </tr>\n",
       "    <tr>\n",
       "      <th>2</th>\n",
       "      <td>Beru Whitesun lars</td>\n",
       "      <td>165.0</td>\n",
       "      <td>75.0</td>\n",
       "      <td>blue</td>\n",
       "      <td>47.0</td>\n",
       "      <td>female</td>\n",
       "      <td>http://swapi.dev/api/planets/1/</td>\n",
       "      <td>Tatooine</td>\n",
       "      <td>arid</td>\n",
       "      <td>0</td>\n",
       "      <td>2.000000e+05</td>\n",
       "      <td>http://swapi.dev/api/planets/1/</td>\n",
       "    </tr>\n",
       "    <tr>\n",
       "      <th>3</th>\n",
       "      <td>Anakin Skywalker</td>\n",
       "      <td>188.0</td>\n",
       "      <td>84.0</td>\n",
       "      <td>blue</td>\n",
       "      <td>41.9</td>\n",
       "      <td>male</td>\n",
       "      <td>http://swapi.dev/api/planets/1/</td>\n",
       "      <td>Tatooine</td>\n",
       "      <td>arid</td>\n",
       "      <td>0</td>\n",
       "      <td>2.000000e+05</td>\n",
       "      <td>http://swapi.dev/api/planets/1/</td>\n",
       "    </tr>\n",
       "    <tr>\n",
       "      <th>4</th>\n",
       "      <td>NaN</td>\n",
       "      <td>NaN</td>\n",
       "      <td>NaN</td>\n",
       "      <td>NaN</td>\n",
       "      <td>NaN</td>\n",
       "      <td>NaN</td>\n",
       "      <td>NaN</td>\n",
       "      <td>Mustafar</td>\n",
       "      <td>hot</td>\n",
       "      <td>0</td>\n",
       "      <td>2.000000e+04</td>\n",
       "      <td>http://swapi.dev/api/planets/13/</td>\n",
       "    </tr>\n",
       "    <tr>\n",
       "      <th>5</th>\n",
       "      <td>NaN</td>\n",
       "      <td>NaN</td>\n",
       "      <td>NaN</td>\n",
       "      <td>NaN</td>\n",
       "      <td>NaN</td>\n",
       "      <td>NaN</td>\n",
       "      <td>NaN</td>\n",
       "      <td>Mygeeto</td>\n",
       "      <td>frigid</td>\n",
       "      <td>0</td>\n",
       "      <td>1.900000e+07</td>\n",
       "      <td>http://swapi.dev/api/planets/16/</td>\n",
       "    </tr>\n",
       "    <tr>\n",
       "      <th>6</th>\n",
       "      <td>NaN</td>\n",
       "      <td>NaN</td>\n",
       "      <td>NaN</td>\n",
       "      <td>NaN</td>\n",
       "      <td>NaN</td>\n",
       "      <td>NaN</td>\n",
       "      <td>NaN</td>\n",
       "      <td>Felucia</td>\n",
       "      <td>hot, humid</td>\n",
       "      <td>0</td>\n",
       "      <td>8.500000e+06</td>\n",
       "      <td>http://swapi.dev/api/planets/17/</td>\n",
       "    </tr>\n",
       "    <tr>\n",
       "      <th>7</th>\n",
       "      <td>NaN</td>\n",
       "      <td>NaN</td>\n",
       "      <td>NaN</td>\n",
       "      <td>NaN</td>\n",
       "      <td>NaN</td>\n",
       "      <td>NaN</td>\n",
       "      <td>NaN</td>\n",
       "      <td>Saleucami</td>\n",
       "      <td>hot</td>\n",
       "      <td>0</td>\n",
       "      <td>1.400000e+09</td>\n",
       "      <td>http://swapi.dev/api/planets/19/</td>\n",
       "    </tr>\n",
       "    <tr>\n",
       "      <th>8</th>\n",
       "      <td>NaN</td>\n",
       "      <td>NaN</td>\n",
       "      <td>NaN</td>\n",
       "      <td>NaN</td>\n",
       "      <td>NaN</td>\n",
       "      <td>NaN</td>\n",
       "      <td>NaN</td>\n",
       "      <td>Eriadu</td>\n",
       "      <td>polluted</td>\n",
       "      <td>0</td>\n",
       "      <td>2.200000e+10</td>\n",
       "      <td>http://swapi.dev/api/planets/21/</td>\n",
       "    </tr>\n",
       "    <tr>\n",
       "      <th>9</th>\n",
       "      <td>NaN</td>\n",
       "      <td>NaN</td>\n",
       "      <td>NaN</td>\n",
       "      <td>NaN</td>\n",
       "      <td>NaN</td>\n",
       "      <td>NaN</td>\n",
       "      <td>NaN</td>\n",
       "      <td>Rodia</td>\n",
       "      <td>hot</td>\n",
       "      <td>0</td>\n",
       "      <td>1.300000e+09</td>\n",
       "      <td>http://swapi.dev/api/planets/23/</td>\n",
       "    </tr>\n",
       "    <tr>\n",
       "      <th>10</th>\n",
       "      <td>NaN</td>\n",
       "      <td>NaN</td>\n",
       "      <td>NaN</td>\n",
       "      <td>NaN</td>\n",
       "      <td>NaN</td>\n",
       "      <td>NaN</td>\n",
       "      <td>NaN</td>\n",
       "      <td>Trandosha</td>\n",
       "      <td>arid</td>\n",
       "      <td>0</td>\n",
       "      <td>4.200000e+07</td>\n",
       "      <td>http://swapi.dev/api/planets/29/</td>\n",
       "    </tr>\n",
       "    <tr>\n",
       "      <th>11</th>\n",
       "      <td>NaN</td>\n",
       "      <td>NaN</td>\n",
       "      <td>NaN</td>\n",
       "      <td>NaN</td>\n",
       "      <td>NaN</td>\n",
       "      <td>NaN</td>\n",
       "      <td>NaN</td>\n",
       "      <td>Socorro</td>\n",
       "      <td>arid</td>\n",
       "      <td>0</td>\n",
       "      <td>3.000000e+08</td>\n",
       "      <td>http://swapi.dev/api/planets/30/</td>\n",
       "    </tr>\n",
       "    <tr>\n",
       "      <th>12</th>\n",
       "      <td>NaN</td>\n",
       "      <td>NaN</td>\n",
       "      <td>NaN</td>\n",
       "      <td>NaN</td>\n",
       "      <td>NaN</td>\n",
       "      <td>NaN</td>\n",
       "      <td>NaN</td>\n",
       "      <td>Sullust</td>\n",
       "      <td>superheated</td>\n",
       "      <td>0</td>\n",
       "      <td>1.850000e+10</td>\n",
       "      <td>http://swapi.dev/api/planets/33/</td>\n",
       "    </tr>\n",
       "    <tr>\n",
       "      <th>13</th>\n",
       "      <td>NaN</td>\n",
       "      <td>NaN</td>\n",
       "      <td>NaN</td>\n",
       "      <td>NaN</td>\n",
       "      <td>NaN</td>\n",
       "      <td>NaN</td>\n",
       "      <td>NaN</td>\n",
       "      <td>Tund</td>\n",
       "      <td>unknown</td>\n",
       "      <td>0</td>\n",
       "      <td>0.000000e+00</td>\n",
       "      <td>http://swapi.dev/api/planets/41/</td>\n",
       "    </tr>\n",
       "    <tr>\n",
       "      <th>14</th>\n",
       "      <td>NaN</td>\n",
       "      <td>NaN</td>\n",
       "      <td>NaN</td>\n",
       "      <td>NaN</td>\n",
       "      <td>NaN</td>\n",
       "      <td>NaN</td>\n",
       "      <td>NaN</td>\n",
       "      <td>Ojom</td>\n",
       "      <td>frigid</td>\n",
       "      <td>0</td>\n",
       "      <td>5.000000e+08</td>\n",
       "      <td>http://swapi.dev/api/planets/55/</td>\n",
       "    </tr>\n",
       "  </tbody>\n",
       "</table>\n",
       "</div>"
      ],
      "text/plain": [
       "                name_x  height  ...    population                               url\n",
       "0       Luke Skywalker   172.0  ...  2.000000e+05   http://swapi.dev/api/planets/1/\n",
       "1            Owen Lars   178.0  ...  2.000000e+05   http://swapi.dev/api/planets/1/\n",
       "2   Beru Whitesun lars   165.0  ...  2.000000e+05   http://swapi.dev/api/planets/1/\n",
       "3     Anakin Skywalker   188.0  ...  2.000000e+05   http://swapi.dev/api/planets/1/\n",
       "4                  NaN     NaN  ...  2.000000e+04  http://swapi.dev/api/planets/13/\n",
       "5                  NaN     NaN  ...  1.900000e+07  http://swapi.dev/api/planets/16/\n",
       "6                  NaN     NaN  ...  8.500000e+06  http://swapi.dev/api/planets/17/\n",
       "7                  NaN     NaN  ...  1.400000e+09  http://swapi.dev/api/planets/19/\n",
       "8                  NaN     NaN  ...  2.200000e+10  http://swapi.dev/api/planets/21/\n",
       "9                  NaN     NaN  ...  1.300000e+09  http://swapi.dev/api/planets/23/\n",
       "10                 NaN     NaN  ...  4.200000e+07  http://swapi.dev/api/planets/29/\n",
       "11                 NaN     NaN  ...  3.000000e+08  http://swapi.dev/api/planets/30/\n",
       "12                 NaN     NaN  ...  1.850000e+10  http://swapi.dev/api/planets/33/\n",
       "13                 NaN     NaN  ...  0.000000e+00  http://swapi.dev/api/planets/41/\n",
       "14                 NaN     NaN  ...  5.000000e+08  http://swapi.dev/api/planets/55/\n",
       "\n",
       "[15 rows x 12 columns]"
      ]
     },
     "execution_count": 29,
     "metadata": {
      "tags": []
     },
     "output_type": "execute_result"
    }
   ],
   "source": [
    "a_right = pd.merge(people_eyes_df, planets_clima_df, how=\"right\", left_on=[\"homeworld\"], right_on=[\"url\"])\n",
    "a_right"
   ]
  },
  {
   "cell_type": "markdown",
   "metadata": {
    "id": "4QO10oDmzOOQ"
   },
   "source": [
    "Now, it has preserved all the planets with bad weather."
   ]
  },
  {
   "cell_type": "markdown",
   "metadata": {
    "id": "7h-6c6p4zOOX"
   },
   "source": [
    "##### 8.3.5.6. Definition of the Keys\n",
    "\n",
    "When the keys are common fields, it is not necessary to define the `left_on` and `right_on` fields.\n",
    "\n",
    "On the other hand, if one of the key fields is contained in the DataFrame index, the `left_index=True` or `right_index=True` parameter or both can be used."
   ]
  },
  {
   "cell_type": "markdown",
   "metadata": {
    "id": "YZ8EUDhBzOOZ"
   },
   "source": [
    "### 8.4. Aggregate Summaries\n",
    "\n",
    "The numpy and pandas libraries implement an extensive collection of digest functions."
   ]
  },
  {
   "cell_type": "markdown",
   "metadata": {
    "id": "G06KsW3WzOOa"
   },
   "source": [
    "#### 8.4.1. describe\n",
    "\n",
    "To get a first impression of the statistics of a DataFrame, use `.describe()`.\n",
    "\n",
    "Before we add to people_df some new columns of different types and, in addition, some missings:"
   ]
  },
  {
   "cell_type": "code",
   "execution_count": null,
   "metadata": {
    "colab": {
     "base_uri": "https://localhost:8080/",
     "height": 238
    },
    "executionInfo": {
     "elapsed": 697,
     "status": "ok",
     "timestamp": 1604393646855,
     "user": {
      "displayName": "alumnos bigdata",
      "photoUrl": "",
      "userId": "10710302360204190833"
     },
     "user_tz": -60
    },
    "id": "WmvFkwRHzOOf",
    "outputId": "657b9c66-4241-4b03-cf68-bce55cc94bba"
   },
   "outputs": [
    {
     "data": {
      "text/html": [
       "<div>\n",
       "<style scoped>\n",
       "    .dataframe tbody tr th:only-of-type {\n",
       "        vertical-align: middle;\n",
       "    }\n",
       "\n",
       "    .dataframe tbody tr th {\n",
       "        vertical-align: top;\n",
       "    }\n",
       "\n",
       "    .dataframe thead th {\n",
       "        text-align: right;\n",
       "    }\n",
       "</style>\n",
       "<table border=\"1\" class=\"dataframe\">\n",
       "  <thead>\n",
       "    <tr style=\"text-align: right;\">\n",
       "      <th></th>\n",
       "      <th>height</th>\n",
       "      <th>mass</th>\n",
       "      <th>eye_color</th>\n",
       "      <th>birth_year</th>\n",
       "      <th>gender</th>\n",
       "      <th>homeworld</th>\n",
       "      <th>Alto</th>\n",
       "      <th>Fecha_hoy</th>\n",
       "    </tr>\n",
       "    <tr>\n",
       "      <th>name</th>\n",
       "      <th></th>\n",
       "      <th></th>\n",
       "      <th></th>\n",
       "      <th></th>\n",
       "      <th></th>\n",
       "      <th></th>\n",
       "      <th></th>\n",
       "      <th></th>\n",
       "    </tr>\n",
       "  </thead>\n",
       "  <tbody>\n",
       "    <tr>\n",
       "      <th>Luke Skywalker</th>\n",
       "      <td>NaN</td>\n",
       "      <td>77.0</td>\n",
       "      <td>NaN</td>\n",
       "      <td>19.0</td>\n",
       "      <td>male</td>\n",
       "      <td>http://swapi.dev/api/planets/1/</td>\n",
       "      <td>False</td>\n",
       "      <td>2020-09-06</td>\n",
       "    </tr>\n",
       "    <tr>\n",
       "      <th>C-3PO</th>\n",
       "      <td>167.0</td>\n",
       "      <td>75.0</td>\n",
       "      <td>yellow</td>\n",
       "      <td>112.0</td>\n",
       "      <td>none</td>\n",
       "      <td>http://swapi.dev/api/planets/1/</td>\n",
       "      <td>False</td>\n",
       "      <td>2020-09-06</td>\n",
       "    </tr>\n",
       "    <tr>\n",
       "      <th>R2-D2</th>\n",
       "      <td>NaN</td>\n",
       "      <td>32.0</td>\n",
       "      <td>NaN</td>\n",
       "      <td>33.0</td>\n",
       "      <td>none</td>\n",
       "      <td>http://swapi.dev/api/planets/8/</td>\n",
       "      <td>False</td>\n",
       "      <td>2020-09-06</td>\n",
       "    </tr>\n",
       "    <tr>\n",
       "      <th>Darth Vader</th>\n",
       "      <td>202.0</td>\n",
       "      <td>136.0</td>\n",
       "      <td>yellow</td>\n",
       "      <td>41.9</td>\n",
       "      <td>male</td>\n",
       "      <td>http://swapi.dev/api/planets/1/</td>\n",
       "      <td>True</td>\n",
       "      <td>2020-09-06</td>\n",
       "    </tr>\n",
       "    <tr>\n",
       "      <th>Leia Organa</th>\n",
       "      <td>NaN</td>\n",
       "      <td>49.0</td>\n",
       "      <td>NaN</td>\n",
       "      <td>19.0</td>\n",
       "      <td>female</td>\n",
       "      <td>http://swapi.dev/api/planets/2/</td>\n",
       "      <td>False</td>\n",
       "      <td>2020-09-06</td>\n",
       "    </tr>\n",
       "  </tbody>\n",
       "</table>\n",
       "</div>"
      ],
      "text/plain": [
       "                height   mass  ...   Alto  Fecha_hoy\n",
       "name                           ...                  \n",
       "Luke Skywalker     NaN   77.0  ...  False 2020-09-06\n",
       "C-3PO            167.0   75.0  ...  False 2020-09-06\n",
       "R2-D2              NaN   32.0  ...  False 2020-09-06\n",
       "Darth Vader      202.0  136.0  ...   True 2020-09-06\n",
       "Leia Organa        NaN   49.0  ...  False 2020-09-06\n",
       "\n",
       "[5 rows x 8 columns]"
      ]
     },
     "execution_count": 30,
     "metadata": {
      "tags": []
     },
     "output_type": "execute_result"
    }
   ],
   "source": [
    "people_dfSumm = people_df.copy()\n",
    "\n",
    "people_dfSumm.loc[people_dfSumm.index[[0,2,4,8,20]],'height'] = np.nan\n",
    "people_dfSumm.loc[people_dfSumm.index[[0,2,4,8,20]],'eye_color'] = np.nan\n",
    "people_dfSumm[\"Alto\"] = people_dfSumm.height>188\n",
    "people_dfSumm[\"Fecha_hoy\"] = np.datetime64('2020-09-06')\n",
    "\n",
    "people_dfSumm.head()"
   ]
  },
  {
   "cell_type": "code",
   "execution_count": null,
   "metadata": {
    "colab": {
     "base_uri": "https://localhost:8080/",
     "height": 300
    },
    "executionInfo": {
     "elapsed": 671,
     "status": "ok",
     "timestamp": 1604393646864,
     "user": {
      "displayName": "alumnos bigdata",
      "photoUrl": "",
      "userId": "10710302360204190833"
     },
     "user_tz": -60
    },
    "id": "LTfqHwAHzOOt",
    "outputId": "f2da7007-9a1a-4b28-dcae-827a3383ae37"
   },
   "outputs": [
    {
     "data": {
      "text/html": [
       "<div>\n",
       "<style scoped>\n",
       "    .dataframe tbody tr th:only-of-type {\n",
       "        vertical-align: middle;\n",
       "    }\n",
       "\n",
       "    .dataframe tbody tr th {\n",
       "        vertical-align: top;\n",
       "    }\n",
       "\n",
       "    .dataframe thead th {\n",
       "        text-align: right;\n",
       "    }\n",
       "</style>\n",
       "<table border=\"1\" class=\"dataframe\">\n",
       "  <thead>\n",
       "    <tr style=\"text-align: right;\">\n",
       "      <th></th>\n",
       "      <th>height</th>\n",
       "      <th>mass</th>\n",
       "      <th>birth_year</th>\n",
       "    </tr>\n",
       "  </thead>\n",
       "  <tbody>\n",
       "    <tr>\n",
       "      <th>count</th>\n",
       "      <td>36.000000</td>\n",
       "      <td>36.000000</td>\n",
       "      <td>36.000000</td>\n",
       "    </tr>\n",
       "    <tr>\n",
       "      <th>mean</th>\n",
       "      <td>173.638889</td>\n",
       "      <td>112.233333</td>\n",
       "      <td>91.091667</td>\n",
       "    </tr>\n",
       "    <tr>\n",
       "      <th>std</th>\n",
       "      <td>30.941560</td>\n",
       "      <td>215.205026</td>\n",
       "      <td>169.124347</td>\n",
       "    </tr>\n",
       "    <tr>\n",
       "      <th>min</th>\n",
       "      <td>66.000000</td>\n",
       "      <td>17.000000</td>\n",
       "      <td>8.000000</td>\n",
       "    </tr>\n",
       "    <tr>\n",
       "      <th>25%</th>\n",
       "      <td>170.000000</td>\n",
       "      <td>72.000000</td>\n",
       "      <td>31.375000</td>\n",
       "    </tr>\n",
       "    <tr>\n",
       "      <th>50%</th>\n",
       "      <td>179.000000</td>\n",
       "      <td>79.000000</td>\n",
       "      <td>46.500000</td>\n",
       "    </tr>\n",
       "    <tr>\n",
       "      <th>75%</th>\n",
       "      <td>188.000000</td>\n",
       "      <td>84.000000</td>\n",
       "      <td>67.500000</td>\n",
       "    </tr>\n",
       "    <tr>\n",
       "      <th>max</th>\n",
       "      <td>228.000000</td>\n",
       "      <td>1358.000000</td>\n",
       "      <td>896.000000</td>\n",
       "    </tr>\n",
       "  </tbody>\n",
       "</table>\n",
       "</div>"
      ],
      "text/plain": [
       "           height         mass  birth_year\n",
       "count   36.000000    36.000000   36.000000\n",
       "mean   173.638889   112.233333   91.091667\n",
       "std     30.941560   215.205026  169.124347\n",
       "min     66.000000    17.000000    8.000000\n",
       "25%    170.000000    72.000000   31.375000\n",
       "50%    179.000000    79.000000   46.500000\n",
       "75%    188.000000    84.000000   67.500000\n",
       "max    228.000000  1358.000000  896.000000"
      ]
     },
     "execution_count": 31,
     "metadata": {
      "tags": []
     },
     "output_type": "execute_result"
    }
   ],
   "source": [
    "people_df.describe()"
   ]
  },
  {
   "cell_type": "markdown",
   "metadata": {
    "id": "SQxmGmU_zOO3"
   },
   "source": [
    "By default, it calculates the following basic statistics on numeric columns:\n",
    "\n",
    "- `count`: number of reported values (other than NaN).\n",
    "- `mean`: mean.\n",
    "- `str`: standard deviation.\n",
    "- `min`: minimum.\n",
    "- `25%`: 25% quantile.\n",
    "- `50%`: 50% quantile or median.\n",
    "- `75%`: 75% quantile.\n",
    "- `max`: maximum.\n",
    "\n",
    "To include them all, use `include='all'`:"
   ]
  },
  {
   "cell_type": "code",
   "execution_count": null,
   "metadata": {
    "colab": {
     "base_uri": "https://localhost:8080/",
     "height": 514
    },
    "executionInfo": {
     "elapsed": 654,
     "status": "ok",
     "timestamp": 1604393646869,
     "user": {
      "displayName": "alumnos bigdata",
      "photoUrl": "",
      "userId": "10710302360204190833"
     },
     "user_tz": -60
    },
    "id": "bytcavIczOO5",
    "outputId": "2f43bae3-729d-4d23-b6ab-08143e235845"
   },
   "outputs": [
    {
     "name": "stderr",
     "output_type": "stream",
     "text": [
      "/usr/local/lib/python3.6/dist-packages/ipykernel_launcher.py:1: FutureWarning: Treating datetime data as categorical rather than numeric in `.describe` is deprecated and will be removed in a future version of pandas. Specify `datetime_is_numeric=True` to silence this warning and adopt the future behavior now.\n",
      "  \"\"\"Entry point for launching an IPython kernel.\n"
     ]
    },
    {
     "data": {
      "text/html": [
       "<div>\n",
       "<style scoped>\n",
       "    .dataframe tbody tr th:only-of-type {\n",
       "        vertical-align: middle;\n",
       "    }\n",
       "\n",
       "    .dataframe tbody tr th {\n",
       "        vertical-align: top;\n",
       "    }\n",
       "\n",
       "    .dataframe thead th {\n",
       "        text-align: right;\n",
       "    }\n",
       "</style>\n",
       "<table border=\"1\" class=\"dataframe\">\n",
       "  <thead>\n",
       "    <tr style=\"text-align: right;\">\n",
       "      <th></th>\n",
       "      <th>height</th>\n",
       "      <th>mass</th>\n",
       "      <th>eye_color</th>\n",
       "      <th>birth_year</th>\n",
       "      <th>gender</th>\n",
       "      <th>homeworld</th>\n",
       "      <th>Alto</th>\n",
       "      <th>Fecha_hoy</th>\n",
       "    </tr>\n",
       "  </thead>\n",
       "  <tbody>\n",
       "    <tr>\n",
       "      <th>count</th>\n",
       "      <td>31.000000</td>\n",
       "      <td>36.000000</td>\n",
       "      <td>31</td>\n",
       "      <td>36.000000</td>\n",
       "      <td>36</td>\n",
       "      <td>36</td>\n",
       "      <td>36</td>\n",
       "      <td>36</td>\n",
       "    </tr>\n",
       "    <tr>\n",
       "      <th>unique</th>\n",
       "      <td>NaN</td>\n",
       "      <td>NaN</td>\n",
       "      <td>7</td>\n",
       "      <td>NaN</td>\n",
       "      <td>4</td>\n",
       "      <td>23</td>\n",
       "      <td>2</td>\n",
       "      <td>1</td>\n",
       "    </tr>\n",
       "    <tr>\n",
       "      <th>top</th>\n",
       "      <td>NaN</td>\n",
       "      <td>NaN</td>\n",
       "      <td>brown</td>\n",
       "      <td>NaN</td>\n",
       "      <td>male</td>\n",
       "      <td>http://swapi.dev/api/planets/1/</td>\n",
       "      <td>False</td>\n",
       "      <td>2020-09-06 00:00:00</td>\n",
       "    </tr>\n",
       "    <tr>\n",
       "      <th>freq</th>\n",
       "      <td>NaN</td>\n",
       "      <td>NaN</td>\n",
       "      <td>9</td>\n",
       "      <td>NaN</td>\n",
       "      <td>26</td>\n",
       "      <td>7</td>\n",
       "      <td>28</td>\n",
       "      <td>36</td>\n",
       "    </tr>\n",
       "    <tr>\n",
       "      <th>first</th>\n",
       "      <td>NaN</td>\n",
       "      <td>NaN</td>\n",
       "      <td>NaN</td>\n",
       "      <td>NaN</td>\n",
       "      <td>NaN</td>\n",
       "      <td>NaN</td>\n",
       "      <td>NaN</td>\n",
       "      <td>2020-09-06 00:00:00</td>\n",
       "    </tr>\n",
       "    <tr>\n",
       "      <th>last</th>\n",
       "      <td>NaN</td>\n",
       "      <td>NaN</td>\n",
       "      <td>NaN</td>\n",
       "      <td>NaN</td>\n",
       "      <td>NaN</td>\n",
       "      <td>NaN</td>\n",
       "      <td>NaN</td>\n",
       "      <td>2020-09-06 00:00:00</td>\n",
       "    </tr>\n",
       "    <tr>\n",
       "      <th>mean</th>\n",
       "      <td>176.580645</td>\n",
       "      <td>112.233333</td>\n",
       "      <td>NaN</td>\n",
       "      <td>91.091667</td>\n",
       "      <td>NaN</td>\n",
       "      <td>NaN</td>\n",
       "      <td>NaN</td>\n",
       "      <td>NaN</td>\n",
       "    </tr>\n",
       "    <tr>\n",
       "      <th>std</th>\n",
       "      <td>29.759899</td>\n",
       "      <td>215.205026</td>\n",
       "      <td>NaN</td>\n",
       "      <td>169.124347</td>\n",
       "      <td>NaN</td>\n",
       "      <td>NaN</td>\n",
       "      <td>NaN</td>\n",
       "      <td>NaN</td>\n",
       "    </tr>\n",
       "    <tr>\n",
       "      <th>min</th>\n",
       "      <td>66.000000</td>\n",
       "      <td>17.000000</td>\n",
       "      <td>NaN</td>\n",
       "      <td>8.000000</td>\n",
       "      <td>NaN</td>\n",
       "      <td>NaN</td>\n",
       "      <td>NaN</td>\n",
       "      <td>NaN</td>\n",
       "    </tr>\n",
       "    <tr>\n",
       "      <th>25%</th>\n",
       "      <td>171.500000</td>\n",
       "      <td>72.000000</td>\n",
       "      <td>NaN</td>\n",
       "      <td>31.375000</td>\n",
       "      <td>NaN</td>\n",
       "      <td>NaN</td>\n",
       "      <td>NaN</td>\n",
       "      <td>NaN</td>\n",
       "    </tr>\n",
       "    <tr>\n",
       "      <th>50%</th>\n",
       "      <td>180.000000</td>\n",
       "      <td>79.000000</td>\n",
       "      <td>NaN</td>\n",
       "      <td>46.500000</td>\n",
       "      <td>NaN</td>\n",
       "      <td>NaN</td>\n",
       "      <td>NaN</td>\n",
       "      <td>NaN</td>\n",
       "    </tr>\n",
       "    <tr>\n",
       "      <th>75%</th>\n",
       "      <td>189.000000</td>\n",
       "      <td>84.000000</td>\n",
       "      <td>NaN</td>\n",
       "      <td>67.500000</td>\n",
       "      <td>NaN</td>\n",
       "      <td>NaN</td>\n",
       "      <td>NaN</td>\n",
       "      <td>NaN</td>\n",
       "    </tr>\n",
       "    <tr>\n",
       "      <th>max</th>\n",
       "      <td>228.000000</td>\n",
       "      <td>1358.000000</td>\n",
       "      <td>NaN</td>\n",
       "      <td>896.000000</td>\n",
       "      <td>NaN</td>\n",
       "      <td>NaN</td>\n",
       "      <td>NaN</td>\n",
       "      <td>NaN</td>\n",
       "    </tr>\n",
       "  </tbody>\n",
       "</table>\n",
       "</div>"
      ],
      "text/plain": [
       "            height         mass  ...   Alto            Fecha_hoy\n",
       "count    31.000000    36.000000  ...     36                   36\n",
       "unique         NaN          NaN  ...      2                    1\n",
       "top            NaN          NaN  ...  False  2020-09-06 00:00:00\n",
       "freq           NaN          NaN  ...     28                   36\n",
       "first          NaN          NaN  ...    NaN  2020-09-06 00:00:00\n",
       "last           NaN          NaN  ...    NaN  2020-09-06 00:00:00\n",
       "mean    176.580645   112.233333  ...    NaN                  NaN\n",
       "std      29.759899   215.205026  ...    NaN                  NaN\n",
       "min      66.000000    17.000000  ...    NaN                  NaN\n",
       "25%     171.500000    72.000000  ...    NaN                  NaN\n",
       "50%     180.000000    79.000000  ...    NaN                  NaN\n",
       "75%     189.000000    84.000000  ...    NaN                  NaN\n",
       "max     228.000000  1358.000000  ...    NaN                  NaN\n",
       "\n",
       "[13 rows x 8 columns]"
      ]
     },
     "execution_count": 32,
     "metadata": {
      "tags": []
     },
     "output_type": "execute_result"
    }
   ],
   "source": [
    "people_dfSumm.describe(include='all')"
   ]
  },
  {
   "cell_type": "markdown",
   "metadata": {
    "id": "3cXmknWzzOPE"
   },
   "source": [
    "Now, for non-numeric columns, it reports the `count` and, in addition,:\n",
    "\n",
    "- `unique`: number of unique values.\n",
    "- `top`: most frequent value.\n",
    "- `freq`: observed frequency of the top value.\n",
    "- `first` and `last`: for datetimes, the first and last date are reported."
   ]
  },
  {
   "cell_type": "markdown",
   "metadata": {
    "id": "JWdTMOdUzOPH"
   },
   "source": [
    "#### 8.4.2. Basic Statistics\n",
    "\n",
    "To calculate the statistics displayed in the `.describe()` function with numpy functions:"
   ]
  },
  {
   "cell_type": "code",
   "execution_count": null,
   "metadata": {
    "id": "ZUecbUjNzOPI",
    "outputId": "e180e009-073d-43dc-83fd-957c935526b1"
   },
   "outputs": [
    {
     "data": {
      "text/plain": [
       "{'count': 31,\n",
       " 'max': 228.0,\n",
       " 'mean': 176.58064516129033,\n",
       " 'min': 66.0,\n",
       " 'quantile 25, 50, 75': array([171.5, 180. , 189. ]),\n",
       " 'std': 29.275966355278175}"
      ]
     },
     "execution_count": 31,
     "metadata": {
      "tags": []
     },
     "output_type": "execute_result"
    }
   ],
   "source": [
    "def resumen_numericas_numpy(x):\n",
    "    return {\n",
    "        \"count\":np.sum(~np.isnan(x))\n",
    "        ,\"mean\":np.nanmean(x)\n",
    "        ,\"std\":np.nanstd(x)\n",
    "        ,\"min\":np.min(x)\n",
    "        ,\"quantile 25, 50, 75\":np.nanquantile(x, [0.25,.5,.75])\n",
    "        ,\"max\":np.max(x)}\n",
    "    \n",
    "resumen_numericas_numpy(people_dfSumm.height)"
   ]
  },
  {
   "cell_type": "markdown",
   "metadata": {
    "id": "yRV43iwfzOPQ"
   },
   "source": [
    "> **Important**: The equivalent functions np.mean, np.std or np.quantile return NaN when the array contains any NaN values.\n",
    "\n",
    "Now with equivalent functions in pandas:"
   ]
  },
  {
   "cell_type": "code",
   "execution_count": null,
   "metadata": {
    "id": "X7bvIUhOzOPQ",
    "outputId": "18dac0b1-1dbb-4187-f292-0f6792c01270"
   },
   "outputs": [
    {
     "data": {
      "text/plain": [
       "{'count': 31,\n",
       " 'max': 228.0,\n",
       " 'mean': 176.58064516129033,\n",
       " 'min': 66.0,\n",
       " 'quantile 25, 50, 75': 0.25    171.5\n",
       " 0.50    180.0\n",
       " 0.75    189.0\n",
       " Name: height, dtype: float64,\n",
       " 'std': 29.759899410166454}"
      ]
     },
     "execution_count": 32,
     "metadata": {
      "tags": []
     },
     "output_type": "execute_result"
    }
   ],
   "source": [
    "def resumen_numericas_pandas(x):\n",
    "    return {\n",
    "        \"count\":x.count()\n",
    "        ,\"mean\":x.mean()\n",
    "        ,\"std\":x.std()\n",
    "        ,\"min\":x.min()\n",
    "        ,\"quantile 25, 50, 75\":x.quantile([0.25,.5,.75])\n",
    "        ,\"max\":x.max()}\n",
    "    \n",
    "resumen_numericas_pandas(people_dfSumm.height)"
   ]
  },
  {
   "cell_type": "markdown",
   "metadata": {
    "id": "g9zpCcwPzOPX"
   },
   "source": [
    "Note that the default option in pandas is to remove NaNs:"
   ]
  },
  {
   "cell_type": "code",
   "execution_count": null,
   "metadata": {
    "id": "akvpqcbdzOPZ",
    "outputId": "d4a4fcb9-7067-45dd-a2ae-f7878d80334a"
   },
   "outputs": [
    {
     "data": {
      "text/plain": [
       "{'count': 31, 'freq': 9, 'top': 'brown', 'unique': 7}"
      ]
     },
     "execution_count": 33,
     "metadata": {
      "tags": []
     },
     "output_type": "execute_result"
    }
   ],
   "source": [
    "def resumen_no_numericas_numpy(x):\n",
    "    value, counts = np.unique(x[~pd.isnull(x)], return_counts=True)\n",
    "    return {\n",
    "        \"count\":np.sum(~pd.isnull(x))\n",
    "        ,\"unique\": len(np.unique(x[~pd.isnull(x)]))\n",
    "        ,\"top\": value[np.argmax(counts)]\n",
    "        ,\"freq\":np.max(counts)}\n",
    "\n",
    "resumen_no_numericas_numpy(people_dfSumm.eye_color)"
   ]
  },
  {
   "cell_type": "markdown",
   "metadata": {
    "id": "uZXNal3mzOPi"
   },
   "source": [
    "> **Important**: For non-numeric columns, None or NaN values have been filtered out with pd.isnull().\n",
    "\n",
    "Now, with pandas functions:"
   ]
  },
  {
   "cell_type": "code",
   "execution_count": null,
   "metadata": {
    "id": "05HGqJkozOPj",
    "outputId": "92c32404-6f02-4744-e3b7-cbbd487b1b05"
   },
   "outputs": [
    {
     "data": {
      "text/plain": [
       "{'count': 31, 'freq': 9, 'top': 'brown', 'unique': 7}"
      ]
     },
     "execution_count": 34,
     "metadata": {
      "tags": []
     },
     "output_type": "execute_result"
    }
   ],
   "source": [
    "def resumen_no_numericas_pandas(x):\n",
    "    value, counts = np.unique(x[~pd.isnull(x)], return_counts=True)\n",
    "    return {\n",
    "        \"count\":x.count()\n",
    "        ,\"unique\": x.nunique()\n",
    "        ,\"top\": list(x.mode())[0]\n",
    "        ,\"freq\":(x==list(x.mode())[0]).sum()}\n",
    "\n",
    "resumen_no_numericas_pandas(people_dfSumm.eye_color)"
   ]
  },
  {
   "cell_type": "markdown",
   "metadata": {
    "id": "hIoRiuQizOPq"
   },
   "source": [
    "#### 8.4.3. Tables of Frequencies or Counts\n",
    "\n",
    "##### FREQUENCIES OR COUNTS OF A COLUMN\n",
    "\n",
    "To get the frequencies of a pandas series, use `.value_counts()`:"
   ]
  },
  {
   "cell_type": "code",
   "execution_count": null,
   "metadata": {
    "eval": false,
    "id": "qXfFTHgkzOPs",
    "outputId": "34e02782-243d-4394-c0dd-b10b3780d8df"
   },
   "outputs": [
    {
     "data": {
      "text/plain": [
       "brown     9\n",
       "blue      8\n",
       "yellow    5\n",
       "orange    3\n",
       "hazel     2\n",
       "black     2\n",
       "red       2\n",
       "Name: eye_color, dtype: int64"
      ]
     },
     "execution_count": 35,
     "metadata": {
      "tags": []
     },
     "output_type": "execute_result"
    }
   ],
   "source": [
    "people_dfSumm.eye_color.value_counts()"
   ]
  },
  {
   "cell_type": "markdown",
   "metadata": {
    "id": "sTI-tTz9zOP0"
   },
   "source": [
    "By default, it sorts from most to least frequent.\n",
    "\n",
    "We can later sort it by index with `.sort_index()`:"
   ]
  },
  {
   "cell_type": "code",
   "execution_count": null,
   "metadata": {
    "id": "a94nPRoyzOP2",
    "outputId": "b48d07bd-02b7-4658-af01-3eb8003a2f8a"
   },
   "outputs": [
    {
     "data": {
      "text/plain": [
       "black     2\n",
       "blue      8\n",
       "brown     9\n",
       "hazel     2\n",
       "orange    3\n",
       "red       2\n",
       "yellow    5\n",
       "Name: eye_color, dtype: int64"
      ]
     },
     "execution_count": 36,
     "metadata": {
      "tags": []
     },
     "output_type": "execute_result"
    }
   ],
   "source": [
    "people_dfSumm.eye_color.value_counts().sort_index()"
   ]
  },
  {
   "cell_type": "markdown",
   "metadata": {
    "id": "jjQk0CpPzOP-"
   },
   "source": [
    "##### 8.4.3.1. Cross Tables\n",
    "\n",
    "To get the counts or frequencies of two columns, use `pd.crosstab()`:"
   ]
  },
  {
   "cell_type": "code",
   "execution_count": null,
   "metadata": {
    "eval": false,
    "id": "FlbsDAMJzOQC",
    "outputId": "af3dd75f-76ed-418d-e328-a07ef9f3c2af"
   },
   "outputs": [
    {
     "data": {
      "text/html": [
       "<div>\n",
       "<style scoped>\n",
       "    .dataframe tbody tr th:only-of-type {\n",
       "        vertical-align: middle;\n",
       "    }\n",
       "\n",
       "    .dataframe tbody tr th {\n",
       "        vertical-align: top;\n",
       "    }\n",
       "\n",
       "    .dataframe thead th {\n",
       "        text-align: right;\n",
       "    }\n",
       "</style>\n",
       "<table border=\"1\" class=\"dataframe\">\n",
       "  <thead>\n",
       "    <tr style=\"text-align: right;\">\n",
       "      <th>gender</th>\n",
       "      <th>female</th>\n",
       "      <th>hermaphrodite</th>\n",
       "      <th>male</th>\n",
       "      <th>none</th>\n",
       "    </tr>\n",
       "    <tr>\n",
       "      <th>eye_color</th>\n",
       "      <th></th>\n",
       "      <th></th>\n",
       "      <th></th>\n",
       "      <th></th>\n",
       "    </tr>\n",
       "  </thead>\n",
       "  <tbody>\n",
       "    <tr>\n",
       "      <th>black</th>\n",
       "      <td>0</td>\n",
       "      <td>0</td>\n",
       "      <td>2</td>\n",
       "      <td>0</td>\n",
       "    </tr>\n",
       "    <tr>\n",
       "      <th>blue</th>\n",
       "      <td>3</td>\n",
       "      <td>0</td>\n",
       "      <td>5</td>\n",
       "      <td>0</td>\n",
       "    </tr>\n",
       "    <tr>\n",
       "      <th>brown</th>\n",
       "      <td>1</td>\n",
       "      <td>0</td>\n",
       "      <td>8</td>\n",
       "      <td>0</td>\n",
       "    </tr>\n",
       "    <tr>\n",
       "      <th>hazel</th>\n",
       "      <td>1</td>\n",
       "      <td>0</td>\n",
       "      <td>1</td>\n",
       "      <td>0</td>\n",
       "    </tr>\n",
       "    <tr>\n",
       "      <th>orange</th>\n",
       "      <td>0</td>\n",
       "      <td>1</td>\n",
       "      <td>2</td>\n",
       "      <td>0</td>\n",
       "    </tr>\n",
       "    <tr>\n",
       "      <th>red</th>\n",
       "      <td>0</td>\n",
       "      <td>0</td>\n",
       "      <td>1</td>\n",
       "      <td>1</td>\n",
       "    </tr>\n",
       "    <tr>\n",
       "      <th>yellow</th>\n",
       "      <td>0</td>\n",
       "      <td>0</td>\n",
       "      <td>4</td>\n",
       "      <td>1</td>\n",
       "    </tr>\n",
       "  </tbody>\n",
       "</table>\n",
       "</div>"
      ],
      "text/plain": [
       "gender     female  hermaphrodite  male  none\n",
       "eye_color                                   \n",
       "black           0              0     2     0\n",
       "blue            3              0     5     0\n",
       "brown           1              0     8     0\n",
       "hazel           1              0     1     0\n",
       "orange          0              1     2     0\n",
       "red             0              0     1     1\n",
       "yellow          0              0     4     1"
      ]
     },
     "execution_count": 37,
     "metadata": {
      "tags": []
     },
     "output_type": "execute_result"
    }
   ],
   "source": [
    "pd.crosstab(people_dfSumm.eye_color,people_dfSumm.gender)"
   ]
  },
  {
   "cell_type": "markdown",
   "metadata": {
    "id": "uORXJsKHzOQK"
   },
   "source": [
    "##### 8.4.3.2. Columns cutting\n",
    "\n",
    "In pandas series, you can cut a column with the `pd.cut()` function:"
   ]
  },
  {
   "cell_type": "code",
   "execution_count": null,
   "metadata": {
    "id": "kTn6icSrzOQL",
    "outputId": "89e03664-db03-45c6-f641-48343d9f81c9"
   },
   "outputs": [
    {
     "data": {
      "text/html": [
       "<div>\n",
       "<style scoped>\n",
       "    .dataframe tbody tr th:only-of-type {\n",
       "        vertical-align: middle;\n",
       "    }\n",
       "\n",
       "    .dataframe tbody tr th {\n",
       "        vertical-align: top;\n",
       "    }\n",
       "\n",
       "    .dataframe thead th {\n",
       "        text-align: right;\n",
       "    }\n",
       "</style>\n",
       "<table border=\"1\" class=\"dataframe\">\n",
       "  <thead>\n",
       "    <tr style=\"text-align: right;\">\n",
       "      <th></th>\n",
       "      <th>height</th>\n",
       "      <th>Altura_Cat</th>\n",
       "    </tr>\n",
       "    <tr>\n",
       "      <th>name</th>\n",
       "      <th></th>\n",
       "      <th></th>\n",
       "    </tr>\n",
       "  </thead>\n",
       "  <tbody>\n",
       "    <tr>\n",
       "      <th>Luke Skywalker</th>\n",
       "      <td>NaN</td>\n",
       "      <td>NaN</td>\n",
       "    </tr>\n",
       "    <tr>\n",
       "      <th>C-3PO</th>\n",
       "      <td>167.0</td>\n",
       "      <td>[-inf, 171.0)</td>\n",
       "    </tr>\n",
       "    <tr>\n",
       "      <th>R2-D2</th>\n",
       "      <td>NaN</td>\n",
       "      <td>NaN</td>\n",
       "    </tr>\n",
       "    <tr>\n",
       "      <th>Darth Vader</th>\n",
       "      <td>202.0</td>\n",
       "      <td>[189.0, inf)</td>\n",
       "    </tr>\n",
       "    <tr>\n",
       "      <th>Leia Organa</th>\n",
       "      <td>NaN</td>\n",
       "      <td>NaN</td>\n",
       "    </tr>\n",
       "    <tr>\n",
       "      <th>Owen Lars</th>\n",
       "      <td>178.0</td>\n",
       "      <td>[171.0, 189.0)</td>\n",
       "    </tr>\n",
       "    <tr>\n",
       "      <th>Beru Whitesun lars</th>\n",
       "      <td>165.0</td>\n",
       "      <td>[-inf, 171.0)</td>\n",
       "    </tr>\n",
       "    <tr>\n",
       "      <th>Biggs Darklighter</th>\n",
       "      <td>183.0</td>\n",
       "      <td>[171.0, 189.0)</td>\n",
       "    </tr>\n",
       "  </tbody>\n",
       "</table>\n",
       "</div>"
      ],
      "text/plain": [
       "                    height      Altura_Cat\n",
       "name                                      \n",
       "Luke Skywalker         NaN             NaN\n",
       "C-3PO                167.0   [-inf, 171.0)\n",
       "R2-D2                  NaN             NaN\n",
       "Darth Vader          202.0    [189.0, inf)\n",
       "Leia Organa            NaN             NaN\n",
       "Owen Lars            178.0  [171.0, 189.0)\n",
       "Beru Whitesun lars   165.0   [-inf, 171.0)\n",
       "Biggs Darklighter    183.0  [171.0, 189.0)"
      ]
     },
     "execution_count": 38,
     "metadata": {
      "tags": []
     },
     "output_type": "execute_result"
    }
   ],
   "source": [
    "people_dfSumm[\"Altura_Cat\"] = pd.cut(people_dfSumm.height,[-np.infty,171,189,np.infty], right=False)\n",
    "\n",
    "people_dfSumm[[\"height\",\"Altura_Cat\"]].head(8)"
   ]
  },
  {
   "cell_type": "markdown",
   "metadata": {
    "id": "zfFO7Zo1zOQT"
   },
   "source": [
    "Notice how pd.cut() has plotted, at intervals, the `height` column. With `right=False` we ask that the interval be closed on the left and open on the right.\n",
    "\n",
    "The frequencies of each category:"
   ]
  },
  {
   "cell_type": "code",
   "execution_count": null,
   "metadata": {
    "eval": false,
    "id": "gauw9L8czOQU",
    "outputId": "d9e63203-aba9-42de-b947-12c72d3f52f0"
   },
   "outputs": [
    {
     "data": {
      "text/plain": [
       "[-inf, 171.0)      8\n",
       "[171.0, 189.0)    15\n",
       "[189.0, inf)       8\n",
       "Name: Altura_Cat, dtype: int64"
      ]
     },
     "execution_count": 39,
     "metadata": {
      "tags": []
     },
     "output_type": "execute_result"
    }
   ],
   "source": [
    "people_dfSumm[\"Altura_Cat\"].value_counts().sort_index()"
   ]
  },
  {
   "cell_type": "markdown",
   "metadata": {
    "id": "G-dewkJCzOQb"
   },
   "source": [
    "> **Important**: `pd.cut()` creates a new column of type `pd.Categorical`. This data type contains .categories() and .codes(), similar to the `factors` seen in R:"
   ]
  },
  {
   "cell_type": "code",
   "execution_count": null,
   "metadata": {
    "id": "vza3Ia6BzOQf",
    "outputId": "b08cd4e2-023d-4121-d71d-90cf675194ec"
   },
   "outputs": [
    {
     "data": {
      "text/plain": [
       "CategoricalDtype(categories=[[-inf, 171.0), [171.0, 189.0), [189.0, inf)],\n",
       "              ordered=True)"
      ]
     },
     "execution_count": 40,
     "metadata": {
      "tags": []
     },
     "output_type": "execute_result"
    }
   ],
   "source": [
    "people_dfSumm[\"Altura_Cat\"].dtype"
   ]
  },
  {
   "cell_type": "markdown",
   "metadata": {
    "id": "CA_TMcu-zOQm"
   },
   "source": [
    "To retrieve the categories, use `.cat.categories`:"
   ]
  },
  {
   "cell_type": "code",
   "execution_count": null,
   "metadata": {
    "id": "4RfBgUAkzOQo",
    "outputId": "39d49423-a047-46c3-9042-d826cb3f86ce"
   },
   "outputs": [
    {
     "data": {
      "text/plain": [
       "IntervalIndex([[-inf, 171.0), [171.0, 189.0), [189.0, inf)],\n",
       "              closed='left',\n",
       "              dtype='interval[float64]')"
      ]
     },
     "execution_count": 41,
     "metadata": {
      "tags": []
     },
     "output_type": "execute_result"
    }
   ],
   "source": [
    "people_dfSumm[\"Altura_Cat\"].cat.categories"
   ]
  },
  {
   "cell_type": "markdown",
   "metadata": {
    "id": "QXrtZ4ZkzOQw"
   },
   "source": [
    "The inner codes of the `.cat.codes` values:"
   ]
  },
  {
   "cell_type": "code",
   "execution_count": null,
   "metadata": {
    "id": "oKuyX-X1zOQx",
    "outputId": "8d67c5d1-189f-494f-da80-ee79ebadc1ea"
   },
   "outputs": [
    {
     "data": {
      "text/plain": [
       "name\n",
       "Luke Skywalker   -1\n",
       "C-3PO             0\n",
       "R2-D2            -1\n",
       "Darth Vader       2\n",
       "Leia Organa      -1\n",
       "dtype: int8"
      ]
     },
     "execution_count": 42,
     "metadata": {
      "tags": []
     },
     "output_type": "execute_result"
    }
   ],
   "source": [
    "people_dfSumm[\"Altura_Cat\"].cat.codes.head()"
   ]
  },
  {
   "cell_type": "markdown",
   "metadata": {
    "id": "sBRhAI0PzOQ8"
   },
   "source": [
    "To modify the labels, you can directly modify the category indices:"
   ]
  },
  {
   "cell_type": "code",
   "execution_count": null,
   "metadata": {
    "id": "mYh6o6I4zOQ9",
    "outputId": "93440d76-582f-497d-be6b-00701d6decfa"
   },
   "outputs": [
    {
     "data": {
      "text/html": [
       "<div>\n",
       "<style scoped>\n",
       "    .dataframe tbody tr th:only-of-type {\n",
       "        vertical-align: middle;\n",
       "    }\n",
       "\n",
       "    .dataframe tbody tr th {\n",
       "        vertical-align: top;\n",
       "    }\n",
       "\n",
       "    .dataframe thead th {\n",
       "        text-align: right;\n",
       "    }\n",
       "</style>\n",
       "<table border=\"1\" class=\"dataframe\">\n",
       "  <thead>\n",
       "    <tr style=\"text-align: right;\">\n",
       "      <th></th>\n",
       "      <th>height</th>\n",
       "      <th>Altura_Cat</th>\n",
       "    </tr>\n",
       "    <tr>\n",
       "      <th>name</th>\n",
       "      <th></th>\n",
       "      <th></th>\n",
       "    </tr>\n",
       "  </thead>\n",
       "  <tbody>\n",
       "    <tr>\n",
       "      <th>Luke Skywalker</th>\n",
       "      <td>NaN</td>\n",
       "      <td>NaN</td>\n",
       "    </tr>\n",
       "    <tr>\n",
       "      <th>C-3PO</th>\n",
       "      <td>167.0</td>\n",
       "      <td>Bajo/a</td>\n",
       "    </tr>\n",
       "    <tr>\n",
       "      <th>R2-D2</th>\n",
       "      <td>NaN</td>\n",
       "      <td>NaN</td>\n",
       "    </tr>\n",
       "    <tr>\n",
       "      <th>Darth Vader</th>\n",
       "      <td>202.0</td>\n",
       "      <td>Alto/a</td>\n",
       "    </tr>\n",
       "    <tr>\n",
       "      <th>Leia Organa</th>\n",
       "      <td>NaN</td>\n",
       "      <td>NaN</td>\n",
       "    </tr>\n",
       "    <tr>\n",
       "      <th>Owen Lars</th>\n",
       "      <td>178.0</td>\n",
       "      <td>Mediano/a</td>\n",
       "    </tr>\n",
       "    <tr>\n",
       "      <th>Beru Whitesun lars</th>\n",
       "      <td>165.0</td>\n",
       "      <td>Bajo/a</td>\n",
       "    </tr>\n",
       "    <tr>\n",
       "      <th>Biggs Darklighter</th>\n",
       "      <td>183.0</td>\n",
       "      <td>Mediano/a</td>\n",
       "    </tr>\n",
       "  </tbody>\n",
       "</table>\n",
       "</div>"
      ],
      "text/plain": [
       "                    height Altura_Cat\n",
       "name                                 \n",
       "Luke Skywalker         NaN        NaN\n",
       "C-3PO                167.0     Bajo/a\n",
       "R2-D2                  NaN        NaN\n",
       "Darth Vader          202.0     Alto/a\n",
       "Leia Organa            NaN        NaN\n",
       "Owen Lars            178.0  Mediano/a\n",
       "Beru Whitesun lars   165.0     Bajo/a\n",
       "Biggs Darklighter    183.0  Mediano/a"
      ]
     },
     "execution_count": 43,
     "metadata": {
      "tags": []
     },
     "output_type": "execute_result"
    }
   ],
   "source": [
    "people_dfSumm[\"Altura_Cat\"].cat.categories = [\"Bajo/a\",\"Mediano/a\",\"Alto/a\"]\n",
    "\n",
    "people_dfSumm[[\"height\",\"Altura_Cat\"]].head(8)"
   ]
  },
  {
   "cell_type": "markdown",
   "metadata": {
    "id": "RV3EKBcCzORG"
   },
   "source": [
    "##### 8.4.3.3. Guided Activity 2.5\n",
    "\n",
    "Let's see now, a summary of the height of the characters by the type of climate of their planet.\n",
    "\n",
    "The steps to perform are:\n",
    "\n",
    "1. We cross the tables of characters and planets.\n",
    "1. We build a new hatched column with a height of 171 cm and 189 cm at cutoff points.\n",
    "1. We cross the height with the climate of the planet."
   ]
  },
  {
   "cell_type": "code",
   "execution_count": null,
   "metadata": {
    "id": "tfDxHPeEzORH",
    "outputId": "665f8e54-6980-4803-c466-b9d18fa6f904"
   },
   "outputs": [
    {
     "data": {
      "text/html": [
       "<div>\n",
       "<style scoped>\n",
       "    .dataframe tbody tr th:only-of-type {\n",
       "        vertical-align: middle;\n",
       "    }\n",
       "\n",
       "    .dataframe tbody tr th {\n",
       "        vertical-align: top;\n",
       "    }\n",
       "\n",
       "    .dataframe thead th {\n",
       "        text-align: right;\n",
       "    }\n",
       "</style>\n",
       "<table border=\"1\" class=\"dataframe\">\n",
       "  <thead>\n",
       "    <tr style=\"text-align: right;\">\n",
       "      <th></th>\n",
       "      <th>name_x</th>\n",
       "      <th>height</th>\n",
       "      <th>mass</th>\n",
       "      <th>eye_color</th>\n",
       "      <th>birth_year</th>\n",
       "      <th>gender</th>\n",
       "      <th>homeworld</th>\n",
       "      <th>name_y</th>\n",
       "      <th>climate</th>\n",
       "      <th>temperate_tropical</th>\n",
       "      <th>population</th>\n",
       "      <th>url</th>\n",
       "    </tr>\n",
       "    <tr>\n",
       "      <th>name_x</th>\n",
       "      <th></th>\n",
       "      <th></th>\n",
       "      <th></th>\n",
       "      <th></th>\n",
       "      <th></th>\n",
       "      <th></th>\n",
       "      <th></th>\n",
       "      <th></th>\n",
       "      <th></th>\n",
       "      <th></th>\n",
       "      <th></th>\n",
       "      <th></th>\n",
       "    </tr>\n",
       "  </thead>\n",
       "  <tbody>\n",
       "    <tr>\n",
       "      <th>Luke Skywalker</th>\n",
       "      <td>Luke Skywalker</td>\n",
       "      <td>172.0</td>\n",
       "      <td>77.0</td>\n",
       "      <td>blue</td>\n",
       "      <td>19.0</td>\n",
       "      <td>male</td>\n",
       "      <td>http://swapi.dev/api/planets/1/</td>\n",
       "      <td>Tatooine</td>\n",
       "      <td>arid</td>\n",
       "      <td>0</td>\n",
       "      <td>200000.0</td>\n",
       "      <td>http://swapi.dev/api/planets/1/</td>\n",
       "    </tr>\n",
       "    <tr>\n",
       "      <th>C-3PO</th>\n",
       "      <td>C-3PO</td>\n",
       "      <td>167.0</td>\n",
       "      <td>75.0</td>\n",
       "      <td>yellow</td>\n",
       "      <td>112.0</td>\n",
       "      <td>none</td>\n",
       "      <td>http://swapi.dev/api/planets/1/</td>\n",
       "      <td>Tatooine</td>\n",
       "      <td>arid</td>\n",
       "      <td>0</td>\n",
       "      <td>200000.0</td>\n",
       "      <td>http://swapi.dev/api/planets/1/</td>\n",
       "    </tr>\n",
       "    <tr>\n",
       "      <th>Darth Vader</th>\n",
       "      <td>Darth Vader</td>\n",
       "      <td>202.0</td>\n",
       "      <td>136.0</td>\n",
       "      <td>yellow</td>\n",
       "      <td>41.9</td>\n",
       "      <td>male</td>\n",
       "      <td>http://swapi.dev/api/planets/1/</td>\n",
       "      <td>Tatooine</td>\n",
       "      <td>arid</td>\n",
       "      <td>0</td>\n",
       "      <td>200000.0</td>\n",
       "      <td>http://swapi.dev/api/planets/1/</td>\n",
       "    </tr>\n",
       "    <tr>\n",
       "      <th>Owen Lars</th>\n",
       "      <td>Owen Lars</td>\n",
       "      <td>178.0</td>\n",
       "      <td>120.0</td>\n",
       "      <td>blue</td>\n",
       "      <td>52.0</td>\n",
       "      <td>male</td>\n",
       "      <td>http://swapi.dev/api/planets/1/</td>\n",
       "      <td>Tatooine</td>\n",
       "      <td>arid</td>\n",
       "      <td>0</td>\n",
       "      <td>200000.0</td>\n",
       "      <td>http://swapi.dev/api/planets/1/</td>\n",
       "    </tr>\n",
       "    <tr>\n",
       "      <th>Beru Whitesun lars</th>\n",
       "      <td>Beru Whitesun lars</td>\n",
       "      <td>165.0</td>\n",
       "      <td>75.0</td>\n",
       "      <td>blue</td>\n",
       "      <td>47.0</td>\n",
       "      <td>female</td>\n",
       "      <td>http://swapi.dev/api/planets/1/</td>\n",
       "      <td>Tatooine</td>\n",
       "      <td>arid</td>\n",
       "      <td>0</td>\n",
       "      <td>200000.0</td>\n",
       "      <td>http://swapi.dev/api/planets/1/</td>\n",
       "    </tr>\n",
       "  </tbody>\n",
       "</table>\n",
       "</div>"
      ],
      "text/plain": [
       "                                name_x  height   mass eye_color  birth_year  \\\n",
       "name_x                                                                        \n",
       "Luke Skywalker          Luke Skywalker   172.0   77.0      blue        19.0   \n",
       "C-3PO                            C-3PO   167.0   75.0    yellow       112.0   \n",
       "Darth Vader                Darth Vader   202.0  136.0    yellow        41.9   \n",
       "Owen Lars                    Owen Lars   178.0  120.0      blue        52.0   \n",
       "Beru Whitesun lars  Beru Whitesun lars   165.0   75.0      blue        47.0   \n",
       "\n",
       "                    gender                        homeworld    name_y climate  \\\n",
       "name_x                                                                          \n",
       "Luke Skywalker        male  http://swapi.dev/api/planets/1/  Tatooine    arid   \n",
       "C-3PO                 none  http://swapi.dev/api/planets/1/  Tatooine    arid   \n",
       "Darth Vader           male  http://swapi.dev/api/planets/1/  Tatooine    arid   \n",
       "Owen Lars             male  http://swapi.dev/api/planets/1/  Tatooine    arid   \n",
       "Beru Whitesun lars  female  http://swapi.dev/api/planets/1/  Tatooine    arid   \n",
       "\n",
       "                    temperate_tropical  population  \\\n",
       "name_x                                               \n",
       "Luke Skywalker                       0    200000.0   \n",
       "C-3PO                                0    200000.0   \n",
       "Darth Vader                          0    200000.0   \n",
       "Owen Lars                            0    200000.0   \n",
       "Beru Whitesun lars                   0    200000.0   \n",
       "\n",
       "                                                url  \n",
       "name_x                                               \n",
       "Luke Skywalker      http://swapi.dev/api/planets/1/  \n",
       "C-3PO               http://swapi.dev/api/planets/1/  \n",
       "Darth Vader         http://swapi.dev/api/planets/1/  \n",
       "Owen Lars           http://swapi.dev/api/planets/1/  \n",
       "Beru Whitesun lars  http://swapi.dev/api/planets/1/  "
      ]
     },
     "execution_count": 44,
     "metadata": {
      "tags": []
     },
     "output_type": "execute_result"
    }
   ],
   "source": [
    "personajes_df = pd.merge(people_df.reset_index(), \n",
    "                         planets_df.reset_index(), left_on=[\"homeworld\"], right_on=[\"url\"])\n",
    "personajes_df.index= personajes_df.name_x         # indexamos por nombre del personaje\n",
    "personajes_df.head()"
   ]
  },
  {
   "cell_type": "code",
   "execution_count": null,
   "metadata": {
    "id": "DGh9Gf6EzORQ",
    "outputId": "40595954-4bea-4248-d8db-38981f552299"
   },
   "outputs": [
    {
     "data": {
      "text/plain": [
       "Bajo/a        7\n",
       "Mediano/a    15\n",
       "Alto/a        5\n",
       "Name: Altura_Cat, dtype: int64"
      ]
     },
     "execution_count": 45,
     "metadata": {
      "tags": []
     },
     "output_type": "execute_result"
    }
   ],
   "source": [
    "personajes_df[\"Altura_Cat\"] = pd.cut(personajes_df.height,[-np.infty,171,189,np.infty], right=False)\n",
    "personajes_df.Altura_Cat.cat.categories = [\"Bajo/a\",\"Mediano/a\",\"Alto/a\"]\n",
    "\n",
    "personajes_df.Altura_Cat.value_counts().sort_index()"
   ]
  },
  {
   "cell_type": "code",
   "execution_count": null,
   "metadata": {
    "id": "l6ZccKtQzORW",
    "outputId": "92c4b213-7918-4804-89ef-df14caaefe79"
   },
   "outputs": [
    {
     "data": {
      "text/html": [
       "<div>\n",
       "<style scoped>\n",
       "    .dataframe tbody tr th:only-of-type {\n",
       "        vertical-align: middle;\n",
       "    }\n",
       "\n",
       "    .dataframe tbody tr th {\n",
       "        vertical-align: top;\n",
       "    }\n",
       "\n",
       "    .dataframe thead th {\n",
       "        text-align: right;\n",
       "    }\n",
       "</style>\n",
       "<table border=\"1\" class=\"dataframe\">\n",
       "  <thead>\n",
       "    <tr style=\"text-align: right;\">\n",
       "      <th>temperate_tropical</th>\n",
       "      <th>0</th>\n",
       "      <th>1</th>\n",
       "    </tr>\n",
       "    <tr>\n",
       "      <th>Altura_Cat</th>\n",
       "      <th></th>\n",
       "      <th></th>\n",
       "    </tr>\n",
       "  </thead>\n",
       "  <tbody>\n",
       "    <tr>\n",
       "      <th>Bajo/a</th>\n",
       "      <td>2</td>\n",
       "      <td>5</td>\n",
       "    </tr>\n",
       "    <tr>\n",
       "      <th>Mediano/a</th>\n",
       "      <td>6</td>\n",
       "      <td>9</td>\n",
       "    </tr>\n",
       "    <tr>\n",
       "      <th>Alto/a</th>\n",
       "      <td>2</td>\n",
       "      <td>3</td>\n",
       "    </tr>\n",
       "  </tbody>\n",
       "</table>\n",
       "</div>"
      ],
      "text/plain": [
       "temperate_tropical  0  1\n",
       "Altura_Cat              \n",
       "Bajo/a              2  5\n",
       "Mediano/a           6  9\n",
       "Alto/a              2  3"
      ]
     },
     "execution_count": 46,
     "metadata": {
      "tags": []
     },
     "output_type": "execute_result"
    }
   ],
   "source": [
    "summ_altura_clima = pd.crosstab(personajes_df.Altura_Cat,personajes_df.temperate_tropical)\n",
    "\n",
    "summ_altura_clima"
   ]
  },
  {
   "cell_type": "markdown",
   "metadata": {
    "id": "jUl22nytzOR2"
   },
   "source": [
    "To find out the % of characters of each height that live in a temperate-tropical climate or not, use `normalize=\"index\"`. In this way each row will add 1 (that is, 100%):"
   ]
  },
  {
   "cell_type": "code",
   "execution_count": null,
   "metadata": {
    "id": "aioc6_pozOR4",
    "outputId": "967f7e2b-739a-4856-bb09-529224a3e405"
   },
   "outputs": [
    {
     "data": {
      "text/html": [
       "<div>\n",
       "<style scoped>\n",
       "    .dataframe tbody tr th:only-of-type {\n",
       "        vertical-align: middle;\n",
       "    }\n",
       "\n",
       "    .dataframe tbody tr th {\n",
       "        vertical-align: top;\n",
       "    }\n",
       "\n",
       "    .dataframe thead th {\n",
       "        text-align: right;\n",
       "    }\n",
       "</style>\n",
       "<table border=\"1\" class=\"dataframe\">\n",
       "  <thead>\n",
       "    <tr style=\"text-align: right;\">\n",
       "      <th>temperate_tropical</th>\n",
       "      <th>1</th>\n",
       "      <th>0</th>\n",
       "    </tr>\n",
       "    <tr>\n",
       "      <th>Altura_Cat</th>\n",
       "      <th></th>\n",
       "      <th></th>\n",
       "    </tr>\n",
       "  </thead>\n",
       "  <tbody>\n",
       "    <tr>\n",
       "      <th>Bajo/a</th>\n",
       "      <td>0.714286</td>\n",
       "      <td>0.285714</td>\n",
       "    </tr>\n",
       "    <tr>\n",
       "      <th>Mediano/a</th>\n",
       "      <td>0.600000</td>\n",
       "      <td>0.400000</td>\n",
       "    </tr>\n",
       "    <tr>\n",
       "      <th>Alto/a</th>\n",
       "      <td>0.600000</td>\n",
       "      <td>0.400000</td>\n",
       "    </tr>\n",
       "  </tbody>\n",
       "</table>\n",
       "</div>"
      ],
      "text/plain": [
       "temperate_tropical         1         0\n",
       "Altura_Cat                            \n",
       "Bajo/a              0.714286  0.285714\n",
       "Mediano/a           0.600000  0.400000\n",
       "Alto/a              0.600000  0.400000"
      ]
     },
     "execution_count": 47,
     "metadata": {
      "tags": []
     },
     "output_type": "execute_result"
    }
   ],
   "source": [
    "summ_altura_clima = pd.crosstab(personajes_df.Altura_Cat,personajes_df.temperate_tropical, normalize=\"index\")\n",
    "\n",
    "summ_altura_clima.sort_index(axis=1, ascending=False)"
   ]
  },
  {
   "cell_type": "markdown",
   "metadata": {
    "id": "Ww45ihT-zOR9"
   },
   "source": [
    "Gráficamente:"
   ]
  },
  {
   "cell_type": "code",
   "execution_count": null,
   "metadata": {
    "id": "9YhJ37OCzOR-",
    "outputId": "08c9d538-db33-471e-97e7-0fb79cd37ea7"
   },
   "outputs": [
    {
     "data": {
      "text/html": [
       "<div>\n",
       "<style scoped>\n",
       "    .dataframe tbody tr th:only-of-type {\n",
       "        vertical-align: middle;\n",
       "    }\n",
       "\n",
       "    .dataframe tbody tr th {\n",
       "        vertical-align: top;\n",
       "    }\n",
       "\n",
       "    .dataframe thead th {\n",
       "        text-align: right;\n",
       "    }\n",
       "</style>\n",
       "<table border=\"1\" class=\"dataframe\">\n",
       "  <thead>\n",
       "    <tr style=\"text-align: right;\">\n",
       "      <th>temperate_tropical</th>\n",
       "      <th>1</th>\n",
       "      <th>0</th>\n",
       "    </tr>\n",
       "    <tr>\n",
       "      <th>Altura_Cat</th>\n",
       "      <th></th>\n",
       "      <th></th>\n",
       "    </tr>\n",
       "  </thead>\n",
       "  <tbody>\n",
       "    <tr>\n",
       "      <th>Bajo/a</th>\n",
       "      <td>0.714286</td>\n",
       "      <td>0.285714</td>\n",
       "    </tr>\n",
       "    <tr>\n",
       "      <th>Mediano/a</th>\n",
       "      <td>0.600000</td>\n",
       "      <td>0.400000</td>\n",
       "    </tr>\n",
       "    <tr>\n",
       "      <th>Alto/a</th>\n",
       "      <td>0.600000</td>\n",
       "      <td>0.400000</td>\n",
       "    </tr>\n",
       "  </tbody>\n",
       "</table>\n",
       "</div>"
      ],
      "text/plain": [
       "temperate_tropical         1         0\n",
       "Altura_Cat                            \n",
       "Bajo/a              0.714286  0.285714\n",
       "Mediano/a           0.600000  0.400000\n",
       "Alto/a              0.600000  0.400000"
      ]
     },
     "execution_count": 48,
     "metadata": {
      "tags": []
     },
     "output_type": "execute_result"
    }
   ],
   "source": [
    "summ_altura_clima = summ_altura_clima.sort_index(axis=1, ascending=False) # cambiamos orden columnas para el gráfico\n",
    "summ_altura_clima"
   ]
  },
  {
   "cell_type": "code",
   "execution_count": 1,
   "metadata": {
    "id": "eFMRchBvzOSE",
    "outputId": "7e9389c9-9129-4403-b260-28d2e8e465cb"
   },
   "outputs": [
    {
     "ename": "NameError",
     "evalue": "name 'summ_altura_clima' is not defined",
     "output_type": "error",
     "traceback": [
      "\u001b[1;31m---------------------------------------------------------------------------\u001b[0m",
      "\u001b[1;31mNameError\u001b[0m                                 Traceback (most recent call last)",
      "\u001b[1;32m~\\AppData\\Local\\Temp/ipykernel_12584/4170449489.py\u001b[0m in \u001b[0;36m<module>\u001b[1;34m\u001b[0m\n\u001b[1;32m----> 1\u001b[1;33m \u001b[0mg\u001b[0m \u001b[1;33m=\u001b[0m \u001b[0msumm_altura_clima\u001b[0m\u001b[1;33m.\u001b[0m\u001b[0mplot\u001b[0m\u001b[1;33m.\u001b[0m\u001b[0mbar\u001b[0m\u001b[1;33m(\u001b[0m\u001b[0mstacked\u001b[0m\u001b[1;33m=\u001b[0m\u001b[1;32mTrue\u001b[0m\u001b[1;33m,\u001b[0m\u001b[0minclude_bool\u001b[0m\u001b[1;33m=\u001b[0m\u001b[1;32mTrue\u001b[0m\u001b[1;33m,\u001b[0m \u001b[0malpha\u001b[0m\u001b[1;33m=\u001b[0m\u001b[1;36m0.75\u001b[0m\u001b[1;33m,\u001b[0m \u001b[0mrot\u001b[0m\u001b[1;33m=\u001b[0m\u001b[1;36m0\u001b[0m\u001b[1;33m)\u001b[0m\u001b[1;33m\u001b[0m\u001b[1;33m\u001b[0m\u001b[0m\n\u001b[0m\u001b[0;32m      2\u001b[0m \u001b[0mg\u001b[0m\u001b[1;33m.\u001b[0m\u001b[0mlegend\u001b[0m\u001b[1;33m(\u001b[0m\u001b[0mbbox_to_anchor\u001b[0m\u001b[1;33m=\u001b[0m\u001b[1;33m(\u001b[0m\u001b[1;36m1\u001b[0m\u001b[1;33m,\u001b[0m \u001b[1;36m0.8\u001b[0m\u001b[1;33m)\u001b[0m\u001b[1;33m,\u001b[0m\u001b[0mtitle\u001b[0m\u001b[1;33m=\u001b[0m\u001b[1;34m\"temperate or tropical\"\u001b[0m\u001b[1;33m)\u001b[0m\u001b[1;33m\u001b[0m\u001b[1;33m\u001b[0m\u001b[0m\n\u001b[0;32m      3\u001b[0m \u001b[1;33m\u001b[0m\u001b[0m\n\u001b[0;32m      4\u001b[0m \u001b[0mplt\u001b[0m\u001b[1;33m.\u001b[0m\u001b[0mgcf\u001b[0m\u001b[1;33m(\u001b[0m\u001b[1;33m)\u001b[0m\u001b[1;33m.\u001b[0m\u001b[0msubplots_adjust\u001b[0m\u001b[1;33m(\u001b[0m\u001b[0mbottom\u001b[0m\u001b[1;33m=\u001b[0m\u001b[1;36m0.15\u001b[0m\u001b[1;33m,\u001b[0m\u001b[0mright\u001b[0m\u001b[1;33m=\u001b[0m\u001b[1;36m0.7\u001b[0m\u001b[1;33m)\u001b[0m\u001b[1;33m\u001b[0m\u001b[1;33m\u001b[0m\u001b[0m\n\u001b[0;32m      5\u001b[0m \u001b[0mplt\u001b[0m\u001b[1;33m.\u001b[0m\u001b[0mtitle\u001b[0m\u001b[1;33m(\u001b[0m\u001b[1;34m\"% characters in each climate by Height\"\u001b[0m\u001b[1;33m)\u001b[0m\u001b[1;33m\u001b[0m\u001b[1;33m\u001b[0m\u001b[0m\n",
      "\u001b[1;31mNameError\u001b[0m: name 'summ_altura_clima' is not defined"
     ]
    }
   ],
   "source": [
    "g = summ_altura_clima.plot.bar(stacked=True,include_bool=True, alpha=0.75, rot=0)\n",
    "g.legend(bbox_to_anchor=(1, 0.8),title=\"temperate or tropical\")\n",
    "\n",
    "plt.gcf().subplots_adjust(bottom=0.15,right=0.7)\n",
    "plt.title(\"% characters in each climate by Height\")\n",
    "plt.ylabel(\"%\")\n",
    "plt.xlabel(\"Height\");"
   ]
  },
  {
   "cell_type": "markdown",
   "metadata": {
    "id": "0vwVJpNnzOSM"
   },
   "source": [
    "Note that **70% of short characters** were born in temperate or tropical climates, compared to **60% of tall characters**."
   ]
  },
  {
   "cell_type": "markdown",
   "metadata": {
    "id": "cfgrSrdCzOSM"
   },
   "source": [
    "### 8.5. Aggregated by Subgroups\n",
    "\n",
    "In addition to frequencies, it is necessary to calculate more relevant statistics. For example, the median age (birth_year), the minimum weight (mass) of the characters, or the average population of their planets by type of climate and height range (high, medium low) of the characters ."
   ]
  },
  {
   "cell_type": "markdown",
   "metadata": {
    "id": "IHCa835QzOSO"
   },
   "source": [
    "#### 8.5.1. Grouping or *GROUPBY*\n",
    "\n",
    "In order to provide an answer to the problem posed, it is first necessary to introduce the concept of Grouping or GroupBy.\n",
    "\n",
    "The solution proposed in pandas is to define a division of the table using `.grouby()`. Once the request is defined, summary statistics can be calculated:"
   ]
  },
  {
   "cell_type": "code",
   "execution_count": null,
   "metadata": {
    "id": "-N_xz14-zOSP",
    "outputId": "18bb4c67-d927-4f20-9b07-74b207b92a8b"
   },
   "outputs": [
    {
     "data": {
      "text/html": [
       "<div>\n",
       "<style scoped>\n",
       "    .dataframe tbody tr th:only-of-type {\n",
       "        vertical-align: middle;\n",
       "    }\n",
       "\n",
       "    .dataframe tbody tr th {\n",
       "        vertical-align: top;\n",
       "    }\n",
       "\n",
       "    .dataframe thead th {\n",
       "        text-align: right;\n",
       "    }\n",
       "</style>\n",
       "<table border=\"1\" class=\"dataframe\">\n",
       "  <thead>\n",
       "    <tr style=\"text-align: right;\">\n",
       "      <th></th>\n",
       "      <th></th>\n",
       "      <th>mass</th>\n",
       "      <th>birth_year</th>\n",
       "      <th>population</th>\n",
       "    </tr>\n",
       "    <tr>\n",
       "      <th>temperate_tropical</th>\n",
       "      <th>Altura_Cat</th>\n",
       "      <th></th>\n",
       "      <th></th>\n",
       "      <th></th>\n",
       "    </tr>\n",
       "  </thead>\n",
       "  <tbody>\n",
       "    <tr>\n",
       "      <th rowspan=\"3\" valign=\"top\">0</th>\n",
       "      <th>Bajo/a</th>\n",
       "      <td>75.0</td>\n",
       "      <td>79.50</td>\n",
       "      <td>2.000000e+05</td>\n",
       "    </tr>\n",
       "    <tr>\n",
       "      <th>Mediano/a</th>\n",
       "      <td>81.5</td>\n",
       "      <td>36.45</td>\n",
       "      <td>2.000000e+05</td>\n",
       "    </tr>\n",
       "    <tr>\n",
       "      <th>Alto/a</th>\n",
       "      <td>124.5</td>\n",
       "      <td>47.45</td>\n",
       "      <td>2.110000e+07</td>\n",
       "    </tr>\n",
       "    <tr>\n",
       "      <th rowspan=\"3\" valign=\"top\">1</th>\n",
       "      <th>Bajo/a</th>\n",
       "      <td>49.0</td>\n",
       "      <td>21.00</td>\n",
       "      <td>3.000000e+09</td>\n",
       "    </tr>\n",
       "    <tr>\n",
       "      <th>Mediano/a</th>\n",
       "      <td>80.0</td>\n",
       "      <td>46.00</td>\n",
       "      <td>1.500000e+09</td>\n",
       "    </tr>\n",
       "    <tr>\n",
       "      <th>Alto/a</th>\n",
       "      <td>82.0</td>\n",
       "      <td>92.00</td>\n",
       "      <td>4.500000e+08</td>\n",
       "    </tr>\n",
       "  </tbody>\n",
       "</table>\n",
       "</div>"
      ],
      "text/plain": [
       "                                mass  birth_year    population\n",
       "temperate_tropical Altura_Cat                                 \n",
       "0                  Bajo/a       75.0       79.50  2.000000e+05\n",
       "                   Mediano/a    81.5       36.45  2.000000e+05\n",
       "                   Alto/a      124.5       47.45  2.110000e+07\n",
       "1                  Bajo/a       49.0       21.00  3.000000e+09\n",
       "                   Mediano/a    80.0       46.00  1.500000e+09\n",
       "                   Alto/a       82.0       92.00  4.500000e+08"
      ]
     },
     "execution_count": 50,
     "metadata": {
      "tags": []
     },
     "output_type": "execute_result"
    }
   ],
   "source": [
    "summ1_altura_clima = personajes_df.groupby([\"temperate_tropical\"\n",
    "                                            ,\"Altura_Cat\"])[[\"mass\",\"birth_year\",\"population\"]].median()\n",
    "\n",
    "summ1_altura_clima"
   ]
  },
  {
   "cell_type": "markdown",
   "metadata": {
    "id": "_3P6jxNEzOSV"
   },
   "source": [
    "Observe how the mean function has been applied to each of the columns for each combination of the climate of the planets and the height of the people.\n",
    "\n",
    "Also, a new element appears. It is the ability of DataFrames to have an index composed of more than one column, in this case `temperate_tropical` and `Altura_Cat`.\n",
    "\n",
    "One way to get around multiple indexes is to add them as columns with `.reset_index()`:"
   ]
  },
  {
   "cell_type": "code",
   "execution_count": null,
   "metadata": {
    "id": "l0qSj-ryzOSX",
    "outputId": "09cbe67b-f05b-40d7-a7b7-fee1666a76ea"
   },
   "outputs": [
    {
     "data": {
      "text/html": [
       "<div>\n",
       "<style scoped>\n",
       "    .dataframe tbody tr th:only-of-type {\n",
       "        vertical-align: middle;\n",
       "    }\n",
       "\n",
       "    .dataframe tbody tr th {\n",
       "        vertical-align: top;\n",
       "    }\n",
       "\n",
       "    .dataframe thead th {\n",
       "        text-align: right;\n",
       "    }\n",
       "</style>\n",
       "<table border=\"1\" class=\"dataframe\">\n",
       "  <thead>\n",
       "    <tr style=\"text-align: right;\">\n",
       "      <th></th>\n",
       "      <th>temperate_tropical</th>\n",
       "      <th>Altura_Cat</th>\n",
       "      <th>mass</th>\n",
       "      <th>birth_year</th>\n",
       "      <th>population</th>\n",
       "    </tr>\n",
       "  </thead>\n",
       "  <tbody>\n",
       "    <tr>\n",
       "      <th>0</th>\n",
       "      <td>0</td>\n",
       "      <td>Bajo/a</td>\n",
       "      <td>75.0</td>\n",
       "      <td>79.50</td>\n",
       "      <td>2.000000e+05</td>\n",
       "    </tr>\n",
       "    <tr>\n",
       "      <th>1</th>\n",
       "      <td>0</td>\n",
       "      <td>Mediano/a</td>\n",
       "      <td>81.5</td>\n",
       "      <td>36.45</td>\n",
       "      <td>2.000000e+05</td>\n",
       "    </tr>\n",
       "    <tr>\n",
       "      <th>2</th>\n",
       "      <td>0</td>\n",
       "      <td>Alto/a</td>\n",
       "      <td>124.5</td>\n",
       "      <td>47.45</td>\n",
       "      <td>2.110000e+07</td>\n",
       "    </tr>\n",
       "    <tr>\n",
       "      <th>3</th>\n",
       "      <td>1</td>\n",
       "      <td>Bajo/a</td>\n",
       "      <td>49.0</td>\n",
       "      <td>21.00</td>\n",
       "      <td>3.000000e+09</td>\n",
       "    </tr>\n",
       "    <tr>\n",
       "      <th>4</th>\n",
       "      <td>1</td>\n",
       "      <td>Mediano/a</td>\n",
       "      <td>80.0</td>\n",
       "      <td>46.00</td>\n",
       "      <td>1.500000e+09</td>\n",
       "    </tr>\n",
       "    <tr>\n",
       "      <th>5</th>\n",
       "      <td>1</td>\n",
       "      <td>Alto/a</td>\n",
       "      <td>82.0</td>\n",
       "      <td>92.00</td>\n",
       "      <td>4.500000e+08</td>\n",
       "    </tr>\n",
       "  </tbody>\n",
       "</table>\n",
       "</div>"
      ],
      "text/plain": [
       "   temperate_tropical Altura_Cat   mass  birth_year    population\n",
       "0                   0     Bajo/a   75.0       79.50  2.000000e+05\n",
       "1                   0  Mediano/a   81.5       36.45  2.000000e+05\n",
       "2                   0     Alto/a  124.5       47.45  2.110000e+07\n",
       "3                   1     Bajo/a   49.0       21.00  3.000000e+09\n",
       "4                   1  Mediano/a   80.0       46.00  1.500000e+09\n",
       "5                   1     Alto/a   82.0       92.00  4.500000e+08"
      ]
     },
     "execution_count": 51,
     "metadata": {
      "tags": []
     },
     "output_type": "execute_result"
    }
   ],
   "source": [
    "summ1_altura_clima = summ1_altura_clima.reset_index()\n",
    "\n",
    "summ1_altura_clima"
   ]
  },
  {
   "cell_type": "markdown",
   "metadata": {
    "id": "Wek7fZXuzOSd"
   },
   "source": [
    "Now the 2 indexes have become columns of the table."
   ]
  },
  {
   "cell_type": "markdown",
   "metadata": {
    "id": "n1T4FStTzOSd"
   },
   "source": [
    "#### 8.5.2. Aggregate\n",
    "\n",
    "To apply different aggregation functions to different columns, use `.aggregate()` or `.agg()` for short in combination with `.groupby()`.\n",
    "\n",
    "A first pass consists of applying several functions to all the selected columns of the data frame:"
   ]
  },
  {
   "cell_type": "code",
   "execution_count": null,
   "metadata": {
    "id": "UFjizovvzOSe",
    "outputId": "badeb40a-57b7-43dd-c1a2-c968bc9f6976"
   },
   "outputs": [
    {
     "data": {
      "text/html": [
       "<div>\n",
       "<style scoped>\n",
       "    .dataframe tbody tr th:only-of-type {\n",
       "        vertical-align: middle;\n",
       "    }\n",
       "\n",
       "    .dataframe tbody tr th {\n",
       "        vertical-align: top;\n",
       "    }\n",
       "\n",
       "    .dataframe thead tr th {\n",
       "        text-align: left;\n",
       "    }\n",
       "\n",
       "    .dataframe thead tr:last-of-type th {\n",
       "        text-align: right;\n",
       "    }\n",
       "</style>\n",
       "<table border=\"1\" class=\"dataframe\">\n",
       "  <thead>\n",
       "    <tr>\n",
       "      <th></th>\n",
       "      <th></th>\n",
       "      <th colspan=\"3\" halign=\"left\">mass</th>\n",
       "      <th colspan=\"3\" halign=\"left\">birth_year</th>\n",
       "      <th colspan=\"3\" halign=\"left\">population</th>\n",
       "    </tr>\n",
       "    <tr>\n",
       "      <th></th>\n",
       "      <th></th>\n",
       "      <th>min</th>\n",
       "      <th>median</th>\n",
       "      <th>mean</th>\n",
       "      <th>min</th>\n",
       "      <th>median</th>\n",
       "      <th>mean</th>\n",
       "      <th>min</th>\n",
       "      <th>median</th>\n",
       "      <th>mean</th>\n",
       "    </tr>\n",
       "    <tr>\n",
       "      <th>temperate_tropical</th>\n",
       "      <th>Altura_Cat</th>\n",
       "      <th></th>\n",
       "      <th></th>\n",
       "      <th></th>\n",
       "      <th></th>\n",
       "      <th></th>\n",
       "      <th></th>\n",
       "      <th></th>\n",
       "      <th></th>\n",
       "      <th></th>\n",
       "    </tr>\n",
       "  </thead>\n",
       "  <tbody>\n",
       "    <tr>\n",
       "      <th rowspan=\"3\" valign=\"top\">0</th>\n",
       "      <th>Bajo/a</th>\n",
       "      <td>75.0</td>\n",
       "      <td>75.0</td>\n",
       "      <td>75.000000</td>\n",
       "      <td>47.0</td>\n",
       "      <td>79.50</td>\n",
       "      <td>79.500000</td>\n",
       "      <td>200000.0</td>\n",
       "      <td>2.000000e+05</td>\n",
       "      <td>2.000000e+05</td>\n",
       "    </tr>\n",
       "    <tr>\n",
       "      <th>Mediano/a</th>\n",
       "      <td>74.0</td>\n",
       "      <td>81.5</td>\n",
       "      <td>86.333333</td>\n",
       "      <td>19.0</td>\n",
       "      <td>36.45</td>\n",
       "      <td>35.316667</td>\n",
       "      <td>200000.0</td>\n",
       "      <td>2.000000e+05</td>\n",
       "      <td>2.668000e+08</td>\n",
       "    </tr>\n",
       "    <tr>\n",
       "      <th>Alto/a</th>\n",
       "      <td>113.0</td>\n",
       "      <td>124.5</td>\n",
       "      <td>124.500000</td>\n",
       "      <td>41.9</td>\n",
       "      <td>47.45</td>\n",
       "      <td>47.450000</td>\n",
       "      <td>200000.0</td>\n",
       "      <td>2.110000e+07</td>\n",
       "      <td>2.110000e+07</td>\n",
       "    </tr>\n",
       "    <tr>\n",
       "      <th rowspan=\"3\" valign=\"top\">1</th>\n",
       "      <th>Bajo/a</th>\n",
       "      <td>20.0</td>\n",
       "      <td>49.0</td>\n",
       "      <td>50.600000</td>\n",
       "      <td>8.0</td>\n",
       "      <td>21.00</td>\n",
       "      <td>32.600000</td>\n",
       "      <td>30000000.0</td>\n",
       "      <td>3.000000e+09</td>\n",
       "      <td>2.806000e+09</td>\n",
       "    </tr>\n",
       "    <tr>\n",
       "      <th>Mediano/a</th>\n",
       "      <td>45.0</td>\n",
       "      <td>80.0</td>\n",
       "      <td>215.800000</td>\n",
       "      <td>29.0</td>\n",
       "      <td>46.00</td>\n",
       "      <td>106.500000</td>\n",
       "      <td>5200.0</td>\n",
       "      <td>1.500000e+09</td>\n",
       "      <td>4.889634e+09</td>\n",
       "    </tr>\n",
       "    <tr>\n",
       "      <th>Alto/a</th>\n",
       "      <td>66.0</td>\n",
       "      <td>82.0</td>\n",
       "      <td>86.666667</td>\n",
       "      <td>52.0</td>\n",
       "      <td>92.00</td>\n",
       "      <td>114.666667</td>\n",
       "      <td>45000000.0</td>\n",
       "      <td>4.500000e+08</td>\n",
       "      <td>1.665000e+09</td>\n",
       "    </tr>\n",
       "  </tbody>\n",
       "</table>\n",
       "</div>"
      ],
      "text/plain": [
       "                                mass                    birth_year         \\\n",
       "                                 min median        mean        min median   \n",
       "temperate_tropical Altura_Cat                                               \n",
       "0                  Bajo/a       75.0   75.0   75.000000       47.0  79.50   \n",
       "                   Mediano/a    74.0   81.5   86.333333       19.0  36.45   \n",
       "                   Alto/a      113.0  124.5  124.500000       41.9  47.45   \n",
       "1                  Bajo/a       20.0   49.0   50.600000        8.0  21.00   \n",
       "                   Mediano/a    45.0   80.0  215.800000       29.0  46.00   \n",
       "                   Alto/a       66.0   82.0   86.666667       52.0  92.00   \n",
       "\n",
       "                                           population                \\\n",
       "                                     mean         min        median   \n",
       "temperate_tropical Altura_Cat                                         \n",
       "0                  Bajo/a       79.500000    200000.0  2.000000e+05   \n",
       "                   Mediano/a    35.316667    200000.0  2.000000e+05   \n",
       "                   Alto/a       47.450000    200000.0  2.110000e+07   \n",
       "1                  Bajo/a       32.600000  30000000.0  3.000000e+09   \n",
       "                   Mediano/a   106.500000      5200.0  1.500000e+09   \n",
       "                   Alto/a      114.666667  45000000.0  4.500000e+08   \n",
       "\n",
       "                                             \n",
       "                                       mean  \n",
       "temperate_tropical Altura_Cat                \n",
       "0                  Bajo/a      2.000000e+05  \n",
       "                   Mediano/a   2.668000e+08  \n",
       "                   Alto/a      2.110000e+07  \n",
       "1                  Bajo/a      2.806000e+09  \n",
       "                   Mediano/a   4.889634e+09  \n",
       "                   Alto/a      1.665000e+09  "
      ]
     },
     "execution_count": 52,
     "metadata": {
      "tags": []
     },
     "output_type": "execute_result"
    }
   ],
   "source": [
    "summ2_altura_clima = personajes_df.groupby(\n",
    "    [\"temperate_tropical\",\"Altura_Cat\"])[\n",
    "    [\"mass\",\"birth_year\",\"population\"]].agg([\"min\",\"median\",\"mean\"])\n",
    "summ2_altura_clima"
   ]
  },
  {
   "cell_type": "markdown",
   "metadata": {
    "id": "gFW6X1tvzOSk"
   },
   "source": [
    "Notice that there are now multiple column indexes:"
   ]
  },
  {
   "cell_type": "code",
   "execution_count": null,
   "metadata": {
    "id": "KCNzs4ZOzOSl",
    "outputId": "f23dba6a-1cda-4399-e023-9b4da47ee622"
   },
   "outputs": [
    {
     "data": {
      "text/plain": [
       "MultiIndex([(      'mass',    'min'),\n",
       "            (      'mass', 'median'),\n",
       "            (      'mass',   'mean'),\n",
       "            ('birth_year',    'min'),\n",
       "            ('birth_year', 'median'),\n",
       "            ('birth_year',   'mean'),\n",
       "            ('population',    'min'),\n",
       "            ('population', 'median'),\n",
       "            ('population',   'mean')],\n",
       "           )"
      ]
     },
     "execution_count": 53,
     "metadata": {
      "tags": []
     },
     "output_type": "execute_result"
    }
   ],
   "source": [
    "summ2_altura_clima.columns"
   ]
  },
  {
   "cell_type": "markdown",
   "metadata": {
    "id": "XbonJ2n9zOSq"
   },
   "source": [
    "One way to combine the two levels of the index into a single name of type `Statistic_Variable`, is by using the function vectorization function `.map()` (you can see more information at: [map](https://www.w3schools.com/python/ref_func_map.asp)). The function to combine the 2 levels is: `\"_\".join`:"
   ]
  },
  {
   "cell_type": "code",
   "execution_count": null,
   "metadata": {
    "id": "VtjX_fH-zOSs",
    "outputId": "dae4e85f-b30c-4b49-9415-d51680a3237d"
   },
   "outputs": [
    {
     "data": {
      "text/html": [
       "<div>\n",
       "<style scoped>\n",
       "    .dataframe tbody tr th:only-of-type {\n",
       "        vertical-align: middle;\n",
       "    }\n",
       "\n",
       "    .dataframe tbody tr th {\n",
       "        vertical-align: top;\n",
       "    }\n",
       "\n",
       "    .dataframe thead th {\n",
       "        text-align: right;\n",
       "    }\n",
       "</style>\n",
       "<table border=\"1\" class=\"dataframe\">\n",
       "  <thead>\n",
       "    <tr style=\"text-align: right;\">\n",
       "      <th></th>\n",
       "      <th>temperate_tropical</th>\n",
       "      <th>Altura_Cat</th>\n",
       "      <th>mass_min</th>\n",
       "      <th>mass_median</th>\n",
       "      <th>mass_mean</th>\n",
       "      <th>birth_year_min</th>\n",
       "      <th>birth_year_median</th>\n",
       "      <th>birth_year_mean</th>\n",
       "      <th>population_min</th>\n",
       "      <th>population_median</th>\n",
       "      <th>population_mean</th>\n",
       "    </tr>\n",
       "  </thead>\n",
       "  <tbody>\n",
       "    <tr>\n",
       "      <th>0</th>\n",
       "      <td>0</td>\n",
       "      <td>Bajo/a</td>\n",
       "      <td>75.0</td>\n",
       "      <td>75.0</td>\n",
       "      <td>75.000000</td>\n",
       "      <td>47.0</td>\n",
       "      <td>79.50</td>\n",
       "      <td>79.500000</td>\n",
       "      <td>200000.0</td>\n",
       "      <td>2.000000e+05</td>\n",
       "      <td>2.000000e+05</td>\n",
       "    </tr>\n",
       "    <tr>\n",
       "      <th>1</th>\n",
       "      <td>0</td>\n",
       "      <td>Mediano/a</td>\n",
       "      <td>74.0</td>\n",
       "      <td>81.5</td>\n",
       "      <td>86.333333</td>\n",
       "      <td>19.0</td>\n",
       "      <td>36.45</td>\n",
       "      <td>35.316667</td>\n",
       "      <td>200000.0</td>\n",
       "      <td>2.000000e+05</td>\n",
       "      <td>2.668000e+08</td>\n",
       "    </tr>\n",
       "    <tr>\n",
       "      <th>2</th>\n",
       "      <td>0</td>\n",
       "      <td>Alto/a</td>\n",
       "      <td>113.0</td>\n",
       "      <td>124.5</td>\n",
       "      <td>124.500000</td>\n",
       "      <td>41.9</td>\n",
       "      <td>47.45</td>\n",
       "      <td>47.450000</td>\n",
       "      <td>200000.0</td>\n",
       "      <td>2.110000e+07</td>\n",
       "      <td>2.110000e+07</td>\n",
       "    </tr>\n",
       "    <tr>\n",
       "      <th>3</th>\n",
       "      <td>1</td>\n",
       "      <td>Bajo/a</td>\n",
       "      <td>20.0</td>\n",
       "      <td>49.0</td>\n",
       "      <td>50.600000</td>\n",
       "      <td>8.0</td>\n",
       "      <td>21.00</td>\n",
       "      <td>32.600000</td>\n",
       "      <td>30000000.0</td>\n",
       "      <td>3.000000e+09</td>\n",
       "      <td>2.806000e+09</td>\n",
       "    </tr>\n",
       "    <tr>\n",
       "      <th>4</th>\n",
       "      <td>1</td>\n",
       "      <td>Mediano/a</td>\n",
       "      <td>45.0</td>\n",
       "      <td>80.0</td>\n",
       "      <td>215.800000</td>\n",
       "      <td>29.0</td>\n",
       "      <td>46.00</td>\n",
       "      <td>106.500000</td>\n",
       "      <td>5200.0</td>\n",
       "      <td>1.500000e+09</td>\n",
       "      <td>4.889634e+09</td>\n",
       "    </tr>\n",
       "    <tr>\n",
       "      <th>5</th>\n",
       "      <td>1</td>\n",
       "      <td>Alto/a</td>\n",
       "      <td>66.0</td>\n",
       "      <td>82.0</td>\n",
       "      <td>86.666667</td>\n",
       "      <td>52.0</td>\n",
       "      <td>92.00</td>\n",
       "      <td>114.666667</td>\n",
       "      <td>45000000.0</td>\n",
       "      <td>4.500000e+08</td>\n",
       "      <td>1.665000e+09</td>\n",
       "    </tr>\n",
       "  </tbody>\n",
       "</table>\n",
       "</div>"
      ],
      "text/plain": [
       "   temperate_tropical Altura_Cat  mass_min  mass_median   mass_mean  \\\n",
       "0                   0     Bajo/a      75.0         75.0   75.000000   \n",
       "1                   0  Mediano/a      74.0         81.5   86.333333   \n",
       "2                   0     Alto/a     113.0        124.5  124.500000   \n",
       "3                   1     Bajo/a      20.0         49.0   50.600000   \n",
       "4                   1  Mediano/a      45.0         80.0  215.800000   \n",
       "5                   1     Alto/a      66.0         82.0   86.666667   \n",
       "\n",
       "   birth_year_min  birth_year_median  birth_year_mean  population_min  \\\n",
       "0            47.0              79.50        79.500000        200000.0   \n",
       "1            19.0              36.45        35.316667        200000.0   \n",
       "2            41.9              47.45        47.450000        200000.0   \n",
       "3             8.0              21.00        32.600000      30000000.0   \n",
       "4            29.0              46.00       106.500000          5200.0   \n",
       "5            52.0              92.00       114.666667      45000000.0   \n",
       "\n",
       "   population_median  population_mean  \n",
       "0       2.000000e+05     2.000000e+05  \n",
       "1       2.000000e+05     2.668000e+08  \n",
       "2       2.110000e+07     2.110000e+07  \n",
       "3       3.000000e+09     2.806000e+09  \n",
       "4       1.500000e+09     4.889634e+09  \n",
       "5       4.500000e+08     1.665000e+09  "
      ]
     },
     "execution_count": 54,
     "metadata": {
      "tags": []
     },
     "output_type": "execute_result"
    }
   ],
   "source": [
    "summ2_altura_clima.columns = summ2_altura_clima.columns.map(\"_\".join)  # combina nombres columna\n",
    "summ2_altura_clima = summ2_altura_clima.reset_index() # pasamos los indices fila a columnas.\n",
    "\n",
    "summ2_altura_clima"
   ]
  },
  {
   "cell_type": "markdown",
   "metadata": {
    "id": "4KJFRCUazOSz"
   },
   "source": [
    "To resolve the question posed, we need to be able to decide which statistic we want to apply to each column.\n",
    "\n",
    "We can do this using a dictionary:"
   ]
  },
  {
   "cell_type": "code",
   "execution_count": null,
   "metadata": {
    "id": "fEuZ3AvAzOS0",
    "outputId": "f8a756b5-961d-4abe-9b43-d47a272a89ce"
   },
   "outputs": [
    {
     "data": {
      "text/html": [
       "<div>\n",
       "<style scoped>\n",
       "    .dataframe tbody tr th:only-of-type {\n",
       "        vertical-align: middle;\n",
       "    }\n",
       "\n",
       "    .dataframe tbody tr th {\n",
       "        vertical-align: top;\n",
       "    }\n",
       "\n",
       "    .dataframe thead th {\n",
       "        text-align: right;\n",
       "    }\n",
       "</style>\n",
       "<table border=\"1\" class=\"dataframe\">\n",
       "  <thead>\n",
       "    <tr style=\"text-align: right;\">\n",
       "      <th></th>\n",
       "      <th>temperate_tropical</th>\n",
       "      <th>Altura_Cat</th>\n",
       "      <th>name_x</th>\n",
       "      <th>birth_year</th>\n",
       "      <th>mass</th>\n",
       "      <th>population</th>\n",
       "    </tr>\n",
       "  </thead>\n",
       "  <tbody>\n",
       "    <tr>\n",
       "      <th>0</th>\n",
       "      <td>0</td>\n",
       "      <td>Bajo/a</td>\n",
       "      <td>2</td>\n",
       "      <td>79.50</td>\n",
       "      <td>75.0</td>\n",
       "      <td>2.000000e+05</td>\n",
       "    </tr>\n",
       "    <tr>\n",
       "      <th>1</th>\n",
       "      <td>0</td>\n",
       "      <td>Mediano/a</td>\n",
       "      <td>6</td>\n",
       "      <td>36.45</td>\n",
       "      <td>74.0</td>\n",
       "      <td>2.668000e+08</td>\n",
       "    </tr>\n",
       "    <tr>\n",
       "      <th>2</th>\n",
       "      <td>0</td>\n",
       "      <td>Alto/a</td>\n",
       "      <td>2</td>\n",
       "      <td>47.45</td>\n",
       "      <td>113.0</td>\n",
       "      <td>2.110000e+07</td>\n",
       "    </tr>\n",
       "    <tr>\n",
       "      <th>3</th>\n",
       "      <td>1</td>\n",
       "      <td>Bajo/a</td>\n",
       "      <td>5</td>\n",
       "      <td>21.00</td>\n",
       "      <td>20.0</td>\n",
       "      <td>2.806000e+09</td>\n",
       "    </tr>\n",
       "    <tr>\n",
       "      <th>4</th>\n",
       "      <td>1</td>\n",
       "      <td>Mediano/a</td>\n",
       "      <td>9</td>\n",
       "      <td>46.00</td>\n",
       "      <td>45.0</td>\n",
       "      <td>4.889634e+09</td>\n",
       "    </tr>\n",
       "    <tr>\n",
       "      <th>5</th>\n",
       "      <td>1</td>\n",
       "      <td>Alto/a</td>\n",
       "      <td>3</td>\n",
       "      <td>92.00</td>\n",
       "      <td>66.0</td>\n",
       "      <td>1.665000e+09</td>\n",
       "    </tr>\n",
       "  </tbody>\n",
       "</table>\n",
       "</div>"
      ],
      "text/plain": [
       "   temperate_tropical Altura_Cat  name_x  birth_year   mass    population\n",
       "0                   0     Bajo/a       2       79.50   75.0  2.000000e+05\n",
       "1                   0  Mediano/a       6       36.45   74.0  2.668000e+08\n",
       "2                   0     Alto/a       2       47.45  113.0  2.110000e+07\n",
       "3                   1     Bajo/a       5       21.00   20.0  2.806000e+09\n",
       "4                   1  Mediano/a       9       46.00   45.0  4.889634e+09\n",
       "5                   1     Alto/a       3       92.00   66.0  1.665000e+09"
      ]
     },
     "execution_count": 55,
     "metadata": {
      "tags": []
     },
     "output_type": "execute_result"
    }
   ],
   "source": [
    "summ3_altura_clima = personajes_df.groupby(\n",
    "    [\"temperate_tropical\",\"Altura_Cat\"]).agg({'name_x': 'count', 'birth_year': 'median'\n",
    "                                              ,'mass':'min','population':'mean'})\n",
    "\n",
    "summ3_altura_clima = summ3_altura_clima.reset_index()\n",
    "summ3_altura_clima"
   ]
  },
  {
   "cell_type": "markdown",
   "metadata": {
    "id": "AuqIVLPkzOS7"
   },
   "source": [
    "Observe, for example, that there are 2 characters of short stature who were born on a planet with a non-temperate or tropical climate, with a median age of 79.5 years BBY, a minimum weight of 75 Kg and who live on planets with an average of 200,000 inhabitants.\n",
    "\n",
    "In order to identify each row with a label, we are going to combine the tropical_temperature column with the height of the character:"
   ]
  },
  {
   "cell_type": "code",
   "execution_count": null,
   "metadata": {
    "id": "xG832W5DzOS8",
    "outputId": "eaa3d229-2ce4-476c-98de-10ae92b1b7bd"
   },
   "outputs": [
    {
     "data": {
      "text/html": [
       "<div>\n",
       "<style scoped>\n",
       "    .dataframe tbody tr th:only-of-type {\n",
       "        vertical-align: middle;\n",
       "    }\n",
       "\n",
       "    .dataframe tbody tr th {\n",
       "        vertical-align: top;\n",
       "    }\n",
       "\n",
       "    .dataframe thead th {\n",
       "        text-align: right;\n",
       "    }\n",
       "</style>\n",
       "<table border=\"1\" class=\"dataframe\">\n",
       "  <thead>\n",
       "    <tr style=\"text-align: right;\">\n",
       "      <th></th>\n",
       "      <th>temperate_tropical</th>\n",
       "      <th>Altura_Cat</th>\n",
       "      <th>name_x</th>\n",
       "      <th>birth_year</th>\n",
       "      <th>mass</th>\n",
       "      <th>population</th>\n",
       "      <th>clima_altura</th>\n",
       "    </tr>\n",
       "  </thead>\n",
       "  <tbody>\n",
       "    <tr>\n",
       "      <th>0</th>\n",
       "      <td>0</td>\n",
       "      <td>Bajo/a</td>\n",
       "      <td>2</td>\n",
       "      <td>79.50</td>\n",
       "      <td>75.0</td>\n",
       "      <td>2.000000e+05</td>\n",
       "      <td>Clima Malo-Bajo/a</td>\n",
       "    </tr>\n",
       "    <tr>\n",
       "      <th>1</th>\n",
       "      <td>0</td>\n",
       "      <td>Mediano/a</td>\n",
       "      <td>6</td>\n",
       "      <td>36.45</td>\n",
       "      <td>74.0</td>\n",
       "      <td>2.668000e+08</td>\n",
       "      <td>Clima Malo-Mediano/a</td>\n",
       "    </tr>\n",
       "    <tr>\n",
       "      <th>2</th>\n",
       "      <td>0</td>\n",
       "      <td>Alto/a</td>\n",
       "      <td>2</td>\n",
       "      <td>47.45</td>\n",
       "      <td>113.0</td>\n",
       "      <td>2.110000e+07</td>\n",
       "      <td>Clima Malo-Alto/a</td>\n",
       "    </tr>\n",
       "    <tr>\n",
       "      <th>3</th>\n",
       "      <td>1</td>\n",
       "      <td>Bajo/a</td>\n",
       "      <td>5</td>\n",
       "      <td>21.00</td>\n",
       "      <td>20.0</td>\n",
       "      <td>2.806000e+09</td>\n",
       "      <td>Clima Bueno-Bajo/a</td>\n",
       "    </tr>\n",
       "    <tr>\n",
       "      <th>4</th>\n",
       "      <td>1</td>\n",
       "      <td>Mediano/a</td>\n",
       "      <td>9</td>\n",
       "      <td>46.00</td>\n",
       "      <td>45.0</td>\n",
       "      <td>4.889634e+09</td>\n",
       "      <td>Clima Bueno-Mediano/a</td>\n",
       "    </tr>\n",
       "    <tr>\n",
       "      <th>5</th>\n",
       "      <td>1</td>\n",
       "      <td>Alto/a</td>\n",
       "      <td>3</td>\n",
       "      <td>92.00</td>\n",
       "      <td>66.0</td>\n",
       "      <td>1.665000e+09</td>\n",
       "      <td>Clima Bueno-Alto/a</td>\n",
       "    </tr>\n",
       "  </tbody>\n",
       "</table>\n",
       "</div>"
      ],
      "text/plain": [
       "   temperate_tropical Altura_Cat  name_x  birth_year   mass    population  \\\n",
       "0                   0     Bajo/a       2       79.50   75.0  2.000000e+05   \n",
       "1                   0  Mediano/a       6       36.45   74.0  2.668000e+08   \n",
       "2                   0     Alto/a       2       47.45  113.0  2.110000e+07   \n",
       "3                   1     Bajo/a       5       21.00   20.0  2.806000e+09   \n",
       "4                   1  Mediano/a       9       46.00   45.0  4.889634e+09   \n",
       "5                   1     Alto/a       3       92.00   66.0  1.665000e+09   \n",
       "\n",
       "            clima_altura  \n",
       "0      Clima Malo-Bajo/a  \n",
       "1   Clima Malo-Mediano/a  \n",
       "2      Clima Malo-Alto/a  \n",
       "3     Clima Bueno-Bajo/a  \n",
       "4  Clima Bueno-Mediano/a  \n",
       "5     Clima Bueno-Alto/a  "
      ]
     },
     "execution_count": 56,
     "metadata": {
      "tags": []
     },
     "output_type": "execute_result"
    }
   ],
   "source": [
    "summ3_altura_clima[\"clima_altura\"] = pd.Series(\n",
    "    np.where(summ3_altura_clima[\"temperate_tropical\"]==0,\"Clima Malo\",\"Clima Bueno\")\n",
    "    ) + \"-\" + summ3_altura_clima[\"Altura_Cat\"].astype(str)\n",
    "\n",
    "summ3_altura_clima\n"
   ]
  },
  {
   "cell_type": "markdown",
   "metadata": {
    "id": "4PIaYN9EzOTK"
   },
   "source": [
    "To represent this Pandas graphically, we can directly use `plot.scatter()`:"
   ]
  },
  {
   "cell_type": "code",
   "execution_count": null,
   "metadata": {
    "id": "psBCMEARzOTL",
    "outputId": "cb612beb-e476-470f-93a0-2ddbcfb60657",
    "scrolled": true
   },
   "outputs": [
    {
     "data": {
      "image/png": "[encoded data removed]",
      "text/plain": [
       "<Figure size 432x288 with 2 Axes>"
      ]
     },
     "metadata": {
      "needs_background": "light",
      "tags": []
     },
     "output_type": "display_data"
    }
   ],
   "source": [
    "summ3_altura_clima.plot.scatter(x=\"birth_year\",y=\"mass\",s=20*np.log(summ3_altura_clima.population)\n",
    "                               ,c=\"temperate_tropical\");\n",
    "\n",
    "plt.gcf().subplots_adjust(bottom=0.15, left=0.15)\n",
    "plt.title(\"Groups by climate and height of the characters\");\n",
    "plt.xlabel(\"Age\");\n",
    "plt.ylabel(\"Weight\");\n",
    "plt.text(50,20,\"Age\")\n",
    "for index,x in summ3_altura_clima.iterrows():\n",
    "    plt.text(x[\"birth_year\"],x[\"mass\"]+4,x[\"clima_altura\"],horizontalalignment='center',size=8)\n",
    "plt.show()"
   ]
  },
  {
   "cell_type": "markdown",
   "metadata": {
    "id": "7Up-TX3QzOTR"
   },
   "source": [
    "Note that the 3 Bad weather groups (white balls) have higher weight characters."
   ]
  },
  {
   "cell_type": "markdown",
   "metadata": {
    "id": "mtZRf11MzOTT"
   },
   "source": [
    "#### 8.5.3. Filtered out\n",
    "\n",
    "Apart from adding `.groupby()`, we can use it, in combination, with the `.filter()` function to select groups from the original table that meet certain conditions.\n",
    "\n",
    "For example, we select the group of characters with the same climate and altitude range where the median age of this group is greater than 90 years:"
   ]
  },
  {
   "cell_type": "code",
   "execution_count": null,
   "metadata": {
    "id": "-tl90DF_zOTU",
    "outputId": "54349950-b621-4a20-dbb8-4b4f0c758202"
   },
   "outputs": [
    {
     "data": {
      "text/html": [
       "<div>\n",
       "<style scoped>\n",
       "    .dataframe tbody tr th:only-of-type {\n",
       "        vertical-align: middle;\n",
       "    }\n",
       "\n",
       "    .dataframe tbody tr th {\n",
       "        vertical-align: top;\n",
       "    }\n",
       "\n",
       "    .dataframe thead th {\n",
       "        text-align: right;\n",
       "    }\n",
       "</style>\n",
       "<table border=\"1\" class=\"dataframe\">\n",
       "  <thead>\n",
       "    <tr style=\"text-align: right;\">\n",
       "      <th></th>\n",
       "      <th>name_x</th>\n",
       "      <th>height</th>\n",
       "      <th>mass</th>\n",
       "      <th>eye_color</th>\n",
       "      <th>birth_year</th>\n",
       "      <th>gender</th>\n",
       "      <th>homeworld</th>\n",
       "      <th>name_y</th>\n",
       "      <th>climate</th>\n",
       "      <th>temperate_tropical</th>\n",
       "      <th>population</th>\n",
       "      <th>url</th>\n",
       "      <th>Altura_Cat</th>\n",
       "    </tr>\n",
       "    <tr>\n",
       "      <th>name_x</th>\n",
       "      <th></th>\n",
       "      <th></th>\n",
       "      <th></th>\n",
       "      <th></th>\n",
       "      <th></th>\n",
       "      <th></th>\n",
       "      <th></th>\n",
       "      <th></th>\n",
       "      <th></th>\n",
       "      <th></th>\n",
       "      <th></th>\n",
       "      <th></th>\n",
       "      <th></th>\n",
       "    </tr>\n",
       "  </thead>\n",
       "  <tbody>\n",
       "    <tr>\n",
       "      <th>Jar Jar Binks</th>\n",
       "      <td>Jar Jar Binks</td>\n",
       "      <td>196.0</td>\n",
       "      <td>66.0</td>\n",
       "      <td>orange</td>\n",
       "      <td>52.0</td>\n",
       "      <td>male</td>\n",
       "      <td>http://swapi.dev/api/planets/8/</td>\n",
       "      <td>Naboo</td>\n",
       "      <td>temperate</td>\n",
       "      <td>1</td>\n",
       "      <td>4.500000e+09</td>\n",
       "      <td>http://swapi.dev/api/planets/8/</td>\n",
       "      <td>Alto/a</td>\n",
       "    </tr>\n",
       "    <tr>\n",
       "      <th>Chewbacca</th>\n",
       "      <td>Chewbacca</td>\n",
       "      <td>228.0</td>\n",
       "      <td>112.0</td>\n",
       "      <td>blue</td>\n",
       "      <td>200.0</td>\n",
       "      <td>male</td>\n",
       "      <td>http://swapi.dev/api/planets/14/</td>\n",
       "      <td>Kashyyyk</td>\n",
       "      <td>tropical</td>\n",
       "      <td>1</td>\n",
       "      <td>4.500000e+07</td>\n",
       "      <td>http://swapi.dev/api/planets/14/</td>\n",
       "      <td>Alto/a</td>\n",
       "    </tr>\n",
       "    <tr>\n",
       "      <th>Ki-Adi-Mundi</th>\n",
       "      <td>Ki-Adi-Mundi</td>\n",
       "      <td>198.0</td>\n",
       "      <td>82.0</td>\n",
       "      <td>yellow</td>\n",
       "      <td>92.0</td>\n",
       "      <td>male</td>\n",
       "      <td>http://swapi.dev/api/planets/43/</td>\n",
       "      <td>Cerea</td>\n",
       "      <td>temperate</td>\n",
       "      <td>1</td>\n",
       "      <td>4.500000e+08</td>\n",
       "      <td>http://swapi.dev/api/planets/43/</td>\n",
       "      <td>Alto/a</td>\n",
       "    </tr>\n",
       "  </tbody>\n",
       "</table>\n",
       "</div>"
      ],
      "text/plain": [
       "                      name_x  height   mass eye_color  birth_year gender  \\\n",
       "name_x                                                                     \n",
       "Jar Jar Binks  Jar Jar Binks   196.0   66.0    orange        52.0   male   \n",
       "Chewbacca          Chewbacca   228.0  112.0      blue       200.0   male   \n",
       "Ki-Adi-Mundi    Ki-Adi-Mundi   198.0   82.0    yellow        92.0   male   \n",
       "\n",
       "                                      homeworld    name_y    climate  \\\n",
       "name_x                                                                 \n",
       "Jar Jar Binks   http://swapi.dev/api/planets/8/     Naboo  temperate   \n",
       "Chewbacca      http://swapi.dev/api/planets/14/  Kashyyyk   tropical   \n",
       "Ki-Adi-Mundi   http://swapi.dev/api/planets/43/     Cerea  temperate   \n",
       "\n",
       "               temperate_tropical    population  \\\n",
       "name_x                                            \n",
       "Jar Jar Binks                   1  4.500000e+09   \n",
       "Chewbacca                       1  4.500000e+07   \n",
       "Ki-Adi-Mundi                    1  4.500000e+08   \n",
       "\n",
       "                                            url Altura_Cat  \n",
       "name_x                                                      \n",
       "Jar Jar Binks   http://swapi.dev/api/planets/8/     Alto/a  \n",
       "Chewbacca      http://swapi.dev/api/planets/14/     Alto/a  \n",
       "Ki-Adi-Mundi   http://swapi.dev/api/planets/43/     Alto/a  "
      ]
     },
     "execution_count": 58,
     "metadata": {
      "tags": []
     },
     "output_type": "execute_result"
    }
   ],
   "source": [
    "seleccion1 = personajes_df.groupby(\n",
    "    [\"temperate_tropical\",\"Altura_Cat\"]).filter(lambda fila: fila['birth_year'].median() > 90)\n",
    "\n",
    "seleccion1"
   ]
  },
  {
   "cell_type": "markdown",
   "metadata": {
    "id": "9Lhvm4XNzOTe"
   },
   "source": [
    "We see how the group formed by \"Jar Jar Binks\", \"Chewbacca\", \"Ki-Adi-Mundi\" are part of the same climate and altitude group and have a median age of over 90 years."
   ]
  },
  {
   "cell_type": "markdown",
   "metadata": {
    "id": "yBnGI3yAzOTh"
   },
   "source": [
    "#### 8.5.4. Transformations\n",
    "\n",
    "Another utility of `.groupby()` combined with `.transform()` is to be able to transform the original data with aggregates, in a simple way.\n",
    "\n",
    "We compare the age of each character, with respect to the median of their climate group and height range:"
   ]
  },
  {
   "cell_type": "code",
   "execution_count": null,
   "metadata": {
    "id": "XNer6Th_zOTi",
    "outputId": "873169ed-123c-4671-d293-08284ae91c92"
   },
   "outputs": [
    {
     "data": {
      "text/plain": [
       "name_x\n",
       "Jabba Desilijic Tiure    554.0\n",
       "Chewbacca                108.0\n",
       "Palpatine                 61.0\n",
       "Jar Jar Binks             40.0\n",
       "C-3PO                     32.5\n",
       "Name: birth_year, dtype: float64"
      ]
     },
     "execution_count": 59,
     "metadata": {
      "tags": []
     },
     "output_type": "execute_result"
    }
   ],
   "source": [
    "compara1 = personajes_df.groupby(\n",
    "    [\"temperate_tropical\",\"Altura_Cat\"]).birth_year.transform(lambda x: np.abs(x - x.median()))\n",
    "\n",
    "compara1.sort_values(ascending=False).head()"
   ]
  },
  {
   "cell_type": "markdown",
   "metadata": {
    "id": "I7w590pSzOT0"
   },
   "source": [
    "Notice how \"Jabba Desilijic Tiure\" has a difference of 554 years over the average of his group."
   ]
  },
  {
   "cell_type": "markdown",
   "metadata": {
    "id": "eh9ljA8-zOT3"
   },
   "source": [
    "#### 8.5.5. Application of functions\n",
    "\n",
    "Finally, to gain even more flexibility in transforming data, `.groupby()` is combined with `.apply()` to allow you to selectively apply transformations to certain columns in the DataFrame:"
   ]
  },
  {
   "cell_type": "code",
   "execution_count": null,
   "metadata": {
    "id": "iL2nKl4mzOT8",
    "outputId": "128b9404-3aba-4bb5-e5ea-ce718e9efc12"
   },
   "outputs": [
    {
     "data": {
      "text/html": [
       "<div>\n",
       "<style scoped>\n",
       "    .dataframe tbody tr th:only-of-type {\n",
       "        vertical-align: middle;\n",
       "    }\n",
       "\n",
       "    .dataframe tbody tr th {\n",
       "        vertical-align: top;\n",
       "    }\n",
       "\n",
       "    .dataframe thead th {\n",
       "        text-align: right;\n",
       "    }\n",
       "</style>\n",
       "<table border=\"1\" class=\"dataframe\">\n",
       "  <thead>\n",
       "    <tr style=\"text-align: right;\">\n",
       "      <th></th>\n",
       "      <th>name_x</th>\n",
       "      <th>height</th>\n",
       "      <th>mass</th>\n",
       "      <th>eye_color</th>\n",
       "      <th>birth_year</th>\n",
       "      <th>gender</th>\n",
       "      <th>homeworld</th>\n",
       "      <th>name_y</th>\n",
       "      <th>climate</th>\n",
       "      <th>temperate_tropical</th>\n",
       "      <th>population</th>\n",
       "      <th>url</th>\n",
       "      <th>Altura_Cat</th>\n",
       "      <th>Edad_c</th>\n",
       "    </tr>\n",
       "    <tr>\n",
       "      <th>name_x</th>\n",
       "      <th></th>\n",
       "      <th></th>\n",
       "      <th></th>\n",
       "      <th></th>\n",
       "      <th></th>\n",
       "      <th></th>\n",
       "      <th></th>\n",
       "      <th></th>\n",
       "      <th></th>\n",
       "      <th></th>\n",
       "      <th></th>\n",
       "      <th></th>\n",
       "      <th></th>\n",
       "      <th></th>\n",
       "    </tr>\n",
       "  </thead>\n",
       "  <tbody>\n",
       "    <tr>\n",
       "      <th>Luke Skywalker</th>\n",
       "      <td>Luke Skywalker</td>\n",
       "      <td>172.0</td>\n",
       "      <td>77.0</td>\n",
       "      <td>blue</td>\n",
       "      <td>19.0</td>\n",
       "      <td>male</td>\n",
       "      <td>http://swapi.dev/api/planets/1/</td>\n",
       "      <td>Tatooine</td>\n",
       "      <td>arid</td>\n",
       "      <td>0</td>\n",
       "      <td>200000.0</td>\n",
       "      <td>http://swapi.dev/api/planets/1/</td>\n",
       "      <td>Mediano/a</td>\n",
       "      <td>-17.45</td>\n",
       "    </tr>\n",
       "    <tr>\n",
       "      <th>C-3PO</th>\n",
       "      <td>C-3PO</td>\n",
       "      <td>167.0</td>\n",
       "      <td>75.0</td>\n",
       "      <td>yellow</td>\n",
       "      <td>112.0</td>\n",
       "      <td>none</td>\n",
       "      <td>http://swapi.dev/api/planets/1/</td>\n",
       "      <td>Tatooine</td>\n",
       "      <td>arid</td>\n",
       "      <td>0</td>\n",
       "      <td>200000.0</td>\n",
       "      <td>http://swapi.dev/api/planets/1/</td>\n",
       "      <td>Bajo/a</td>\n",
       "      <td>32.50</td>\n",
       "    </tr>\n",
       "    <tr>\n",
       "      <th>Darth Vader</th>\n",
       "      <td>Darth Vader</td>\n",
       "      <td>202.0</td>\n",
       "      <td>136.0</td>\n",
       "      <td>yellow</td>\n",
       "      <td>41.9</td>\n",
       "      <td>male</td>\n",
       "      <td>http://swapi.dev/api/planets/1/</td>\n",
       "      <td>Tatooine</td>\n",
       "      <td>arid</td>\n",
       "      <td>0</td>\n",
       "      <td>200000.0</td>\n",
       "      <td>http://swapi.dev/api/planets/1/</td>\n",
       "      <td>Alto/a</td>\n",
       "      <td>-5.55</td>\n",
       "    </tr>\n",
       "    <tr>\n",
       "      <th>Owen Lars</th>\n",
       "      <td>Owen Lars</td>\n",
       "      <td>178.0</td>\n",
       "      <td>120.0</td>\n",
       "      <td>blue</td>\n",
       "      <td>52.0</td>\n",
       "      <td>male</td>\n",
       "      <td>http://swapi.dev/api/planets/1/</td>\n",
       "      <td>Tatooine</td>\n",
       "      <td>arid</td>\n",
       "      <td>0</td>\n",
       "      <td>200000.0</td>\n",
       "      <td>http://swapi.dev/api/planets/1/</td>\n",
       "      <td>Mediano/a</td>\n",
       "      <td>15.55</td>\n",
       "    </tr>\n",
       "    <tr>\n",
       "      <th>Beru Whitesun lars</th>\n",
       "      <td>Beru Whitesun lars</td>\n",
       "      <td>165.0</td>\n",
       "      <td>75.0</td>\n",
       "      <td>blue</td>\n",
       "      <td>47.0</td>\n",
       "      <td>female</td>\n",
       "      <td>http://swapi.dev/api/planets/1/</td>\n",
       "      <td>Tatooine</td>\n",
       "      <td>arid</td>\n",
       "      <td>0</td>\n",
       "      <td>200000.0</td>\n",
       "      <td>http://swapi.dev/api/planets/1/</td>\n",
       "      <td>Bajo/a</td>\n",
       "      <td>-32.50</td>\n",
       "    </tr>\n",
       "  </tbody>\n",
       "</table>\n",
       "</div>"
      ],
      "text/plain": [
       "                                name_x  height   mass eye_color  birth_year  \\\n",
       "name_x                                                                        \n",
       "Luke Skywalker          Luke Skywalker   172.0   77.0      blue        19.0   \n",
       "C-3PO                            C-3PO   167.0   75.0    yellow       112.0   \n",
       "Darth Vader                Darth Vader   202.0  136.0    yellow        41.9   \n",
       "Owen Lars                    Owen Lars   178.0  120.0      blue        52.0   \n",
       "Beru Whitesun lars  Beru Whitesun lars   165.0   75.0      blue        47.0   \n",
       "\n",
       "                    gender                        homeworld    name_y climate  \\\n",
       "name_x                                                                          \n",
       "Luke Skywalker        male  http://swapi.dev/api/planets/1/  Tatooine    arid   \n",
       "C-3PO                 none  http://swapi.dev/api/planets/1/  Tatooine    arid   \n",
       "Darth Vader           male  http://swapi.dev/api/planets/1/  Tatooine    arid   \n",
       "Owen Lars             male  http://swapi.dev/api/planets/1/  Tatooine    arid   \n",
       "Beru Whitesun lars  female  http://swapi.dev/api/planets/1/  Tatooine    arid   \n",
       "\n",
       "                    temperate_tropical  population  \\\n",
       "name_x                                               \n",
       "Luke Skywalker                       0    200000.0   \n",
       "C-3PO                                0    200000.0   \n",
       "Darth Vader                          0    200000.0   \n",
       "Owen Lars                            0    200000.0   \n",
       "Beru Whitesun lars                   0    200000.0   \n",
       "\n",
       "                                                url Altura_Cat  Edad_c  \n",
       "name_x                                                                  \n",
       "Luke Skywalker      http://swapi.dev/api/planets/1/  Mediano/a  -17.45  \n",
       "C-3PO               http://swapi.dev/api/planets/1/     Bajo/a   32.50  \n",
       "Darth Vader         http://swapi.dev/api/planets/1/     Alto/a   -5.55  \n",
       "Owen Lars           http://swapi.dev/api/planets/1/  Mediano/a   15.55  \n",
       "Beru Whitesun lars  http://swapi.dev/api/planets/1/     Bajo/a  -32.50  "
      ]
     },
     "execution_count": 60,
     "metadata": {
      "tags": []
     },
     "output_type": "execute_result"
    }
   ],
   "source": [
    "def centrado(x):\n",
    "    x['Edad_c'] = x['birth_year']-x['birth_year'].median()\n",
    "    return x\n",
    "\n",
    "personajes_df2 = personajes_df.groupby([\"temperate_tropical\",\"Altura_Cat\"]).apply(centrado)\n",
    "\n",
    "personajes_df2.head()"
   ]
  },
  {
   "cell_type": "markdown",
   "metadata": {
    "id": "XLpSygszzOUF"
   },
   "source": [
    "Notice that the new Age_c column lets you know that Luke is 19 years below the median for his climate group (bad) and altitude range (medium)."
   ]
  },
  {
   "cell_type": "markdown",
   "metadata": {
    "id": "r6lP2TbOzOUI"
   },
   "source": [
    "### 8.6. Pivot Tables\n",
    "\n",
    "`.pivot_table()` pivot tables are an intermediate solution between `pd.crosstabs()`, aimed at obtaining cross tables (rows x columns) and the aggregations performed with `.groupby()`.\n",
    "\n",
    "That is, apply different aggregation functions, on predefined row and column crossings:"
   ]
  },
  {
   "cell_type": "code",
   "execution_count": null,
   "metadata": {
    "id": "mNSp812MzOUL",
    "outputId": "be67cdd7-dbea-4ade-e2e6-10b5f83b4f1a"
   },
   "outputs": [
    {
     "data": {
      "text/html": [
       "<div>\n",
       "<style scoped>\n",
       "    .dataframe tbody tr th:only-of-type {\n",
       "        vertical-align: middle;\n",
       "    }\n",
       "\n",
       "    .dataframe tbody tr th {\n",
       "        vertical-align: top;\n",
       "    }\n",
       "\n",
       "    .dataframe thead th {\n",
       "        text-align: right;\n",
       "    }\n",
       "</style>\n",
       "<table border=\"1\" class=\"dataframe\">\n",
       "  <thead>\n",
       "    <tr style=\"text-align: right;\">\n",
       "      <th>temperate_tropical</th>\n",
       "      <th>0</th>\n",
       "      <th>1</th>\n",
       "    </tr>\n",
       "    <tr>\n",
       "      <th>Altura_Cat</th>\n",
       "      <th></th>\n",
       "      <th></th>\n",
       "    </tr>\n",
       "  </thead>\n",
       "  <tbody>\n",
       "    <tr>\n",
       "      <th>Bajo/a</th>\n",
       "      <td>79.500000</td>\n",
       "      <td>32.600000</td>\n",
       "    </tr>\n",
       "    <tr>\n",
       "      <th>Mediano/a</th>\n",
       "      <td>35.316667</td>\n",
       "      <td>106.500000</td>\n",
       "    </tr>\n",
       "    <tr>\n",
       "      <th>Alto/a</th>\n",
       "      <td>47.450000</td>\n",
       "      <td>114.666667</td>\n",
       "    </tr>\n",
       "  </tbody>\n",
       "</table>\n",
       "</div>"
      ],
      "text/plain": [
       "temperate_tropical          0           1\n",
       "Altura_Cat                               \n",
       "Bajo/a              79.500000   32.600000\n",
       "Mediano/a           35.316667  106.500000\n",
       "Alto/a              47.450000  114.666667"
      ]
     },
     "execution_count": 61,
     "metadata": {
      "tags": []
     },
     "output_type": "execute_result"
    }
   ],
   "source": [
    "personajes_df.pivot_table(\"birth_year\", index='Altura_Cat', columns='temperate_tropical')"
   ]
  },
  {
   "cell_type": "markdown",
   "metadata": {
    "id": "DsATkOSPzOUZ"
   },
   "source": [
    "This table informs us of the average age BBY ('birth_year') over the crossing of the altitude and climate categories.\n",
    "\n",
    "Pivot table, allows to create multiple index in rows and columns:"
   ]
  },
  {
   "cell_type": "code",
   "execution_count": null,
   "metadata": {
    "id": "PooTwY6wzOUb",
    "outputId": "70ed9484-c39d-4afc-de7a-c194160b4377"
   },
   "outputs": [
    {
     "data": {
      "text/html": [
       "<div>\n",
       "<style scoped>\n",
       "    .dataframe tbody tr th:only-of-type {\n",
       "        vertical-align: middle;\n",
       "    }\n",
       "\n",
       "    .dataframe tbody tr th {\n",
       "        vertical-align: top;\n",
       "    }\n",
       "\n",
       "    .dataframe thead th {\n",
       "        text-align: right;\n",
       "    }\n",
       "</style>\n",
       "<table border=\"1\" class=\"dataframe\">\n",
       "  <thead>\n",
       "    <tr style=\"text-align: right;\">\n",
       "      <th></th>\n",
       "      <th>temperate_tropical</th>\n",
       "      <th>0</th>\n",
       "      <th>1</th>\n",
       "    </tr>\n",
       "    <tr>\n",
       "      <th>gender</th>\n",
       "      <th>Altura_Cat</th>\n",
       "      <th></th>\n",
       "      <th></th>\n",
       "    </tr>\n",
       "  </thead>\n",
       "  <tbody>\n",
       "    <tr>\n",
       "      <th rowspan=\"2\" valign=\"top\">female</th>\n",
       "      <th>Bajo/a</th>\n",
       "      <td>47.000000</td>\n",
       "      <td>19.000000</td>\n",
       "    </tr>\n",
       "    <tr>\n",
       "      <th>Mediano/a</th>\n",
       "      <td>NaN</td>\n",
       "      <td>47.000000</td>\n",
       "    </tr>\n",
       "    <tr>\n",
       "      <th>hermaphrodite</th>\n",
       "      <th>Mediano/a</th>\n",
       "      <td>NaN</td>\n",
       "      <td>600.000000</td>\n",
       "    </tr>\n",
       "    <tr>\n",
       "      <th rowspan=\"3\" valign=\"top\">male</th>\n",
       "      <th>Bajo/a</th>\n",
       "      <td>NaN</td>\n",
       "      <td>37.000000</td>\n",
       "    </tr>\n",
       "    <tr>\n",
       "      <th>Mediano/a</th>\n",
       "      <td>35.316667</td>\n",
       "      <td>44.083333</td>\n",
       "    </tr>\n",
       "    <tr>\n",
       "      <th>Alto/a</th>\n",
       "      <td>47.450000</td>\n",
       "      <td>114.666667</td>\n",
       "    </tr>\n",
       "    <tr>\n",
       "      <th>none</th>\n",
       "      <th>Bajo/a</th>\n",
       "      <td>112.000000</td>\n",
       "      <td>33.000000</td>\n",
       "    </tr>\n",
       "  </tbody>\n",
       "</table>\n",
       "</div>"
      ],
      "text/plain": [
       "temperate_tropical                 0           1\n",
       "gender        Altura_Cat                        \n",
       "female        Bajo/a       47.000000   19.000000\n",
       "              Mediano/a          NaN   47.000000\n",
       "hermaphrodite Mediano/a          NaN  600.000000\n",
       "male          Bajo/a             NaN   37.000000\n",
       "              Mediano/a    35.316667   44.083333\n",
       "              Alto/a       47.450000  114.666667\n",
       "none          Bajo/a      112.000000   33.000000"
      ]
     },
     "execution_count": 62,
     "metadata": {
      "tags": []
     },
     "output_type": "execute_result"
    }
   ],
   "source": [
    "personajes_df.pivot_table(\"birth_year\", index=['gender','Altura_Cat'], columns='temperate_tropical')"
   ]
  },
  {
   "cell_type": "markdown",
   "metadata": {
    "id": "-eBUXMxGzOUn"
   },
   "source": [
    "Also, it allows selecting which aggregation function is required at each defined junction:\n"
   ]
  },
  {
   "cell_type": "code",
   "execution_count": null,
   "metadata": {
    "id": "6k1MHtTdzOUq",
    "outputId": "1990bd70-e819-4b11-d5b2-84834d3d734b"
   },
   "outputs": [
    {
     "data": {
      "text/html": [
       "<div>\n",
       "<style scoped>\n",
       "    .dataframe tbody tr th:only-of-type {\n",
       "        vertical-align: middle;\n",
       "    }\n",
       "\n",
       "    .dataframe tbody tr th {\n",
       "        vertical-align: top;\n",
       "    }\n",
       "\n",
       "    .dataframe thead tr th {\n",
       "        text-align: left;\n",
       "    }\n",
       "\n",
       "    .dataframe thead tr:last-of-type th {\n",
       "        text-align: right;\n",
       "    }\n",
       "</style>\n",
       "<table border=\"1\" class=\"dataframe\">\n",
       "  <thead>\n",
       "    <tr>\n",
       "      <th></th>\n",
       "      <th colspan=\"2\" halign=\"left\">birth_year</th>\n",
       "      <th colspan=\"2\" halign=\"left\">mass</th>\n",
       "      <th colspan=\"2\" halign=\"left\">name_x</th>\n",
       "      <th colspan=\"2\" halign=\"left\">population</th>\n",
       "    </tr>\n",
       "    <tr>\n",
       "      <th>temperate_tropical</th>\n",
       "      <th>0</th>\n",
       "      <th>1</th>\n",
       "      <th>0</th>\n",
       "      <th>1</th>\n",
       "      <th>0</th>\n",
       "      <th>1</th>\n",
       "      <th>0</th>\n",
       "      <th>1</th>\n",
       "    </tr>\n",
       "    <tr>\n",
       "      <th>Altura_Cat</th>\n",
       "      <th></th>\n",
       "      <th></th>\n",
       "      <th></th>\n",
       "      <th></th>\n",
       "      <th></th>\n",
       "      <th></th>\n",
       "      <th></th>\n",
       "      <th></th>\n",
       "    </tr>\n",
       "  </thead>\n",
       "  <tbody>\n",
       "    <tr>\n",
       "      <th>Bajo/a</th>\n",
       "      <td>79.50</td>\n",
       "      <td>21.0</td>\n",
       "      <td>75.0</td>\n",
       "      <td>20.0</td>\n",
       "      <td>2</td>\n",
       "      <td>5</td>\n",
       "      <td>200000.0</td>\n",
       "      <td>2.806000e+09</td>\n",
       "    </tr>\n",
       "    <tr>\n",
       "      <th>Mediano/a</th>\n",
       "      <td>36.45</td>\n",
       "      <td>46.0</td>\n",
       "      <td>74.0</td>\n",
       "      <td>45.0</td>\n",
       "      <td>6</td>\n",
       "      <td>9</td>\n",
       "      <td>266800000.0</td>\n",
       "      <td>4.889634e+09</td>\n",
       "    </tr>\n",
       "    <tr>\n",
       "      <th>Alto/a</th>\n",
       "      <td>47.45</td>\n",
       "      <td>92.0</td>\n",
       "      <td>113.0</td>\n",
       "      <td>66.0</td>\n",
       "      <td>2</td>\n",
       "      <td>3</td>\n",
       "      <td>21100000.0</td>\n",
       "      <td>1.665000e+09</td>\n",
       "    </tr>\n",
       "  </tbody>\n",
       "</table>\n",
       "</div>"
      ],
      "text/plain": [
       "                   birth_year         mass       name_x      population  \\\n",
       "temperate_tropical          0     1      0     1      0  1            0   \n",
       "Altura_Cat                                                                \n",
       "Bajo/a                  79.50  21.0   75.0  20.0      2  5     200000.0   \n",
       "Mediano/a               36.45  46.0   74.0  45.0      6  9  266800000.0   \n",
       "Alto/a                  47.45  92.0  113.0  66.0      2  3   21100000.0   \n",
       "\n",
       "                                  \n",
       "temperate_tropical             1  \n",
       "Altura_Cat                        \n",
       "Bajo/a              2.806000e+09  \n",
       "Mediano/a           4.889634e+09  \n",
       "Alto/a              1.665000e+09  "
      ]
     },
     "execution_count": 63,
     "metadata": {
      "tags": []
     },
     "output_type": "execute_result"
    }
   ],
   "source": [
    "personalizarDict = {'name_x': 'count', 'birth_year': 'median'\n",
    "                                              ,'mass':'min','population':'mean'}\n",
    "personajes_df.pivot_table(index='Altura_Cat', columns='temperate_tropical'\n",
    "                          , aggfunc=personalizarDict)"
   ]
  },
  {
   "cell_type": "markdown",
   "metadata": {
    "id": "xFTChbQqzOVC"
   },
   "source": [
    "Notice how the same table as in the exercise with `.agg()` has been obtained, but now, with a different orientation of rows and columns."
   ]
  },
  {
   "cell_type": "markdown",
   "metadata": {
    "id": "a-xhLCgMzOVE"
   },
   "source": [
    "### 8.7. Management of Dates and Times (DATETIME)\n",
    "\n",
    "The library for managing dates and times in Python is `datetime`. In addition, the `dateutil` extended functionality library is also used:"
   ]
  },
  {
   "cell_type": "code",
   "execution_count": null,
   "metadata": {
    "id": "9P_nlszTzOVF",
    "lines_to_next_cell": 0
   },
   "outputs": [],
   "source": [
    "from datetime import datetime\n",
    "from dateutil import parser"
   ]
  },
  {
   "cell_type": "markdown",
   "metadata": {
    "id": "TEQ5OyARzOVO"
   },
   "source": [
    "#### 8.7.1. Create Dates Hours\n",
    "\n",
    "To create dates:"
   ]
  },
  {
   "cell_type": "code",
   "execution_count": null,
   "metadata": {
    "id": "77v8ce1UzOVT"
   },
   "outputs": [],
   "source": [
    "fecha = datetime(year=2020, month=9, day=7) # con datetime"
   ]
  },
  {
   "cell_type": "markdown",
   "metadata": {
    "id": "IzibXTlozOVg"
   },
   "source": [
    "#### 8.7.2. Get Components\n",
    "\n",
    "To obtain the months and days of the week in Spanish:"
   ]
  },
  {
   "cell_type": "code",
   "execution_count": null,
   "metadata": {
    "id": "KVisUAhvzOVh",
    "outputId": "1a3d8e88-77ed-4ed3-d168-fceb0c00c49c"
   },
   "outputs": [
    {
     "data": {
      "text/plain": [
       "'lunes'"
      ]
     },
     "execution_count": 66,
     "metadata": {
      "tags": []
     },
     "output_type": "execute_result"
    }
   ],
   "source": [
    "import locale\n",
    "\n",
    "locale.setlocale(locale.LC_TIME, 'es_ES.UTF-8')\n",
    "\n",
    "fecha.strftime('%A')"
   ]
  },
  {
   "cell_type": "markdown",
   "metadata": {
    "id": "09EJOhPwzOVs"
   },
   "source": [
    "More information about other components can be found in the [strftime section](https://docs.python.org/3/library/datetime.html#strftime-and-strptime-behavior), or in the [datetime] documentation (https://docs.python.org/3/library/datetime.html) from Python."
   ]
  },
  {
   "cell_type": "markdown",
   "metadata": {
    "id": "-AO1V8QuzOVu"
   },
   "source": [
    "#### 8.7.3. Datetime and Numpy\n",
    "\n",
    "We can define arrays of datetime64 data type:"
   ]
  },
  {
   "cell_type": "code",
   "execution_count": null,
   "metadata": {
    "id": "QJ0CweW_zOVy",
    "outputId": "953cf9c0-4213-4993-b67a-d5132b99082f"
   },
   "outputs": [
    {
     "data": {
      "text/plain": [
       "array('2020-09-07', dtype='datetime64[D]')"
      ]
     },
     "execution_count": 67,
     "metadata": {
      "tags": []
     },
     "output_type": "execute_result"
    }
   ],
   "source": [
    "fecha = np.array('2020-09-07', dtype=np.datetime64)\n",
    "fecha"
   ]
  },
  {
   "cell_type": "markdown",
   "metadata": {
    "id": "cF4TS4ztzOWI"
   },
   "source": [
    "Now, we can optimally perform vectorized operations in numpy:"
   ]
  },
  {
   "cell_type": "code",
   "execution_count": null,
   "metadata": {
    "id": "YTYeB6eKzOWL",
    "outputId": "07afb21d-6ecf-422d-a98a-9ca18a8a22c9"
   },
   "outputs": [
    {
     "data": {
      "text/plain": [
       "array(['2020-09-07', '2020-09-08', '2020-09-09', '2020-09-10',\n",
       "       '2020-09-11', '2020-09-12', '2020-09-13', '2020-09-14',\n",
       "       '2020-09-15', '2020-09-16', '2020-09-17', '2020-09-18'],\n",
       "      dtype='datetime64[D]')"
      ]
     },
     "execution_count": 68,
     "metadata": {
      "tags": []
     },
     "output_type": "execute_result"
    }
   ],
   "source": [
    "fecha + np.arange(12)"
   ]
  },
  {
   "cell_type": "markdown",
   "metadata": {
    "id": "2lhSBaQEzOWV"
   },
   "source": [
    "Also, we can declare datetime with date and time:"
   ]
  },
  {
   "cell_type": "code",
   "execution_count": null,
   "metadata": {
    "id": "dHjjMI5WzOWX",
    "outputId": "7e04cac1-e25f-4677-c1d0-a5330d35639c"
   },
   "outputs": [
    {
     "data": {
      "text/plain": [
       "numpy.datetime64('2020-09-07T12:00')"
      ]
     },
     "execution_count": 69,
     "metadata": {
      "tags": []
     },
     "output_type": "execute_result"
    }
   ],
   "source": [
    "np.datetime64('2020-09-07 12:00')"
   ]
  },
  {
   "cell_type": "markdown",
   "metadata": {
    "id": "m6mWlNWTzOWj"
   },
   "source": [
    "#### 8.7.4. Datetime and Pandas\n",
    "\n",
    "To define dates:"
   ]
  },
  {
   "cell_type": "code",
   "execution_count": null,
   "metadata": {
    "id": "0gz8KdBXzOWl",
    "outputId": "aac3d3ea-e810-499b-b479-908929eac2f7"
   },
   "outputs": [
    {
     "data": {
      "text/plain": [
       "Timestamp('2020-09-07 00:00:00')"
      ]
     },
     "execution_count": 70,
     "metadata": {
      "tags": []
     },
     "output_type": "execute_result"
    }
   ],
   "source": [
    "fecha = pd.to_datetime(\"2020-9-7\")\n",
    "fecha"
   ]
  },
  {
   "cell_type": "markdown",
   "metadata": {
    "id": "SzmL7ZsrzOWt"
   },
   "source": [
    "Turn into:"
   ]
  },
  {
   "cell_type": "code",
   "execution_count": null,
   "metadata": {
    "id": "NL1y64wDzOWv",
    "outputId": "14a7776f-d67f-41d1-e81f-8567ea49c7d9"
   },
   "outputs": [
    {
     "data": {
      "text/plain": [
       "'lunes, 07 de 09 de 2020'"
      ]
     },
     "execution_count": 71,
     "metadata": {
      "tags": []
     },
     "output_type": "execute_result"
    }
   ],
   "source": [
    "fecha.strftime(\"%A, %d de %m de %Y\")"
   ]
  },
  {
   "cell_type": "markdown",
   "metadata": {
    "id": "AaCbm0_8zOW4"
   },
   "source": [
    "Vectorize operations:"
   ]
  },
  {
   "cell_type": "code",
   "execution_count": null,
   "metadata": {
    "id": "N8U1GjlozOW5",
    "outputId": "2d968f4b-c1de-4ef3-e119-d73dd643de9f"
   },
   "outputs": [
    {
     "data": {
      "text/plain": [
       "DatetimeIndex(['2020-09-07', '2020-09-08', '2020-09-09', '2020-09-10',\n",
       "               '2020-09-11', '2020-09-12', '2020-09-13', '2020-09-14',\n",
       "               '2020-09-15', '2020-09-16', '2020-09-17', '2020-09-18'],\n",
       "              dtype='datetime64[ns]', freq=None)"
      ]
     },
     "execution_count": 72,
     "metadata": {
      "tags": []
     },
     "output_type": "execute_result"
    }
   ],
   "source": [
    "fecha + pd.to_timedelta(np.arange(12), 'D')"
   ]
  },
  {
   "cell_type": "markdown",
   "metadata": {
    "id": "ot2NN58MzOXB"
   },
   "source": [
    "#####  8.7.4.1. Pandas with Datetime Indexing \n",
    "\n",
    "Combining both features is very useful:"
   ]
  },
  {
   "cell_type": "code",
   "execution_count": null,
   "metadata": {
    "id": "yqisnWqIzOXC",
    "outputId": "f47fbcdb-f458-46fa-f413-165caf122c5c"
   },
   "outputs": [
    {
     "data": {
      "text/plain": [
       "2019-08-07    0\n",
       "2019-09-07    1\n",
       "2020-08-07    2\n",
       "2020-09-07    3\n",
       "dtype: int64"
      ]
     },
     "execution_count": 73,
     "metadata": {
      "tags": []
     },
     "output_type": "execute_result"
    }
   ],
   "source": [
    "index = pd.DatetimeIndex(['2019-08-07', '2019-09-07',\n",
    "                          '2020-08-07', '2020-09-07'])\n",
    "fecha = pd.Series([0, 1, 2, 3], index=index)\n",
    "fecha"
   ]
  },
  {
   "cell_type": "markdown",
   "metadata": {
    "id": "6Z5QlBgZzOXL"
   },
   "source": [
    "It can be selected by ranges:"
   ]
  },
  {
   "cell_type": "code",
   "execution_count": null,
   "metadata": {
    "id": "FkF6br79zOXM",
    "outputId": "58a2e3a3-cc12-448a-d63d-50482edbb1f8"
   },
   "outputs": [
    {
     "data": {
      "text/plain": [
       "2019-08-07    0\n",
       "2019-09-07    1\n",
       "2020-08-07    2\n",
       "dtype: int64"
      ]
     },
     "execution_count": 74,
     "metadata": {
      "tags": []
     },
     "output_type": "execute_result"
    }
   ],
   "source": [
    "fecha['2019-08-07':'2020-08-07']"
   ]
  },
  {
   "cell_type": "markdown",
   "metadata": {
    "id": "TAbBCN-UzOXo"
   },
   "source": [
    "Even just by year:"
   ]
  },
  {
   "cell_type": "code",
   "execution_count": null,
   "metadata": {
    "id": "RU_lyuhdzOXp",
    "outputId": "d41ef070-a2fb-41c4-9420-34bb50c47af6"
   },
   "outputs": [
    {
     "data": {
      "text/plain": [
       "2020-08-07    2\n",
       "2020-09-07    3\n",
       "dtype: int64"
      ]
     },
     "execution_count": 75,
     "metadata": {
      "tags": []
     },
     "output_type": "execute_result"
    }
   ],
   "source": [
    "fecha['2020']"
   ]
  },
  {
   "cell_type": "markdown",
   "metadata": {
    "id": "apUPvWG_zOXx"
   },
   "source": [
    "#### 8.7.5. Panda Time Series\n",
    "\n",
    "To define a pandas datetime series:"
   ]
  },
  {
   "cell_type": "code",
   "execution_count": null,
   "metadata": {
    "id": "iMmRgxPSzOXz",
    "outputId": "86beb82f-3ed0-4f02-b392-6480918d0473"
   },
   "outputs": [
    {
     "data": {
      "text/plain": [
       "DatetimeIndex(['2019-08-07', '2019-09-07', '2020-08-07', '2020-09-07'], dtype='datetime64[ns]', freq=None)"
      ]
     },
     "execution_count": 76,
     "metadata": {
      "tags": []
     },
     "output_type": "execute_result"
    }
   ],
   "source": [
    "fecha = pd.to_datetime(['2019-08-07', '2019-09-07',\n",
    "                          '2020-08-07', '2020-09-07'])\n",
    "fecha"
   ]
  },
  {
   "cell_type": "markdown",
   "metadata": {
    "id": "9QzhLsJIzOX6"
   },
   "source": [
    "Convert to daily rate:"
   ]
  },
  {
   "cell_type": "code",
   "execution_count": null,
   "metadata": {
    "id": "XtJ5R8kDzOX8",
    "outputId": "36d02536-0412-4fdb-e3e7-abb84a70f5f4"
   },
   "outputs": [
    {
     "data": {
      "text/plain": [
       "PeriodIndex(['2019-08-07', '2019-09-07', '2020-08-07', '2020-09-07'], dtype='period[D]', freq='D')"
      ]
     },
     "execution_count": 77,
     "metadata": {
      "tags": []
     },
     "output_type": "execute_result"
    }
   ],
   "source": [
    "fecha.to_period('D')"
   ]
  },
  {
   "cell_type": "markdown",
   "metadata": {
    "id": "BUFt2ZGGzOYE"
   },
   "source": [
    "subtract dates:"
   ]
  },
  {
   "cell_type": "code",
   "execution_count": null,
   "metadata": {
    "id": "cwv0U2lBzOYH",
    "outputId": "45fb4e21-8882-4978-b5b6-08d204705766"
   },
   "outputs": [
    {
     "data": {
      "text/plain": [
       "TimedeltaIndex(['0 days', '31 days', '366 days', '397 days'], dtype='timedelta64[ns]', freq=None)"
      ]
     },
     "execution_count": 78,
     "metadata": {
      "tags": []
     },
     "output_type": "execute_result"
    }
   ],
   "source": [
    "fecha - fecha[0]"
   ]
  },
  {
   "cell_type": "markdown",
   "metadata": {
    "id": "cA0uGSVHzOYQ"
   },
   "source": [
    "#### 8.7.6. Date Sequences\n",
    "\n",
    "To define a sequence:"
   ]
  },
  {
   "cell_type": "code",
   "execution_count": null,
   "metadata": {
    "id": "KV2dOQgyzOYS",
    "outputId": "2e318ab2-42b5-4eea-eb47-be3ec1cfecdb"
   },
   "outputs": [
    {
     "data": {
      "text/plain": [
       "DatetimeIndex(['2020-09-03', '2020-09-04', '2020-09-05', '2020-09-06',\n",
       "               '2020-09-07'],\n",
       "              dtype='datetime64[ns]', freq='D')"
      ]
     },
     "execution_count": 79,
     "metadata": {
      "tags": []
     },
     "output_type": "execute_result"
    }
   ],
   "source": [
    "pd.date_range('2020-09-03', '2020-09-07')"
   ]
  },
  {
   "cell_type": "markdown",
   "metadata": {
    "id": "mt1MPipXzOYb"
   },
   "source": [
    "Or, specifying the length of the sequence and the periodicity:"
   ]
  },
  {
   "cell_type": "code",
   "execution_count": null,
   "metadata": {
    "id": "cBKBnI_azOYc",
    "outputId": "30ab4156-b64d-4147-b45f-a257c8c464d7"
   },
   "outputs": [
    {
     "data": {
      "text/plain": [
       "PeriodIndex(['2020-07', '2020-08', '2020-09', '2020-10', '2020-11', '2020-12',\n",
       "             '2021-01', '2021-02'],\n",
       "            dtype='period[M]', freq='M')"
      ]
     },
     "execution_count": 80,
     "metadata": {
      "tags": []
     },
     "output_type": "execute_result"
    }
   ],
   "source": [
    "pd.period_range('2020-07', periods=8, freq='M')"
   ]
  },
  {
   "cell_type": "markdown",
   "metadata": {
    "id": "WW-1HJCWzOYk"
   },
   "source": [
    "#### 8.7.7. Tables of Counts or Frequencies\n",
    "\n",
    "To generate frequencies use `pd.timedelta_range()`:"
   ]
  },
  {
   "cell_type": "code",
   "execution_count": null,
   "metadata": {
    "id": "X_WUBkODzOYm",
    "outputId": "0bea5c86-feef-47af-e3c6-eacbdecf4e29",
    "scrolled": true
   },
   "outputs": [
    {
     "data": {
      "text/plain": [
       "TimedeltaIndex(['00:00:00', '02:30:00', '05:00:00', '07:30:00', '10:00:00',\n",
       "                '12:30:00', '15:00:00', '17:30:00', '20:00:00'],\n",
       "               dtype='timedelta64[ns]', freq='150T')"
      ]
     },
     "execution_count": 81,
     "metadata": {
      "tags": []
     },
     "output_type": "execute_result"
    }
   ],
   "source": [
    "pd.timedelta_range(0, periods=9, freq=\"2H30T\")"
   ]
  },
  {
   "cell_type": "markdown",
   "metadata": {
    "id": "YcRqpnYnzOYt"
   },
   "source": [
    "You can learn more in the [\"Time Series/Date\"](https://pandas.pydata.org/pandas-docs/stable/user_guide/timeseries.html) section of the Pandas documentation."
   ]
  },
  {
   "cell_type": "markdown",
   "metadata": {},
   "source": [
    "< [Control de flujo](modulo1_tema4_Py_40_contr_flujo.ipynb) | [Índice](modulo1_tema4_Py_00_indice.ipynb) | [Anexo](modulo1_tema4_Py_60_anexo.ipynb) >\n",
    "\n",
    "__[Open in Colab](https://colab.research.google.com/github/griu/msc_python/blob/master/modulo1_tema4_Py_50_gest_dat.ipynb)__"
   ]
  }
 ],
 "metadata": {
  "colab": {
   "collapsed_sections": [
    "O_dLyCbJzOKG"
   ],
   "name": "M1_BloqueII_Python_8_Gestion_datos.ipynb",
   "provenance": []
  },
  "kernelspec": {
   "display_name": "mufib_env383",
   "language": "python",
   "name": "mufib_env383"
  },
  "language_info": {
   "codemirror_mode": {
    "name": "ipython",
    "version": 3
   },
   "file_extension": ".py",
   "mimetype": "text/x-python",
   "name": "python",
   "nbconvert_exporter": "python",
   "pygments_lexer": "ipython3",
   "version": "3.8.3"
  },
  "toc": {
   "base_numbering": 1,
   "nav_menu": {},
   "number_sections": true,
   "sideBar": true,
   "skip_h1_title": false,
   "title_cell": "Table of Contents",
   "title_sidebar": "Contents",
   "toc_cell": true,
   "toc_position": {},
   "toc_section_display": true,
   "toc_window_display": false
  }
 },
 "nbformat": 4,
 "nbformat_minor": 1
}
