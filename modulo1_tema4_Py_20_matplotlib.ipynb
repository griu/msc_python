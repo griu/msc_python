{
 "cells": [
  {
   "cell_type": "markdown",
   "metadata": {
    "toc": true
   },
   "source": [
    "<h1>Table of Contents<span class=\"tocSkip\"></span></h1>\n",
    "<div class=\"toc\"><ul class=\"toc-item\"><li><span><a href=\"#3---Plots-with-Matplotlib\" data-toc-modified-id=\"3---Plots-with-Matplotlib-1\"><span class=\"toc-item-num\">1&nbsp;&nbsp;</span>3 - Plots with Matplotlib</a></span><ul class=\"toc-item\"><li><ul class=\"toc-item\"><li><span><a href=\"#3.2.-Basic-Concepts-in-Matplotlib\" data-toc-modified-id=\"3.2.-Basic-Concepts-in-Matplotlib-1.0.1\"><span class=\"toc-item-num\">1.0.1&nbsp;&nbsp;</span>3.2. Basic Concepts in Matplotlib</a></span><ul class=\"toc-item\"><li><span><a href=\"#3.2.1.-Two-graphics-interfaces\" data-toc-modified-id=\"3.2.1.-Two-graphics-interfaces-1.0.1.1\"><span class=\"toc-item-num\">1.0.1.1&nbsp;&nbsp;</span>3.2.1. Two graphics interfaces</a></span></li></ul></li><li><span><a href=\"#3.3-Brands,-Colors-and-Sizes\" data-toc-modified-id=\"3.3-Brands,-Colors-and-Sizes-1.0.2\"><span class=\"toc-item-num\">1.0.2&nbsp;&nbsp;</span>3.3 Brands, Colors and Sizes</a></span><ul class=\"toc-item\"><li><span><a href=\"#3.3.1.-Texts\" data-toc-modified-id=\"3.3.1.-Texts-1.0.2.1\"><span class=\"toc-item-num\">1.0.2.1&nbsp;&nbsp;</span>3.3.1. Texts</a></span></li><li><span><a href=\"#3.3.2.-Seaborn-Bookstore\" data-toc-modified-id=\"3.3.2.-Seaborn-Bookstore-1.0.2.2\"><span class=\"toc-item-num\">1.0.2.2&nbsp;&nbsp;</span>3.3.2. Seaborn Bookstore</a></span></li></ul></li></ul></li></ul></li></ul></div>"
   ]
  },
  {
   "cell_type": "markdown",
   "metadata": {},
   "source": [
    "<img align=\"left\" style=\"padding-right:10px;\" width=\"150\" src=\"https://upload.wikimedia.org/wikipedia/commons/thumb/6/6c/Star_Wars_Logo.svg/320px-Star_Wars_Logo.svg.png\" />\n",
    "\n",
    "*made by Ferran Carrascosa Mallafrè.*"
   ]
  },
  {
   "cell_type": "markdown",
   "metadata": {},
   "source": [
    "< [Python Basics](modulo1_tema4_Py_10_elem_bas.ipynb) | [Table of contents](modulo1_tema4_Py_00_indice.ipynb) | < [Object collections: Lists, tuples and dictionaries](modulo1_tema4_Py_30_colec_obj.ipynb) >\n",
    "\n",
    "__[Open in Colab](https://colab.research.google.com/github/griu/msc_python/blob/master/modulo1_tema4_Py_20_matplotlib.ipynb)__   *: <span style=\"color:rgba(255, 99, 71, 0.8)\">Padawan! When you login to Colab, prepare the environment by running the following code.</span>*"
   ]
  },
  {
   "cell_type": "code",
   "execution_count": null,
   "metadata": {
    "colab": {
     "base_uri": "https://localhost:8080/"
    },
    "executionInfo": {
     "elapsed": 25678,
     "status": "ok",
     "timestamp": 1604317087349,
     "user": {
      "displayName": "alumnos bigdata",
      "photoUrl": "",
      "userId": "10710302360204190833"
     },
     "user_tz": -60
    },
    "id": "2SBF5dlSTi-h",
    "outputId": "b85ff6ea-725c-464c-abf4-fc481a6882de"
   },
   "outputs": [],
   "source": [
    "if 'google.colab' in str(get_ipython()):\n",
    "    !git clone https://github.com/griu/msc_python.git /content/msc_python\n",
    "    !git -C /content/msc_python pull\n",
    "    %cd /content/msc_python"
   ]
  },
  {
   "cell_type": "markdown",
   "metadata": {
    "id": "H2X_C7TwDzrf"
   },
   "source": [
    "# 3 - Plots with Matplotlib\n",
    "\n",
    "The graphics library [Matplotlib](https://matplotlib.org/), conceived by John Hunter in 2002, was built on numpy objects (N-dimensional arrays) and, later, adapted to Pandas objects (arrays with data vectors of different types).\n",
    "\n",
    "Currently, it is supported by other simpler libraries and, with a graphic aspect, modernized with Seaborn and Pandas themselves.\n",
    "\n",
    "We will deal with numpy and pandas objects extensively in the next section, however, since the course presupposes some knowledge of Python, we will now show the graphs to be able to use them in the following sections as a tool.\n",
    "\n",
    "To import the library, the pyplot submodule is usually imported:"
   ]
  },
  {
   "cell_type": "code",
   "execution_count": null,
   "metadata": {
    "id": "8Q8oykSRDzrg"
   },
   "outputs": [],
   "source": [
    "import matplotlib.pyplot as plt"
   ]
  },
  {
   "cell_type": "markdown",
   "metadata": {
    "id": "jRot8qwBDzro"
   },
   "source": [
    "##### 3.1. Guided Activity 2.2\n",
    "\n",
    "It consists of knowing the species better through graphics. Specifically, you can analyze their height, years of life, species class (mammal, reptile, etc.) and how many movies that species has appeared in.\n",
    "\n",
    "> «You can't take His Royal Highness there! The Hutts are gangsters...\"\n",
    "     ―Quarsh Panaka.\n",
    "\n",
    "The first step is to load the species data and extract the variables."
   ]
  },
  {
   "cell_type": "code",
   "execution_count": null,
   "metadata": {
    "colab": {
     "base_uri": "https://localhost:8080/",
     "height": 583
    },
    "executionInfo": {
     "elapsed": 877,
     "status": "ok",
     "timestamp": 1604320132447,
     "user": {
      "displayName": "alumnos bigdata",
      "photoUrl": "",
      "userId": "10710302360204190833"
     },
     "user_tz": -60
    },
    "id": "sAfemcpADzrq",
    "outputId": "db512608-4c52-4fcf-e855-f4a8cd4f8b72",
    "scrolled": true
   },
   "outputs": [],
   "source": [
    "import numpy as np\n",
    "import pandas as pd\n",
    "\n",
    "entidades = ['planets','starships','vehicles','people','species']\n",
    "entidades_df = {x: pd.read_pickle('www/' + x + '_df.pkl') for x in entidades}\n",
    "entidades_df['species'][\"num_peliculas\"] = entidades_df['species'].films.apply(lambda x: len(x))   # numero de peliculas en las que aparece\n",
    "species_df = entidades_df['species'][[\"classification\",\"average_height\",\"average_lifespan\",\"num_peliculas\"]].dropna()\n",
    "\n",
    "\n",
    "nombre = species_df.index.values\n",
    "clasificacion = species_df.classification.values\n",
    "altura_media = species_df.average_height.values\n",
    "vida_media = species_df.average_lifespan.values\n",
    "num_peliculas = species_df.num_peliculas.values\n",
    "\n",
    "species_df\n"
   ]
  },
  {
   "cell_type": "markdown",
   "metadata": {
    "id": "ULS2d6ZEDzr0"
   },
   "source": [
    "*Notice* how each row represents a species that is characterized by 5 numpy vectors.\n",
    "\n",
    "To learn more about numpy, go to the [Object Collections: numpy](modulo1_tema4_Py_31_numpy.ipynb) chapter:\n",
    "\n",
    "- **nombre**: name of the species.\n",
    "- **clasificacion**: classification of the species.\n",
    "- **altura_media**: average height (in cm).\n",
    "- **vida_media**: average-life in years.\n",
    "- **num_peliculas**: number of movies in which that species appears."
   ]
  },
  {
   "cell_type": "markdown",
   "metadata": {
    "id": "oiTVBanODzr2"
   },
   "source": [
    "### 3.2. Basic Concepts in Matplotlib\n",
    "\n",
    "The style that regulates the general appearance of the graph is adjusted to seaborn-whitegrid:"
   ]
  },
  {
   "cell_type": "code",
   "execution_count": null,
   "metadata": {
    "id": "ez6CejNhDzr3"
   },
   "outputs": [],
   "source": [
    "plt.style.use('seaborn-whitegrid');"
   ]
  },
  {
   "cell_type": "markdown",
   "metadata": {
    "id": "Hedwkn7cDzr_"
   },
   "source": [
    "To define a plot, the pyplot library has many methods.\n",
    "\n",
    "For example, to build a scatter plot, use the `plt.scatter()` function.\n",
    "\n",
    "Let's see the dispersion between the average height of each species:"
   ]
  },
  {
   "cell_type": "code",
   "execution_count": null,
   "metadata": {
    "colab": {
     "base_uri": "https://localhost:8080/"
    },
    "executionInfo": {
     "elapsed": 760,
     "status": "ok",
     "timestamp": 1604320155072,
     "user": {
      "displayName": "alumnos bigdata",
      "photoUrl": "",
      "userId": "10710302360204190833"
     },
     "user_tz": -60
    },
    "id": "S-nncD0uDzsA",
    "outputId": "8df2cb7c-2f46-4b89-aa7c-90a481dc5af6"
   },
   "outputs": [],
   "source": [
    "altura_media # vector x"
   ]
  },
  {
   "cell_type": "markdown",
   "metadata": {
    "id": "ynAuz3MvDzsI"
   },
   "source": [
    "And the average lifetime of each species:"
   ]
  },
  {
   "cell_type": "code",
   "execution_count": null,
   "metadata": {
    "colab": {
     "base_uri": "https://localhost:8080/"
    },
    "executionInfo": {
     "elapsed": 778,
     "status": "ok",
     "timestamp": 1604320158403,
     "user": {
      "displayName": "alumnos bigdata",
      "photoUrl": "",
      "userId": "10710302360204190833"
     },
     "user_tz": -60
    },
    "id": "TGhrtAPzDzsJ",
    "outputId": "d8a99688-e050-413b-be31-94e37bd26711"
   },
   "outputs": [],
   "source": [
    "vida_media # vector y"
   ]
  },
  {
   "cell_type": "markdown",
   "metadata": {
    "id": "JtqCm0-KDzsT"
   },
   "source": [
    "Both vector `x` and vector `y` are specified:"
   ]
  },
  {
   "cell_type": "code",
   "execution_count": null,
   "metadata": {
    "colab": {
     "base_uri": "https://localhost:8080/",
     "height": 262
    },
    "executionInfo": {
     "elapsed": 1625,
     "status": "ok",
     "timestamp": 1604320166884,
     "user": {
      "displayName": "alumnos bigdata",
      "photoUrl": "",
      "userId": "10710302360204190833"
     },
     "user_tz": -60
    },
    "id": "CGERu12jDzsV",
    "outputId": "5e7e6247-b18c-40c0-fb06-0a3f54e5869c"
   },
   "outputs": [],
   "source": [
    "plt.scatter(x=altura_media,y=vida_media)\n",
    "plt.show();"
   ]
  },
  {
   "cell_type": "markdown",
   "metadata": {
    "id": "TTekcrECDzse"
   },
   "source": [
    "Note that matplotlib has added a set of elements such as axes with their marks or `ticks`. These elements are configured in the style.\n",
    "\n",
    "Notice, too, that the `plt.show()` function has been called. This function sorts the graph output by screen. It is commonly used in python scripts with the `.py` extension.\n",
    "\n",
    "On notebooks, it is customary to bypass the `plt.show()` call, setting its output to the screen automatically in each cell. To do this, include the magic command `%matplotlib inline`, at the start of the notebook:"
   ]
  },
  {
   "cell_type": "code",
   "execution_count": null,
   "metadata": {
    "id": "b9TC7ebLDzsf"
   },
   "outputs": [],
   "source": [
    "%matplotlib inline"
   ]
  },
  {
   "cell_type": "markdown",
   "metadata": {
    "id": "LB7y_llsDzsm"
   },
   "source": [
    "You can save the graph with:"
   ]
  },
  {
   "cell_type": "code",
   "execution_count": null,
   "metadata": {
    "colab": {
     "base_uri": "https://localhost:8080/",
     "height": 262
    },
    "executionInfo": {
     "elapsed": 1053,
     "status": "ok",
     "timestamp": 1604320173197,
     "user": {
      "displayName": "alumnos bigdata",
      "photoUrl": "",
      "userId": "10710302360204190833"
     },
     "user_tz": -60
    },
    "id": "pCOnIH_FDzso",
    "outputId": "196b2a9c-bfe9-4e87-e9fb-a946b528713c"
   },
   "outputs": [],
   "source": [
    "plt.scatter(x=altura_media,y=vida_media)\n",
    "plt.savefig('www/especies.png');"
   ]
  },
  {
   "cell_type": "markdown",
   "metadata": {
    "id": "CbpcsCxCDzsw"
   },
   "source": [
    "> **Remember**: you can open a local .png file with the `Image()` function."
   ]
  },
  {
   "cell_type": "code",
   "execution_count": null,
   "metadata": {
    "id": "5sFjHZIXDzsx"
   },
   "outputs": [],
   "source": [
    "from IPython.display import Image\n",
    "Image('www/especies.png');"
   ]
  },
  {
   "cell_type": "markdown",
   "metadata": {
    "id": "cqyTPIFaDzs6"
   },
   "source": [
    "#### 3.2.1. Two graphics interfaces\n",
    "\n",
    "The definition of a graph can be done through two interfaces."
   ]
  },
  {
   "cell_type": "markdown",
   "metadata": {
    "id": "3cwH0MUZDzs7"
   },
   "source": [
    "##### 3.2.1.1. The MATLAB style\n",
    "\n",
    "Pytplot, initially, was designed in the image and likeness of the MATLAB graphics library."
   ]
  },
  {
   "cell_type": "code",
   "execution_count": null,
   "metadata": {
    "colab": {
     "base_uri": "https://localhost:8080/",
     "height": 276
    },
    "executionInfo": {
     "elapsed": 1137,
     "status": "ok",
     "timestamp": 1604320273680,
     "user": {
      "displayName": "alumnos bigdata",
      "photoUrl": "",
      "userId": "10710302360204190833"
     },
     "user_tz": -60
    },
    "id": "Idm16-LMDzs8",
    "outputId": "4e1e1321-0da7-4ec4-f4ee-a8e5b693652d"
   },
   "outputs": [],
   "source": [
    "plt.figure();  # crea la figura del plot\n",
    "\n",
    "# create the first panel and configure the axes.\n",
    "plt.subplot(2, 1, 1) # (rows, columns, panel number)\n",
    "plt.hist(altura_media, color=\"blue\", label=\"Average Height\")\n",
    "plt.xlabel(\"cm\",labelpad=-6)  # labelpad scrolls the title up\n",
    "plt.ylabel(\"N\")\n",
    "plt.legend();\n",
    "\n",
    "# crea el segundo panel y lo configura lo ejes\n",
    "plt.subplot(2, 1, 2)\n",
    "plt.hist(vida_media, color=\"green\", label=\"Average lifespan\");\n",
    "plt.xlabel(\"años\")\n",
    "plt.ylabel(\"N\")\n",
    "plt.legend();\n"
   ]
  },
  {
   "cell_type": "markdown",
   "metadata": {
    "id": "BFWgAg8uDztF"
   },
   "source": [
    "Notice that `plt` is adding elements to the current graph. Once you go to the second panel, going back to the first panel becomes a complex job. For this the following interface was defined."
   ]
  },
  {
   "cell_type": "markdown",
   "metadata": {
    "id": "K6vMsoxMDztH"
   },
   "source": [
    "#####  3.2.1.2. object oriented interface\n",
    "\n",
    "It is separated in figure and axes. This allows you to reference any chart on the dashboard."
   ]
  },
  {
   "cell_type": "code",
   "execution_count": null,
   "metadata": {
    "colab": {
     "base_uri": "https://localhost:8080/",
     "height": 277
    },
    "executionInfo": {
     "elapsed": 979,
     "status": "ok",
     "timestamp": 1604320277580,
     "user": {
      "displayName": "alumnos bigdata",
      "photoUrl": "",
      "userId": "10710302360204190833"
     },
     "user_tz": -60
    },
    "id": "Z2LBkhWdDztI",
    "outputId": "26c81e8d-700b-4bc6-ccd4-a542948024d1"
   },
   "outputs": [],
   "source": [
    "# The grid of plots is created\n",
    "# ax will be a vector of 2 Axes objects\n",
    "fig, ax = plt.subplots(2);\n",
    "\n",
    "\n",
    "# Call the plot() method on the appropriate object\n",
    "ax[0].boxplot(altura_media, vert=False);\n",
    "ax[1].boxplot(vida_media, vert=False);\n",
    "\n",
    "ax[0].set(xlim=(150, 250),\n",
    "       ylabel='Altura media (cm)',\n",
    "       title='Boxplot');\n",
    "ax[1].set(xlim=(0, 300),\n",
    "       ylabel='Vida media (años)');"
   ]
  },
  {
   "cell_type": "markdown",
   "metadata": {
    "id": "ptj0Dmd5DztQ"
   },
   "source": [
    "### 3.3 Brands, Colors and Sizes\n",
    "\n",
    "In Matplotlib you can customize these elements, however, it is somewhat tedious. The Seaborn package provides some facilities here, as we will see.\n",
    "\n",
    "Let's look at an example of this:"
   ]
  },
  {
   "cell_type": "code",
   "execution_count": null,
   "metadata": {
    "colab": {
     "base_uri": "https://localhost:8080/",
     "height": 291
    },
    "executionInfo": {
     "elapsed": 874,
     "status": "ok",
     "timestamp": 1604320282557,
     "user": {
      "displayName": "alumnos bigdata",
      "photoUrl": "",
      "userId": "10710302360204190833"
     },
     "user_tz": -60
    },
    "id": "2tq7uhE8DztR",
    "outputId": "5d3d9ac4-0f0f-4beb-8650-b0e1142de6f1"
   },
   "outputs": [],
   "source": [
    "marcas = ['o', '.', ',', 'x', '+', 'v']\n",
    "for i in range(6):\n",
    "    plt.plot(altura_media[num_peliculas==i+1], np.log(vida_media[num_peliculas==i+1])\n",
    "             , marcas[i]\n",
    "             , label= str(i+1) + \" pelíc.='{0}'\".format(marcas[i]))\n",
    "plt.legend(numpoints=1, loc=\"lower right\")\n",
    "plt.title(\"Number of films each Star Wars species appears\")\n",
    "plt.xlabel(\"Average height (cm)\")\n",
    "plt.ylabel(\"log(average lifespan)\")\n",
    "plt.xlim(50, 350);"
   ]
  },
  {
   "cell_type": "markdown",
   "metadata": {
    "id": "A3PozwmZDztX"
   },
   "source": [
    "Notice how, on each iteration, the plot is labeled with a `label`. In this way, elements are generated that will later be included in the legend. The color, in this case, changes in each iteration by default.\n",
    "\n",
    "Now, let's see an example where the `viridis` color palette is modified and, also, the size of the points. We include a legend with the continuous color scale:"
   ]
  },
  {
   "cell_type": "code",
   "execution_count": null,
   "metadata": {
    "colab": {
     "base_uri": "https://localhost:8080/",
     "height": 284
    },
    "executionInfo": {
     "elapsed": 1115,
     "status": "ok",
     "timestamp": 1604320286522,
     "user": {
      "displayName": "alumnos bigdata",
      "photoUrl": "",
      "userId": "10710302360204190833"
     },
     "user_tz": -60
    },
    "id": "sYRy8UK9DztZ",
    "outputId": "4e54b594-424f-40ee-f1a2-e29bf619d73c"
   },
   "outputs": [],
   "source": [
    "plt.scatter(altura_media, np.log(vida_media)\n",
    "            , c=num_peliculas, s=100*num_peliculas, alpha=0.3,\n",
    "            cmap='viridis');\n",
    "\n",
    "# color legend\n",
    "cbar = plt.colorbar();  # Show the palette\n",
    "cbar.ax.get_yaxis().labelpad = 15   # make space for the title\n",
    "cbar.ax.set_ylabel('# films', rotation=270) # add title\n",
    "\n",
    "plt.gcf().subplots_adjust(bottom=0.15)\n",
    "plt.title(\"Number of films each Star Wars species appears\")\n",
    "plt.xlabel(\"Average height (cm)\")\n",
    "plt.ylabel(\"log(average lifespan)\")\n"
   ]
  },
  {
   "cell_type": "markdown",
   "metadata": {
    "id": "ej-TGUlPDztf"
   },
   "source": [
    "Other interesting palettes are: `'jet'`, `'RdBu'` y `'cubehelix'`."
   ]
  },
  {
   "cell_type": "markdown",
   "metadata": {
    "id": "-8DiXe7oDztg"
   },
   "source": [
    "#### 3.3.1. Texts\n",
    "\n",
    "To add text to charts, there are two methods:\n",
    "\n",
    "The first is `plt.text()` and is geared towards simply adding text."
   ]
  },
  {
   "cell_type": "code",
   "execution_count": null,
   "metadata": {
    "colab": {
     "base_uri": "https://localhost:8080/",
     "height": 291
    },
    "executionInfo": {
     "elapsed": 844,
     "status": "ok",
     "timestamp": 1604320323955,
     "user": {
      "displayName": "alumnos bigdata",
      "photoUrl": "",
      "userId": "10710302360204190833"
     },
     "user_tz": -60
    },
    "id": "8LTpSPeUDzti",
    "outputId": "25285430-ccda-4948-e489-c4289b30e73f"
   },
   "outputs": [],
   "source": [
    "# Retrieve the species graph\n",
    "plt.scatter(altura_media, np.log(vida_media)\n",
    "            , c=num_peliculas, s=100*num_peliculas, alpha=0.3,\n",
    "            cmap='viridis')\n",
    "\n",
    "# color legend\n",
    "cbar = plt.colorbar();  # Show the palette\n",
    "cbar.ax.get_yaxis().labelpad = 15   # make space for the title\n",
    "cbar.ax.set_ylabel('# films', rotation=270) # add title\n",
    "\n",
    "plt.title(\"Number of films each Star Wars species appears\")\n",
    "plt.xlabel(\"Average height (cm)\")\n",
    "plt.ylabel(\"log(average lifespan)\")\n",
    "\n",
    "# Add labels to the plot\n",
    "style = dict(size=10, color='grey')\n",
    "\n",
    "\n",
    "plt.text(300, np.log(1000), \"Hutt\", **style, ha='right')\n",
    "plt.text(66, np.log(900), \"Yoda's species\", **style, ha='left')\n",
    "plt.text(190, np.log(700), \"Pau'an\", **style, ha='center')\n",
    "plt.text(210, np.log(400), \"Wookie\", **style, ha='center')\n",
    "plt.text(180, np.log(120), \"Human\", **style, ha='center');\n"
   ]
  },
  {
   "cell_type": "markdown",
   "metadata": {
    "id": "klCH_MzADzto"
   },
   "source": [
    "It is relevant to note that you have to add the texts one by one, or using a loop.\n",
    "\n",
    "The following `.annotate()` method allows you to customize the location and arrows:"
   ]
  },
  {
   "cell_type": "code",
   "execution_count": null,
   "metadata": {
    "colab": {
     "base_uri": "https://localhost:8080/",
     "height": 291
    },
    "executionInfo": {
     "elapsed": 1911,
     "status": "ok",
     "timestamp": 1604320337347,
     "user": {
      "displayName": "alumnos bigdata",
      "photoUrl": "",
      "userId": "10710302360204190833"
     },
     "user_tz": -60
    },
    "id": "iY7BVrTpDztp",
    "outputId": "57c7e8c9-1025-4cec-c222-4f0eb7dbcc65"
   },
   "outputs": [],
   "source": [
    "# Retrieve the species graph\n",
    "plt.scatter(altura_media, np.log(vida_media)\n",
    "            , c=num_peliculas, s=100*num_peliculas, alpha=0.3,\n",
    "            cmap='viridis')\n",
    "            \n",
    "# color legend\n",
    "cbar = plt.colorbar();  # Show the palette\n",
    "cbar.ax.get_yaxis().labelpad = 15   # make space for the title\n",
    "cbar.ax.set_ylabel('# films', rotation=270) # add title\n",
    "\n",
    "plt.title(\"Number of films each Star Wars species appears\")\n",
    "plt.xlabel(\"Average height (cm)\")\n",
    "plt.ylabel(\"log(average lifespan)\")\n",
    "\n",
    "# Add labels to the plot\n",
    "style = dict(size=10, color='green')\n",
    "\n",
    "for x1,y1,n1 in zip(altura_media, np.log(vida_media),nombre):\n",
    "    plt.annotate(n1,(x1, y1)\n",
    "             , arrowprops=dict(arrowstyle=\"->\")\n",
    "             , textcoords=\"offset points\" # desplaza el punto\n",
    "             , xytext=(-40,0)  # distancia desplazamiento\n",
    "             , ha='center')   # centrado\n",
    "\n"
   ]
  },
  {
   "cell_type": "markdown",
   "metadata": {
    "id": "6qira_7HDztw"
   },
   "source": [
    "It is not very aesthetic, but it can be useful in certain cases."
   ]
  },
  {
   "cell_type": "markdown",
   "metadata": {
    "id": "f97NBfoxDztx"
   },
   "source": [
    "#### 3.3.2. Seaborn Bookstore\n",
    "\n",
    "It automates the generation of graphs with data frames taking advantage of the assignment of names to their rows and columns.\n",
    "\n",
    "We load the library and configure the default style:"
   ]
  },
  {
   "cell_type": "code",
   "execution_count": null,
   "metadata": {
    "id": "iBRil4QwDztz"
   },
   "outputs": [],
   "source": [
    "import seaborn as sns\n",
    "sns.set()"
   ]
  },
  {
   "cell_type": "markdown",
   "metadata": {
    "id": "SexrJTIXDzt6"
   },
   "source": [
    "We see that the previous graph changes style:"
   ]
  },
  {
   "cell_type": "code",
   "execution_count": null,
   "metadata": {
    "colab": {
     "base_uri": "https://localhost:8080/",
     "height": 301
    },
    "executionInfo": {
     "elapsed": 1660,
     "status": "ok",
     "timestamp": 1604320348830,
     "user": {
      "displayName": "alumnos bigdata",
      "photoUrl": "",
      "userId": "10710302360204190833"
     },
     "user_tz": -60
    },
    "id": "mEiMU-r4Dzt7",
    "outputId": "6be0a7b6-c3bf-4dee-cdbc-1063560ebfb4"
   },
   "outputs": [],
   "source": [
    "# Retrieve the species graph\n",
    "plt.scatter(altura_media, np.log(vida_media)\n",
    "            , c=num_peliculas, s=100*num_peliculas, alpha=0.3,\n",
    "            cmap='viridis')\n",
    "\n",
    "# color legend\n",
    "cbar = plt.colorbar();  # Show the palette\n",
    "cbar.ax.get_yaxis().labelpad = 15   # make space for the title\n",
    "cbar.ax.set_ylabel('# films', rotation=270) # add title\n",
    "\n",
    "plt.title(\"Number of films each Star Wars species appears\")\n",
    "plt.xlabel(\"Average height (cm)\")\n",
    "plt.ylabel(\"log(average lifespan)\")\n",
    "\n",
    "# Add labels to the plot\n",
    "style = dict(size=10, color=\"grey\")\n",
    "\n",
    "\n",
    "plt.text(300, np.log(1000), \"Hutt\", **style, ha='right')\n",
    "plt.text(66, np.log(900), \"Yoda's species\", **style, ha='left')\n",
    "plt.text(190, np.log(700), \"Pau'an\", **style, ha='center')\n",
    "plt.text(210, np.log(400), \"Wookie\", **style, ha='center')\n",
    "plt.text(180, np.log(120), \"Human\", **style, ha='center');\n"
   ]
  },
  {
   "cell_type": "markdown",
   "metadata": {
    "id": "jn3B0U1PDzuC"
   },
   "source": [
    "A first sample of Seaborn's possibilities, for exploratory analysis, is the 2 to 2 scatter plot:"
   ]
  },
  {
   "cell_type": "code",
   "execution_count": null,
   "metadata": {
    "colab": {
     "base_uri": "https://localhost:8080/",
     "height": 548
    },
    "executionInfo": {
     "elapsed": 6012,
     "status": "ok",
     "timestamp": 1604320404860,
     "user": {
      "displayName": "alumnos bigdata",
      "photoUrl": "",
      "userId": "10710302360204190833"
     },
     "user_tz": -60
    },
    "id": "EaIwdAHqDzuD",
    "outputId": "e8f5f956-1bff-4ade-eff2-42de66b27fec"
   },
   "outputs": [],
   "source": [
    "import warnings\n",
    "warnings.filterwarnings('ignore')   # we filter warnings to avoid problems with species of an individual.\n",
    "\n",
    "# Species of more than one individual\n",
    "sns.pairplot(species_df, hue=\"classification\", height=2.5);"
   ]
  },
  {
   "cell_type": "markdown",
   "metadata": {
    "id": "AIHq0bujDzuK"
   },
   "source": [
    "Diagonally, a density graph (similar to a histogram) is displayed.\n",
    "\n",
    "In the rest of the quadrant, the scatter plot between two variables is shown. Colors are also added with the species.\n",
    "\n",
    "Impressive!\n",
    "\n",
    "Now let's see how easy it is to parse boxplots:"
   ]
  },
  {
   "cell_type": "code",
   "execution_count": null,
   "metadata": {
    "colab": {
     "base_uri": "https://localhost:8080/",
     "height": 450
    },
    "executionInfo": {
     "elapsed": 810,
     "status": "ok",
     "timestamp": 1604320410852,
     "user": {
      "displayName": "alumnos bigdata",
      "photoUrl": "",
      "userId": "10710302360204190833"
     },
     "user_tz": -60
    },
    "id": "-wIuiHCODzuL",
    "outputId": "fea3d46c-daa5-4c2a-baf4-39f002c73032"
   },
   "outputs": [],
   "source": [
    "warnings.filterwarnings('default')   # we filter warnings to avoid problems with species of an individual.\n",
    "\n",
    "with sns.axes_style(style='ticks'):\n",
    "    g = sns.catplot(\"classification\", \"average_height\", data=species_df, kind=\"box\")\n",
    "\n",
    "plt.gcf().subplots_adjust(top=0.95)\n",
    "plt.title(\"Boxplot Height by Class\")\n",
    "plt.xlabel(\"Average height (cm)\")\n",
    "plt.ylabel(\"Class\");"
   ]
  },
  {
   "cell_type": "markdown",
   "metadata": {
    "id": "8wFujLC8DzuT"
   },
   "source": [
    "Finally, we see the scatter plot where the color and brand have been customized for each species. Also, the size has been customized according to the number of movies.\n",
    "\n",
    "To make the graph more visual, we only show the species with less than 200 years of expected lifespan:"
   ]
  },
  {
   "cell_type": "code",
   "execution_count": null,
   "metadata": {
    "colab": {
     "base_uri": "https://localhost:8080/",
     "height": 464
    },
    "executionInfo": {
     "elapsed": 1214,
     "status": "ok",
     "timestamp": 1604320442501,
     "user": {
      "displayName": "alumnos bigdata",
      "photoUrl": "",
      "userId": "10710302360204190833"
     },
     "user_tz": -60
    },
    "id": "AioBIX22DzuU",
    "outputId": "28428d33-0cec-4432-f5ae-e60923df1b07",
    "scrolled": false
   },
   "outputs": [],
   "source": [
    "# Retrieve the species graph\n",
    "sns.set(rc={'figure.figsize':(9,7)});\n",
    "cmap = sns.cubehelix_palette(dark=.3, light=.8, as_cmap=True);\n",
    "\n",
    "ax = sns.scatterplot(x='average_height', y='average_lifespan'\n",
    "            , hue='classification', size=\"num_peliculas\" \n",
    "            , style=\"classification\", palette=\"Set2\"\n",
    "            , data=species_df[species_df.average_lifespan<200]);\n",
    "\n",
    "\n",
    "plt.title(\"Number of films each Star Wars species appears\")\n",
    "plt.xlabel(\"Average height (cm)\")\n",
    "plt.ylabel(\"log(average lifespan)\")\n",
    "\n",
    "# Add labels to the plot\n",
    "for x1,y1,n1 in zip(altura_media[species_df.average_lifespan<200]\n",
    "                    ,vida_media[species_df.average_lifespan<200]\n",
    "                    ,nombre[species_df.average_lifespan<200]):\n",
    "    plt.annotate(n1,(x1, y1)\n",
    "             , textcoords=\"offset points\" # offsets the point\n",
    "             , xytext=(-25,0)  # offset distance\n",
    "             , ha='center')   # centered\n"
   ]
  },
  {
   "cell_type": "markdown",
   "metadata": {
    "id": "M1x92iZCDzub"
   },
   "source": [
    "Let's now dive deeper into the way Python handles collections of objects."
   ]
  },
  {
   "cell_type": "markdown",
   "metadata": {},
   "source": [
    "< [Python Basics](modulo1_tema4_Py_10_elem_bas.ipynb) | [Table of contents](modulo1_tema4_Py_00_indice.ipynb) | < [Object collections: Lists, tuples and dictionaries](modulo1_tema4_Py_30_colec_obj.ipynb) >\n",
    "\n",
    "__[Abre en Colab](https://colab.research.google.com/github/griu/msc_python/blob/master/modulo1_tema4_Py_20_matplotlib.ipynb)__"
   ]
  }
 ],
 "metadata": {
  "colab": {
   "collapsed_sections": [],
   "name": "M1_BloqueII_Python_3_Matplotlib.ipynb",
   "provenance": []
  },
  "kernelspec": {
   "display_name": "mufib_env383",
   "language": "python",
   "name": "mufib_env383"
  },
  "language_info": {
   "codemirror_mode": {
    "name": "ipython",
    "version": 3
   },
   "file_extension": ".py",
   "mimetype": "text/x-python",
   "name": "python",
   "nbconvert_exporter": "python",
   "pygments_lexer": "ipython3",
   "version": "3.8.3"
  },
  "toc": {
   "base_numbering": 1,
   "nav_menu": {},
   "number_sections": true,
   "sideBar": true,
   "skip_h1_title": false,
   "title_cell": "Table of Contents",
   "title_sidebar": "Contents",
   "toc_cell": true,
   "toc_position": {},
   "toc_section_display": true,
   "toc_window_display": false
  }
 },
 "nbformat": 4,
 "nbformat_minor": 1
}
