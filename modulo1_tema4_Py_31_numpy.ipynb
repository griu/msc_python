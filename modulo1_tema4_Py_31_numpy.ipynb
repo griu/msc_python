{
 "cells": [
  {
   "cell_type": "markdown",
   "metadata": {
    "toc": true
   },
   "source": [
    "<h1>Table of Contents<span class=\"tocSkip\"></span></h1>\n",
    "<div class=\"toc\"><ul class=\"toc-item\"><li><span><a href=\"#5---Numpy\" data-toc-modified-id=\"5---Numpy-1\"><span class=\"toc-item-num\">1&nbsp;&nbsp;</span>5 - Numpy</a></span><ul class=\"toc-item\"><li><ul class=\"toc-item\"><li><ul class=\"toc-item\"><li><span><a href=\"#5.2.-Data-type-in-Numpy\" data-toc-modified-id=\"5.2.-Data-type-in-Numpy-1.0.0.1\"><span class=\"toc-item-num\">1.0.0.1&nbsp;&nbsp;</span>5.2. Data type in Numpy</a></span></li><li><span><a href=\"#5.3.-Universal-Functions\" data-toc-modified-id=\"5.3.-Universal-Functions-1.0.0.2\"><span class=\"toc-item-num\">1.0.0.2&nbsp;&nbsp;</span>5.3. Universal Functions</a></span></li><li><span><a href=\"#5.4.-Sequences-in-Numpy\" data-toc-modified-id=\"5.4.-Sequences-in-Numpy-1.0.0.3\"><span class=\"toc-item-num\">1.0.0.3&nbsp;&nbsp;</span>5.4. Sequences in Numpy</a></span></li><li><span><a href=\"#5.5.-Dimensions-in-Numpy\" data-toc-modified-id=\"5.5.-Dimensions-in-Numpy-1.0.0.4\"><span class=\"toc-item-num\">1.0.0.4&nbsp;&nbsp;</span>5.5. Dimensions in Numpy</a></span></li></ul></li><li><span><a href=\"#5.6.-Filters-in-Numpy\" data-toc-modified-id=\"5.6.-Filters-in-Numpy-1.0.1\"><span class=\"toc-item-num\">1.0.1&nbsp;&nbsp;</span>5.6. Filters in Numpy</a></span><ul class=\"toc-item\"><li><span><a href=\"#5.6.1.-Slicing-Filters\" data-toc-modified-id=\"5.6.1.-Slicing-Filters-1.0.1.1\"><span class=\"toc-item-num\">1.0.1.1&nbsp;&nbsp;</span>5.6.1. Slicing Filters</a></span></li><li><span><a href=\"#5.6.2.-Fancy-indexing\" data-toc-modified-id=\"5.6.2.-Fancy-indexing-1.0.1.2\"><span class=\"toc-item-num\">1.0.1.2&nbsp;&nbsp;</span>5.6.2. Fancy indexing</a></span></li></ul></li><li><span><a href=\"#5.7.-Modify-Arrays\" data-toc-modified-id=\"5.7.-Modify-Arrays-1.0.2\"><span class=\"toc-item-num\">1.0.2&nbsp;&nbsp;</span>5.7. Modify Arrays</a></span><ul class=\"toc-item\"><li><span><a href=\"#5.7.1.-Views-not-copied\" data-toc-modified-id=\"5.7.1.-Views-not-copied-1.0.2.1\"><span class=\"toc-item-num\">1.0.2.1&nbsp;&nbsp;</span>5.7.1. Views not copied</a></span></li><li><span><a href=\"#5.7.2.-Array-Copies\" data-toc-modified-id=\"5.7.2.-Array-Copies-1.0.2.2\"><span class=\"toc-item-num\">1.0.2.2&nbsp;&nbsp;</span>5.7.2. Array Copies</a></span></li><li><span><a href=\"#5.7.2.1-Deep-Copies-of-Arrays\" data-toc-modified-id=\"5.7.2.1-Deep-Copies-of-Arrays-1.0.2.3\"><span class=\"toc-item-num\">1.0.2.3&nbsp;&nbsp;</span>5.7.2.1 Deep Copies of Arrays</a></span></li><li><span><a href=\"#5.7.3.-Shape-changes\" data-toc-modified-id=\"5.7.3.-Shape-changes-1.0.2.4\"><span class=\"toc-item-num\">1.0.2.4&nbsp;&nbsp;</span>5.7.3. <em>Shape</em> changes</a></span></li><li><span><a href=\"#5.7.4.-Concatenate-Arrays\" data-toc-modified-id=\"5.7.4.-Concatenate-Arrays-1.0.2.5\"><span class=\"toc-item-num\">1.0.2.5&nbsp;&nbsp;</span>5.7.4. Concatenate Arrays</a></span></li><li><span><a href=\"#5.7.5.-Array-Broadcasting\" data-toc-modified-id=\"5.7.5.-Array-Broadcasting-1.0.2.6\"><span class=\"toc-item-num\">1.0.2.6&nbsp;&nbsp;</span>5.7.5. Array Broadcasting</a></span></li><li><span><a href=\"#5.7.6.-Convert-to-Lists\" data-toc-modified-id=\"5.7.6.-Convert-to-Lists-1.0.2.7\"><span class=\"toc-item-num\">1.0.2.7&nbsp;&nbsp;</span>5.7.6. Convert to Lists</a></span></li><li><span><a href=\"#5.7.7.-Missing-Values\" data-toc-modified-id=\"5.7.7.-Missing-Values-1.0.2.8\"><span class=\"toc-item-num\">1.0.2.8&nbsp;&nbsp;</span>5.7.7. Missing Values</a></span></li></ul></li></ul></li></ul></li></ul></div>"
   ]
  },
  {
   "cell_type": "markdown",
   "metadata": {},
   "source": [
    "<img align=\"left\" style=\"padding-right:10px;\" width=\"150\" src=\"https://upload.wikimedia.org/wikipedia/commons/thumb/6/6c/Star_Wars_Logo.svg/320px-Star_Wars_Logo.svg.png\" />\n",
    "\n",
    "*made by Ferran Carrascosa Mallafrè.*"
   ]
  },
  {
   "cell_type": "markdown",
   "metadata": {},
   "source": [
    "< [Object collections: Lists, tuples and dictionaries](modulo1_tema4_Py_30_colec_obj.ipynb) | [Table of contents](modulo1_tema4_Py_00_indice.ipynb) | [Object collections: pandas](modulo1_tema4_Py_32_pandas.ipynb) >\n",
    "\n",
    "__[Open in Colab](https://colab.research.google.com/github/griu/msc_python/blob/master/modulo1_tema4_Py_31_numpy.ipynb)__   *: <span style=\"color:rgba(255, 99, 71, 0.8)\">Padawan! When you login to Colab, prepare the environment by running the following code.</span>*"
   ]
  },
  {
   "cell_type": "code",
   "execution_count": null,
   "metadata": {
    "colab": {
     "base_uri": "https://localhost:8080/"
    },
    "executionInfo": {
     "elapsed": 25678,
     "status": "ok",
     "timestamp": 1604317087349,
     "user": {
      "displayName": "alumnos bigdata",
      "photoUrl": "",
      "userId": "10710302360204190833"
     },
     "user_tz": -60
    },
    "id": "2SBF5dlSTi-h",
    "outputId": "b85ff6ea-725c-464c-abf4-fc481a6882de"
   },
   "outputs": [],
   "source": [
    "if 'google.colab' in str(get_ipython()):\n",
    "    !git clone https://github.com/griu/msc_python.git /content/msc_python\n",
    "    !git -C /content/msc_python pull\n",
    "    %cd /content/msc_python"
   ]
  },
  {
   "cell_type": "markdown",
   "metadata": {
    "id": "F9n3xfvpF5df"
   },
   "source": [
    "# 5 - Numpy\n",
    "\n",
    "The [numpy](https://numpy.org/) package is the most popular solution within Python for scientific computing.\n",
    "\n",
    "It collects the best practices introduced in the Lists and organized to perform calculations efficiently. They are structured as vectors or arrays of N dimensions of the same data type.\n",
    "\n",
    "The first step we will take is to load the library, usually with *namespace* `np`:"
   ]
  },
  {
   "cell_type": "code",
   "execution_count": null,
   "metadata": {
    "id": "UAORIi9sF5do"
   },
   "outputs": [],
   "source": [
    "import numpy as np"
   ]
  },
  {
   "cell_type": "markdown",
   "metadata": {
    "id": "5KSnwU5BF5eG"
   },
   "source": [
    "##### 5.1. Guided Activity 2.3\n",
    "\n",
    "Before we get down to business, let's introduce the *numpy* guided activity.\n",
    "\n",
    "It is about selecting the fastest interstellar ship in MGLT (Megalight / Hour), which can carry 4 crew members (like the protagonists: Han Solo, Leia, Luke and Chewbacca). In addition, the cost of the ship must be at most 1M interstellar credits.\n",
    "\n",
    "> \"It's the fastest junk in the galaxy.\"\n",
    "     ―Lando Calrissian\n",
    "    \n",
    "Lando was referring to the Millennium Falcon. Will it be true?\n",
    "\n",
    "For this activity we have the following data in pandas format:"
   ]
  },
  {
   "cell_type": "code",
   "execution_count": null,
   "metadata": {
    "colab": {
     "base_uri": "https://localhost:8080/",
     "height": 520
    },
    "executionInfo": {
     "elapsed": 1040,
     "status": "ok",
     "timestamp": 1604326572174,
     "user": {
      "displayName": "alumnos bigdata",
      "photoUrl": "",
      "userId": "10710302360204190833"
     },
     "user_tz": -60
    },
    "id": "BaU5fHBcF5eM",
    "outputId": "442bb833-a3a7-475d-c506-9767cad6b5db"
   },
   "outputs": [],
   "source": [
    "%matplotlib inline\n",
    "import pandas as pd\n",
    "import matplotlib.pyplot as plt\n",
    "import seaborn; seaborn.set()  # for graphics style\n",
    "\n",
    "entidades = ['planets','starships','vehicles','people','species']\n",
    "entidades_df = {x: pd.read_pickle('www/' + x + '_df.pkl') for x in entidades}\n",
    "starships_df = entidades_df['starships'][[\"cost_in_credits\",\"MGLT\",\"crew\"]].dropna()\n",
    "\n",
    "starships_df"
   ]
  },
  {
   "cell_type": "markdown",
   "metadata": {
    "id": "13fi6uN0F5es"
   },
   "source": [
    "We transform the numpy matrix with the numeric variables:"
   ]
  },
  {
   "cell_type": "code",
   "execution_count": null,
   "metadata": {
    "colab": {
     "base_uri": "https://localhost:8080/"
    },
    "executionInfo": {
     "elapsed": 713,
     "status": "ok",
     "timestamp": 1604326575819,
     "user": {
      "displayName": "alumnos bigdata",
      "photoUrl": "",
      "userId": "10710302360204190833"
     },
     "user_tz": -60
    },
    "id": "fQiWePljF5ex",
    "outputId": "de4d0c6e-766e-4d98-f125-cf8da423123b"
   },
   "outputs": [],
   "source": [
    "starship_np = starships_df.values\n",
    "starship_np # the rows are the ships and the columns: cost_in_credits, MGLT and crew"
   ]
  },
  {
   "cell_type": "markdown",
   "metadata": {
    "id": "Q4fFdcarF5fM"
   },
   "source": [
    "We transform the ship names to numpy array:"
   ]
  },
  {
   "cell_type": "code",
   "execution_count": null,
   "metadata": {
    "colab": {
     "base_uri": "https://localhost:8080/"
    },
    "executionInfo": {
     "elapsed": 745,
     "status": "ok",
     "timestamp": 1604326578827,
     "user": {
      "displayName": "alumnos bigdata",
      "photoUrl": "",
      "userId": "10710302360204190833"
     },
     "user_tz": -60
    },
    "id": "Q6z9DYktF5fU",
    "outputId": "f66aebc2-96a1-4dec-c89e-9a035e26ea31"
   },
   "outputs": [],
   "source": [
    "starship_names = starships_df.index.values \n",
    "starship_names"
   ]
  },
  {
   "cell_type": "markdown",
   "metadata": {
    "id": "B15GpaTMF5gN"
   },
   "source": [
    "#### 5.2. Data type in Numpy\n",
    "\n",
    "Usually, they are created from lists or tuples with homogeneous elements:"
   ]
  },
  {
   "cell_type": "code",
   "execution_count": null,
   "metadata": {
    "colab": {
     "base_uri": "https://localhost:8080/"
    },
    "executionInfo": {
     "elapsed": 734,
     "status": "ok",
     "timestamp": 1604326581553,
     "user": {
      "displayName": "alumnos bigdata",
      "photoUrl": "",
      "userId": "10710302360204190833"
     },
     "user_tz": -60
    },
    "id": "NsocN1GTF5gQ",
    "outputId": "4c132292-ffb9-4fab-b984-52700e69a9e2"
   },
   "outputs": [],
   "source": [
    "b_np = np.array([True, False, False]) # boolean\n",
    "b_np"
   ]
  },
  {
   "cell_type": "code",
   "execution_count": null,
   "metadata": {
    "colab": {
     "base_uri": "https://localhost:8080/"
    },
    "executionInfo": {
     "elapsed": 892,
     "status": "ok",
     "timestamp": 1604326583621,
     "user": {
      "displayName": "alumnos bigdata",
      "photoUrl": "",
      "userId": "10710302360204190833"
     },
     "user_tz": -60
    },
    "id": "pOQLJO9OF5gl",
    "outputId": "cd73a83a-7683-4723-afed-ff44f66e2ad5"
   },
   "outputs": [],
   "source": [
    "s_np = np.array(['f', 'h', 'j']) # string\n",
    "s_np"
   ]
  },
  {
   "cell_type": "code",
   "execution_count": null,
   "metadata": {
    "colab": {
     "base_uri": "https://localhost:8080/"
    },
    "executionInfo": {
     "elapsed": 731,
     "status": "ok",
     "timestamp": 1604326585848,
     "user": {
      "displayName": "alumnos bigdata",
      "photoUrl": "",
      "userId": "10710302360204190833"
     },
     "user_tz": -60
    },
    "id": "4VIR41zaF5g4",
    "outputId": "8eb45873-260f-4fb8-80af-17281c62bf5b"
   },
   "outputs": [],
   "source": [
    "i_np = np.array(range(3)) # integer\n",
    "i_np"
   ]
  },
  {
   "cell_type": "code",
   "execution_count": null,
   "metadata": {
    "colab": {
     "base_uri": "https://localhost:8080/"
    },
    "executionInfo": {
     "elapsed": 751,
     "status": "ok",
     "timestamp": 1604326587902,
     "user": {
      "displayName": "alumnos bigdata",
      "photoUrl": "",
      "userId": "10710302360204190833"
     },
     "user_tz": -60
    },
    "id": "rjqaLwdVF5hQ",
    "outputId": "0959152b-204a-43da-b2f2-30cca64652d1"
   },
   "outputs": [],
   "source": [
    "f_np = np.array([2.4, 1.5, 3.0]) # floting point\n",
    "f_np"
   ]
  },
  {
   "cell_type": "markdown",
   "metadata": {
    "id": "CWiR0JHnF5hm"
   },
   "source": [
    "All 4 objects share being of type `numpy.ndarray`:"
   ]
  },
  {
   "cell_type": "code",
   "execution_count": null,
   "metadata": {
    "colab": {
     "base_uri": "https://localhost:8080/"
    },
    "executionInfo": {
     "elapsed": 796,
     "status": "ok",
     "timestamp": 1604326590333,
     "user": {
      "displayName": "alumnos bigdata",
      "photoUrl": "",
      "userId": "10710302360204190833"
     },
     "user_tz": -60
    },
    "id": "AHDkYUyVF5hp",
    "outputId": "de59b063-95b5-417f-d4e8-7f234ed04b07"
   },
   "outputs": [],
   "source": [
    "ej_np = (b_np, s_np, i_np, f_np)\n",
    "[type(x) for x in ej_np]"
   ]
  },
  {
   "cell_type": "markdown",
   "metadata": {
    "id": "YmD1yb3QF5h_"
   },
   "source": [
    "However, they each have an internal type accessible with the `.dtype` method:"
   ]
  },
  {
   "cell_type": "code",
   "execution_count": null,
   "metadata": {
    "colab": {
     "base_uri": "https://localhost:8080/"
    },
    "executionInfo": {
     "elapsed": 803,
     "status": "ok",
     "timestamp": 1604326592802,
     "user": {
      "displayName": "alumnos bigdata",
      "photoUrl": "",
      "userId": "10710302360204190833"
     },
     "user_tz": -60
    },
    "id": "nWGnAhHnF5iD",
    "outputId": "769a9027-81db-4f8c-cbc2-ccf94443cf27"
   },
   "outputs": [],
   "source": [
    "[x.dtype for x in ej_np]"
   ]
  },
  {
   "cell_type": "markdown",
   "metadata": {
    "id": "u8pW_uuBF5ig"
   },
   "source": [
    "Notice that numpy defines its own names for the base types where it adds the size in bits:\n",
    "\n",
    "- 'U1' is 1-bit Unicode text.\n",
    "- 'int64', 'float64' 64-bit numerics.\n",
    "\n",
    "You can define this type in your construction:"
   ]
  },
  {
   "cell_type": "code",
   "execution_count": null,
   "metadata": {
    "colab": {
     "base_uri": "https://localhost:8080/"
    },
    "executionInfo": {
     "elapsed": 847,
     "status": "ok",
     "timestamp": 1604326595682,
     "user": {
      "displayName": "alumnos bigdata",
      "photoUrl": "",
      "userId": "10710302360204190833"
     },
     "user_tz": -60
    },
    "id": "oYg-U6sZF5ij",
    "outputId": "abba9382-2da6-479f-ccbf-0baf912b774e"
   },
   "outputs": [],
   "source": [
    "i_np = np.array(range(3), dtype='int16')\n",
    "i_np"
   ]
  },
  {
   "cell_type": "markdown",
   "metadata": {
    "id": "gfrUpGgsF5i0"
   },
   "source": [
    "Or convert the numpy from one internal type to another into a new object with `.astype()`:"
   ]
  },
  {
   "cell_type": "code",
   "execution_count": null,
   "metadata": {
    "colab": {
     "base_uri": "https://localhost:8080/"
    },
    "executionInfo": {
     "elapsed": 798,
     "status": "ok",
     "timestamp": 1604326598341,
     "user": {
      "displayName": "alumnos bigdata",
      "photoUrl": "",
      "userId": "10710302360204190833"
     },
     "user_tz": -60
    },
    "id": "pXsMA8j_F5i4",
    "outputId": "d6513e22-f6a0-4297-bec9-513f9fefab05"
   },
   "outputs": [],
   "source": [
    "s_i_np = i_np.astype(str)\n",
    "s_i_np"
   ]
  },
  {
   "cell_type": "markdown",
   "metadata": {
    "id": "02bF7ixjF5jO"
   },
   "source": [
    "The type of the numerical matrix of the ships is:"
   ]
  },
  {
   "cell_type": "code",
   "execution_count": null,
   "metadata": {
    "colab": {
     "base_uri": "https://localhost:8080/"
    },
    "executionInfo": {
     "elapsed": 1064,
     "status": "ok",
     "timestamp": 1604326600859,
     "user": {
      "displayName": "alumnos bigdata",
      "photoUrl": "",
      "userId": "10710302360204190833"
     },
     "user_tz": -60
    },
    "id": "28pFlxnCF5jT",
    "outputId": "f42511f5-8487-4693-bdac-1266ed015d3e"
   },
   "outputs": [],
   "source": [
    "starship_np.dtype"
   ]
  },
  {
   "cell_type": "markdown",
   "metadata": {
    "id": "_6DtdXyCF5jj"
   },
   "source": [
    "The array of names has a dtype object. This type is used to numpy text:"
   ]
  },
  {
   "cell_type": "code",
   "execution_count": null,
   "metadata": {
    "colab": {
     "base_uri": "https://localhost:8080/"
    },
    "executionInfo": {
     "elapsed": 1096,
     "status": "ok",
     "timestamp": 1604326603660,
     "user": {
      "displayName": "alumnos bigdata",
      "photoUrl": "",
      "userId": "10710302360204190833"
     },
     "user_tz": -60
    },
    "id": "yK_B_kEdF5jm",
    "outputId": "4b978f7e-6792-4b41-afd5-67a2dadfa2a8"
   },
   "outputs": [],
   "source": [
    "starship_names.dtype"
   ]
  },
  {
   "cell_type": "markdown",
   "metadata": {
    "id": "I6NbQeQcF5j5"
   },
   "source": [
    "This way, it looks better:"
   ]
  },
  {
   "cell_type": "code",
   "execution_count": null,
   "metadata": {
    "colab": {
     "base_uri": "https://localhost:8080/"
    },
    "executionInfo": {
     "elapsed": 737,
     "status": "ok",
     "timestamp": 1604326606038,
     "user": {
      "displayName": "alumnos bigdata",
      "photoUrl": "",
      "userId": "10710302360204190833"
     },
     "user_tz": -60
    },
    "id": "MgGEDHKJF5j7",
    "outputId": "fd754ac3-f120-4ebf-8d67-188cc39ece79"
   },
   "outputs": [],
   "source": [
    "print(starship_names.dtype)"
   ]
  },
  {
   "cell_type": "markdown",
   "metadata": {
    "id": "TuyYCGHgF5kP"
   },
   "source": [
    "#### 5.3. Universal Functions\n",
    "\n",
    "In numpy, the universal functions or *ufunc*, are a set of functions that vectorize, that is, when applied to a numpy object, it is applied to each of the elements that compose it.\n",
    "\n",
    "> **Remember**: We already discussed functions that vectorize, in the R functions chapter.\n",
    "\n",
    "Typically, functions of this type are arithmetic functions:"
   ]
  },
  {
   "cell_type": "code",
   "execution_count": null,
   "metadata": {
    "colab": {
     "base_uri": "https://localhost:8080/"
    },
    "executionInfo": {
     "elapsed": 566,
     "status": "ok",
     "timestamp": 1604326609791,
     "user": {
      "displayName": "alumnos bigdata",
      "photoUrl": "",
      "userId": "10710302360204190833"
     },
     "user_tz": -60
    },
    "id": "e9GJVCZTF5kU",
    "outputId": "4ef41cd6-1f2e-45a0-9ce0-a3a5e5e66af4"
   },
   "outputs": [],
   "source": [
    "np.array([1,2,3]) * 2  # scalar multiplication"
   ]
  },
  {
   "cell_type": "code",
   "execution_count": null,
   "metadata": {
    "colab": {
     "base_uri": "https://localhost:8080/"
    },
    "executionInfo": {
     "elapsed": 1130,
     "status": "ok",
     "timestamp": 1604326612662,
     "user": {
      "displayName": "alumnos bigdata",
      "photoUrl": "",
      "userId": "10710302360204190833"
     },
     "user_tz": -60
    },
    "id": "sFYu2QbuF5kj",
    "outputId": "618af358-ccf5-4a8c-d854-903892879595"
   },
   "outputs": [],
   "source": [
    "np.array([1,2,3]) + np.array([4,5,6]) # add vectors"
   ]
  },
  {
   "cell_type": "code",
   "execution_count": null,
   "metadata": {
    "colab": {
     "base_uri": "https://localhost:8080/"
    },
    "executionInfo": {
     "elapsed": 1009,
     "status": "ok",
     "timestamp": 1604326615330,
     "user": {
      "displayName": "alumnos bigdata",
      "photoUrl": "",
      "userId": "10710302360204190833"
     },
     "user_tz": -60
    },
    "id": "9cxNT5sxF5k5",
    "outputId": "e19e418d-4a33-4c79-d04f-12b1be2e075f"
   },
   "outputs": [],
   "source": [
    "np.array([1,2,3]) * np.array([4,5,6]) # item-by-item product"
   ]
  },
  {
   "cell_type": "markdown",
   "metadata": {
    "id": "XwEDsOQEF5lL"
   },
   "source": [
    "NumPy offers an extensive collection of mathematical functions that are applied in a vector way. Some of them are:  `abs`,`sign`, `sqrt`, `log`, `log10`, `exp`, `sin`, `cos`, `tan`, `arcsin`, `arccos`, `arctan`, `sinh`, `cosh`, `tanh`, `arcsinh`, `arccosh` y `arctanh`."
   ]
  },
  {
   "cell_type": "code",
   "execution_count": null,
   "metadata": {
    "colab": {
     "base_uri": "https://localhost:8080/"
    },
    "executionInfo": {
     "elapsed": 790,
     "status": "ok",
     "timestamp": 1604326618268,
     "user": {
      "displayName": "alumnos bigdata",
      "photoUrl": "",
      "userId": "10710302360204190833"
     },
     "user_tz": -60
    },
    "id": "9a0g9Tr-F5lN",
    "outputId": "11513eb5-a2c2-47b6-e0fc-05dab944e749"
   },
   "outputs": [],
   "source": [
    "np.sqrt(np.array([1,2,3,4]))"
   ]
  },
  {
   "cell_type": "markdown",
   "metadata": {
    "id": "of0yoElrF5lf"
   },
   "source": [
    "#### 5.4. Sequences in Numpy\n",
    "\n",
    "numpy's own function is `np.arange(start,end,step)`:"
   ]
  },
  {
   "cell_type": "code",
   "execution_count": null,
   "metadata": {
    "colab": {
     "base_uri": "https://localhost:8080/"
    },
    "executionInfo": {
     "elapsed": 753,
     "status": "ok",
     "timestamp": 1604326623937,
     "user": {
      "displayName": "alumnos bigdata",
      "photoUrl": "",
      "userId": "10710302360204190833"
     },
     "user_tz": -60
    },
    "id": "o2S-lYZKF5lg",
    "outputId": "5e65f234-950d-492e-cc5a-a2f40a3401ce"
   },
   "outputs": [],
   "source": [
    "np.arange(0,6,2)"
   ]
  },
  {
   "cell_type": "markdown",
   "metadata": {
    "id": "JbsfFFn0F5l6"
   },
   "source": [
    "Zero sequences:"
   ]
  },
  {
   "cell_type": "code",
   "execution_count": null,
   "metadata": {
    "colab": {
     "base_uri": "https://localhost:8080/"
    },
    "executionInfo": {
     "elapsed": 824,
     "status": "ok",
     "timestamp": 1604326627070,
     "user": {
      "displayName": "alumnos bigdata",
      "photoUrl": "",
      "userId": "10710302360204190833"
     },
     "user_tz": -60
    },
    "id": "P5mx3T7vF5mI",
    "outputId": "0be34b84-8f3c-440c-9e29-009013147536"
   },
   "outputs": [],
   "source": [
    "np.zeros(3)"
   ]
  },
  {
   "cell_type": "code",
   "execution_count": null,
   "metadata": {
    "colab": {
     "base_uri": "https://localhost:8080/"
    },
    "executionInfo": {
     "elapsed": 755,
     "status": "ok",
     "timestamp": 1604326629981,
     "user": {
      "displayName": "alumnos bigdata",
      "photoUrl": "",
      "userId": "10710302360204190833"
     },
     "user_tz": -60
    },
    "id": "Y5RQA4axF5mZ",
    "outputId": "cb2346cd-fec8-4469-9233-85e05d17cc0a"
   },
   "outputs": [],
   "source": [
    "np.ones(3)"
   ]
  },
  {
   "cell_type": "markdown",
   "metadata": {
    "id": "dQ--OIeTF5mu"
   },
   "source": [
    "Repeat the entire vector:"
   ]
  },
  {
   "cell_type": "code",
   "execution_count": null,
   "metadata": {
    "colab": {
     "base_uri": "https://localhost:8080/"
    },
    "executionInfo": {
     "elapsed": 723,
     "status": "ok",
     "timestamp": 1604326633361,
     "user": {
      "displayName": "alumnos bigdata",
      "photoUrl": "",
      "userId": "10710302360204190833"
     },
     "user_tz": -60
    },
    "id": "KUOAd3QyF5mw",
    "outputId": "cc462648-593f-4040-8fa8-cd530785c0e1"
   },
   "outputs": [],
   "source": [
    "a = [1,2,3]\n",
    "b = np.tile(a, 4)\n",
    "b"
   ]
  },
  {
   "cell_type": "markdown",
   "metadata": {
    "id": "srRSu5prF5m-"
   },
   "source": [
    "Repeat each element of a vector:"
   ]
  },
  {
   "cell_type": "code",
   "execution_count": null,
   "metadata": {
    "colab": {
     "base_uri": "https://localhost:8080/"
    },
    "executionInfo": {
     "elapsed": 712,
     "status": "ok",
     "timestamp": 1604326635651,
     "user": {
      "displayName": "alumnos bigdata",
      "photoUrl": "",
      "userId": "10710302360204190833"
     },
     "user_tz": -60
    },
    "id": "8QBZbs1iF5nD",
    "outputId": "b02b9afe-b6b5-4078-de73-74cf1bc2d1ff"
   },
   "outputs": [],
   "source": [
    "a = [1,2,3]\n",
    "b = np.repeat(a, 4)\n",
    "b"
   ]
  },
  {
   "cell_type": "markdown",
   "metadata": {
    "id": "FW0ufl7VF5nR"
   },
   "source": [
    "#### 5.5. Dimensions in Numpy"
   ]
  },
  {
   "cell_type": "code",
   "execution_count": null,
   "metadata": {
    "id": "mYSsHlVDF5nT"
   },
   "outputs": [],
   "source": [
    "np.random.seed(123)  # Seed to be able to reproduce\n",
    "\n",
    "x1 = np.random.randint(10, size=6)  # array 1-dimensional \n",
    "x2 = np.random.randint(10, size=(3, 4))  # array 2-dimensional\n",
    "x3 = np.random.randint(10, size=(3, 4, 5))  # array 3-dimensional "
   ]
  },
  {
   "cell_type": "code",
   "execution_count": null,
   "metadata": {
    "colab": {
     "base_uri": "https://localhost:8080/"
    },
    "executionInfo": {
     "elapsed": 928,
     "status": "ok",
     "timestamp": 1604326640842,
     "user": {
      "displayName": "alumnos bigdata",
      "photoUrl": "",
      "userId": "10710302360204190833"
     },
     "user_tz": -60
    },
    "id": "PS_a8nRpF5nj",
    "outputId": "8ecd8efe-9467-4929-922c-7bc47ebe7915"
   },
   "outputs": [],
   "source": [
    "print(\"x3 number of dimensions: \", x3.ndim)\n",
    "print(\"x3 shape:\", x3.shape)\n",
    "print(\"x3 number of elements: \", x3.size)\n",
    "print(\"X3 number of bytes:\", x3.nbytes, \"bytes\")"
   ]
  },
  {
   "cell_type": "markdown",
   "metadata": {
    "id": "R2qk6tm6F5nz"
   },
   "source": [
    "Our array of interstellar ships:"
   ]
  },
  {
   "cell_type": "code",
   "execution_count": null,
   "metadata": {
    "colab": {
     "base_uri": "https://localhost:8080/"
    },
    "executionInfo": {
     "elapsed": 698,
     "status": "ok",
     "timestamp": 1604326643735,
     "user": {
      "displayName": "alumnos bigdata",
      "photoUrl": "",
      "userId": "10710302360204190833"
     },
     "user_tz": -60
    },
    "id": "aLwc3zQgF5n2",
    "outputId": "5d76cdbb-06b9-4778-a57e-0ed21767021e"
   },
   "outputs": [],
   "source": [
    "print(\"Ships number dimensions: \", starship_np.ndim)\n",
    "print(\"Names number dimensions: \", starship_names.ndim)\n",
    "print(\"Ships shape:\", starship_np.shape)\n",
    "print(\"Shape names:\", starship_names.shape)\n",
    "print(\"Ships number of elements: \", starship_np.size)\n",
    "print(\"Names number of elements: \", starship_names.size)\n",
    "print(\"Ships number of bytes:\", starship_np.nbytes, \"bytes\")\n",
    "print(\"Names number of bytes:\", starship_names.nbytes, \"bytes\")"
   ]
  },
  {
   "cell_type": "markdown",
   "metadata": {
    "id": "7a2sTa97F5oC"
   },
   "source": [
    "### 5.6. Filters in Numpy\n",
    "\n",
    "They follow the same rules as in the lists but, now, with more dimensions:"
   ]
  },
  {
   "cell_type": "code",
   "execution_count": null,
   "metadata": {
    "colab": {
     "base_uri": "https://localhost:8080/"
    },
    "executionInfo": {
     "elapsed": 724,
     "status": "ok",
     "timestamp": 1604326647250,
     "user": {
      "displayName": "alumnos bigdata",
      "photoUrl": "",
      "userId": "10710302360204190833"
     },
     "user_tz": -60
    },
    "id": "bvqonHw9F5oF",
    "outputId": "6a7fe86c-de44-428b-af55-525e2869a3b8"
   },
   "outputs": [],
   "source": [
    "x2"
   ]
  },
  {
   "cell_type": "markdown",
   "metadata": {
    "id": "I_yUJTgzF5oX"
   },
   "source": [
    "Array element:"
   ]
  },
  {
   "cell_type": "code",
   "execution_count": null,
   "metadata": {
    "colab": {
     "base_uri": "https://localhost:8080/"
    },
    "executionInfo": {
     "elapsed": 971,
     "status": "ok",
     "timestamp": 1604326650163,
     "user": {
      "displayName": "alumnos bigdata",
      "photoUrl": "",
      "userId": "10710302360204190833"
     },
     "user_tz": -60
    },
    "id": "HKZCQhkxF5oa",
    "outputId": "733ad73e-d5b4-42b9-e11e-f5c4b0c01360"
   },
   "outputs": [],
   "source": [
    "x2[0, 0]"
   ]
  },
  {
   "cell_type": "markdown",
   "metadata": {
    "id": "17gJYTNsF5os"
   },
   "source": [
    "#### 5.6.1. Slicing Filters"
   ]
  },
  {
   "cell_type": "markdown",
   "metadata": {
    "id": "Qdp_uJw5F5ou"
   },
   "source": [
    "Second column vector:"
   ]
  },
  {
   "cell_type": "code",
   "execution_count": null,
   "metadata": {
    "colab": {
     "base_uri": "https://localhost:8080/"
    },
    "executionInfo": {
     "elapsed": 706,
     "status": "ok",
     "timestamp": 1604326653067,
     "user": {
      "displayName": "alumnos bigdata",
      "photoUrl": "",
      "userId": "10710302360204190833"
     },
     "user_tz": -60
    },
    "id": "SCxDxiIbF5ox",
    "outputId": "b523737e-6ff3-40ab-9025-93f463857b7e"
   },
   "outputs": [],
   "source": [
    "x2[:,1]"
   ]
  },
  {
   "cell_type": "markdown",
   "metadata": {
    "id": "t76C2F36F5o-"
   },
   "source": [
    "Vector third row:"
   ]
  },
  {
   "cell_type": "code",
   "execution_count": null,
   "metadata": {
    "colab": {
     "base_uri": "https://localhost:8080/"
    },
    "executionInfo": {
     "elapsed": 833,
     "status": "ok",
     "timestamp": 1604326655646,
     "user": {
      "displayName": "alumnos bigdata",
      "photoUrl": "",
      "userId": "10710302360204190833"
     },
     "user_tz": -60
    },
    "id": "yrwqGVAZF5pA",
    "outputId": "6eeed2e1-e627-48bb-f0f6-e750b0ab26da"
   },
   "outputs": [],
   "source": [
    "x2[2,:]"
   ]
  },
  {
   "cell_type": "markdown",
   "metadata": {
    "id": "YsQ7OHqdF5pN"
   },
   "source": [
    "Or, the same row, defaulting to the second element:"
   ]
  },
  {
   "cell_type": "code",
   "execution_count": null,
   "metadata": {
    "colab": {
     "base_uri": "https://localhost:8080/"
    },
    "executionInfo": {
     "elapsed": 695,
     "status": "ok",
     "timestamp": 1604326657671,
     "user": {
      "displayName": "alumnos bigdata",
      "photoUrl": "",
      "userId": "10710302360204190833"
     },
     "user_tz": -60
    },
    "id": "VjYzpEaLF5pO",
    "outputId": "224ccde6-2d68-4b13-ad43-f8acecf54ed3"
   },
   "outputs": [],
   "source": [
    "x2[2]"
   ]
  },
  {
   "cell_type": "markdown",
   "metadata": {
    "id": "-lLsvMBcF5pa"
   },
   "source": [
    "On our ships, the columns were: cost_in_credits, MGLT, crew.\n",
    "\n",
    "To access to the speed (MGLT):"
   ]
  },
  {
   "cell_type": "code",
   "execution_count": null,
   "metadata": {
    "colab": {
     "base_uri": "https://localhost:8080/"
    },
    "executionInfo": {
     "elapsed": 716,
     "status": "ok",
     "timestamp": 1604326661283,
     "user": {
      "displayName": "alumnos bigdata",
      "photoUrl": "",
      "userId": "10710302360204190833"
     },
     "user_tz": -60
    },
    "id": "gbTrT3laF5pc",
    "outputId": "429e7c0b-e74d-4aaf-8f55-cacccd4ecacd"
   },
   "outputs": [],
   "source": [
    "starship_np[:,1]"
   ]
  },
  {
   "cell_type": "markdown",
   "metadata": {
    "id": "IqlTodMXF5po"
   },
   "source": [
    "To select the 5th ship, a row 4 is selected:"
   ]
  },
  {
   "cell_type": "code",
   "execution_count": null,
   "metadata": {
    "colab": {
     "base_uri": "https://localhost:8080/"
    },
    "executionInfo": {
     "elapsed": 923,
     "status": "ok",
     "timestamp": 1604326663930,
     "user": {
      "displayName": "alumnos bigdata",
      "photoUrl": "",
      "userId": "10710302360204190833"
     },
     "user_tz": -60
    },
    "id": "q3rFk6VLF5pq",
    "outputId": "f02db35c-9e5d-4bc5-c9f8-7fe1d8aab16d"
   },
   "outputs": [],
   "source": [
    "starship_np[4,:]"
   ]
  },
  {
   "cell_type": "markdown",
   "metadata": {
    "id": "tALLtgjWF5p1"
   },
   "source": [
    "To see your name:"
   ]
  },
  {
   "cell_type": "code",
   "execution_count": null,
   "metadata": {
    "colab": {
     "base_uri": "https://localhost:8080/",
     "height": 36
    },
    "executionInfo": {
     "elapsed": 699,
     "status": "ok",
     "timestamp": 1604326666983,
     "user": {
      "displayName": "alumnos bigdata",
      "photoUrl": "",
      "userId": "10710302360204190833"
     },
     "user_tz": -60
    },
    "id": "I4w7HcbNF5p3",
    "outputId": "143b261e-a7df-4cff-9bd1-cf2d543f8893"
   },
   "outputs": [],
   "source": [
    "starship_names[4]"
   ]
  },
  {
   "cell_type": "markdown",
   "metadata": {
    "id": "LKCQie2nF5qF"
   },
   "source": [
    "#### 5.6.2. Fancy indexing\n"
   ]
  },
  {
   "cell_type": "markdown",
   "metadata": {
    "id": "I3NKSRueNa7w"
   },
   "source": [
    "##### 5.6.2.1. Positional Filters\n",
    "\n",
    "Another improvement over lists is the ability to index by a list or array.\n",
    "\n",
    "To filter by a one-dimensional array of positions:"
   ]
  },
  {
   "cell_type": "code",
   "execution_count": null,
   "metadata": {
    "colab": {
     "base_uri": "https://localhost:8080/"
    },
    "eval": false,
    "executionInfo": {
     "elapsed": 847,
     "status": "ok",
     "timestamp": 1604326671822,
     "user": {
      "displayName": "alumnos bigdata",
      "photoUrl": "",
      "userId": "10710302360204190833"
     },
     "user_tz": -60
    },
    "id": "Bzxtn7D4F5qH",
    "outputId": "ab463c47-4550-490a-9b81-5fbc3fc7b06b"
   },
   "outputs": [],
   "source": [
    "x1"
   ]
  },
  {
   "cell_type": "code",
   "execution_count": null,
   "metadata": {
    "colab": {
     "base_uri": "https://localhost:8080/"
    },
    "executionInfo": {
     "elapsed": 724,
     "status": "ok",
     "timestamp": 1604326674354,
     "user": {
      "displayName": "alumnos bigdata",
      "photoUrl": "",
      "userId": "10710302360204190833"
     },
     "user_tz": -60
    },
    "id": "IF_5ggmxF5qU",
    "outputId": "dc19836c-8f7c-4ca0-f9a0-31b061f5f391"
   },
   "outputs": [],
   "source": [
    "ind = [0,2,5]\n",
    "x1[ind]"
   ]
  },
  {
   "cell_type": "markdown",
   "metadata": {
    "id": "hzVN9mz0F5qg"
   },
   "source": [
    "> **Remember**: On the list object, this operation is not possible. Instead, list comprehensions are used."
   ]
  },
  {
   "cell_type": "markdown",
   "metadata": {
    "id": "6fTjZ7ilF5qj"
   },
   "source": [
    "In two dimensions, unlike what is seen in R, rows and columns are paired by coordinates, it is what is called Broadcasting. We will see it later:"
   ]
  },
  {
   "cell_type": "code",
   "execution_count": null,
   "metadata": {
    "colab": {
     "base_uri": "https://localhost:8080/"
    },
    "executionInfo": {
     "elapsed": 1339,
     "status": "ok",
     "timestamp": 1604326677782,
     "user": {
      "displayName": "alumnos bigdata",
      "photoUrl": "",
      "userId": "10710302360204190833"
     },
     "user_tz": -60
    },
    "id": "ZkIXVobTF5ql",
    "outputId": "29ebccac-bac5-4d5f-ee20-2db1107bb1fa"
   },
   "outputs": [],
   "source": [
    "x2"
   ]
  },
  {
   "cell_type": "code",
   "execution_count": null,
   "metadata": {
    "colab": {
     "base_uri": "https://localhost:8080/"
    },
    "executionInfo": {
     "elapsed": 759,
     "status": "ok",
     "timestamp": 1604326681014,
     "user": {
      "displayName": "alumnos bigdata",
      "photoUrl": "",
      "userId": "10710302360204190833"
     },
     "user_tz": -60
    },
    "id": "p6KYPXh8F5qz",
    "outputId": "ab6407c3-99ed-4356-ee68-e108e5449143"
   },
   "outputs": [],
   "source": [
    "fils = np.array([0,1])\n",
    "cols = np.array([0,3])\n",
    "\n",
    "x2[fils,cols]"
   ]
  },
  {
   "cell_type": "markdown",
   "metadata": {
    "id": "qyWa2jaNF5q-"
   },
   "source": [
    "> **Remember**: in numpy arrays, filters by position are selected by pairing row and column coordinates. Go to the Broadcasting section to find out more.\n",
    "\n",
    "In R the following result would be obtained:"
   ]
  },
  {
   "cell_type": "code",
   "execution_count": null,
   "metadata": {
    "colab": {
     "base_uri": "https://localhost:8080/"
    },
    "executionInfo": {
     "elapsed": 745,
     "status": "ok",
     "timestamp": 1604326683774,
     "user": {
      "displayName": "alumnos bigdata",
      "photoUrl": "",
      "userId": "10710302360204190833"
     },
     "user_tz": -60
    },
    "id": "gfNySjsKF5rB",
    "outputId": "a845e65c-575d-43b7-a9c8-0f7856a126bc"
   },
   "outputs": [],
   "source": [
    "x2[fils,:][:,cols]"
   ]
  },
  {
   "cell_type": "markdown",
   "metadata": {
    "id": "hgR3nmqKF5rR"
   },
   "source": [
    "##### 5.6.2.2. Logical Filters\n",
    "\n",
    "Another *fancy indexing* mechanism is logical filters.\n",
    "\n",
    "Before, let's remember that to obtain the number of crew:"
   ]
  },
  {
   "cell_type": "code",
   "execution_count": null,
   "metadata": {
    "colab": {
     "base_uri": "https://localhost:8080/"
    },
    "eval": false,
    "executionInfo": {
     "elapsed": 740,
     "status": "ok",
     "timestamp": 1604326687668,
     "user": {
      "displayName": "alumnos bigdata",
      "photoUrl": "",
      "userId": "10710302360204190833"
     },
     "user_tz": -60
    },
    "id": "aeogC5IpF5rU",
    "outputId": "63c6d1d1-8372-49c1-b1c2-2c37af25c15f"
   },
   "outputs": [],
   "source": [
    "starship_np[:,2]"
   ]
  },
  {
   "cell_type": "markdown",
   "metadata": {
    "id": "9k7-i9XhF5rz"
   },
   "source": [
    "To find out which ships have 4 or more crew members:"
   ]
  },
  {
   "cell_type": "code",
   "execution_count": null,
   "metadata": {
    "colab": {
     "base_uri": "https://localhost:8080/"
    },
    "executionInfo": {
     "elapsed": 732,
     "status": "ok",
     "timestamp": 1604326690810,
     "user": {
      "displayName": "alumnos bigdata",
      "photoUrl": "",
      "userId": "10710302360204190833"
     },
     "user_tz": -60
    },
    "id": "CmjmNg6vF5r6",
    "outputId": "8606e42c-31a2-47fd-be75-e8b93b897729"
   },
   "outputs": [],
   "source": [
    "starship_np[:,2] >= 4"
   ]
  },
  {
   "cell_type": "markdown",
   "metadata": {
    "id": "9Ii6jneXF5sF"
   },
   "source": [
    "If we want to rescue their names:"
   ]
  },
  {
   "cell_type": "code",
   "execution_count": null,
   "metadata": {
    "colab": {
     "base_uri": "https://localhost:8080/"
    },
    "executionInfo": {
     "elapsed": 1050,
     "status": "ok",
     "timestamp": 1604326694346,
     "user": {
      "displayName": "alumnos bigdata",
      "photoUrl": "",
      "userId": "10710302360204190833"
     },
     "user_tz": -60
    },
    "id": "4nBBBfLWF5sH",
    "outputId": "5a142e92-b073-4cd3-a367-f0a15c9fa161"
   },
   "outputs": [],
   "source": [
    "starship_names[starship_np[:,2] >= 4]"
   ]
  },
  {
   "cell_type": "markdown",
   "metadata": {
    "id": "GHAPA4YbF5sY"
   },
   "source": [
    "Operators other than `!=` continue to work, on `in`, not on `not in`."
   ]
  },
  {
   "cell_type": "code",
   "execution_count": null,
   "metadata": {
    "colab": {
     "base_uri": "https://localhost:8080/"
    },
    "executionInfo": {
     "elapsed": 745,
     "status": "ok",
     "timestamp": 1604326697476,
     "user": {
      "displayName": "alumnos bigdata",
      "photoUrl": "",
      "userId": "10710302360204190833"
     },
     "user_tz": -60
    },
    "id": "wEnCpgtmF5sc",
    "outputId": "a91f9e11-61dd-42e2-8186-e14cf9181ccb"
   },
   "outputs": [],
   "source": [
    "'Millennium Falcon' in starship_names[starship_np[:,2] >= 4]"
   ]
  },
  {
   "cell_type": "markdown",
   "metadata": {
    "id": "JSW1NIoEF5sm"
   },
   "source": [
    "> To reproduce the same behavior as R's `a %in% b` operator, use `np.isin(a, b)`:"
   ]
  },
  {
   "cell_type": "code",
   "execution_count": null,
   "metadata": {
    "colab": {
     "base_uri": "https://localhost:8080/"
    },
    "executionInfo": {
     "elapsed": 777,
     "status": "ok",
     "timestamp": 1604326701288,
     "user": {
      "displayName": "alumnos bigdata",
      "photoUrl": "",
      "userId": "10710302360204190833"
     },
     "user_tz": -60
    },
    "id": "ka4sThFQF5so",
    "outputId": "4a2f7ca5-578f-4d95-a572-dd08dda8552c"
   },
   "outputs": [],
   "source": [
    "a = np.array([1, 2, 3, 4])\n",
    "b = np.array([3, 4, 5])\n",
    "np.isin(a,b)"
   ]
  },
  {
   "cell_type": "markdown",
   "metadata": {
    "id": "pCLknuxWF5s2"
   },
   "source": [
    "##### 5.6.2.3. Boolean operations\n",
    "\n",
    "We use the `&`, `|` and `~` instead of the `and`, `or`, `not` (respec.) used in logical types. It will be necessary to close the expressions in parentheses.\n",
    "\n",
    "For example:\n",
    "\n",
    "```\n",
    "( A > 1 ) | ( B < 5)\n",
    "```\n",
    "\n",
    "Regarding our ships, those that have 4 or more crew and that cost less than 1M credits:"
   ]
  },
  {
   "cell_type": "code",
   "execution_count": null,
   "metadata": {
    "colab": {
     "base_uri": "https://localhost:8080/"
    },
    "executionInfo": {
     "elapsed": 821,
     "status": "ok",
     "timestamp": 1604326707326,
     "user": {
      "displayName": "alumnos bigdata",
      "photoUrl": "",
      "userId": "10710302360204190833"
     },
     "user_tz": -60
    },
    "id": "rtyiW1uSF5s5",
    "outputId": "c7f95a1d-3329-4f13-9268-3e07f04c9b28",
    "scrolled": true
   },
   "outputs": [],
   "source": [
    "starship_names_sel = starship_names[(starship_np[:,2] >= 4) & (starship_np[:,0] <10**6)]\n",
    "starship_names_sel"
   ]
  },
  {
   "cell_type": "markdown",
   "metadata": {
    "eval": false,
    "id": "kA2SqD2gF5tH"
   },
   "source": [
    "> **Remember**: Both expressions are enclosed in parentheses.\n",
    "\n",
    "Now, we filter the data matrix of these ships:"
   ]
  },
  {
   "cell_type": "code",
   "execution_count": null,
   "metadata": {
    "colab": {
     "base_uri": "https://localhost:8080/"
    },
    "executionInfo": {
     "elapsed": 708,
     "status": "ok",
     "timestamp": 1604326710800,
     "user": {
      "displayName": "alumnos bigdata",
      "photoUrl": "",
      "userId": "10710302360204190833"
     },
     "user_tz": -60
    },
    "id": "lqt9A89qF5tJ",
    "outputId": "091867dc-3cf8-4580-affb-2d0b1d1aea3e"
   },
   "outputs": [],
   "source": [
    "starship_np_sel = starship_np[(starship_np[:,2] >= 4) & (starship_np[:,0] <10**6), :]\n",
    "starship_np_sel"
   ]
  },
  {
   "cell_type": "markdown",
   "metadata": {
    "id": "qUH_kQRhF5tZ"
   },
   "source": [
    "Graphically:"
   ]
  },
  {
   "cell_type": "code",
   "execution_count": null,
   "metadata": {
    "colab": {
     "base_uri": "https://localhost:8080/"
    },
    "executionInfo": {
     "elapsed": 724,
     "status": "ok",
     "timestamp": 1604326718507,
     "user": {
      "displayName": "alumnos bigdata",
      "photoUrl": "",
      "userId": "10710302360204190833"
     },
     "user_tz": -60
    },
    "id": "Xsp2l1BlF5ta",
    "outputId": "42a81388-8aee-4a78-a6b0-fcbb4f6e7291"
   },
   "outputs": [],
   "source": [
    "starship_names_sel"
   ]
  },
  {
   "cell_type": "code",
   "execution_count": null,
   "metadata": {
    "colab": {
     "base_uri": "https://localhost:8080/",
     "height": 276
    },
    "executionInfo": {
     "elapsed": 877,
     "status": "ok",
     "timestamp": 1604326722483,
     "user": {
      "displayName": "alumnos bigdata",
      "photoUrl": "",
      "userId": "10710302360204190833"
     },
     "user_tz": -60
    },
    "id": "wjqHoIwWF5uF",
    "outputId": "1a05acf4-cc5f-4fc8-f917-1bbcf3120fa1"
   },
   "outputs": [],
   "source": [
    "ind = np.arange(len(starship_names_sel))    # posiciones\n",
    "\n",
    "plt.bar(ind, starship_np_sel[:,1] );\n",
    "\n",
    "for i in ind:\n",
    "    plt.text(ind[i],starship_np_sel[i,1], int(starship_np_sel[i,1]),size=9)\n",
    "\n",
    "plt.gcf().subplots_adjust(left=0.15,bottom=0.15)\n",
    "plt.ylabel('Velocity (MGLT)')\n",
    "plt.title('Selected Interstellar Ships')\n",
    "p = plt.xticks(ind, starship_names_sel,fontsize=9);\n"
   ]
  },
  {
   "cell_type": "markdown",
   "metadata": {
    "id": "gWMz4gPhF5uQ"
   },
   "source": [
    "It seems that the Millennium Falcon with 75 MGLT, is the ship we were looking for!"
   ]
  },
  {
   "cell_type": "markdown",
   "metadata": {
    "id": "eAet3mf2F5uR"
   },
   "source": [
    "### 5.7. Modify Arrays"
   ]
  },
  {
   "cell_type": "markdown",
   "metadata": {
    "id": "7x4YB74LF5uT"
   },
   "source": [
    "To modify an array value:"
   ]
  },
  {
   "cell_type": "code",
   "execution_count": null,
   "metadata": {
    "colab": {
     "base_uri": "https://localhost:8080/"
    },
    "executionInfo": {
     "elapsed": 748,
     "status": "ok",
     "timestamp": 1604326730789,
     "user": {
      "displayName": "alumnos bigdata",
      "photoUrl": "",
      "userId": "10710302360204190833"
     },
     "user_tz": -60
    },
    "id": "RY6yeyrwF5uW",
    "outputId": "b827bab1-71a4-41c4-ef29-524d8cf32062"
   },
   "outputs": [],
   "source": [
    "x2"
   ]
  },
  {
   "cell_type": "code",
   "execution_count": null,
   "metadata": {
    "colab": {
     "base_uri": "https://localhost:8080/"
    },
    "executionInfo": {
     "elapsed": 906,
     "status": "ok",
     "timestamp": 1604326733980,
     "user": {
      "displayName": "alumnos bigdata",
      "photoUrl": "",
      "userId": "10710302360204190833"
     },
     "user_tz": -60
    },
    "id": "qUqrIZilF5ug",
    "outputId": "75aaaf1e-652a-4c9f-91d9-0e6aeacbd6f6"
   },
   "outputs": [],
   "source": [
    "x2[1,1] = 20\n",
    "x2"
   ]
  },
  {
   "cell_type": "markdown",
   "metadata": {
    "id": "5A9YGcX_F5uq"
   },
   "source": [
    "Be very careful with the internal type of numpy since it is fixed. It will not change:"
   ]
  },
  {
   "cell_type": "code",
   "execution_count": null,
   "metadata": {
    "colab": {
     "base_uri": "https://localhost:8080/"
    },
    "executionInfo": {
     "elapsed": 591,
     "status": "ok",
     "timestamp": 1604326736979,
     "user": {
      "displayName": "alumnos bigdata",
      "photoUrl": "",
      "userId": "10710302360204190833"
     },
     "user_tz": -60
    },
    "id": "JWr3f2NaF5us",
    "outputId": "da061563-f518-4b9b-8712-b2fdda2648b4"
   },
   "outputs": [],
   "source": [
    "x2[1,1] = 20.765\n",
    "x2"
   ]
  },
  {
   "cell_type": "markdown",
   "metadata": {
    "id": "Xmbpao2cF5u3"
   },
   "source": [
    "> **Remember**: If you try to insert a floating point value over a numpy with integer type, it will be cut off."
   ]
  },
  {
   "cell_type": "markdown",
   "metadata": {
    "id": "w47oaaNuF5u5"
   },
   "source": [
    "N values can be modified with a vector of N positions."
   ]
  },
  {
   "cell_type": "code",
   "execution_count": null,
   "metadata": {
    "colab": {
     "base_uri": "https://localhost:8080/"
    },
    "executionInfo": {
     "elapsed": 988,
     "status": "ok",
     "timestamp": 1604326743157,
     "user": {
      "displayName": "alumnos bigdata",
      "photoUrl": "",
      "userId": "10710302360204190833"
     },
     "user_tz": -60
    },
    "id": "rAC7e-K-F5u7",
    "outputId": "37d11c0f-2505-4797-b78b-ac09fa9298da"
   },
   "outputs": [],
   "source": [
    "x2[1,:] = x2[0,:] * 10 \n",
    "x2"
   ]
  },
  {
   "cell_type": "markdown",
   "metadata": {
    "id": "uG-EMgQhF5vE"
   },
   "source": [
    "Also, several can be modified at the same time, with a single value."
   ]
  },
  {
   "cell_type": "code",
   "execution_count": null,
   "metadata": {
    "colab": {
     "base_uri": "https://localhost:8080/"
    },
    "executionInfo": {
     "elapsed": 704,
     "status": "ok",
     "timestamp": 1604326746856,
     "user": {
      "displayName": "alumnos bigdata",
      "photoUrl": "",
      "userId": "10710302360204190833"
     },
     "user_tz": -60
    },
    "id": "7rpUJ1htF5vG",
    "outputId": "f90b6f7b-1ad4-4143-d336-aa68734d3d78"
   },
   "outputs": [],
   "source": [
    "x2[[1,2],[2,2]] = 55\n",
    "x2"
   ]
  },
  {
   "cell_type": "markdown",
   "metadata": {
    "id": "wSDlx02cF5vO"
   },
   "source": [
    "#### 5.7.1. Views not copied\n",
    "\n",
    "When a numpy array is assigned to another object, whether filtered with `[,]` or not, it returns a view, not a copy. It is very important to keep this in mind, when modifying the object:"
   ]
  },
  {
   "cell_type": "code",
   "execution_count": null,
   "metadata": {
    "colab": {
     "base_uri": "https://localhost:8080/"
    },
    "executionInfo": {
     "elapsed": 713,
     "status": "ok",
     "timestamp": 1604326751570,
     "user": {
      "displayName": "alumnos bigdata",
      "photoUrl": "",
      "userId": "10710302360204190833"
     },
     "user_tz": -60
    },
    "id": "dHJBZufYF5vP",
    "outputId": "ff3ea001-1ebe-4ee6-f045-b391f32e0ae3"
   },
   "outputs": [],
   "source": [
    "a = np.array([1, 'm', [2, 3, 4]], dtype=object)\n",
    "b = a\n",
    "b[0] = 10\n",
    "a"
   ]
  },
  {
   "cell_type": "markdown",
   "metadata": {
    "id": "DPDNr5lkF5v4"
   },
   "source": [
    "> **Important**: Changes to a non-copied view affect all copies."
   ]
  },
  {
   "cell_type": "markdown",
   "metadata": {
    "id": "spX1SkU1F5v6"
   },
   "source": [
    "#### 5.7.2. Array Copies\n",
    "\n",
    "To copy an array to another object use `copy()`:"
   ]
  },
  {
   "cell_type": "code",
   "execution_count": null,
   "metadata": {
    "id": "-3M275Q2F5v8"
   },
   "outputs": [],
   "source": [
    "c = a.copy() # ARRAY COPIES\n",
    "c[0] = 20\n",
    "print(a)"
   ]
  },
  {
   "cell_type": "markdown",
   "metadata": {
    "id": "vcKacYLNF5wk"
   },
   "source": [
    "Now, the original object does not change. But it's not perfect!"
   ]
  },
  {
   "cell_type": "code",
   "execution_count": null,
   "metadata": {
    "colab": {
     "base_uri": "https://localhost:8080/"
    },
    "executionInfo": {
     "elapsed": 824,
     "status": "ok",
     "timestamp": 1604326766577,
     "user": {
      "displayName": "alumnos bigdata",
      "photoUrl": "",
      "userId": "10710302360204190833"
     },
     "user_tz": -60
    },
    "id": "Qh8haXqlF5wc",
    "outputId": "1cd9da91-89b1-47c6-af0e-349edb4424f8"
   },
   "outputs": [],
   "source": [
    "c[2][0] = 30\n",
    "print(a)"
   ]
  },
  {
   "cell_type": "markdown",
   "metadata": {
    "id": "vcKacYLNF5wk"
   },
   "source": [
    "Internally it continues to use references to the same objects."
   ]
  },
  {
   "cell_type": "markdown",
   "metadata": {
    "id": "spX1SkU1F5v6"
   },
   "source": [
    "#### 5.7.2.1 Deep Copies of Arrays\n",
    "\n",
    "Let's see what it consists of."
   ]
  },
  {
   "cell_type": "code",
   "execution_count": null,
   "metadata": {
    "id": "-3M275Q2F5v8"
   },
   "outputs": [],
   "source": [
    "import copy\n",
    "d = copy.deepcopy(a)\n",
    "d[2][0] = 40\n",
    "print(a)\n"
   ]
  },
  {
   "cell_type": "markdown",
   "metadata": {
    "id": "vcKacYLNF5wk"
   },
   "source": [
    "Now copy the internal structure."
   ]
  },
  {
   "cell_type": "markdown",
   "metadata": {
    "id": "avjeAduPF5wn"
   },
   "source": [
    "#### 5.7.3. *Shape* changes\n",
    "\n",
    "With `.reshape()` you can modify the dimensions of the array:"
   ]
  },
  {
   "cell_type": "code",
   "execution_count": null,
   "metadata": {
    "colab": {
     "base_uri": "https://localhost:8080/"
    },
    "executionInfo": {
     "elapsed": 747,
     "status": "ok",
     "timestamp": 1604326769644,
     "user": {
      "displayName": "alumnos bigdata",
      "photoUrl": "",
      "userId": "10710302360204190833"
     },
     "user_tz": -60
    },
    "id": "mHQoGxAxF5wo",
    "outputId": "a32eabc5-dbc3-4d6d-e56b-5f7040086e31"
   },
   "outputs": [],
   "source": [
    "x1"
   ]
  },
  {
   "cell_type": "code",
   "execution_count": null,
   "metadata": {
    "colab": {
     "base_uri": "https://localhost:8080/"
    },
    "executionInfo": {
     "elapsed": 767,
     "status": "ok",
     "timestamp": 1604326771591,
     "user": {
      "displayName": "alumnos bigdata",
      "photoUrl": "",
      "userId": "10710302360204190833"
     },
     "user_tz": -60
    },
    "id": "AjoOiMuoF5wy",
    "outputId": "cbee51f9-b27b-4397-9e7b-9cc0084bfdc9"
   },
   "outputs": [],
   "source": [
    "x1.reshape(2,3)"
   ]
  },
  {
   "cell_type": "markdown",
   "metadata": {
    "id": "UVgmVZHeF5w-"
   },
   "source": [
    "#### 5.7.4. Concatenate Arrays\n",
    "\n",
    "To concatenate 2 one-dimensional arrays:"
   ]
  },
  {
   "cell_type": "code",
   "execution_count": null,
   "metadata": {
    "colab": {
     "base_uri": "https://localhost:8080/"
    },
    "executionInfo": {
     "elapsed": 762,
     "status": "ok",
     "timestamp": 1604326774356,
     "user": {
      "displayName": "alumnos bigdata",
      "photoUrl": "",
      "userId": "10710302360204190833"
     },
     "user_tz": -60
    },
    "id": "xySi2-EQF5xA",
    "outputId": "6c3bec0f-3923-4286-f165-0290ec3c1c14"
   },
   "outputs": [],
   "source": [
    "x = np.array([1, 2, 3])\n",
    "y = np.array([3, 2, 1])\n",
    "np.concatenate([x, y])"
   ]
  },
  {
   "cell_type": "code",
   "execution_count": null,
   "metadata": {
    "colab": {
     "base_uri": "https://localhost:8080/"
    },
    "executionInfo": {
     "elapsed": 969,
     "status": "ok",
     "timestamp": 1604326777319,
     "user": {
      "displayName": "alumnos bigdata",
      "photoUrl": "",
      "userId": "10710302360204190833"
     },
     "user_tz": -60
    },
    "id": "204vVEu7F5xH",
    "outputId": "17d27b42-4333-4b08-c926-316ad48ef647"
   },
   "outputs": [],
   "source": [
    "grid = np.arange(6).reshape(2,3)\n",
    "\n",
    "# concatenate rows, (axis = 0)\n",
    "np.concatenate([grid, grid])"
   ]
  },
  {
   "cell_type": "code",
   "execution_count": null,
   "metadata": {
    "colab": {
     "base_uri": "https://localhost:8080/"
    },
    "executionInfo": {
     "elapsed": 1026,
     "status": "ok",
     "timestamp": 1604326780277,
     "user": {
      "displayName": "alumnos bigdata",
      "photoUrl": "",
      "userId": "10710302360204190833"
     },
     "user_tz": -60
    },
    "id": "OBHUUFrXF5xQ",
    "outputId": "750f6d7e-48d1-4ab2-ea30-1b02b0821ec0"
   },
   "outputs": [],
   "source": [
    "# concatenate columns, (axis = 1)\n",
    "np.concatenate([grid, grid], axis=1)"
   ]
  },
  {
   "cell_type": "markdown",
   "metadata": {
    "id": "igos5GLqF5xY"
   },
   "source": [
    "The same with vstack and hstack, but with arrays of different dimensions:"
   ]
  },
  {
   "cell_type": "code",
   "execution_count": null,
   "metadata": {
    "colab": {
     "base_uri": "https://localhost:8080/"
    },
    "executionInfo": {
     "elapsed": 886,
     "status": "ok",
     "timestamp": 1604326782473,
     "user": {
      "displayName": "alumnos bigdata",
      "photoUrl": "",
      "userId": "10710302360204190833"
     },
     "user_tz": -60
    },
    "id": "IL2fzMqPF5xZ",
    "outputId": "d6a755d4-3527-47d9-ce0d-d208afe197f9"
   },
   "outputs": [],
   "source": [
    "x = np.array([1, 2, 3])\n",
    "grid = np.array([[9, 8, 7],\n",
    "                 [6, 5, 4]])\n",
    "\n",
    "# vertical syack\n",
    "np.vstack([x, grid])"
   ]
  },
  {
   "cell_type": "code",
   "execution_count": null,
   "metadata": {
    "colab": {
     "base_uri": "https://localhost:8080/"
    },
    "executionInfo": {
     "elapsed": 770,
     "status": "ok",
     "timestamp": 1604326784825,
     "user": {
      "displayName": "alumnos bigdata",
      "photoUrl": "",
      "userId": "10710302360204190833"
     },
     "user_tz": -60
    },
    "id": "itnAKYXSF5xi",
    "outputId": "c684bdf1-c97f-4c04-df2d-0afc32bb376a"
   },
   "outputs": [],
   "source": [
    "# horizontal stack\n",
    "y = np.array([[99],\n",
    "              [99]])\n",
    "np.hstack([grid, y])"
   ]
  },
  {
   "cell_type": "markdown",
   "metadata": {
    "id": "w1XZYlwiF5xp"
   },
   "source": [
    "#### 5.7.5. Array Broadcasting\n",
    "\n",
    "Broadcasting is an alignment operation that strictly follows the following interaction rules between 2 arrays:\n",
    "\n",
    "- **Rule 1**: if two arrays differ in the number of dimensions, the shape (dimensions) of the one with the smallest dimension is increased with ones from the left:\n",
    "```\n",
    "[3,1,6] x [2,6] ----> [3,1,6] x [1,2,6]\n",
    "[3,5,4] x [3.5] ----> [3,5,4] x [1,3,5]\n",
    "```\n",
    "- **Rule 2**: if two arrays have a different shape in some dimension, the array with a shape equal to 1 is stretched (copied) so that it matches the one with the same dimension of the other array:\n",
    "\n",
    "```\n",
    "[3,1,6] x [1,2,6] ----> [3,2,6] x [3,2,6]\n",
    "[3,5,4] x [1,3,5] ----> [3,5,4] x [3,3,5]\n",
    "```\n",
    "- **Rule 3**: if any dimension has a different size and there is no dimension 1, an error is thrown:\n",
    "```\n",
    "[3,2,6] x [3,2,6] ----> Match\n",
    "[3,5,4] x [3,3,5] ----> Error !!!\n",
    "```\n",
    "\n",
    "In practice, this means facilitating some operations:"
   ]
  },
  {
   "cell_type": "code",
   "execution_count": null,
   "metadata": {
    "colab": {
     "base_uri": "https://localhost:8080/"
    },
    "executionInfo": {
     "elapsed": 758,
     "status": "ok",
     "timestamp": 1604326791997,
     "user": {
      "displayName": "alumnos bigdata",
      "photoUrl": "",
      "userId": "10710302360204190833"
     },
     "user_tz": -60
    },
    "id": "_kr8Q8n-F5xr",
    "outputId": "ffed0d85-c117-419d-88f9-f74b8b42bcf7"
   },
   "outputs": [],
   "source": [
    "a = np.ones((2,2))\n",
    "a"
   ]
  },
  {
   "cell_type": "code",
   "execution_count": null,
   "metadata": {
    "colab": {
     "base_uri": "https://localhost:8080/"
    },
    "executionInfo": {
     "elapsed": 733,
     "status": "ok",
     "timestamp": 1604326794222,
     "user": {
      "displayName": "alumnos bigdata",
      "photoUrl": "",
      "userId": "10710302360204190833"
     },
     "user_tz": -60
    },
    "id": "4AQXc-Z7F5xz",
    "outputId": "5f3362bc-1daa-46b8-c94b-93a9565f19e3"
   },
   "outputs": [],
   "source": [
    "b =  np.tile(0.5, 2)\n",
    "b"
   ]
  },
  {
   "cell_type": "code",
   "execution_count": null,
   "metadata": {
    "colab": {
     "base_uri": "https://localhost:8080/"
    },
    "executionInfo": {
     "elapsed": 762,
     "status": "ok",
     "timestamp": 1604326796582,
     "user": {
      "displayName": "alumnos bigdata",
      "photoUrl": "",
      "userId": "10710302360204190833"
     },
     "user_tz": -60
    },
    "id": "jjD0XQ-7F5x9",
    "outputId": "f94c9bba-860f-4756-9203-4cc895f72643"
   },
   "outputs": [],
   "source": [
    "a - b"
   ]
  },
  {
   "cell_type": "markdown",
   "metadata": {
    "id": "JBfNveiBF5yI"
   },
   "source": [
    "#### 5.7.6. Convert to Lists\n",
    "\n",
    "The numpy's are converted to a list with `.tolist()`:"
   ]
  },
  {
   "cell_type": "code",
   "execution_count": null,
   "metadata": {
    "colab": {
     "base_uri": "https://localhost:8080/"
    },
    "executionInfo": {
     "elapsed": 705,
     "status": "ok",
     "timestamp": 1604326798410,
     "user": {
      "displayName": "alumnos bigdata",
      "photoUrl": "",
      "userId": "10710302360204190833"
     },
     "user_tz": -60
    },
    "id": "fRK9StENF5yK",
    "outputId": "d9251008-808d-4d3e-fc06-b0d520b47878"
   },
   "outputs": [],
   "source": [
    "a = np.array([2,3,7,3])\n",
    "b = a.tolist()\n",
    "b"
   ]
  },
  {
   "cell_type": "code",
   "execution_count": null,
   "metadata": {
    "colab": {
     "base_uri": "https://localhost:8080/"
    },
    "executionInfo": {
     "elapsed": 936,
     "status": "ok",
     "timestamp": 1604326800935,
     "user": {
      "displayName": "alumnos bigdata",
      "photoUrl": "",
      "userId": "10710302360204190833"
     },
     "user_tz": -60
    },
    "id": "Eil45oqQF5yY",
    "outputId": "42bbab1b-9a96-4a93-f3d7-e7fba6e68cd2"
   },
   "outputs": [],
   "source": [
    "type(b)"
   ]
  },
  {
   "cell_type": "markdown",
   "metadata": {
    "id": "Bp8rxnCNF5yg"
   },
   "source": [
    "#### 5.7.7. Missing Values\n",
    "\n",
    "By definition, a NaN is a floating point number, unlike any other number:"
   ]
  },
  {
   "cell_type": "code",
   "execution_count": null,
   "metadata": {
    "colab": {
     "base_uri": "https://localhost:8080/"
    },
    "executionInfo": {
     "elapsed": 797,
     "status": "ok",
     "timestamp": 1604326805833,
     "user": {
      "displayName": "alumnos bigdata",
      "photoUrl": "",
      "userId": "10710302360204190833"
     },
     "user_tz": -60
    },
    "id": "JN99POGzF5yh",
    "outputId": "54816b7b-6d56-4879-9b6c-bef32f868cb7"
   },
   "outputs": [],
   "source": [
    "np.nan != np.nan"
   ]
  },
  {
   "cell_type": "code",
   "execution_count": null,
   "metadata": {
    "colab": {
     "base_uri": "https://localhost:8080/"
    },
    "executionInfo": {
     "elapsed": 724,
     "status": "ok",
     "timestamp": 1604326808237,
     "user": {
      "displayName": "alumnos bigdata",
      "photoUrl": "",
      "userId": "10710302360204190833"
     },
     "user_tz": -60
    },
    "id": "jSkP_yiNF5yq",
    "outputId": "85223352-3d0b-4ec0-c5c4-47b77681a418"
   },
   "outputs": [],
   "source": [
    "a = np.arange(6).reshape(3,2) * 1.0\n",
    "\n",
    "a[[1,2],[1] ] = np.nan\n",
    "\n",
    "a"
   ]
  },
  {
   "cell_type": "markdown",
   "metadata": {
    "id": "HvgRXXB7F5yy"
   },
   "source": [
    "> **Note**: Broadcast was applied when assigning `np.nan`."
   ]
  },
  {
   "cell_type": "code",
   "execution_count": null,
   "metadata": {
    "colab": {
     "base_uri": "https://localhost:8080/"
    },
    "executionInfo": {
     "elapsed": 1055,
     "status": "ok",
     "timestamp": 1604326811467,
     "user": {
      "displayName": "alumnos bigdata",
      "photoUrl": "",
      "userId": "10710302360204190833"
     },
     "user_tz": -60
    },
    "id": "kSLDP5V8F5y0",
    "outputId": "1469adde-c76e-46e9-d82d-f7d10380ffa0"
   },
   "outputs": [],
   "source": [
    "np.isnan(a)"
   ]
  },
  {
   "cell_type": "markdown",
   "metadata": {
    "id": "l5ykUksQF5y7"
   },
   "source": [
    "Numpy is the foundation of array computing. Now let's see what the **pandas** objects provide."
   ]
  },
  {
   "cell_type": "markdown",
   "metadata": {},
   "source": [
    "< [Object collections: Lists, tuples and dictionaries](modulo1_tema4_Py_30_colec_obj.ipynb) | [Table of contents](modulo1_tema4_Py_00_indice.ipynb) | [Object collections: pandas](modulo1_tema4_Py_32_pandas.ipynb) >\n",
    "\n",
    "__[Open in Colab](https://colab.research.google.com/github/griu/msc_python/blob/master/modulo1_tema4_Py_31_numpy.ipynb)__"
   ]
  }
 ],
 "metadata": {
  "colab": {
   "collapsed_sections": [],
   "name": "M1_BloqueII_Python_5_Numpy.ipynb",
   "provenance": []
  },
  "kernelspec": {
   "display_name": "mufib_env383",
   "language": "python",
   "name": "mufib_env383"
  },
  "language_info": {
   "codemirror_mode": {
    "name": "ipython",
    "version": 3
   },
   "file_extension": ".py",
   "mimetype": "text/x-python",
   "name": "python",
   "nbconvert_exporter": "python",
   "pygments_lexer": "ipython3",
   "version": "3.8.3"
  },
  "toc": {
   "base_numbering": 1,
   "nav_menu": {},
   "number_sections": true,
   "sideBar": true,
   "skip_h1_title": false,
   "title_cell": "Table of Contents",
   "title_sidebar": "Contents",
   "toc_cell": true,
   "toc_position": {},
   "toc_section_display": true,
   "toc_window_display": false
  }
 },
 "nbformat": 4,
 "nbformat_minor": 1
}
