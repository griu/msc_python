{
 "cells": [
  {
   "cell_type": "markdown",
   "metadata": {
    "toc": true
   },
   "source": [
    "<h1>Table of Contents<span class=\"tocSkip\"></span></h1>\n",
    "<div class=\"toc\"><ul class=\"toc-item\"><li><span><a href=\"#1---Programación-en-Python\" data-toc-modified-id=\"1---Programación-en-Python-1\"><span class=\"toc-item-num\">1&nbsp;&nbsp;</span>1 - Programación en Python</a></span><ul class=\"toc-item\"><li><span><a href=\"#1.1-Introduction\" data-toc-modified-id=\"1.1-Introduction-1.1\"><span class=\"toc-item-num\">1.1&nbsp;&nbsp;</span>1.1 Introduction</a></span></li><li><span><a href=\"#1.2-Actividad-Guiada\" data-toc-modified-id=\"1.2-Actividad-Guiada-1.2\"><span class=\"toc-item-num\">1.2&nbsp;&nbsp;</span>1.2 Actividad Guiada</a></span></li></ul></li></ul></div>"
   ]
  },
  {
   "cell_type": "markdown",
   "metadata": {},
   "source": [
    "<img align=\"left\" style=\"padding-right:10px;\" width=\"150\" src=\"https://upload.wikimedia.org/wikipedia/commons/thumb/6/6c/Star_Wars_Logo.svg/320px-Star_Wars_Logo.svg.png\" />\n",
    "\n",
    "*made by Ferran Carrascosa Mallafrè.*"
   ]
  },
  {
   "cell_type": "markdown",
   "metadata": {},
   "source": [
    "[Índice](modulo1_tema4_Py_00_indice.ipynb) | [Elementos básicos de Python](modulo1_tema4_Py_10_elem_bas.ipynb) >\n",
    "\n",
    "__[Abre en Colab](https://colab.research.google.com/github/griu/msc_python/blob/master/modulo1_tema4_Py.ipynb)__ *: <span style=\"color:rgba(255, 99, 71, 0.8)\">Padawan! When you login to Colab, prepare the environment by running the following code.</span>*"
   ]
  },
  {
   "cell_type": "markdown",
   "metadata": {
    "id": "7ygQyWdBTi-t"
   },
   "source": [
    "# 1 - Programación en Python"
   ]
  },
  {
   "cell_type": "markdown",
   "metadata": {
    "id": "C9C72jQRD473"
   },
   "source": [
    "As stated on the ***Colaboratory*** page itself, or more commonly known as ***Colab***, it allows you to run and code Python in your browser.\n",
    "\n",
    "To work with Python in Colab you have to perform 3 simple steps:\n",
    "\n",
    "1. Open Colab with the following path:\n",
    "[https://colab.research.google.com/notebooks/intro.ipynb](https://colab.research.google.com/notebooks/intro.ipynb)\n",
    "\n",
    "2. Sign in with a Google-UPF account and voila!\n",
    "\n",
    "3. Finally, you have to prepare the environment by executing the following code:\n"
   ]
  },
  {
   "cell_type": "code",
   "execution_count": null,
   "metadata": {
    "colab": {
     "base_uri": "https://localhost:8080/"
    },
    "executionInfo": {
     "elapsed": 25678,
     "status": "ok",
     "timestamp": 1604317087349,
     "user": {
      "displayName": "alumnos bigdata",
      "photoUrl": "",
      "userId": "10710302360204190833"
     },
     "user_tz": -60
    },
    "id": "2SBF5dlSTi-h",
    "outputId": "b85ff6ea-725c-464c-abf4-fc481a6882de"
   },
   "outputs": [],
   "source": [
    "if 'google.colab' in str(get_ipython()):\n",
    "    !git clone https://github.com/griu/msc_python.git /content/msc_python\n",
    "    !git -C /content/msc_python pull\n",
    "    %cd /content/msc_python"
   ]
  },
  {
   "cell_type": "markdown",
   "metadata": {
    "id": "MR_aVrMXTi-v"
   },
   "source": [
    "## 1.1 Introduction"
   ]
  },
  {
   "cell_type": "markdown",
   "metadata": {
    "id": "Cbkrh30KTi-y"
   },
   "source": [
    "Python is a general purpose programming tool.\n",
    "\n",
    "In recent years, it has become one of the reference languages for *Data Science*. The reason is that it has been able to surround itself with a great ecosystem like [SciPy](https://www.scipy.org/) with libraries (numpy, pandas, scipy...) and tools (Jupyter, Spyder,...) oriented to analysis and mathematical programming.\n",
    "\n",
    "Python developers seek to make a language that is alive and attractive to the programmer. Proof of this is that its name is a tribute to the British humor company *Monthy Python*.\n",
    "\n",
    "The core of its programming philosophy is summed up in \"*Zen of Python*\" made up of 20 aphorisms written by Tim Peters, 19 of which can be read below by importing `this`. On the 20th, Tim Peters said that the creator of Python, Guido van Rossum, would say it, but it seems that he has not yet commented."
   ]
  },
  {
   "cell_type": "code",
   "execution_count": null,
   "metadata": {
    "id": "El8Z2EonTi-0",
    "scrolled": true
   },
   "outputs": [],
   "source": [
    "import this"
   ]
  },
  {
   "cell_type": "markdown",
   "metadata": {
    "id": "-KL5loU0Ti_A"
   },
   "source": [
    "Being *Pythonian* or *Pythonic* means using the code correctly, that is, programming with a simple and easy-to-read language."
   ]
  },
  {
   "cell_type": "markdown",
   "metadata": {
    "id": "5RABe72nTi_C"
   },
   "source": [
    "## 1.2 Guided Activity\n",
    "\n",
    "The guided activity that we propose, in line with the Pythonians, is that you have fun analyzing data related to the Star Wars saga: Planets, Ships, Vehicles, Characters and Species.\n",
    "\n",
    "To do this, we have the data from [SWAPI](https://swapi.dev/), an acronym for STAR WARS API, which gives us free access to a collection of data from the saga.\n",
    "\n",
    "These data have been downloaded and prepared specifically for this course. You can find the code used in the ***Annex: Python README***, chapter \"IMPORT DATA FROM STARWARS SWAPI\".\n",
    "\n",
    "To load the data and view its content:"
   ]
  },
  {
   "cell_type": "code",
   "execution_count": null,
   "metadata": {
    "colab": {
     "base_uri": "https://localhost:8080/",
     "height": 277
    },
    "executionInfo": {
     "elapsed": 985,
     "status": "ok",
     "timestamp": 1604317137782,
     "user": {
      "displayName": "alumnos bigdata",
      "photoUrl": "",
      "userId": "10710302360204190833"
     },
     "user_tz": -60
    },
    "id": "xaDllo07Ti_E",
    "outputId": "1c80ded1-5bd2-47a7-8bef-5a9ad2635dd2"
   },
   "outputs": [],
   "source": [
    "%matplotlib inline\n",
    "import pandas as pd\n",
    "import matplotlib.pyplot as plt\n",
    "#import seaborn as sns\n",
    "plt.style.use('seaborn-whitegrid')\n",
    "\n",
    "entidades = ['planets','starships','vehicles','people','species']\n",
    "entidades_df = {x: pd.read_pickle('www/' + x + '_df.pkl') for x in entidades}\n",
    "entidades_count = {k: v.shape for k,v in entidades_df.items()}\n",
    "entidades_count_df = pd.DataFrame.from_dict(entidades_count, orient='index', columns=['N_Rows', \"N_Columns\"])\n",
    "\n",
    "g = entidades_count_df.plot.bar(alpha=0.75, rot=0)\n",
    "plt.title(\"Number of Rows and Columns in Starwars tables\")\n",
    "#g.title = 'Entidad de Starwars'\n",
    "for i, (k, row) in enumerate(entidades_count_df.iterrows()):\n",
    "    g.text(i-0.1, row['N_Rows']+1, row['N_Rows'], color='black', ha=\"center\")\n",
    "    g.text(i+0.1, row['N_Columns']+1, row['N_Columns'], color='black', ha=\"center\")\n"
   ]
  },
  {
   "cell_type": "markdown",
   "metadata": {
    "id": "mPmxuaz3Ti_Q"
   },
   "source": [
    "We see that the data is made up of 5 sets. For example, `people` contains 82 characters described by 16 variables.\n",
    "\n",
    "A sample of the character data is as follows:"
   ]
  },
  {
   "cell_type": "code",
   "execution_count": null,
   "metadata": {
    "colab": {
     "base_uri": "https://localhost:8080/",
     "height": 411
    },
    "executionInfo": {
     "elapsed": 786,
     "status": "ok",
     "timestamp": 1604317143312,
     "user": {
      "displayName": "alumnos bigdata",
      "photoUrl": "",
      "userId": "10710302360204190833"
     },
     "user_tz": -60
    },
    "id": "t1t7MFtnTi_S",
    "outputId": "c6716572-6535-4c38-ea52-c490e791f916",
    "scrolled": true
   },
   "outputs": [],
   "source": [
    "entidades_df['people'].head()"
   ]
  },
  {
   "cell_type": "markdown",
   "metadata": {
    "id": "rT_81M8zTi_d"
   },
   "source": [
    "Note that there are numerical variables such as height, weight, or age (in years BBY Before the Battle of Yavin). Others are categorical, like the character's gender. We even found variables in list format, such as the movies the character was in and the vehicles and ships the character drove.\n",
    "\n",
    "```\n",
    "\"Yoda spoke of another.\"\n",
    "\"The other one he talked about is your twin sister.\"\n",
    "― Luke Skywalker and Obi-Wan Kenobi\n",
    "```\n",
    "\n",
    "> Did you remember that Luke and Leia were twins? Did you know that his father, Anakin (later Darth Vader), was 22 years old when he had them?\n",
    "\n",
    "You will be able to analyze all this and much more, in the data and thus become the true Jedi that we know you have inside.\n",
    "\n",
    "See the [SWAPI Documentation](https://swapi.dev/documentation) about its tables and fields.\n",
    "\n",
    "*And may the force be with you...*"
   ]
  },
  {
   "cell_type": "markdown",
   "metadata": {},
   "source": [
    "< [Índice](modulo1_tema4_Py_00_indice.ipynb) | [Elementos básicos de Python](modulo1_tema4_Py_10_elem_bas.ipynb) >\n",
    "\n",
    "__[Abre en Colab](https://colab.research.google.com/github/griu/msc_python/blob/master/modulo1_tema4_Py.ipynb)__"
   ]
  }
 ],
 "metadata": {
  "colab": {
   "collapsed_sections": [],
   "name": "M1_BloqueII_Python_1_Introduccion.ipynb",
   "provenance": []
  },
  "kernelspec": {
   "display_name": "mufib_env383",
   "language": "python",
   "name": "mufib_env383"
  },
  "language_info": {
   "codemirror_mode": {
    "name": "ipython",
    "version": 3
   },
   "file_extension": ".py",
   "mimetype": "text/x-python",
   "name": "python",
   "nbconvert_exporter": "python",
   "pygments_lexer": "ipython3",
   "version": "3.8.3"
  },
  "toc": {
   "base_numbering": 1,
   "nav_menu": {},
   "number_sections": true,
   "sideBar": true,
   "skip_h1_title": false,
   "title_cell": "Table of Contents",
   "title_sidebar": "Contents",
   "toc_cell": true,
   "toc_position": {},
   "toc_section_display": true,
   "toc_window_display": false
  }
 },
 "nbformat": 4,
 "nbformat_minor": 1
}
