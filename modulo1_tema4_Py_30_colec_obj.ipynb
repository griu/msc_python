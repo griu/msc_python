{
 "cells": [
  {
   "cell_type": "markdown",
   "metadata": {
    "toc": true
   },
   "source": [
    "<h1>Table of Contents<span class=\"tocSkip\"></span></h1>\n",
    "<div class=\"toc\"><ul class=\"toc-item\"><li><span><a href=\"#4---Colecciones-de-Objetos\" data-toc-modified-id=\"4---Colecciones-de-Objetos-1\"><span class=\"toc-item-num\">1&nbsp;&nbsp;</span>4 - Colecciones de Objetos</a></span><ul class=\"toc-item\"><li><ul class=\"toc-item\"><li><span><a href=\"#4.1.-Definition-of-the-objects\" data-toc-modified-id=\"4.1.-Definition-of-the-objects-1.0.1\"><span class=\"toc-item-num\">1.0.1&nbsp;&nbsp;</span>4.1. Definition of the objects</a></span><ul class=\"toc-item\"><li><span><a href=\"#BASIC-TYPE\" data-toc-modified-id=\"BASIC-TYPE-1.0.1.1\"><span class=\"toc-item-num\">1.0.1.1&nbsp;&nbsp;</span>BASIC TYPE</a></span></li><li><span><a href=\"#4.1.1.-Operations-with-Booleans\" data-toc-modified-id=\"4.1.1.-Operations-with-Booleans-1.0.1.2\"><span class=\"toc-item-num\">1.0.1.2&nbsp;&nbsp;</span>4.1.1. Operations with Booleans</a></span></li><li><span><a href=\"#4.1.2.-Boolean-Comparators\" data-toc-modified-id=\"4.1.2.-Boolean-Comparators-1.0.1.3\"><span class=\"toc-item-num\">1.0.1.3&nbsp;&nbsp;</span>4.1.2. Boolean Comparators</a></span></li><li><span><a href=\"#4.1.3.-Castings\" data-toc-modified-id=\"4.1.3.-Castings-1.0.1.4\"><span class=\"toc-item-num\">1.0.1.4&nbsp;&nbsp;</span>4.1.3. <em>Castings</em></a></span></li><li><span><a href=\"#4.1.4.-Mathematical-operations\" data-toc-modified-id=\"4.1.4.-Mathematical-operations-1.0.1.5\"><span class=\"toc-item-num\">1.0.1.5&nbsp;&nbsp;</span>4.1.4. <em>Mathematical operations</em></a></span></li></ul></li><li><span><a href=\"#4.2.-lists\" data-toc-modified-id=\"4.2.-lists-1.0.2\"><span class=\"toc-item-num\">1.0.2&nbsp;&nbsp;</span>4.2. lists</a></span><ul class=\"toc-item\"><li><span><a href=\"#4.2.1.-Length\" data-toc-modified-id=\"4.2.1.-Length-1.0.2.1\"><span class=\"toc-item-num\">1.0.2.1&nbsp;&nbsp;</span>4.2.1. Length</a></span></li><li><span><a href=\"#4.2.2.-Operations-with-Lists\" data-toc-modified-id=\"4.2.2.-Operations-with-Lists-1.0.2.2\"><span class=\"toc-item-num\">1.0.2.2&nbsp;&nbsp;</span>4.2.2. Operations with Lists</a></span></li><li><span><a href=\"#4.2.3.-Text-Operations\" data-toc-modified-id=\"4.2.3.-Text-Operations-1.0.2.3\"><span class=\"toc-item-num\">1.0.2.3&nbsp;&nbsp;</span>4.2.3. Text Operations</a></span></li></ul></li><li><span><a href=\"#4.3.-tuples\" data-toc-modified-id=\"4.3.-tuples-1.0.3\"><span class=\"toc-item-num\">1.0.3&nbsp;&nbsp;</span>4.3. tuples</a></span><ul class=\"toc-item\"><li><span><a href=\"#4.3.1.-Ranks\" data-toc-modified-id=\"4.3.1.-Ranks-1.0.3.1\"><span class=\"toc-item-num\">1.0.3.1&nbsp;&nbsp;</span>4.3.1. Ranks</a></span></li></ul></li><li><span><a href=\"#4.4.-Dictionaries\" data-toc-modified-id=\"4.4.-Dictionaries-1.0.4\"><span class=\"toc-item-num\">1.0.4&nbsp;&nbsp;</span>4.4. Dictionaries</a></span><ul class=\"toc-item\"><li><span><a href=\"#4.4.1.-Filters-in-Lists\" data-toc-modified-id=\"4.4.1.-Filters-in-Lists-1.0.4.1\"><span class=\"toc-item-num\">1.0.4.1&nbsp;&nbsp;</span>4.4.1. Filters in Lists</a></span></li><li><span><a href=\"#4.4.2.-List-Comprehension\" data-toc-modified-id=\"4.4.2.-List-Comprehension-1.0.4.2\"><span class=\"toc-item-num\">1.0.4.2&nbsp;&nbsp;</span>4.4.2. <em>List Comprehension</em></a></span></li></ul></li></ul></li></ul></li></ul></div>"
   ]
  },
  {
   "cell_type": "markdown",
   "metadata": {},
   "source": [
    "<img align=\"left\" style=\"padding-right:10px;\" width=\"150\" src=\"https://upload.wikimedia.org/wikipedia/commons/thumb/6/6c/Star_Wars_Logo.svg/320px-Star_Wars_Logo.svg.png\" />\n",
    "\n",
    "*made by Ferran Carrascosa Mallafrè.*"
   ]
  },
  {
   "cell_type": "markdown",
   "metadata": {},
   "source": [
    "< [Plots with matplotlib](modulo1_tema4_Py_20_matplotlib.ipynb) | [Table of contents](modulo1_tema4_Py_00_indice.ipynb) | [Object collections: numpy](modulo1_tema4_Py_31_numpy.ipynb) >\n",
    "\n",
    "__[Open in Colab](https://colab.research.google.com/github/griu/msc_python/blob/master/modulo1_tema4_Py_30_colec_obj.ipynb)__   *: <span style=\"color:rgba(255, 99, 71, 0.8)\">Padawan! When you login to Colab, prepare the environment by running the following code.</span>*"
   ]
  },
  {
   "cell_type": "code",
   "execution_count": null,
   "metadata": {
    "colab": {
     "base_uri": "https://localhost:8080/"
    },
    "executionInfo": {
     "elapsed": 25678,
     "status": "ok",
     "timestamp": 1604317087349,
     "user": {
      "displayName": "alumnos bigdata",
      "photoUrl": "",
      "userId": "10710302360204190833"
     },
     "user_tz": -60
    },
    "id": "2SBF5dlSTi-h",
    "outputId": "b85ff6ea-725c-464c-abf4-fc481a6882de"
   },
   "outputs": [],
   "source": [
    "if 'google.colab' in str(get_ipython()):\n",
    "    !git clone https://github.com/griu/msc_python.git /content/msc_python\n",
    "    !git -C /content/msc_python pull\n",
    "    %cd /content/msc_python"
   ]
  },
  {
   "cell_type": "markdown",
   "metadata": {
    "id": "qQJw5pPmYouN"
   },
   "source": [
    "# 4 - Colecciones de Objetos"
   ]
  },
  {
   "cell_type": "markdown",
   "metadata": {
    "id": "wkap7iI7YouP"
   },
   "source": [
    "### 4.1. Definition of the objects\n",
    "\n",
    "#### BASIC TYPE\n",
    "\n",
    "In Python, the data type is set at object creation.\n",
    "\n",
    "The main basic types are:\n",
    "\n",
    "  | Example | Builders | Data type |\n",
    "  | ------- | ------------- | ------- |\n",
    "  | x = \"Hello World\" | x = str(\"Hello World\") | str |\n",
    "  | x = 20 | x = int(20) | int |\n",
    "  | x = 20.5 | x = float(20.5) | float |\n",
    "  | x = True | x = bool(5) | bool |\n",
    " \n",
    "To find out the type of an object, use `type()`."
   ]
  },
  {
   "cell_type": "markdown",
   "metadata": {
    "id": "AQjtTlqWYouR"
   },
   "source": [
    "> **Remember**: To know the type of the object use `type()`."
   ]
  },
  {
   "cell_type": "code",
   "execution_count": null,
   "metadata": {
    "colab": {
     "base_uri": "https://localhost:8080/"
    },
    "executionInfo": {
     "elapsed": 673,
     "status": "ok",
     "timestamp": 1604320992968,
     "user": {
      "displayName": "alumnos bigdata",
      "photoUrl": "",
      "userId": "10710302360204190833"
     },
     "user_tz": -60
    },
    "id": "DKMJ1yCuYouZ",
    "outputId": "3f16a775-43da-4845-d41a-524d049bab80"
   },
   "outputs": [],
   "source": [
    "a = 3 > 4\n",
    "print(\"The type of 'a' is:\",type(a),\"and it value is\",a)"
   ]
  },
  {
   "cell_type": "markdown",
   "metadata": {
    "id": "SQuinhWIYoun"
   },
   "source": [
    "#### 4.1.1. Operations with Booleans\n",
    "\n",
    "`and`, `or` and `not` are used to operate on `True` and `False`:"
   ]
  },
  {
   "cell_type": "code",
   "execution_count": null,
   "metadata": {
    "id": "onQE4YvbYouo",
    "outputId": "a2b94f9c-55b5-4be3-d067-ffee6d3dd4e7"
   },
   "outputs": [],
   "source": [
    "True or not True"
   ]
  },
  {
   "cell_type": "markdown",
   "metadata": {
    "id": "cYqnzqSOYouy"
   },
   "source": [
    "#### 4.1.2. Boolean Comparators"
   ]
  },
  {
   "cell_type": "markdown",
   "metadata": {
    "id": "LpYv5vLhYou0"
   },
   "source": [
    "The typical ones: `<`, `<=`, `>`, `>=`\n",
    "\n",
    "Plus:"
   ]
  },
  {
   "cell_type": "code",
   "execution_count": null,
   "metadata": {
    "id": "foTyCPR8You1",
    "outputId": "7acfd776-4a3d-4f52-ca01-21c071f187ca"
   },
   "outputs": [],
   "source": [
    "3 == 4.  # equality"
   ]
  },
  {
   "cell_type": "code",
   "execution_count": null,
   "metadata": {
    "id": "o1eZB-pxYovB",
    "outputId": "7348c855-c846-450b-d3c3-e0938e4a5f32"
   },
   "outputs": [],
   "source": [
    "5 != 5  # unequality"
   ]
  },
  {
   "cell_type": "markdown",
   "metadata": {
    "id": "SOO52LI4YovL"
   },
   "source": [
    "Comparison of objects with `is` and `is not`:"
   ]
  },
  {
   "cell_type": "code",
   "execution_count": null,
   "metadata": {
    "id": "mjqSx7GAYovM",
    "outputId": "551ce70b-cad2-4a0c-82fc-0b063a8be896"
   },
   "outputs": [],
   "source": [
    "a = \"I am a string\"\n",
    "type(a) is str"
   ]
  },
  {
   "cell_type": "code",
   "execution_count": null,
   "metadata": {
    "id": "NzP1gM-NYovd",
    "outputId": "fade1877-b7b1-4a11-8b11-f3ba21ede4b2"
   },
   "outputs": [],
   "source": [
    "a = 45.\n",
    "type(a) is not int"
   ]
  },
  {
   "cell_type": "markdown",
   "metadata": {
    "id": "CSdCLrMRYovn"
   },
   "source": [
    "> **Remember**: To negate logical expressions, use `not`."
   ]
  },
  {
   "cell_type": "code",
   "execution_count": null,
   "metadata": {
    "id": "Ur_AlCqaYovo",
    "outputId": "0963de7f-f4ee-4462-cd13-9218ec237066"
   },
   "outputs": [],
   "source": [
    "not (True or not False)"
   ]
  },
  {
   "cell_type": "markdown",
   "metadata": {
    "id": "p7qI32heYovy"
   },
   "source": [
    "####  4.1.3. *Castings*\n",
    "\n",
    "It uses the constructors of each type to perform *casting*."
   ]
  },
  {
   "cell_type": "code",
   "execution_count": null,
   "metadata": {
    "id": "2rw0C3SmYovz",
    "outputId": "691d485a-ab99-47f0-9dff-4079d6d558a8"
   },
   "outputs": [],
   "source": [
    "print('True es',int(True),'y False es',int(False))"
   ]
  },
  {
   "cell_type": "markdown",
   "metadata": {
    "id": "p7qI32heYovy"
   },
   "source": [
    "#### 4.1.4. *Mathematical operations*\n",
    "\n",
    "You can import the *math* library."
   ]
  },
  {
   "cell_type": "code",
   "execution_count": null,
   "metadata": {
    "id": "2rw0C3SmYovz",
    "outputId": "691d485a-ab99-47f0-9dff-4079d6d558a8"
   },
   "outputs": [],
   "source": [
    "import math\n",
    "math.cos(math.pi)"
   ]
  },
  {
   "cell_type": "markdown",
   "metadata": {
    "id": "00Y1_Bm3Yov7"
   },
   "source": [
    "### 4.2. lists\n",
    "\n",
    "Its elements are enclosed in square brackets and separated by commas: `[ele1, elem2, ...]`.\n",
    "\n",
    "Its elements can be objects of different types:"
   ]
  },
  {
   "cell_type": "code",
   "execution_count": null,
   "metadata": {
    "colab": {
     "base_uri": "https://localhost:8080/"
    },
    "executionInfo": {
     "elapsed": 1159,
     "status": "ok",
     "timestamp": 1604322472010,
     "user": {
      "displayName": "alumnos bigdata",
      "photoUrl": "",
      "userId": "10710302360204190833"
     },
     "user_tz": -60
    },
    "id": "bahCnTf0Yov9",
    "outputId": "3c6d36f9-f822-4362-a76a-013bb4d12c1b"
   },
   "outputs": [],
   "source": [
    "a = True\n",
    "b = \"Text\"\n",
    "c = 3.1416\n",
    "d = [a, b, c]\n",
    "d"
   ]
  },
  {
   "cell_type": "markdown",
   "metadata": {
    "id": "YwcQoHXhYowI"
   },
   "source": [
    "#### 4.2.1. Length\n",
    "\n",
    "With `len()` you get the number of elements:"
   ]
  },
  {
   "cell_type": "code",
   "execution_count": null,
   "metadata": {
    "colab": {
     "base_uri": "https://localhost:8080/",
     "height": 164
    },
    "executionInfo": {
     "elapsed": 1597,
     "status": "error",
     "timestamp": 1604415390845,
     "user": {
      "displayName": "instituto forymat",
      "photoUrl": "",
      "userId": "17895787503402093384"
     },
     "user_tz": -60
    },
    "id": "5-7xbkF5YowJ",
    "outputId": "0a1477c3-5d2d-425d-caed-db69f88c949c",
    "scrolled": true
   },
   "outputs": [],
   "source": [
    "len(d)"
   ]
  },
  {
   "cell_type": "markdown",
   "metadata": {
    "id": "oyJb9WxhYowS"
   },
   "source": [
    "#### 4.2.2. Operations with Lists\n",
    "\n",
    "You can concatenate lists with `+`:"
   ]
  },
  {
   "cell_type": "code",
   "execution_count": null,
   "metadata": {
    "colab": {
     "base_uri": "https://localhost:8080/"
    },
    "executionInfo": {
     "elapsed": 622,
     "status": "ok",
     "timestamp": 1604322478844,
     "user": {
      "displayName": "alumnos bigdata",
      "photoUrl": "",
      "userId": "10710302360204190833"
     },
     "user_tz": -60
    },
    "id": "wsqW802VYowU",
    "outputId": "c63308a6-4821-4e80-c7be-b1d1cef385cf"
   },
   "outputs": [],
   "source": [
    "[1,2,3] + [4,5,6] # add lists"
   ]
  },
  {
   "cell_type": "markdown",
   "metadata": {
    "id": "4mkaeTB8Yowa"
   },
   "source": [
    "Even repeat them with `*`:"
   ]
  },
  {
   "cell_type": "code",
   "execution_count": null,
   "metadata": {
    "colab": {
     "base_uri": "https://localhost:8080/"
    },
    "executionInfo": {
     "elapsed": 904,
     "status": "ok",
     "timestamp": 1604322482572,
     "user": {
      "displayName": "alumnos bigdata",
      "photoUrl": "",
      "userId": "10710302360204190833"
     },
     "user_tz": -60
    },
    "id": "-77KGX-0Yowc",
    "outputId": "5ecd805e-05ff-4e9f-bdaf-9a720e2f3fe4"
   },
   "outputs": [],
   "source": [
    "[1,2,3] * 2  # scalar multiplication"
   ]
  },
  {
   "cell_type": "markdown",
   "metadata": {
    "id": "Fd4X99-KYowj"
   },
   "source": [
    "Find if the list contains (or does not contain) an element with `in` (resp. `not in`)."
   ]
  },
  {
   "cell_type": "code",
   "execution_count": null,
   "metadata": {
    "colab": {
     "base_uri": "https://localhost:8080/"
    },
    "executionInfo": {
     "elapsed": 950,
     "status": "ok",
     "timestamp": 1604322487387,
     "user": {
      "displayName": "alumnos bigdata",
      "photoUrl": "",
      "userId": "10710302360204190833"
     },
     "user_tz": -60
    },
    "id": "XEkDlJhlYowl",
    "outputId": "e10011d6-cc74-4d20-f21b-0bb967a941c7"
   },
   "outputs": [],
   "source": [
    "a = 'I am'\n",
    "b = ['here','I am']\n",
    "a in b"
   ]
  },
  {
   "cell_type": "code",
   "execution_count": null,
   "metadata": {
    "colab": {
     "base_uri": "https://localhost:8080/"
    },
    "executionInfo": {
     "elapsed": 761,
     "status": "ok",
     "timestamp": 1604322492140,
     "user": {
      "displayName": "alumnos bigdata",
      "photoUrl": "",
      "userId": "10710302360204190833"
     },
     "user_tz": -60
    },
    "id": "DnXs1KAcYowr",
    "outputId": "8e849b84-6f30-4535-c583-724a204e39da"
   },
   "outputs": [],
   "source": [
    "c = ['here','I am not']\n",
    "a not in c"
   ]
  },
  {
   "cell_type": "markdown",
   "metadata": {
    "id": "E66sex53Yowz"
   },
   "source": [
    "Minimums and maximums:"
   ]
  },
  {
   "cell_type": "code",
   "execution_count": null,
   "metadata": {
    "colab": {
     "base_uri": "https://localhost:8080/"
    },
    "executionInfo": {
     "elapsed": 695,
     "status": "ok",
     "timestamp": 1604322495701,
     "user": {
      "displayName": "alumnos bigdata",
      "photoUrl": "",
      "userId": "10710302360204190833"
     },
     "user_tz": -60
    },
    "id": "tLpvoOFBYow1",
    "outputId": "74053617-b5dc-436d-a307-f0e2ab8b3a76"
   },
   "outputs": [],
   "source": [
    "a = [3,1,5]\n",
    "min(a)"
   ]
  },
  {
   "cell_type": "markdown",
   "metadata": {
    "id": "KnSqu_LPYow7"
   },
   "source": [
    "#### 4.2.3. Text Operations"
   ]
  },
  {
   "cell_type": "markdown",
   "metadata": {
    "id": "mlSjAcsNYow8"
   },
   "source": [
    "In Python, the `str` text type behaves like a list:"
   ]
  },
  {
   "cell_type": "code",
   "execution_count": null,
   "metadata": {
    "colab": {
     "base_uri": "https://localhost:8080/"
    },
    "executionInfo": {
     "elapsed": 674,
     "status": "ok",
     "timestamp": 1604322499520,
     "user": {
      "displayName": "alumnos bigdata",
      "photoUrl": "",
      "userId": "10710302360204190833"
     },
     "user_tz": -60
    },
    "id": "cuyAMUkkYow9",
    "outputId": "f32e25f3-4788-4c58-cc5d-0addaf1fb35a"
   },
   "outputs": [],
   "source": [
    "a = 'I have length 17.'\n",
    "len(a)"
   ]
  },
  {
   "cell_type": "markdown",
   "metadata": {
    "id": "la4uvM04YoxE"
   },
   "source": [
    "Concatenate *strings* with `+`:"
   ]
  },
  {
   "cell_type": "code",
   "execution_count": null,
   "metadata": {
    "colab": {
     "base_uri": "https://localhost:8080/",
     "height": 36
    },
    "executionInfo": {
     "elapsed": 696,
     "status": "ok",
     "timestamp": 1604322507753,
     "user": {
      "displayName": "alumnos bigdata",
      "photoUrl": "",
      "userId": "10710302360204190833"
     },
     "user_tz": -60
    },
    "id": "WAejioY5YoxF",
    "outputId": "4b77b5a7-8070-44c7-9c17-2a595b8a17d4"
   },
   "outputs": [],
   "source": [
    "a = \"The symbol adds\" + \" concatenates\" + \" the text\"\n",
    "a"
   ]
  },
  {
   "cell_type": "markdown",
   "metadata": {
    "id": "9iJfjC4UYoxL"
   },
   "source": [
    "The text also multiplies:"
   ]
  },
  {
   "cell_type": "code",
   "execution_count": null,
   "metadata": {
    "colab": {
     "base_uri": "https://localhost:8080/",
     "height": 36
    },
    "executionInfo": {
     "elapsed": 641,
     "status": "ok",
     "timestamp": 1604322512347,
     "user": {
      "displayName": "alumnos bigdata",
      "photoUrl": "",
      "userId": "10710302360204190833"
     },
     "user_tz": -60
    },
    "id": "GicKgJr6YoxM",
    "outputId": "2cdc0a8f-809c-4478-cb2a-56ebb3cbe19d"
   },
   "outputs": [],
   "source": [
    "a = \"abc\" * 3\n",
    "a"
   ]
  },
  {
   "cell_type": "markdown",
   "metadata": {
    "id": "QTPgI8CSYoxU"
   },
   "source": [
    "Be careful with adding text and other types (int, float, bool):"
   ]
  },
  {
   "cell_type": "markdown",
   "metadata": {
    "colab": {
     "base_uri": "https://localhost:8080/",
     "height": 191
    },
    "executionInfo": {
     "elapsed": 987,
     "status": "error",
     "timestamp": 1604322520727,
     "user": {
      "displayName": "alumnos bigdata",
      "photoUrl": "",
      "userId": "10710302360204190833"
     },
     "user_tz": -60
    },
    "id": "360tCoGlYoxV",
    "outputId": "335cf15d-3150-4eaa-914a-dafa6391dc00",
    "scrolled": false
   },
   "source": [
    "```\n",
    "a = \"Text plus \" + 24\n",
    "a\n",
    "```"
   ]
  },
  {
   "cell_type": "markdown",
   "metadata": {
    "id": "kE7PcyPvYoxg"
   },
   "source": [
    "To avoid the error, first cast with the `str()` constructor:"
   ]
  },
  {
   "cell_type": "code",
   "execution_count": null,
   "metadata": {
    "colab": {
     "base_uri": "https://localhost:8080/",
     "height": 36
    },
    "executionInfo": {
     "elapsed": 586,
     "status": "ok",
     "timestamp": 1604322527282,
     "user": {
      "displayName": "alumnos bigdata",
      "photoUrl": "",
      "userId": "10710302360204190833"
     },
     "user_tz": -60
    },
    "id": "ldV_zyIaYoxh",
    "outputId": "cca84bb8-ea32-47cd-e2b5-b7962c7e3b85"
   },
   "outputs": [],
   "source": [
    "a = \"Text plus \" + str(24)\n",
    "a"
   ]
  },
  {
   "cell_type": "markdown",
   "metadata": {
    "id": "TAI3KuPrYoxp"
   },
   "source": [
    "An alternative to concatenating text contained in a list is `''.join()`:"
   ]
  },
  {
   "cell_type": "code",
   "execution_count": null,
   "metadata": {
    "colab": {
     "base_uri": "https://localhost:8080/",
     "height": 36
    },
    "executionInfo": {
     "elapsed": 684,
     "status": "ok",
     "timestamp": 1604322532061,
     "user": {
      "displayName": "alumnos bigdata",
      "photoUrl": "",
      "userId": "10710302360204190833"
     },
     "user_tz": -60
    },
    "id": "L7mA056AYoxr",
    "outputId": "8a67d074-b648-4ca1-bb11-98ea840ad14f"
   },
   "outputs": [],
   "source": [
    "a = [\"I am\",\"text\",\"on\",\"list\"]\n",
    "' '.join(a)"
   ]
  },
  {
   "cell_type": "markdown",
   "metadata": {
    "id": "WFC2nAfBYoxx"
   },
   "source": [
    "This way, it's easy to change the separator character:"
   ]
  },
  {
   "cell_type": "code",
   "execution_count": null,
   "metadata": {
    "colab": {
     "base_uri": "https://localhost:8080/",
     "height": 36
    },
    "executionInfo": {
     "elapsed": 651,
     "status": "ok",
     "timestamp": 1604322542238,
     "user": {
      "displayName": "alumnos bigdata",
      "photoUrl": "",
      "userId": "10710302360204190833"
     },
     "user_tz": -60
    },
    "id": "eIMZWL9jYoxy",
    "outputId": "2a4856cf-086e-4afe-df75-3e642d5564f2"
   },
   "outputs": [],
   "source": [
    "'-'.join(a)"
   ]
  },
  {
   "cell_type": "markdown",
   "metadata": {
    "id": "VznpdRDMYox4"
   },
   "source": [
    "### 4.3. tuples\n",
    "\n",
    "Its elements are enclosed in parentheses and separated by commas: `(ele1, elem2, ...)`:"
   ]
  },
  {
   "cell_type": "code",
   "execution_count": null,
   "metadata": {
    "id": "U8s4rMvEYox5",
    "outputId": "92d10c7c-2a6c-4be7-fc67-dc9fbcfdbc2f"
   },
   "outputs": [],
   "source": [
    "a = (1,2,3)\n",
    "a"
   ]
  },
  {
   "cell_type": "markdown",
   "metadata": {
    "id": "JNb0Yxj-Yox_"
   },
   "source": [
    "They allow several object assignments to be made in the same expression:"
   ]
  },
  {
   "cell_type": "code",
   "execution_count": null,
   "metadata": {
    "id": "1_uY1buPYoyA",
    "outputId": "43b234b5-f601-4c19-dfa5-fe84d69d325e"
   },
   "outputs": [],
   "source": [
    "a, b = 2, 6\n",
    "print(a,b)"
   ]
  },
  {
   "cell_type": "markdown",
   "metadata": {
    "id": "cWtAquZKYoyH"
   },
   "source": [
    "It is common to use tuples to return multiple objects in the same function:"
   ]
  },
  {
   "cell_type": "code",
   "execution_count": null,
   "metadata": {
    "id": "yk7LhfThYoyJ",
    "outputId": "41271cf5-d050-4bb6-97de-465c2cb1b927"
   },
   "outputs": [],
   "source": [
    "def breakfast(bacon, eggs):\n",
    "    return bacon, eggs\n",
    "\n",
    "bacon, eggs = breakfast(bacon = \"well done\", eggs = 2)\n",
    "\n",
    "print(\"I want the bacon {} and {} eggs\".format(bacon, eggs))"
   ]
  },
  {
   "cell_type": "markdown",
   "metadata": {
    "id": "Qjli8q4gYoyS"
   },
   "source": [
    "> **Remember**: They are immutable. Once its value is set, there is no point in changing it!"
   ]
  },
  {
   "cell_type": "markdown",
   "metadata": {
    "id": "hc_DzLtNYoyT"
   },
   "source": [
    "#### 4.3.1. Ranks"
   ]
  },
  {
   "cell_type": "markdown",
   "metadata": {
    "id": "NOtoFolEYoyV"
   },
   "source": [
    "They are a special case of tuples, defined as sequences."
   ]
  },
  {
   "cell_type": "code",
   "execution_count": null,
   "metadata": {
    "id": "VVfi2LjwYoyW",
    "outputId": "c000861b-c7ab-480f-efa9-6f1891ef36e0"
   },
   "outputs": [],
   "source": [
    "a = range(3,6)\n",
    "a"
   ]
  },
  {
   "cell_type": "markdown",
   "metadata": {
    "id": "TE6r9KIZYoyb"
   },
   "source": [
    "To convert them to list."
   ]
  },
  {
   "cell_type": "code",
   "execution_count": null,
   "metadata": {
    "id": "v-nceX4MYoyd",
    "outputId": "d216071e-70d2-45a0-f103-90cfba556c88"
   },
   "outputs": [],
   "source": [
    "list(a)"
   ]
  },
  {
   "cell_type": "markdown",
   "metadata": {
    "id": "NytcemOMYoyl"
   },
   "source": [
    "### 4.4. Dictionaries\n",
    "\n",
    "Its elements are enclosed in braces, separated by commas with a key: `{'key1': val1, 'key2': val1,...}`\n",
    "\n",
    "There are different ways to declare them, all equivalent:"
   ]
  },
  {
   "cell_type": "code",
   "execution_count": null,
   "metadata": {
    "id": "o4qiNc-MYoyn",
    "outputId": "4808ba07-f896-491f-f585-c15b4292b14c"
   },
   "outputs": [],
   "source": [
    "a = dict(one=1, two=2, three=3)\n",
    "b = {'one': 1, 'two': 2, 'three': 3}\n",
    "c = dict(zip(['one', 'two', 'three'], [1, 2, 3]))\n",
    "d = dict([('two', 2), ('one', 1), ('three', 3)])\n",
    "e = dict({'three': 3, 'one': 1, 'two': 2})\n",
    "a == b == c == d == e"
   ]
  },
  {
   "cell_type": "markdown",
   "metadata": {
    "id": "073MMf_yYoyu"
   },
   "source": [
    "> **Did you know**: Within the elements of a dictionary there is no predetermined ordering."
   ]
  },
  {
   "cell_type": "markdown",
   "metadata": {
    "id": "pGRWyTgvYoyw"
   },
   "source": [
    "Its elements are accessed by the key:"
   ]
  },
  {
   "cell_type": "code",
   "execution_count": null,
   "metadata": {
    "id": "vDwV_phWYoyy",
    "outputId": "8fa2fc35-4dc0-41bc-bd5a-298cc47f0065"
   },
   "outputs": [],
   "source": [
    "a[\"one\"]"
   ]
  },
  {
   "cell_type": "markdown",
   "metadata": {
    "id": "r7gipkZoYoy8"
   },
   "source": [
    "To check the keys:"
   ]
  },
  {
   "cell_type": "code",
   "execution_count": null,
   "metadata": {
    "id": "1xtmTUnVYoy-",
    "outputId": "04c8e1e7-ed56-4d1c-ef0a-a28354a00876"
   },
   "outputs": [],
   "source": [
    "a.keys()"
   ]
  },
  {
   "cell_type": "markdown",
   "metadata": {
    "id": "lekVadpmYozB"
   },
   "source": [
    "Get the list of (key,value) pairs with `items()`."
   ]
  },
  {
   "cell_type": "code",
   "execution_count": null,
   "metadata": {
    "id": "TnUMTHrTYozC",
    "outputId": "2c1f9ac6-0b3a-4541-dbfb-0f3b048e287e"
   },
   "outputs": [],
   "source": [
    "a.items()"
   ]
  },
  {
   "cell_type": "markdown",
   "metadata": {
    "id": "lWHYmKYBYozI"
   },
   "source": [
    "#### 4.4.1. Filters in Lists\n",
    "\n",
    "Uses positive integer indices (including zero)."
   ]
  },
  {
   "cell_type": "code",
   "execution_count": null,
   "metadata": {
    "id": "QyEc67V4YozJ",
    "outputId": "29c2b386-d6b3-41b9-d2f0-a29c69cb1822"
   },
   "outputs": [],
   "source": [
    "a = [3,7,2,9,2,8,6]\n",
    "a[0]"
   ]
  },
  {
   "cell_type": "markdown",
   "metadata": {
    "id": "n-zLW5VWYozR"
   },
   "source": [
    "> **Remember**: Python starts its indexes at 0, not 1."
   ]
  },
  {
   "cell_type": "markdown",
   "metadata": {
    "id": "mlNaxcyZYozU"
   },
   "source": [
    "Negatives select starting from the tail."
   ]
  },
  {
   "cell_type": "code",
   "execution_count": null,
   "metadata": {
    "id": "i6pYksJ-YozV",
    "outputId": "6bd82328-dab0-4c2e-90ce-837445abb229"
   },
   "outputs": [],
   "source": [
    "a[-2]"
   ]
  },
  {
   "cell_type": "markdown",
   "metadata": {
    "id": "DLDCVQcCYoza"
   },
   "source": [
    "Sequences or *slices* defined with `:` are also used."
   ]
  },
  {
   "cell_type": "code",
   "execution_count": null,
   "metadata": {
    "id": "R1kxuGQ5Yozb",
    "outputId": "8ef12521-dcb7-40f3-d2b3-0a9273fbd683"
   },
   "outputs": [],
   "source": [
    "a[1:5]"
   ]
  },
  {
   "cell_type": "markdown",
   "metadata": {
    "id": "84P-HXOvYozg"
   },
   "source": [
    "Sequences with steps other than 1 by adding a third element: `start:end:step`."
   ]
  },
  {
   "cell_type": "code",
   "execution_count": null,
   "metadata": {
    "id": "36TFlYmkYozh",
    "outputId": "123cb8be-8f40-4e1f-bd8f-1cd4b3af6d35"
   },
   "outputs": [],
   "source": [
    "a[1:5:2]"
   ]
  },
  {
   "cell_type": "markdown",
   "metadata": {
    "id": "8AvGfvqKYozm"
   },
   "source": [
    "You can skip the start or the end to extend the sequence."
   ]
  },
  {
   "cell_type": "code",
   "execution_count": null,
   "metadata": {
    "id": "Hji63zLAYozn",
    "outputId": "7d68f46b-0b5d-4c44-e4f2-5d5a329c6c78"
   },
   "outputs": [],
   "source": [
    "a[:4]"
   ]
  },
  {
   "cell_type": "markdown",
   "metadata": {
    "id": "hbV69hKfYozs"
   },
   "source": [
    "Or, both."
   ]
  },
  {
   "cell_type": "code",
   "execution_count": null,
   "metadata": {
    "id": "AuDhgmHLYozt",
    "outputId": "b5a3ac27-ad02-4a73-fd22-4a626c5db040"
   },
   "outputs": [],
   "source": [
    "a[:]"
   ]
  },
  {
   "cell_type": "markdown",
   "metadata": {
    "id": "tAtNrwnqYozy"
   },
   "source": [
    "Python strings behave like lists in this aspect, as they allow you to apply filters within the text."
   ]
  },
  {
   "cell_type": "code",
   "execution_count": null,
   "metadata": {
    "id": "qgjqRKWFYozz",
    "outputId": "2d2d4651-2c7f-4223-9d56-909a91ce47e2"
   },
   "outputs": [],
   "source": [
    "a = \"i am not a list\"\n",
    "a[3:]"
   ]
  },
  {
   "cell_type": "markdown",
   "metadata": {
    "id": "yrA92msbYoz5"
   },
   "source": [
    "#### 4.4.2. *List Comprehension*"
   ]
  },
  {
   "cell_type": "markdown",
   "metadata": {
    "id": "K_Wjd8JCYoz5"
   },
   "source": [
    "List comprehension is an elegant way to automate list calculations.\n",
    "\n",
    "For example, if you want to reverse the sequence from 1 to 4."
   ]
  },
  {
   "cell_type": "code",
   "execution_count": null,
   "metadata": {
    "id": "DMwKSCrUYoz6",
    "outputId": "ca53b0cb-db31-40c9-9f6f-f29380136ecd"
   },
   "outputs": [],
   "source": [
    "a = range(1,5)\n",
    "b = [1 / x for x in a]\n",
    "b"
   ]
  },
  {
   "cell_type": "markdown",
   "metadata": {
    "id": "IdK0lvkiYo0D"
   },
   "source": [
    "It also supports conditionals."
   ]
  },
  {
   "cell_type": "code",
   "execution_count": null,
   "metadata": {
    "id": "Cms-ofHGYo0D",
    "outputId": "3cc509a2-804e-4bce-bd2b-bfb6fc593ea2"
   },
   "outputs": [],
   "source": [
    "a = [0,1,0,2,0,3,4,0]\n",
    "b = [1 / x for x in a if x != 0]\n",
    "b"
   ]
  },
  {
   "cell_type": "markdown",
   "metadata": {
    "id": "dOIRhAqzYo0J"
   },
   "source": [
    "Dictionaries, in their own way, also admit this resource."
   ]
  },
  {
   "cell_type": "code",
   "execution_count": null,
   "metadata": {
    "id": "XQcF-UUXYo0J",
    "outputId": "98dd0967-4e3b-4d04-9973-1f279bfa362f",
    "scrolled": true
   },
   "outputs": [],
   "source": [
    "a = {'one': 1, 'two': 2, 'three': 3}\n",
    "b = {k: v*v for k,v in a.items()}\n",
    "b"
   ]
  },
  {
   "cell_type": "markdown",
   "metadata": {
    "id": "utRr6PyRYo0N"
   },
   "source": [
    "Now continue with objects of type **numpy**."
   ]
  },
  {
   "cell_type": "markdown",
   "metadata": {},
   "source": [
    "< [Plots with matplotlib](modulo1_tema4_Py_20_matplotlib.ipynb) | [Table of contents](modulo1_tema4_Py_00_indice.ipynb) | [Object collections: numpy](modulo1_tema4_Py_31_numpy.ipynb) >\n",
    "\n",
    "__[Open in Colab](https://colab.research.google.com/github/griu/msc_python/blob/master/modulo1_tema4_Py_30_colec_obj.ipynb)__"
   ]
  }
 ],
 "metadata": {
  "colab": {
   "collapsed_sections": [
    "p7qI32heYovy",
    "hc_DzLtNYoyT",
    "lWHYmKYBYozI",
    "yrA92msbYoz5"
   ],
   "name": "M1_BloqueII_Python_4_Coleccion_objetos.ipynb",
   "provenance": []
  },
  "kernelspec": {
   "display_name": "mufib_env383",
   "language": "python",
   "name": "mufib_env383"
  },
  "language_info": {
   "codemirror_mode": {
    "name": "ipython",
    "version": 3
   },
   "file_extension": ".py",
   "mimetype": "text/x-python",
   "name": "python",
   "nbconvert_exporter": "python",
   "pygments_lexer": "ipython3",
   "version": "3.8.3"
  },
  "toc": {
   "base_numbering": 1,
   "nav_menu": {},
   "number_sections": true,
   "sideBar": true,
   "skip_h1_title": false,
   "title_cell": "Table of Contents",
   "title_sidebar": "Contents",
   "toc_cell": true,
   "toc_position": {},
   "toc_section_display": true,
   "toc_window_display": false
  }
 },
 "nbformat": 4,
 "nbformat_minor": 1
}
