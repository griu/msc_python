{
 "cells": [
  {
   "cell_type": "markdown",
   "metadata": {
    "toc": true
   },
   "source": [
    "<h1>Table of Contents<span class=\"tocSkip\"></span></h1>\n",
    "<div class=\"toc\"><ul class=\"toc-item\"><li><span><a href=\"#9---Anexo:-Readme---Python\" data-toc-modified-id=\"9---Anexo:-Readme---Python-1\"><span class=\"toc-item-num\">1&nbsp;&nbsp;</span>9 - Anexo: Readme - Python</a></span><ul class=\"toc-item\"><li><span><a href=\"#9.1.-Preparation-of-the-Colab-environment\" data-toc-modified-id=\"9.1.-Preparation-of-the-Colab-environment-1.1\"><span class=\"toc-item-num\">1.1&nbsp;&nbsp;</span>9.1. Preparation of the Colab environment</a></span></li><li><span><a href=\"#9.2.-Preparation-Locale-Jupyter-(optional)\" data-toc-modified-id=\"9.2.-Preparation-Locale-Jupyter-(optional)-1.2\"><span class=\"toc-item-num\">1.2&nbsp;&nbsp;</span>9.2. Preparation Locale-Jupyter (optional)</a></span><ul class=\"toc-item\"><li><ul class=\"toc-item\"><li><span><a href=\"#CLONE-REPOSITORY\" data-toc-modified-id=\"CLONE-REPOSITORY-1.2.0.1\"><span class=\"toc-item-num\">1.2.0.1&nbsp;&nbsp;</span>CLONE REPOSITORY</a></span></li><li><span><a href=\"#CREATE-A-NEW-ANACONDA-ENVIRONMENT-LOCALLY\" data-toc-modified-id=\"CREATE-A-NEW-ANACONDA-ENVIRONMENT-LOCALLY-1.2.0.2\"><span class=\"toc-item-num\">1.2.0.2&nbsp;&nbsp;</span>CREATE A NEW ANACONDA ENVIRONMENT LOCALLY</a></span></li><li><span><a href=\"#INSTALL-PYTHON-LIBRARIES\" data-toc-modified-id=\"INSTALL-PYTHON-LIBRARIES-1.2.0.3\"><span class=\"toc-item-num\">1.2.0.3&nbsp;&nbsp;</span>INSTALL PYTHON LIBRARIES</a></span></li><li><span><a href=\"#PUBLISH-THE-KERNEL\" data-toc-modified-id=\"PUBLISH-THE-KERNEL-1.2.0.4\"><span class=\"toc-item-num\">1.2.0.4&nbsp;&nbsp;</span>PUBLISH THE KERNEL</a></span></li><li><span><a href=\"#LAUNCH-JUPYTER-NOTEBOOK-ENVIRONMENT\" data-toc-modified-id=\"LAUNCH-JUPYTER-NOTEBOOK-ENVIRONMENT-1.2.0.5\"><span class=\"toc-item-num\">1.2.0.5&nbsp;&nbsp;</span>LAUNCH JUPYTER NOTEBOOK ENVIRONMENT</a></span></li></ul></li></ul></li><li><span><a href=\"#9.3.-Import-Star-Wars-data---SWAPI\" data-toc-modified-id=\"9.3.-Import-Star-Wars-data---SWAPI-1.3\"><span class=\"toc-item-num\">1.3&nbsp;&nbsp;</span>9.3. Import Star Wars data - SWAPI</a></span></li></ul></li></ul></div>"
   ]
  },
  {
   "cell_type": "markdown",
   "metadata": {},
   "source": [
    "<img align=\"left\" style=\"padding-right:10px;\" width=\"150\" src=\"https://upload.wikimedia.org/wikipedia/commons/thumb/6/6c/Star_Wars_Logo.svg/320px-Star_Wars_Logo.svg.png\" />\n",
    "\n",
    "*made by Ferran Carrascosa Mallafrè.*"
   ]
  },
  {
   "cell_type": "markdown",
   "metadata": {},
   "source": [
    "< [Data management](modulo1_tema4_Py_50_gest_dat.ipynb) | [Table of contents](modulo1_tema4_Py_00_indice.ipynb)\n",
    "\n",
    "__[Open in Colab](https://colab.research.google.com/github/griu/init_python_b1/blob/master/modulo1_tema4_Py_60_anexo.ipynb)__   *: <span style=\"color:rgba(255, 99, 71, 0.8)\">Padawan! When you login to Colab, prepare the environment by running the following code.</span>*"
   ]
  },
  {
   "cell_type": "code",
   "execution_count": null,
   "metadata": {
    "colab": {
     "base_uri": "https://localhost:8080/"
    },
    "executionInfo": {
     "elapsed": 25678,
     "status": "ok",
     "timestamp": 1604317087349,
     "user": {
      "displayName": "alumnos bigdata",
      "photoUrl": "",
      "userId": "10710302360204190833"
     },
     "user_tz": -60
    },
    "id": "2SBF5dlSTi-h",
    "outputId": "b85ff6ea-725c-464c-abf4-fc481a6882de"
   },
   "outputs": [],
   "source": [
    "if 'google.colab' in str(get_ipython()):\n",
    "    !git clone https://github.com/griu/msc_python.git /content/msc_python\n",
    "    !git -C /content/msc_python pull\n",
    "    %cd /content/msc_python"
   ]
  },
  {
   "cell_type": "markdown",
   "metadata": {
    "id": "SxpyCh-fA_xp"
   },
   "source": [
    "# 9 - Anexo: Readme - Python"
   ]
  },
  {
   "cell_type": "markdown",
   "metadata": {
    "id": "kMOaZpYFA_xr"
   },
   "source": [
    "## 9.1. Preparation of the Colab environment\n",
    "\n",
    "Since [Colab](http://colab.research.google.com), you have to clone the repository every time you start a new book. The necessary code for this is included in the books."
   ]
  },
  {
   "cell_type": "markdown",
   "metadata": {
    "id": "uxRcax3IA_xv"
   },
   "source": [
    "## 9.2. Preparation Locale-Jupyter (optional)\n",
    "\n",
    "#### CLONE REPOSITORY\n",
    "\n",
    "In local, you can use the same project that you have cloned in the [R README](../R/README.md).\n",
    "\n",
    "To update it again, from the console:\n",
    "\n",
    "```\n",
    "cd init_python_b1\n",
    "git pull\n",
    "```\n",
    "\n",
    "#### CREATE A NEW ANACONDA ENVIRONMENT LOCALLY\n",
    "\n",
    "We open a command line (with *Anaconda 3.0* already available).\n",
    "\n",
    "- **Windows**: type `Anaconda` in the \"Start\" menu and the Anaconda MS-DOS console will appear.\n",
    "- **Linux**: Open Terminal.\n",
    "\n",
    "```\n",
    "deactivate conda\n",
    "conda create -n initPython383 python=3.8.3\n",
    "conda activate initPython383\n",
    "```\n",
    "\n",
    "Verify that it has been created and is active:\n",
    "\n",
    "```\n",
    "conda info --sends\n",
    "```\n",
    "\n",
    "#### INSTALL PYTHON LIBRARIES\n",
    "\n",
    "```\n",
    "cd init_python_b1\n",
    "conda activate initPython383\n",
    "python -m pip install -r requirements.txt\n",
    "```\n",
    "\n",
    "#### PUBLISH THE KERNEL\n",
    "\n",
    "To access the new environment from Jupyter you need to publish the kernel:\n",
    "\n",
    "```\n",
    "python -m ipykernel install --user --name initPython383 --display-name \"initPython383\"\n",
    "```\n",
    "\n",
    "It may take a few minutes to post.\n",
    "\n",
    "#### LAUNCH JUPYTER NOTEBOOK ENVIRONMENT\n",
    "\n",
    "To access the Jupyter server:\n",
    "\n",
    "```\n",
    "conda activate initPython383\n",
    "jupyter laptop\n",
    "```\n",
    "\n",
    "A browser should open with access to Jupyter from where you can access the notebooks. Usually the Jupyter server is opened at http://localhost:8888/."
   ]
  },
  {
   "cell_type": "markdown",
   "metadata": {
    "id": "6if00wL-A_xx"
   },
   "source": [
    "## 9.3. Import Star Wars data - SWAPI "
   ]
  },
  {
   "cell_type": "markdown",
   "metadata": {
    "id": "3EMpI4GqA_x0"
   },
   "source": [
    "Datos procesados a partir de https://swapi.dev/documentation#root:"
   ]
  },
  {
   "cell_type": "code",
   "execution_count": null,
   "metadata": {
    "id": "qN9pDwKgA_x2"
   },
   "outputs": [],
   "source": [
    "import requests\n",
    "import pandas as pd\n",
    "import numpy as np\n"
   ]
  },
  {
   "cell_type": "code",
   "execution_count": null,
   "metadata": {
    "id": "Y4Mr3V_ZA_yC"
   },
   "outputs": [],
   "source": [
    "# exec(open('get_entity.py').read())\n",
    "def get_entity(entity = None, url_base = 'http://swapi.dev/api/'):\n",
    "# https://swapi.dev/documentation#root\n",
    "    \n",
    "    page_num = 1\n",
    "    results_acum = []\n",
    "    entity_list = [\"films\",\"people\",\"planets\",\"species\",\"starships\",\"vehicles\"]\n",
    "    \n",
    "    if(entity not in entity_list):\n",
    "        page_num = None\n",
    "        print('Call a valid entity: ' + ','.join(entity_list))\n",
    "    \n",
    "    while(page_num is not None):\n",
    "        url = \"\".join([url_base, entity, '/?page=', str(page_num)])\n",
    "        rjson = requests.get(url).json()\n",
    "        results_acum = results_acum + rjson['results']\n",
    "        if(rjson['next'] is not None):\n",
    "            page_num = page_num + 1\n",
    "        else:\n",
    "            page_num = None\n",
    "            \n",
    "    if (len(results_acum) > 0):\n",
    "        results_df = pd.DataFrame(results_acum)\n",
    "    else:\n",
    "        results_df = entity_list\n",
    "    \n",
    "    return(results_df)\n",
    "\n",
    "def str2num(df,num_list):\n",
    "    num_list = [lab for lab in num_list if lab in df.columns]\n",
    "    num_list = [lab for lab in num_list if  df[lab].dtype==object]\n",
    "    for x in num_list:\n",
    "        if (x==\"crew\"):\n",
    "            df.loc[df[x] == \"30-165\",x] = \"165\"\n",
    "        df[x] = pd.to_numeric(df[x].replace('[^0-9\\.-]', '', regex=True), errors='coerce')\n",
    "    return(df)"
   ]
  },
  {
   "cell_type": "code",
   "execution_count": null,
   "metadata": {
    "id": "ctbKfCXUA_yO",
    "outputId": "6654731b-4a60-4d87-ca73-ee2016fb0894"
   },
   "outputs": [
    {
     "name": "stdout",
     "output_type": "stream",
     "text": [
      "Call a valid entity: films,people,planets,species,starships,vehicles\n"
     ]
    }
   ],
   "source": [
    "res = get_entity()"
   ]
  },
  {
   "cell_type": "code",
   "execution_count": null,
   "metadata": {
    "id": "rasZ3h1vA_yf",
    "outputId": "0fc15037-a16e-4105-ee40-a89d0418da0c"
   },
   "outputs": [
    {
     "data": {
      "text/plain": [
       "['films', 'people', 'planets', 'species', 'starships', 'vehicles']"
      ]
     },
     "execution_count": 5,
     "metadata": {
      "tags": []
     },
     "output_type": "execute_result"
    }
   ],
   "source": [
    "res"
   ]
  },
  {
   "cell_type": "code",
   "execution_count": null,
   "metadata": {
    "id": "8IyY1wTAA_yt"
   },
   "outputs": [],
   "source": [
    "films_df = get_entity(\"films\")\n",
    "people_df = get_entity(\"people\")\n",
    "planets_df = get_entity(\"planets\")\n",
    "species_df = get_entity(\"species\")\n",
    "starships_df = get_entity(\"starships\")\n",
    "vehicles_df = get_entity(\"vehicles\")\n",
    "\n",
    "people_df.index = people_df.name\n",
    "planets_df.index = planets_df.name\n",
    "species_df.index = species_df.name\n",
    "starships_df.index = starships_df.name\n",
    "vehicles_df.index = vehicles_df.name\n",
    "\n",
    "people_df.drop(\"name\",inplace=True, axis=1)\n",
    "planets_df.drop(\"name\",inplace=True, axis=1)\n",
    "species_df.drop(\"name\",inplace=True, axis=1)\n",
    "starships_df.drop(\"name\",inplace=True, axis=1)\n",
    "vehicles_df.drop(\"name\",inplace=True, axis=1)"
   ]
  },
  {
   "cell_type": "code",
   "execution_count": null,
   "metadata": {
    "id": "q3QnczKdA_y7"
   },
   "outputs": [],
   "source": [
    "people_num = [\"height\",\"mass\",\"birth_year\"]\n",
    "planets_num = [\"diameter\",\"rotation_period\",\"orbital_period\",\"population\",\"surface_water\", \"gravity\"]\n",
    "species_num = [\"average_height\",\"average_lifespan\"]\n",
    "starships_num = [\"passengers\",\"length\",\"crew\",\"cost_in_credits\",\"cargo_capacity\"\n",
    "                 ,\"hyperdrive_rating\",\"MGLT\",\"max_atmosphering_speed\"]\n",
    "vehicles_num = [\"cargo_capacity\",\"cost_in_credits\",\"crew\",\"length\",\"max_atmosphering_speed\",\"passengers\"]\n"
   ]
  },
  {
   "cell_type": "code",
   "execution_count": null,
   "metadata": {
    "id": "wvlhAO4HA_zK"
   },
   "outputs": [],
   "source": [
    "people_df.loc[(people_df[\"gender\"].isin(['n/a', 'none'])) | people_df[\"gender\"].isna(),\"gender\"] = 'none'\n",
    "planets_df[\"temperate_tropical\"] = planets_df.climate.apply(lambda x: (\"temperate\" in x) or (\"tropical\" in x)).astype(int)\n"
   ]
  },
  {
   "cell_type": "code",
   "execution_count": null,
   "metadata": {
    "id": "pkazfuEHA_zV"
   },
   "outputs": [],
   "source": [
    "people_df2 = str2num(people_df,people_num)\n",
    "planets_df2 = str2num(planets_df,planets_num)\n",
    "species_df2 = str2num(species_df,species_num)\n",
    "starships_df2 = str2num(starships_df,starships_num)\n",
    "vehicles_df2 = str2num(vehicles_df,vehicles_num)\n"
   ]
  },
  {
   "cell_type": "code",
   "execution_count": null,
   "metadata": {
    "id": "NftFdWocA_zh"
   },
   "outputs": [],
   "source": [
    "planets_df2.loc[\"Bespin\",\"gravity\"] = 1.5"
   ]
  },
  {
   "cell_type": "code",
   "execution_count": null,
   "metadata": {
    "id": "VjuRXAx2A_zs"
   },
   "outputs": [],
   "source": [
    "people_df2.to_pickle(\"www/people_df.pkl\")\n",
    "planets_df2.to_pickle(\"www/planets_df.pkl\")\n",
    "species_df2.to_pickle(\"www/species_df.pkl\")\n",
    "starships_df2.to_pickle(\"www/starships_df.pkl\")\n",
    "vehicles_df2.to_pickle(\"www/vehicles_df.pkl\")"
   ]
  },
  {
   "cell_type": "code",
   "execution_count": null,
   "metadata": {
    "id": "qLwmv07bA_z4",
    "outputId": "f1ea8325-800c-4344-d303-b30d04c9c29c",
    "scrolled": false
   },
   "outputs": [
    {
     "data": {
      "text/html": [
       "<div>\n",
       "<style scoped>\n",
       "    .dataframe tbody tr th:only-of-type {\n",
       "        vertical-align: middle;\n",
       "    }\n",
       "\n",
       "    .dataframe tbody tr th {\n",
       "        vertical-align: top;\n",
       "    }\n",
       "\n",
       "    .dataframe thead th {\n",
       "        text-align: right;\n",
       "    }\n",
       "</style>\n",
       "<table border=\"1\" class=\"dataframe\">\n",
       "  <thead>\n",
       "    <tr style=\"text-align: right;\">\n",
       "      <th></th>\n",
       "      <th>cost_in_credits</th>\n",
       "      <th>length</th>\n",
       "      <th>max_atmosphering_speed</th>\n",
       "      <th>crew</th>\n",
       "      <th>passengers</th>\n",
       "      <th>cargo_capacity</th>\n",
       "    </tr>\n",
       "  </thead>\n",
       "  <tbody>\n",
       "    <tr>\n",
       "      <th>count</th>\n",
       "      <td>21.000000</td>\n",
       "      <td>38.000000</td>\n",
       "      <td>38.000000</td>\n",
       "      <td>39.000000</td>\n",
       "      <td>38.000000</td>\n",
       "      <td>3.100000e+01</td>\n",
       "    </tr>\n",
       "    <tr>\n",
       "      <th>mean</th>\n",
       "      <td>70008.333333</td>\n",
       "      <td>20.466842</td>\n",
       "      <td>1012.131579</td>\n",
       "      <td>8.179487</td>\n",
       "      <td>36.973684</td>\n",
       "      <td>1.316797e+05</td>\n",
       "    </tr>\n",
       "    <tr>\n",
       "      <th>std</th>\n",
       "      <td>99279.640830</td>\n",
       "      <td>39.306859</td>\n",
       "      <td>3191.612032</td>\n",
       "      <td>23.512451</td>\n",
       "      <td>102.298843</td>\n",
       "      <td>4.734958e+05</td>\n",
       "    </tr>\n",
       "    <tr>\n",
       "      <th>min</th>\n",
       "      <td>2500.000000</td>\n",
       "      <td>1.500000</td>\n",
       "      <td>30.000000</td>\n",
       "      <td>0.000000</td>\n",
       "      <td>0.000000</td>\n",
       "      <td>0.000000e+00</td>\n",
       "    </tr>\n",
       "    <tr>\n",
       "      <th>25%</th>\n",
       "      <td>8000.000000</td>\n",
       "      <td>3.885000</td>\n",
       "      <td>100.000000</td>\n",
       "      <td>1.000000</td>\n",
       "      <td>0.000000</td>\n",
       "      <td>1.000000e+01</td>\n",
       "    </tr>\n",
       "    <tr>\n",
       "      <th>50%</th>\n",
       "      <td>15000.000000</td>\n",
       "      <td>9.550000</td>\n",
       "      <td>380.000000</td>\n",
       "      <td>1.000000</td>\n",
       "      <td>1.000000</td>\n",
       "      <td>8.000000e+01</td>\n",
       "    </tr>\n",
       "    <tr>\n",
       "      <th>75%</th>\n",
       "      <td>75000.000000</td>\n",
       "      <td>16.825000</td>\n",
       "      <td>815.000000</td>\n",
       "      <td>4.000000</td>\n",
       "      <td>13.500000</td>\n",
       "      <td>5.800000e+03</td>\n",
       "    </tr>\n",
       "    <tr>\n",
       "      <th>max</th>\n",
       "      <td>350000.000000</td>\n",
       "      <td>210.000000</td>\n",
       "      <td>20000.000000</td>\n",
       "      <td>140.000000</td>\n",
       "      <td>500.000000</td>\n",
       "      <td>2.000000e+06</td>\n",
       "    </tr>\n",
       "  </tbody>\n",
       "</table>\n",
       "</div>"
      ],
      "text/plain": [
       "       cost_in_credits      length  max_atmosphering_speed        crew  \\\n",
       "count        21.000000   38.000000               38.000000   39.000000   \n",
       "mean      70008.333333   20.466842             1012.131579    8.179487   \n",
       "std       99279.640830   39.306859             3191.612032   23.512451   \n",
       "min        2500.000000    1.500000               30.000000    0.000000   \n",
       "25%        8000.000000    3.885000              100.000000    1.000000   \n",
       "50%       15000.000000    9.550000              380.000000    1.000000   \n",
       "75%       75000.000000   16.825000              815.000000    4.000000   \n",
       "max      350000.000000  210.000000            20000.000000  140.000000   \n",
       "\n",
       "       passengers  cargo_capacity  \n",
       "count   38.000000    3.100000e+01  \n",
       "mean    36.973684    1.316797e+05  \n",
       "std    102.298843    4.734958e+05  \n",
       "min      0.000000    0.000000e+00  \n",
       "25%      0.000000    1.000000e+01  \n",
       "50%      1.000000    8.000000e+01  \n",
       "75%     13.500000    5.800000e+03  \n",
       "max    500.000000    2.000000e+06  "
      ]
     },
     "execution_count": 12,
     "metadata": {
      "tags": []
     },
     "output_type": "execute_result"
    }
   ],
   "source": [
    "vehicles_df2.describe()"
   ]
  },
  {
   "cell_type": "markdown",
   "metadata": {},
   "source": [
    "< [Data management](modulo1_tema4_Py_50_gest_dat.ipynb) | [Table of contents](modulo1_tema4_Py_00_indice.ipynb)\n",
    "\n",
    "__[Open in Colab](https://colab.research.google.com/github/griu/msc_python/blob/master/modulo1_tema4_Py_60_anexo.ipynb)__"
   ]
  }
 ],
 "metadata": {
  "colab": {
   "collapsed_sections": [],
   "name": "M1_BloqueII_Python_9_Anexo.ipynb",
   "provenance": []
  },
  "kernelspec": {
   "display_name": "mufib_env383",
   "language": "python",
   "name": "mufib_env383"
  },
  "language_info": {
   "codemirror_mode": {
    "name": "ipython",
    "version": 3
   },
   "file_extension": ".py",
   "mimetype": "text/x-python",
   "name": "python",
   "nbconvert_exporter": "python",
   "pygments_lexer": "ipython3",
   "version": "3.8.3"
  },
  "toc": {
   "base_numbering": 1,
   "nav_menu": {},
   "number_sections": true,
   "sideBar": true,
   "skip_h1_title": false,
   "title_cell": "Table of Contents",
   "title_sidebar": "Contents",
   "toc_cell": true,
   "toc_position": {},
   "toc_section_display": true,
   "toc_window_display": false
  }
 },
 "nbformat": 4,
 "nbformat_minor": 1
}
