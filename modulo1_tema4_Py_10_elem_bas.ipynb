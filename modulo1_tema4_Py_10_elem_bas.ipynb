{
 "cells": [
  {
   "cell_type": "markdown",
   "metadata": {
    "toc": true
   },
   "source": [
    "<h1>Table of Contents<span class=\"tocSkip\"></span></h1>\n",
    "<div class=\"toc\"><ul class=\"toc-item\"><li><span><a href=\"#Environment-preparation\" data-toc-modified-id=\"Environment-preparation-1\"><span class=\"toc-item-num\">1&nbsp;&nbsp;</span>Environment preparation</a></span></li><li><span><a href=\"#2---Python-Basics\" data-toc-modified-id=\"2---Python-Basics-2\"><span class=\"toc-item-num\">2&nbsp;&nbsp;</span>2 - Python Basics</a></span><ul class=\"toc-item\"><li><ul class=\"toc-item\"><li><ul class=\"toc-item\"><li><span><a href=\"#2.1-User-interface\" data-toc-modified-id=\"2.1-User-interface-2.0.0.1\"><span class=\"toc-item-num\">2.0.0.1&nbsp;&nbsp;</span>2.1 User interface</a></span></li><li><span><a href=\"#2.2-Files-*.py\" data-toc-modified-id=\"2.2-Files-*.py-2.0.0.2\"><span class=\"toc-item-num\">2.0.0.2&nbsp;&nbsp;</span>2.2 Files *.py</a></span></li><li><span><a href=\"#2.3.-Notebooks-Jupyter-(*.ipynb)\" data-toc-modified-id=\"2.3.-Notebooks-Jupyter-(*.ipynb)-2.0.0.3\"><span class=\"toc-item-num\">2.0.0.3&nbsp;&nbsp;</span>2.3. Notebooks Jupyter (*.ipynb)</a></span></li><li><span><a href=\"#2.4.-Functions\" data-toc-modified-id=\"2.4.-Functions-2.0.0.4\"><span class=\"toc-item-num\">2.0.0.4&nbsp;&nbsp;</span>2.4. Functions</a></span></li><li><span><a href=\"#2.5.-packages\" data-toc-modified-id=\"2.5.-packages-2.0.0.5\"><span class=\"toc-item-num\">2.0.0.5&nbsp;&nbsp;</span>2.5. packages</a></span></li></ul></li></ul></li></ul></li></ul></div>"
   ]
  },
  {
   "cell_type": "markdown",
   "metadata": {},
   "source": [
    "<img align=\"left\" style=\"padding-right:10px;\" width=\"150\" src=\"https://upload.wikimedia.org/wikipedia/commons/thumb/6/6c/Star_Wars_Logo.svg/320px-Star_Wars_Logo.svg.png\" />\n",
    "\n",
    "*made by Ferran Carrascosa Mallafrè.*"
   ]
  },
  {
   "cell_type": "markdown",
   "metadata": {},
   "source": [
    "< [Introduction](modulo1_tema4_Py.ipynb) | [Table of contents](modulo1_tema4_Py_00_indice.ipynb) | [Plots with matplotlib](modulo1_tema4_Py_20_matplotlib.ipynb) >\n",
    "\n",
    "__[Open in Colab](https://colab.research.google.com/github/griu/msc_python/blob/master/modulo1_tema4_Py_10_elem_bas.ipynb)__   *: <span style=\"color:rgba(255, 99, 71, 0.8)\">Padawan! When you login to Colab, prepare the environment by running the following code.</span>*"
   ]
  },
  {
   "cell_type": "markdown",
   "metadata": {
    "id": "8dbKvXOBMtBa"
   },
   "source": [
    "# Environment preparation\n"
   ]
  },
  {
   "cell_type": "code",
   "execution_count": null,
   "metadata": {
    "colab": {
     "base_uri": "https://localhost:8080/"
    },
    "executionInfo": {
     "elapsed": 25678,
     "status": "ok",
     "timestamp": 1604317087349,
     "user": {
      "displayName": "alumnos bigdata",
      "photoUrl": "",
      "userId": "10710302360204190833"
     },
     "user_tz": -60
    },
    "id": "2SBF5dlSTi-h",
    "outputId": "b85ff6ea-725c-464c-abf4-fc481a6882de"
   },
   "outputs": [],
   "source": [
    "if 'google.colab' in str(get_ipython()):\n",
    "    !git clone https://github.com/griu/msc_python.git /content/msc_python\n",
    "    !git -C /content/msc_python pull\n",
    "    %cd /content/msc_python"
   ]
  },
  {
   "cell_type": "markdown",
   "metadata": {
    "id": "hFO_0UyvSjov"
   },
   "source": [
    "# 2 - Python Basics"
   ]
  },
  {
   "cell_type": "markdown",
   "metadata": {
    "id": "WFoZ-V76Sjox"
   },
   "source": [
    "Next, we take a look at Python, Anaconda, and Jupyter-Colab notebooks. The objective is to reinforce those elements more oriented to data analysis."
   ]
  },
  {
   "cell_type": "markdown",
   "metadata": {
    "id": "-EuIBRfLSjoz"
   },
   "source": [
    "#### 2.1 User interface"
   ]
  },
  {
   "cell_type": "markdown",
   "metadata": {
    "id": "3OLdC5c8Sjo1"
   },
   "source": [
    "Python can be run interactively from the text console. To open the console, we will execute the Python command from a Windows or Linux terminal. The agenda uses notebooks executed from Jupyter and/or Colab.\n",
    "\n",
    "Try running the following line, directly, on this notebook."
   ]
  },
  {
   "cell_type": "code",
   "execution_count": null,
   "metadata": {
    "colab": {
     "base_uri": "https://localhost:8080/"
    },
    "executionInfo": {
     "elapsed": 1511,
     "status": "ok",
     "timestamp": 1604315706159,
     "user": {
      "displayName": "alumnos bigdata",
      "photoUrl": "",
      "userId": "10710302360204190833"
     },
     "user_tz": -60
    },
    "id": "B1Vhs_07Sjo3",
    "outputId": "ae8904a6-1e36-4a9c-c49f-fb524bd468d5"
   },
   "outputs": [],
   "source": [
    "6 / (4 - 1.5)"
   ]
  },
  {
   "cell_type": "markdown",
   "metadata": {
    "id": "Y6prdpHsSjpD"
   },
   "source": [
    "> **Remember**: To edit a notebook cell, press `Enter`. To run it, press `Ctrl+Enter` (run only), or `Shift+Enter` (run and advance cell). "
   ]
  },
  {
   "cell_type": "markdown",
   "metadata": {
    "id": "1eV_DFf_SjpF"
   },
   "source": [
    "#### 2.2 Files *.py\n",
    "\n",
    "A common way of programming in Python is through text files with the extension `.py`. There are multiple environments for these files: Spyder (similar to RStudio), PyCharm, Visual Studio Code or any text editor like Notepad++.\n",
    "\n",
    "These types of files are commonly used to generate function libraries and run productive application development in Python."
   ]
  },
  {
   "cell_type": "markdown",
   "metadata": {
    "id": "XHAo_I8zSjpH"
   },
   "source": [
    "#### 2.3. Notebooks Jupyter (*.ipynb)\n",
    "\n",
    "Notebooks, like the one you're reading about, are the SciPy community's solution for interactive programming. The project was born under the name [IPython](https://ipython.org) (or Interactive Python) and is currently orchestrated under the umbrella of the [Jupyter](https://jupyter.org/) platform.\n",
    "\n",
    "Jupyter allows you to interactively run dozens of languages like Python, R, etc.\n",
    "\n",
    "Like Rmardown, notebooks allow you to combine text in Markdown format (lightweight markup language), with code with results in the form of text or graphics. This way of working is optimal for data analysis and training.\n",
    "\n",
    "Its use has spread thanks to the [Anaconda](https://www.anaconda.com/) project, the largest open source library management platform focused on scientific computing.\n",
    "\n",
    "To start the Jupyter environment, follow the guide in the ***Annex: Python README*** section \"PREPARATION OF THE LOCAL-JUPYTER ENVIRONMENT (OPTIONAL)\"."
   ]
  },
  {
   "cell_type": "markdown",
   "metadata": {
    "id": "zrwhbzt5SjpI"
   },
   "source": [
    "##### 2.3.1. Colaboratory or Colab\n",
    "\n",
    "Currently, the Python community has the platform [Colaboratory or Colab](https://colab.research.google.com) which is a free environment to run Jupyter notebooks and store them in Google Drive.\n",
    "\n",
    "This environment only allows you to open .ipynb files (not .py), but it greatly facilitates its use to develop training.\n",
    "\n",
    "At the top of the notebooks, you will find a script that initializes the Colab environment with the correct Python package versions and downloads the Github repository with the course material."
   ]
  },
  {
   "cell_type": "markdown",
   "metadata": {
    "id": "qDM543WISjpK"
   },
   "source": [
    "##### 2.3.2. Guided Activity 2.1.\n",
    "\n",
    "Create your first notebook.\n",
    "\n",
    "In Jupyter/Colab, access the `File > New Notebook` menu.\n",
    "\n",
    "> In Jupyter, select the Kernel `msc_python` that you have created as indicated in the ***Addendum: Python README***.\n",
    "\n",
    "Insert the following Python code and run it:\n",
    "\n",
    "```\n",
    "print(\"Hello World!\")\n",
    "```\n",
    "\n",
    "Save the document with the name `21_activity`."
   ]
  },
  {
   "cell_type": "markdown",
   "metadata": {
    "id": "kKw_vgA4SjpM"
   },
   "source": [
    "##### 2.3.3. Edit Jupyter Notebooks\n",
    "\n",
    "A notebook is made up of a set of boxes that can be of different types:\n",
    "\n",
    "- *Code*: Python code that can be executed interactively and can have an output.\n",
    "- *Markdown*: inserts text with this format. It has no output.\n",
    "\n",
    "A box can have two modes:\n",
    "\n",
    "- Edit: press `Enter` or double click. You can modify its Python or Markdown content.\n",
    "- Vision: press the `Esc` key or click on the left bar (in Jupyter). Select one or more boxes with the mouse or with the `Shift + Cursor` keys.\n",
    "\n",
    "To display a Markdown checkbox in print format (without marks), run it the same way as if it were code:\n",
    "   - Just run: `Ctrl+Enter`.\n",
    "   - Run and advance box: `Run` button, or `Shift+Enter`."
   ]
  },
  {
   "cell_type": "markdown",
   "metadata": {
    "id": "efYp9q7lSjpO"
   },
   "source": [
    "###### 2.3.3.1. Keyboard shortcuts\n",
    "\n",
    "You can manage the cells from the keyboard, in View mode (**key `Esc`**):\n",
    "\n",
    "- Change cell type:\n",
    "   - Markdown mode: `M` key, `Ctr+M+M` (Colab).\n",
    "   - Code mode: `Y` key, `Ctr+M+Y` (Colab).\n",
    "- Insert cells:\n",
    "   - Before: `A` key, `Ctr+M+A` (Colab).\n",
    "   - After: `B` key, `Ctr+M+B` (Colab).\n",
    "- Copy, paste, scroll up, down, etc."
   ]
  },
  {
   "cell_type": "markdown",
   "metadata": {
    "id": "gHiZa06_SjpR"
   },
   "source": [
    "###### 2.3.3.2. markdown\n",
    "\n",
    "- **Text paragraph**: leave a blank line (`Enter`) before and after a text paragraph.\n",
    "- **Headings**: use # followed by blank space for section titles:\n",
    "```\n",
    "# TITLE LEVEL 1\n",
    "## TITLE LEVEL 2\n",
    "...\n",
    "```\n",
    "Also leave a blank line (`Enter`) before and after the title.\n",
    "- **Emphasis**: bold with `**string**`. Italics with `*string*`.\n",
    "- **Latex code**: ```$x^2$```. $x^2$.\n",
    "- **Fixed width font**: \\`text\\` (use open tilde or left orientation).\n",
    "- **Code block (without being executed)**: comment or code (new line), three open tildes are written. Example:\n",
    "\\`\\`\\`\n",
    "```\n",
    "I am code1\n",
    "i am code2\n",
    "```\n",
    "\\`\\`\\`\n",
    "- **Blank line**: use a new line with two spaces or `<br>`.\n",
    "- **List of points**: at the beginning of the line, use hyphen `-` followed by space and text. For a dotted sublist, put three spaces or tab and hyphen. You can also use asterisk.\n",
    "- **Numbered list**: At the beginning, put `1. `, followed by space and text. It is not necessary to change the `1.` on each new line.\n",
    "- **External link**: `[link text](http://url)`\n",
    "- **Internal link**: create an ID with html `<a id=\"seccion_ID\"></a>` before the section. Now, to link to the section, use `[section title](#section_ID)`.\n",
    "- **Image**: drag and drop on cell markdown. Also with `![alt text](image url or image path)`, or also, ` <img src=\"image url or image path\" alt=\"alt text\" title=\"descriptive text\" /> ` .\n",
    "- **Indented**: at the beginning of the line, use a `> ` symbol followed by space and text. Example:\n",
    "\n",
    "> Indented text\n",
    "\n",
    "- **Horizontal line**: three asterisks at the beginning of the line, `***` .\n",
    "- **Colors**: use `<font color=blue|red|green|pink|yellow>Text</font>` ."
   ]
  },
  {
   "cell_type": "markdown",
   "metadata": {
    "id": "Wj-qvVDHSjpT"
   },
   "source": [
    "######   2.3.3.3. Help from the Notebook\n",
    "\n",
    "En Python, se pide ayuda de un comando con:"
   ]
  },
  {
   "cell_type": "code",
   "execution_count": null,
   "metadata": {
    "colab": {
     "base_uri": "https://localhost:8080/"
    },
    "executionInfo": {
     "elapsed": 1200,
     "status": "ok",
     "timestamp": 1604315717944,
     "user": {
      "displayName": "alumnos bigdata",
      "photoUrl": "",
      "userId": "10710302360204190833"
     },
     "user_tz": -60
    },
    "id": "8vDS3x4nSjpV",
    "outputId": "3806f827-e99b-4000-d601-25cd83f9ab60"
   },
   "outputs": [],
   "source": [
    "help(len)"
   ]
  },
  {
   "cell_type": "markdown",
   "metadata": {
    "id": "gq7Ubaq9Sjpf"
   },
   "source": [
    "In Jupyter, run `?command` to bring up a help context menu."
   ]
  },
  {
   "cell_type": "code",
   "execution_count": null,
   "metadata": {
    "id": "TKZhWx9ZSjph"
   },
   "outputs": [],
   "source": [
    "?len"
   ]
  },
  {
   "cell_type": "markdown",
   "metadata": {
    "id": "2uDSbv5JSjpr"
   },
   "source": [
    "The tabulator helps you to autocomplete code, see options, parameters..."
   ]
  },
  {
   "cell_type": "markdown",
   "metadata": {
    "id": "YZSUCyakSjpt"
   },
   "source": [
    "###### 2.3.3.4. Magic Commands\n",
    "\n",
    "Magic commands increase the interactive capabilities of notebooks. They are in common use:\n",
    "\n",
    "Run script.py "
   ]
  },
  {
   "cell_type": "code",
   "execution_count": null,
   "metadata": {
    "colab": {
     "base_uri": "https://localhost:8080/"
    },
    "executionInfo": {
     "elapsed": 708,
     "status": "ok",
     "timestamp": 1604072701609,
     "user": {
      "displayName": "alumnos bigdata",
      "photoUrl": "",
      "userId": "10710302360204190833"
     },
     "user_tz": -60
    },
    "id": "NwX31DV4Sjpv",
    "outputId": "d35103b6-5959-4168-b7ab-75999764e9aa",
    "scrolled": true
   },
   "outputs": [],
   "source": [
    "%run holaMundo.py"
   ]
  },
  {
   "cell_type": "markdown",
   "metadata": {
    "id": "Dc67al4LSjp4"
   },
   "source": [
    "History of executed commands."
   ]
  },
  {
   "cell_type": "code",
   "execution_count": null,
   "metadata": {
    "id": "-Vx2U-JwSjp6",
    "outputId": "b69f3ef6-8562-4f7c-84fe-5b2dfc82221e"
   },
   "outputs": [],
   "source": [
    "# looking the 3 first steps:\n",
    "%history 1-3"
   ]
  },
  {
   "cell_type": "markdown",
   "metadata": {
    "id": "Rn2sepFESjqD"
   },
   "source": [
    "Change working directory.\n",
    "\n",
    "```\n",
    "%cd new_source\n",
    "```"
   ]
  },
  {
   "cell_type": "markdown",
   "metadata": {
    "id": "IMr5gSBqSjqF"
   },
   "source": [
    "Execution time of a line:"
   ]
  },
  {
   "cell_type": "code",
   "execution_count": null,
   "metadata": {
    "id": "5sXMT_EFSjqH",
    "outputId": "62b3c531-6d5e-4943-a839-260c81348585"
   },
   "outputs": [],
   "source": [
    "%time L = [n ** 2 for n in range(1000)]"
   ]
  },
  {
   "cell_type": "markdown",
   "metadata": {
    "id": "w914uxsDSjqQ"
   },
   "source": [
    "Of an entire cell:"
   ]
  },
  {
   "cell_type": "code",
   "execution_count": null,
   "metadata": {
    "id": "0jtE90Q5SjqS",
    "outputId": "bd14ed3e-15cb-4426-d5c6-9f4682a1152e"
   },
   "outputs": [],
   "source": [
    "%%time\n",
    "L1 = [n ** 2 for n in range(1000)]\n",
    "L2 = [n ** 2 for n in range(1000)]\n",
    "L3 = [n ** 2 for n in range(1000)]"
   ]
  },
  {
   "cell_type": "markdown",
   "metadata": {
    "id": "WSlTyLyMSjqb"
   },
   "source": [
    "######   2.3.3.5.  Shell commands"
   ]
  },
  {
   "cell_type": "markdown",
   "metadata": {
    "id": "t4L0IeQPSjqd"
   },
   "source": [
    "System commands can be executed with `!command`:"
   ]
  },
  {
   "cell_type": "code",
   "execution_count": null,
   "metadata": {
    "colab": {
     "base_uri": "https://localhost:8080/"
    },
    "executionInfo": {
     "elapsed": 755,
     "status": "ok",
     "timestamp": 1604317982270,
     "user": {
      "displayName": "alumnos bigdata",
      "photoUrl": "",
      "userId": "10710302360204190833"
     },
     "user_tz": -60
    },
    "id": "IjP7TscDSjqf",
    "outputId": "ca7b655d-ca38-4cf9-8fe4-705e56d1e83d"
   },
   "outputs": [],
   "source": [
    "!dir"
   ]
  },
  {
   "cell_type": "markdown",
   "metadata": {
    "id": "gW052A7USjqp"
   },
   "source": [
    "#### 2.4. Functions\n",
    "\n",
    "To define the absolute value function:"
   ]
  },
  {
   "cell_type": "code",
   "execution_count": null,
   "metadata": {
    "id": "082W-p7sSjqr"
   },
   "outputs": [],
   "source": [
    "def absolute_value(num):\n",
    "    \"\"\"returns the absolute value\"\"\"\n",
    "\n",
    "    if num >= 0:\n",
    "        return num\n",
    "    else:\n",
    "        return -num"
   ]
  },
  {
   "cell_type": "markdown",
   "metadata": {
    "id": "1gMO1Z6xSjqz"
   },
   "source": [
    "- Start the definition with `def`, followed by the name of the function.\n",
    "- Then the parameters in parentheses and `:`\n",
    "   - Supports defining default values.\n",
    "- The text serves as a help when calling ?absolute_value.\n",
    "- The body of the code with indentation.\n",
    "- You can return an object by adding `return object`.\n",
    "- If you want to return values on the screen, you have to use print.\n",
    "\n",
    "To call the function:"
   ]
  },
  {
   "cell_type": "code",
   "execution_count": null,
   "metadata": {
    "fig.asp": "#R_CODE#4/5",
    "fig.cap": "Resultado función `describir`",
    "fig.width": 3,
    "id": "t9YYSWJNSjq0",
    "outputId": "3f5d6aba-5330-462c-85c3-ab4cb70c16c1"
   },
   "outputs": [],
   "source": [
    "absolute_value(-6)"
   ]
  },
  {
   "cell_type": "markdown",
   "metadata": {
    "id": "bYYUz7L-Sjq9"
   },
   "source": [
    "#### 2.5. packages\n",
    "\n",
    "Python's package indexer is **PyPI**. same as **CRAN** in R. Currently, it indexes more than 235,000 libraries.\n",
    "\n",
    "There are different methods to install them. The most general is via `pip` from the shell:\n",
    "\n",
    "```\n",
    "pip install package_name\n",
    "```\n",
    "\n",
    "> **Did you know**: Anaconda has its own package manager called `conda`. It works similar to `pip`. In addition, `conda` provides the ability to manage *Environments*, which in turn allow you to set a set of Python package versions. The *Environments* make it easy to reproduce the entire execution environment and the replicability of the developments on other machines. Check out an example in [Annex: Python README](module1_topic4_Py_60_annex.ipynb).\n",
    "\n",
    "From Jupyter/Colab you can also install packages with `!pip` and `!conda` (note that they now have `!` in front of them).\n",
    "\n",
    "```\n",
    "!pip install package_name\n",
    "```\n",
    "\n",
    "Once installed, in each new Jupyter session, you have to import them to make them accessible:\n",
    "\n",
    "```\n",
    "import package_name\n",
    "```"
   ]
  },
  {
   "cell_type": "markdown",
   "metadata": {},
   "source": [
    "< [Introduction](modulo1_tema4_Py.ipynb) | [Table of contents](modulo1_tema4_Py_00_indice.ipynb) | [Plots with matplotlib](modulo1_tema4_Py_20_matplotlib.ipynb) >\n",
    "\n",
    "__[Open in Colab](https://colab.research.google.com/github/griu/msc_python/blob/master/modulo1_tema4_Py_10_elem_bas.ipynb)__"
   ]
  }
 ],
 "metadata": {
  "colab": {
   "collapsed_sections": [],
   "name": "M1_BloqueII_Python_2_Elementos_basicos.ipynb",
   "provenance": []
  },
  "kernelspec": {
   "display_name": "mufib_env383",
   "language": "python",
   "name": "mufib_env383"
  },
  "language_info": {
   "codemirror_mode": {
    "name": "ipython",
    "version": 3
   },
   "file_extension": ".py",
   "mimetype": "text/x-python",
   "name": "python",
   "nbconvert_exporter": "python",
   "pygments_lexer": "ipython3",
   "version": "3.8.3"
  },
  "toc": {
   "base_numbering": 1,
   "nav_menu": {},
   "number_sections": true,
   "sideBar": true,
   "skip_h1_title": false,
   "title_cell": "Table of Contents",
   "title_sidebar": "Contents",
   "toc_cell": true,
   "toc_position": {},
   "toc_section_display": true,
   "toc_window_display": false
  }
 },
 "nbformat": 4,
 "nbformat_minor": 1
}
