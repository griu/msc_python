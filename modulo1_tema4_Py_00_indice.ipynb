{
 "cells": [
  {
   "cell_type": "markdown",
   "metadata": {
    "toc": true
   },
   "source": [
    "<h1>Table of Contents<span class=\"tocSkip\"></span></h1>\n",
    "<div class=\"toc\"><ul class=\"toc-item\"><li><span><a href=\"#UNIT-1.4.2-ANALYSIS-TOOLS:-PROGRAMMING-WITH-PYTHON\" data-toc-modified-id=\"UNIT-1.4.2-ANALYSIS-TOOLS:-PROGRAMMING-WITH-PYTHON-1\"><span class=\"toc-item-num\">1&nbsp;&nbsp;</span>UNIT 1.4.2 ANALYSIS TOOLS: PROGRAMMING WITH PYTHON</a></span></li><li><span><a href=\"#ÍNDICE\" data-toc-modified-id=\"ÍNDICE-2\"><span class=\"toc-item-num\">2&nbsp;&nbsp;</span>ÍNDICE</a></span><ul class=\"toc-item\"><li><ul class=\"toc-item\"><li><span><a href=\"#Introduction\" data-toc-modified-id=\"Introduction-2.0.1\"><span class=\"toc-item-num\">2.0.1&nbsp;&nbsp;</span><a href=\"modulo1_tema4_Py.ipynb\" target=\"_blank\">Introduction</a></a></span></li><li><span><a href=\"#Python-Basics\" data-toc-modified-id=\"Python-Basics-2.0.2\"><span class=\"toc-item-num\">2.0.2&nbsp;&nbsp;</span><a href=\"modulo1_tema4_Py_10_elem_bas.ipynb\" target=\"_blank\">Python Basics</a></a></span></li><li><span><a href=\"#Plots-with-matplotlib\" data-toc-modified-id=\"Plots-with-matplotlib-2.0.3\"><span class=\"toc-item-num\">2.0.3&nbsp;&nbsp;</span><a href=\"modulo1_tema4_Py_20_matplotlib.ipynb\" target=\"_blank\">Plots with matplotlib</a></a></span></li><li><span><a href=\"#Object-collections\" data-toc-modified-id=\"Object-collections-2.0.4\"><span class=\"toc-item-num\">2.0.4&nbsp;&nbsp;</span><a href=\"modulo1_tema4_Py_30_colec_obj.ipynb\" target=\"_blank\">Object collections</a></a></span></li><li><span><a href=\"#Flow-control\" data-toc-modified-id=\"Flow-control-2.0.5\"><span class=\"toc-item-num\">2.0.5&nbsp;&nbsp;</span><a href=\"modulo1_tema4_Py_40_contr_flujo.ipynb\" target=\"_blank\">Flow control</a></a></span></li><li><span><a href=\"#Data-management\" data-toc-modified-id=\"Data-management-2.0.6\"><span class=\"toc-item-num\">2.0.6&nbsp;&nbsp;</span><a href=\"modulo1_tema4_Py_50_gest_dat.ipynb\" target=\"_blank\">Data management</a></a></span></li><li><span><a href=\"#Anex:-README-of-Python\" data-toc-modified-id=\"Anex:-README-of-Python-2.0.7\"><span class=\"toc-item-num\">2.0.7&nbsp;&nbsp;</span><a href=\"modulo1_tema4_Py_60_anexo.ipynb\" target=\"_blank\">Anex: README of Python</a></a></span></li></ul></li></ul></li></ul></div>"
   ]
  },
  {
   "cell_type": "markdown",
   "metadata": {},
   "source": [
    "# UNIT 1.4.2 ANALYSIS TOOLS: PROGRAMMING WITH PYTHON"
   ]
  },
  {
   "cell_type": "markdown",
   "metadata": {},
   "source": [
    "*Ferran Carrascosa Mallafrè*\n",
    "\n",
    "*Licenciado en Matemáticas por la Universidad de Barcelona. Data Scientist*"
   ]
  },
  {
   "cell_type": "markdown",
   "metadata": {},
   "source": [
    "<img align=\"center\" style=\"padding-right:10px;\" src=\"www/320px-Star_Wars_Logo.svg.png\">"
   ]
  },
  {
   "cell_type": "markdown",
   "metadata": {},
   "source": [
    "# ÍNDICE"
   ]
  },
  {
   "cell_type": "markdown",
   "metadata": {},
   "source": [
    "### [Introduction](modulo1_tema4_Py.ipynb)\n",
    "### [Python Basics](modulo1_tema4_Py_10_elem_bas.ipynb)\n",
    "### [Plots with matplotlib](modulo1_tema4_Py_20_matplotlib.ipynb)\n",
    "### [Object collections](modulo1_tema4_Py_30_colec_obj.ipynb)\n",
    "- [Lists, tuples and dictionaries](modulo1_tema4_Py_30_colec_obj.ipynb)\n",
    "- [Numpy](modulo1_tema4_Py_31_numpy.ipynb)\n",
    "- [Pandas](modulo1_tema4_Py_32_pandas.ipynb)\n",
    "\n",
    "### [Flow control](modulo1_tema4_Py_40_contr_flujo.ipynb)\n",
    "### [Data management](modulo1_tema4_Py_50_gest_dat.ipynb)\n",
    "### [Anex: README of Python](modulo1_tema4_Py_60_anexo.ipynb)"
   ]
  }
 ],
 "metadata": {
  "kernelspec": {
   "display_name": "mufib_env383",
   "language": "python",
   "name": "mufib_env383"
  },
  "language_info": {
   "codemirror_mode": {
    "name": "ipython",
    "version": 3
   },
   "file_extension": ".py",
   "mimetype": "text/x-python",
   "name": "python",
   "nbconvert_exporter": "python",
   "pygments_lexer": "ipython3",
   "version": "3.8.3"
  },
  "toc": {
   "base_numbering": 1,
   "nav_menu": {},
   "number_sections": true,
   "sideBar": true,
   "skip_h1_title": false,
   "title_cell": "Table of Contents",
   "title_sidebar": "Contents",
   "toc_cell": true,
   "toc_position": {},
   "toc_section_display": true,
   "toc_window_display": false
  }
 },
 "nbformat": 4,
 "nbformat_minor": 4
}
