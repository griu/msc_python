{
 "cells": [
  {
   "cell_type": "markdown",
   "metadata": {},
   "source": [
    "# TEMA 1.4.2 HERRAMIENTAS DE ANÁLISIS: PROGRAMACIÓN EN PYTHON"
   ]
  },
  {
   "cell_type": "markdown",
   "metadata": {},
   "source": [
    "*Ferran Carrascosa Mallafrè*\n",
    "\n",
    "*Licenciado en Matemáticas por la Universidad de Barcelona. Data Scientist*"
   ]
  },
  {
   "cell_type": "markdown",
   "metadata": {},
   "source": [
    "<img align=\"center\" style=\"padding-right:10px;\" src=\"www/320px-Star_Wars_Logo.svg.png\">"
   ]
  },
  {
   "cell_type": "markdown",
   "metadata": {},
   "source": [
    "# ÍNDICE"
   ]
  },
  {
   "cell_type": "markdown",
   "metadata": {},
   "source": [
    "### [Introducción](modulo1_tema4_Py.ipynb)\n",
    "### [Elementos básicos de Python](modulo1_tema4_Py_10_elem_bas.ipynb)\n",
    "### [Gráficos con matplotlib](modulo1_tema4_Py_20_matplotlib.ipynb)\n",
    "### [Colecciones de objetos](modulo1_tema4_Py_30_colec_obj.ipynb)\n",
    "- [Listas, tuplas y diccionarios](modulo1_tema4_Py_30_colec_obj.ipynb)\n",
    "- [Numpy](modulo1_tema4_Py_31_numpy.ipynb)\n",
    "- [Pandas](modulo1_tema4_Py_32_pandas.ipynb)\n",
    "\n",
    "### [Control de flujo](modulo1_tema4_Py_40_contr_flujo.ipynb)\n",
    "### [Gestión de datos](modulo1_tema4_Py_50_gest_dat.ipynb)\n",
    "### [Anexo: README de Python](modulo1_tema4_Py_60_anexo.ipynb)"
   ]
  }
 ],
 "metadata": {
  "kernelspec": {
   "display_name": "initPython383",
   "language": "python",
   "name": "initpython383"
  },
  "language_info": {
   "codemirror_mode": {
    "name": "ipython",
    "version": 3
   },
   "file_extension": ".py",
   "mimetype": "text/x-python",
   "name": "python",
   "nbconvert_exporter": "python",
   "pygments_lexer": "ipython3",
   "version": "3.6.9"
  }
 },
 "nbformat": 4,
 "nbformat_minor": 4
}
