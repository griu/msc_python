{
 "cells": [
  {
   "cell_type": "markdown",
   "metadata": {
    "id": "g-0-smZ6lnEA"
   },
   "source": [
    "# Exercice Python 2\n",
    "*by Ferran Carrascosa Mallafrè.*"
   ]
  },
  {
   "cell_type": "markdown",
   "metadata": {
    "id": "hmeyeBPNltaj"
   },
   "source": [
    "__[Open in Colab](https://colab.research.google.com/github/griu/msc_python/blob/master/Python_Exercices_II.ipynb)__"
   ]
  },
  {
   "cell_type": "markdown",
   "metadata": {
    "id": "5zZfGqOugjnr"
   },
   "source": [
    "# Preparación del entorno\n",
    "\n"
   ]
  },
  {
   "cell_type": "code",
   "execution_count": null,
   "metadata": {
    "id": "2SBF5dlSTi-h"
   },
   "outputs": [],
   "source": [
    "!git clone https://github.com/griu/init_python_b1.git /content/init_python_b1\n",
    "!git -C /content/init_python_b1 pull\n"
   ]
  },
  {
   "cell_type": "code",
   "execution_count": null,
   "metadata": {},
   "outputs": [],
   "source": [
    "%cd /content/init_python_b1"
   ]
  },
  {
   "cell_type": "markdown",
   "metadata": {
    "id": "EljLebnxgjqM"
   },
   "source": [
    "# Exercise 2\n",
    "\n",
    "For exercise 2, we add the data from exercise 1 to the planet data."
   ]
  },
  {
   "cell_type": "code",
   "execution_count": null,
   "metadata": {
    "id": "2V3mrVHSgjn7"
   },
   "outputs": [],
   "source": [
    "import numpy as np\n",
    "import pandas as pd\n",
    "import matplotlib.pyplot as plt\n",
    "import seaborn as sns; sns.set()  \n",
    "\n",
    "entidades = ['planets','starships','vehicles','people','species']\n",
    "entidades_df = {x: pd.read_pickle('www/' + x + '_df.pkl') for x in entidades}\n",
    "\n",
    "# Datos people\n",
    "people_df = entidades_df['people'][[\"height\",\"mass\",\"birth_year\",\"gender\",\"homeworld\"]].dropna()\n",
    "\n",
    "# planetas\n",
    "planets_df = entidades_df['planets'][[\"orbital_period\",\"url\"]].dropna()\n",
    "planets_df.head()"
   ]
  },
  {
   "cell_type": "markdown",
   "metadata": {
    "id": "XfAwzyybgjqV"
   },
   "source": [
    "## Exercise 2.1.\n",
    "\n",
    "Build a function that says \"good morning\", \"good afternoon\", or \"good night\" depending on the time of day.\n",
    "\n",
    "> Trick 1: To test the function make it have an input parameter that defaults to `datetime.now()` (load `from datetime import datetime` first).\n",
    "\n",
    "> Trick 2: You can extract the hour from a datetime with `.hour`."
   ]
  },
  {
   "cell_type": "code",
   "execution_count": 1,
   "metadata": {
    "id": "ztjRWz0kgjqW"
   },
   "outputs": [],
   "source": [
    "# Solution:\n"
   ]
  },
  {
   "cell_type": "markdown",
   "metadata": {
    "id": "N4CDynU2gjqe"
   },
   "source": [
    "## Exercise 2.2.\n",
    "\n",
    "In the characters_df data frame, calculate the BMI again and create a new variable with the BMI variable plot defined in the following table:\n",
    "\n",
    "  | Weight level category | Percentile interval |\n",
    "  | -------------------------- | ----------------------- |\n",
    "  | Underweight | <18.5 |\n",
    "  | Regular | >= 18.5 and < 25 |\n",
    "  | Overweight | >= 25 and <30 |\n",
    "  | obese | >= 30 |\n",
    "\n",
    "> Trick: use `pd.cut(..., right=False)` and modify the tags with `.cat.categories`."
   ]
  },
  {
   "cell_type": "code",
   "execution_count": null,
   "metadata": {
    "id": "1DPbZLk4gjqf"
   },
   "outputs": [],
   "source": [
    "# Solution:\n"
   ]
  },
  {
   "cell_type": "markdown",
   "metadata": {
    "id": "edo1k7Y-gjqn"
   },
   "source": [
    "## Exercise 2.3.\n",
    "\n",
    "Shows the frequencies of the new variable defined in 2.2."
   ]
  },
  {
   "cell_type": "code",
   "execution_count": null,
   "metadata": {
    "id": "6OxcRrVpgjqo"
   },
   "outputs": [],
   "source": [
    "# Solution:\n"
   ]
  },
  {
   "cell_type": "markdown",
   "metadata": {
    "id": "1CKTldfbgjqv"
   },
   "source": [
    "## Exercise 2.4.\n",
    "\n",
    "Now calculate a plot of the age in 5 equiprobable groups.\n",
    "\n",
    "It shows the counts (frequencies) of the new one obtained on the screen.\n",
    "\n",
    "> Tip: Look for help on the function [pd.qcut()](https://pandas.pydata.org/pandas-docs/stable/reference/api/pandas.qcut.html)"
   ]
  },
  {
   "cell_type": "code",
   "execution_count": null,
   "metadata": {
    "id": "O_WpukQVgjqx"
   },
   "outputs": [],
   "source": [
    "# Solution:\n"
   ]
  },
  {
   "cell_type": "markdown",
   "metadata": {
    "id": "ounCvVAGgjq6"
   },
   "source": [
    "## Exercise 2.5.\n",
    "\n",
    "Presents the cross table of age ranges (ex. 2.4) by BMI ranges (ex. 2.2).\n",
    "\n",
    "What age group has a greater number of underweight characters?"
   ]
  },
  {
   "cell_type": "code",
   "execution_count": null,
   "metadata": {
    "id": "umepvEN9gjq8"
   },
   "outputs": [],
   "source": [
    "# Solution:\n"
   ]
  },
  {
   "cell_type": "markdown",
   "metadata": {
    "id": "l2716nMZgjrE"
   },
   "source": [
    "## Exercise 2.6.\n",
    "\n",
    "Calculate a summary table (data frame) where the mean BMI is presented in each age group calculated in exercise 2.4.\n",
    "\n",
    "It presents the new summary table on the screen."
   ]
  },
  {
   "cell_type": "code",
   "execution_count": null,
   "metadata": {
    "id": "6fMs6ud7gjrG"
   },
   "outputs": [],
   "source": [
    "# Solution:\n"
   ]
  },
  {
   "cell_type": "markdown",
   "metadata": {
    "id": "pcJwb6B5gjrO"
   },
   "source": [
    "## Exercise 2.7.\n",
    "\n",
    "Present the data of ex. 2.6. as a line graph where the x-axis is age and the y-axis is mean BMI.\n",
    "\n",
    "> Tip: As the x-axis of the line graph, you can calculate in 2.6., in the same calculation of the mean BMI, the median age of each age group."
   ]
  },
  {
   "cell_type": "code",
   "execution_count": 2,
   "metadata": {
    "id": "U8dJ4dr5gjrQ"
   },
   "outputs": [],
   "source": [
    "# Solution:\n"
   ]
  },
  {
   "cell_type": "markdown",
   "metadata": {
    "id": "qmjm1lwigjrY"
   },
   "source": [
    "## Exercise 2.8.\n",
    "\n",
    "Calculates the BMI ratio over the median BMI of their age group (defined in exercise 2.2.) using the groupby(...).apply(...) function.\n",
    "\n",
    "> trick: first create a function that returns: `x / np.nanmedian(x)`.\n",
    "\n",
    "Present the data using a boxplot of the new variable: [pd.boxplot()](https://pandas.pydata.org/pandas-docs/stable/reference/api/pandas.DataFrame.boxplot.html)."
   ]
  },
  {
   "cell_type": "code",
   "execution_count": null,
   "metadata": {
    "id": "XH3ijt6Dgjra"
   },
   "outputs": [],
   "source": [
    "# Solution:\n"
   ]
  },
  {
   "cell_type": "markdown",
   "metadata": {
    "id": "mkK-wUxCgjrg"
   },
   "source": [
    "## Exercise 2.9.\n",
    "\n",
    "What is the planet with the lowest average BMI index of its characters?\n",
    "Which character/s are from that planet?"
   ]
  },
  {
   "cell_type": "code",
   "execution_count": null,
   "metadata": {
    "id": "WsgelSYigjrh"
   },
   "outputs": [],
   "source": [
    "# Solution:\n"
   ]
  },
  {
   "cell_type": "markdown",
   "metadata": {
    "id": "7tWxDDGmgjrn"
   },
   "source": [
    "## Exercise 2.10.\n",
    "\n",
    "Convert the following strings to datetime with the [datetime.strptime()](https://docs.python.org/3/library/datetime.html#strftime-strptime-behavior) function (see help if necessary) of the datetime library:\n",
    "\n",
    "- \"1 january, 2020\"\n",
    "- \"15-feb.-2017\"\n",
    "- \"20190701 22:30\"  # 1 de julio de 2019\n",
    "\n"
   ]
  },
  {
   "cell_type": "code",
   "execution_count": null,
   "metadata": {
    "id": "ajD2V-K3gjrp"
   },
   "outputs": [],
   "source": [
    "# Solution:\n"
   ]
  }
 ],
 "metadata": {
  "colab": {
   "collapsed_sections": [],
   "name": "Ejercicios_Python_II.ipynb",
   "provenance": []
  },
  "kernelspec": {
   "display_name": "mbdds_rpy20",
   "language": "python",
   "name": "mbdds_rpy20"
  },
  "language_info": {
   "codemirror_mode": {
    "name": "ipython",
    "version": 3
   },
   "file_extension": ".py",
   "mimetype": "text/x-python",
   "name": "python",
   "nbconvert_exporter": "python",
   "pygments_lexer": "ipython3",
   "version": "3.6.9"
  }
 },
 "nbformat": 4,
 "nbformat_minor": 1
}
