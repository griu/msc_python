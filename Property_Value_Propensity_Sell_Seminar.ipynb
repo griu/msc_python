{
 "cells": [
  {
   "cell_type": "markdown",
   "metadata": {
    "toc": true
   },
   "source": [
    "<h1>Table of Contents<span class=\"tocSkip\"></span></h1>\n",
    "<div class=\"toc\"><ul class=\"toc-item\"><li><span><a href=\"#Environment-preparation\" data-toc-modified-id=\"Environment-preparation-1\"><span class=\"toc-item-num\">1&nbsp;&nbsp;</span>Environment preparation</a></span><ul class=\"toc-item\"><li><span><a href=\"#Libraries-and-functions\" data-toc-modified-id=\"Libraries-and-functions-1.1\"><span class=\"toc-item-num\">1.1&nbsp;&nbsp;</span>Libraries and functions</a></span></li></ul></li><li><span><a href=\"#Property-values-and-propensity-to-be-sold\" data-toc-modified-id=\"Property-values-and-propensity-to-be-sold-2\"><span class=\"toc-item-num\">2&nbsp;&nbsp;</span>Property values and propensity to be sold</a></span><ul class=\"toc-item\"><li><span><a href=\"#Linear-Regression-method\" data-toc-modified-id=\"Linear-Regression-method-2.1\"><span class=\"toc-item-num\">2.1&nbsp;&nbsp;</span>Linear Regression method</a></span><ul class=\"toc-item\"><li><span><a href=\"#Price-Distribution\" data-toc-modified-id=\"Price-Distribution-2.1.1\"><span class=\"toc-item-num\">2.1.1&nbsp;&nbsp;</span>Price Distribution</a></span></li><li><span><a href=\"#Bivariate-Analysis---log(price)\" data-toc-modified-id=\"Bivariate-Analysis---log(price)-2.1.2\"><span class=\"toc-item-num\">2.1.2&nbsp;&nbsp;</span>Bivariate Analysis - log(price)</a></span></li><li><span><a href=\"#Linear-Model-log(price)-of-sold-properties\" data-toc-modified-id=\"Linear-Model-log(price)-of-sold-properties-2.1.3\"><span class=\"toc-item-num\">2.1.3&nbsp;&nbsp;</span>Linear Model log(price) of sold properties</a></span></li><li><span><a href=\"#Selling-price-prediction-of-unsold-properties\" data-toc-modified-id=\"Selling-price-prediction-of-unsold-properties-2.1.4\"><span class=\"toc-item-num\">2.1.4&nbsp;&nbsp;</span>Selling price prediction of unsold properties</a></span></li></ul></li><li><span><a href=\"#Logistic-Regression-method\" data-toc-modified-id=\"Logistic-Regression-method-2.2\"><span class=\"toc-item-num\">2.2&nbsp;&nbsp;</span>Logistic Regression method</a></span><ul class=\"toc-item\"><li><span><a href=\"#Bivariate-Analysis---Sold/Unsold\" data-toc-modified-id=\"Bivariate-Analysis---Sold/Unsold-2.2.1\"><span class=\"toc-item-num\">2.2.1&nbsp;&nbsp;</span>Bivariate Analysis - Sold/Unsold</a></span></li><li><span><a href=\"#Logistic-Model---Propensity-to-be-sold\" data-toc-modified-id=\"Logistic-Model---Propensity-to-be-sold-2.2.2\"><span class=\"toc-item-num\">2.2.2&nbsp;&nbsp;</span>Logistic Model - Propensity to be sold</a></span></li><li><span><a href=\"#Conditional-probabilities\" data-toc-modified-id=\"Conditional-probabilities-2.2.3\"><span class=\"toc-item-num\">2.2.3&nbsp;&nbsp;</span>Conditional probabilities</a></span></li><li><span><a href=\"#Optimall-selling-price-strategy-unsold-properties\" data-toc-modified-id=\"Optimall-selling-price-strategy-unsold-properties-2.2.4\"><span class=\"toc-item-num\">2.2.4&nbsp;&nbsp;</span>Optimall selling price strategy unsold properties</a></span></li></ul></li></ul></li></ul></div>"
   ]
  },
  {
   "cell_type": "markdown",
   "metadata": {
    "id": "8dbKvXOBMtBa"
   },
   "source": [
    "# Environment preparation\n"
   ]
  },
  {
   "cell_type": "code",
   "execution_count": null,
   "metadata": {
    "colab": {
     "base_uri": "https://localhost:8080/"
    },
    "executionInfo": {
     "elapsed": 25678,
     "status": "ok",
     "timestamp": 1604317087349,
     "user": {
      "displayName": "alumnos bigdata",
      "photoUrl": "",
      "userId": "10710302360204190833"
     },
     "user_tz": -60
    },
    "id": "2SBF5dlSTi-h",
    "outputId": "b85ff6ea-725c-464c-abf4-fc481a6882de"
   },
   "outputs": [],
   "source": [
    "if 'google.colab' in str(get_ipython()):\n",
    "    !git clone https://github.com/griu/msc_python.git /content/msc_python\n",
    "    !git -C /content/msc_python pull\n",
    "    %cd /content/msc_python\n",
    "    !pip install stargazer\n",
    "    !pip install pyreadstat"
   ]
  },
  {
   "cell_type": "markdown",
   "metadata": {},
   "source": [
    "__[Open in Colab](https://colab.research.google.com/github/griu/msc_python/blob/master/Property_Value_Propensity_Sell_Seminar.ipynb)__   *: <span style=\"color:rgba(255, 99, 71, 0.8)\">Padawan! When you login to Colab, prepare the environment by running the following code.</span>*"
   ]
  },
  {
   "cell_type": "markdown",
   "metadata": {},
   "source": [
    "## Libraries and functions"
   ]
  },
  {
   "cell_type": "code",
   "execution_count": null,
   "metadata": {},
   "outputs": [],
   "source": [
    "# Importing the packages\n",
    "\n",
    "import pandas as pd\n",
    "import numpy as np\n",
    "import seaborn as sns\n",
    "import matplotlib.pyplot as plt\n",
    "import requests\n",
    "\n",
    "import statsmodels.api as sm\n",
    "import statsmodels.formula.api as smf\n",
    "import statsmodels.graphics.api as smg\n",
    "from statsmodels.stats.outliers_influence import variance_inflation_factor\n",
    "from patsy import dmatrices\n",
    "import scipy.stats as stats\n",
    "from statsmodels.genmod.generalized_linear_model import GLM\n",
    "from statsmodels.genmod import families\n",
    "from stargazer.stargazer import Stargazer\n",
    "from IPython.core.display import display, HTML\n",
    "import scipy\n",
    "import math\n",
    "\n",
    "# setting matplot theme\n",
    "sns.set_theme(color_codes=True)\n",
    "\n",
    "# Visualization\n",
    "def visreg(fit, xvar, by, data, cond=dict()):\n",
    "    \n",
    "    # conditions\n",
    "    allBy = np.sort(data[by].unique())\n",
    "    \n",
    "    # initializing dataframes\n",
    "    df0 = pd.DataFrame(np.sort(data[xvar].copy().unique()),columns=[xvar])\n",
    "    df0[by] = allBy[0] \n",
    "    df1 = df0.copy()\n",
    "    \n",
    "    # several copies by\n",
    "    for x in allBy[1:]:\n",
    "        df1[by] = x\n",
    "        df0 = df0.append(df1, ignore_index=True)\n",
    "        \n",
    "    for k, v in cond.items():\n",
    "        df0[k] = v\n",
    "    \n",
    "    # predict\n",
    "    df0[fit.model.endog_names] = fit.predict(df0)\n",
    "    \n",
    "    ax = sns.lineplot(data = df0, x=xvar, y = fit.model.endog_names, hue = by)\n",
    "    ax.set_title('Conditional effects plot')\n",
    "    ax.set(ylabel='Prob(' + fit.model.endog_names + ')')\n",
    "\n",
    "    return ax\n",
    "\n",
    "# model comparision\n",
    "def anovaLogit(fit1,fit2):\n",
    "    Deviance = abs(-2*(fit2.model.loglike(fit2.params) - fit1.model.loglike(fit1.params)))\n",
    "    DF = 2\n",
    "    p_value = scipy.stats.chi2.sf(Deviance,DF)\n",
    "    \n",
    "    return {'Deviance':Deviance, 'DF':DF, 'p_value' : p_value}\n",
    "    \n",
    "\n",
    "# defining bivariate functions\n",
    "\n",
    "def without_hue(ax, feature):\n",
    "    total = len(feature)\n",
    "    for p in ax.patches:\n",
    "        percentage = '{:.1f}%'.format(100 * p.get_height()/total)\n",
    "        x = p.get_x() + p.get_width() / 10\n",
    "        y = p.get_y() + p.get_height()\n",
    "        ax.annotate(percentage, (x, y), size = 12)\n",
    "    plt.show()\n",
    "\n",
    "def bivar_bin(x,catVar,binVar,method = 'qcut',points = 7, saveTransf=False):\n",
    "    # options for method: 'qcut', 'cut', None\n",
    "    ind_transf = 0\n",
    "    if saveTransf:\n",
    "        x1 = x\n",
    "    else:\n",
    "        x1 = x.copy()\n",
    "\n",
    "    # partitioning numerical column\n",
    "    if (catVar in x1.select_dtypes('number').columns) and (method \n",
    "                                                          in ['qcut','cut']):\n",
    "        if type(points) is list:\n",
    "            if len(x1[catVar].unique()) > len(points):\n",
    "                ind_transf = 1\n",
    "        else:\n",
    "            if len(x1[catVar].unique()) > points:\n",
    "                ind_transf = 1\n",
    "        if (ind_transf==1) and (method==\"qcut\"):\n",
    "            x1[catVar + '_T'] = pd.qcut(x1[catVar], points,duplicates='drop')\n",
    "            catVar = catVar + '_T'\n",
    "\n",
    "        if (ind_transf==1) and (method==\"cut\"):\n",
    "            x1[catVar + '_T'] = pd.cut(x1[catVar], points,right=False,duplicates='drop')\n",
    "            catVar = catVar + '_T'\n",
    "    \n",
    "    # generating plots\n",
    "    sns.set(rc={'figure.figsize':(11,4)})\n",
    "    fig, ax = plt.subplots(1,2)\n",
    "    \n",
    "    sns.countplot(x=catVar,data=x1, ax=ax[0])\n",
    "    ax[0].tick_params(labelrotation=90)\n",
    "    ax[0].set(title=catVar+' distribution')\n",
    "    \n",
    "    sns.barplot(x=catVar,y=binVar, data=x1, ax=ax[1])\n",
    "    ax[1].tick_params(labelrotation=90)\n",
    "    ax[1].set(ylabel='Propensity '+binVar, title=binVar + ' % by '+catVar)\n",
    "    \n",
    "    # adding percentage to countplot\n",
    "    without_hue(ax[0],x1[catVar])\n"
   ]
  },
  {
   "cell_type": "markdown",
   "metadata": {},
   "source": [
    "# Property values and propensity to be sold \n",
    "\n",
    "The following data set corresponds to a sample of 1,000 house units in Spain on-sell during the 2008 crises:\n",
    "`properties.csv`. The variable price is the offer price if variable sold = 0 and the transaction value if sold = 1 .\n",
    "\n",
    "Your client is a real estate company and your mission is to help them to sell all the unsold properties by maximizing the profit from their sale.\n",
    "\n",
    "1. *Linear regression method:*\n",
    "   1. Inspect the distribution of the variable price and comment on whether to use the transformation log(price).\n",
    "   1. Do a bivariate analysis between log(price) and other relevant explanatory factors in the sample.\n",
    "   1. Use the log(price) as a dependent variable to fit what you feel is a relevant/useful regression model. Do this selecting only the sample of sold properties. Discuss the relevance of these regressions to understand the determinants of variable price. Summarize the findings that you find useful to inform your client.\n",
    "   1. Using the model adjusted in the previous step, predict the selling price of the sample of unsold properties. Summarize the unsold properties for each region with the following key performance indicators (KPIs): Nr of properties, total offering price, total selling price, and average deviation (ADEV) defined like: (sum(selling price) / sum(offer price) - 1). comment the table.\n",
    "1. *Logistic regression method:*\n",
    "   1. Do a bivariate analysis between sold variable and other relevant explanatory factors in the sample.\n",
    "   1. Adjust a logistic regression model with overall sample using sold as a dependent variable. Assess which features of the properties can determine the sold or unsold status of the propertie.\n",
    "   1. Use the previous model to plot the probability to be sold conditioned to the price by habitat size of a property with 150 square meters, non rural and without pool (add other conditions if you need). Interpret the plot for your client.\n",
    "   1. Taking the conditional plot from the previous example comment how this can be used to decide the optimal price to sell this property. Comment pros and cons of this method, compared to the selling price proposed in the linear regression section.\n"
   ]
  },
  {
   "cell_type": "markdown",
   "metadata": {},
   "source": [
    "## Linear Regression method\n",
    "\n",
    "Data loading:"
   ]
  },
  {
   "cell_type": "code",
   "execution_count": null,
   "metadata": {},
   "outputs": [],
   "source": [
    "df = pd.read_csv(\"properties.csv\")\n",
    "\n",
    "#casting region to categorical\n",
    "df.region = df.region.astype(\"category\")\n",
    "\n",
    "df.shape"
   ]
  },
  {
   "cell_type": "code",
   "execution_count": null,
   "metadata": {},
   "outputs": [],
   "source": [
    "df.info()"
   ]
  },
  {
   "cell_type": "code",
   "execution_count": null,
   "metadata": {},
   "outputs": [],
   "source": [
    "df.head()"
   ]
  },
  {
   "cell_type": "code",
   "execution_count": null,
   "metadata": {},
   "outputs": [],
   "source": [
    "df.describe()"
   ]
  },
  {
   "cell_type": "markdown",
   "metadata": {},
   "source": [
    "### Price Distribution"
   ]
  },
  {
   "cell_type": "code",
   "execution_count": null,
   "metadata": {},
   "outputs": [],
   "source": [
    "# Hint: look at sns.displot() function with log_scale=True parameter\n"
   ]
  },
  {
   "cell_type": "markdown",
   "metadata": {},
   "source": [
    "Comment:"
   ]
  },
  {
   "cell_type": "markdown",
   "metadata": {},
   "source": [
    "### Bivariate Analysis - log(price)"
   ]
  },
  {
   "cell_type": "code",
   "execution_count": null,
   "metadata": {},
   "outputs": [],
   "source": [
    "# Hint 1: use sns.pairplot(), sns.lmplot() and sns.boxplot() functions. \n",
    "# Hint 2: If its encessary, inspect any transformation/interaction that could help to linearize the relations\n",
    "# Hint 3: Take care of possible high correlations between explanatory variables \n"
   ]
  },
  {
   "cell_type": "markdown",
   "metadata": {},
   "source": [
    "### Linear Model log(price) of sold properties"
   ]
  },
  {
   "cell_type": "code",
   "execution_count": null,
   "metadata": {},
   "outputs": [],
   "source": [
    "# Hint 1: To create the DataFrame with sold properties use the condition [df.sold == 1]\n",
    "# Hint 2: Comment the R2 and interpret the model with mod1.summary() and partial regression plots.\n",
    "# Hint 3: Inspect the residuals versus prediction, vif and influential values \n"
   ]
  },
  {
   "cell_type": "markdown",
   "metadata": {},
   "source": [
    "Comment:"
   ]
  },
  {
   "cell_type": "markdown",
   "metadata": {},
   "source": [
    "### Selling price prediction of unsold properties"
   ]
  },
  {
   "cell_type": "code",
   "execution_count": null,
   "metadata": {},
   "outputs": [],
   "source": [
    "# Hint 1: use mod1.predict(df1) predicts mod1 over df1 and return a pandas Series with predictions.\n",
    "# Hint 2: df1.groupby([var]).agg({'var1':'stat1','var2':'stat2', ...}) summaryze each var category the statistic stat1 over \n",
    "#         var1, stat2 over var2... Common statisics are 'count', 'mean' and 'sum'.\n",
    "# Hint 3: Ratios can be calulated over the new dataframe from the agregated values.\n"
   ]
  },
  {
   "cell_type": "markdown",
   "metadata": {},
   "source": [
    "Comment:"
   ]
  },
  {
   "cell_type": "markdown",
   "metadata": {},
   "source": [
    "## Logistic Regression method\n"
   ]
  },
  {
   "cell_type": "markdown",
   "metadata": {},
   "source": [
    "### Bivariate Analysis - Sold/Unsold"
   ]
  },
  {
   "cell_type": "code",
   "execution_count": null,
   "metadata": {},
   "outputs": [],
   "source": [
    "# Hint 1: bivar_bin() function using the parameters method, points, saveTransf\n"
   ]
  },
  {
   "cell_type": "markdown",
   "metadata": {},
   "source": [
    "### Logistic Model - Propensity to be sold"
   ]
  },
  {
   "cell_type": "code",
   "execution_count": null,
   "metadata": {},
   "outputs": [],
   "source": [
    "# Hint 1: Adjust the model with mod2 = sm.Logit.from_formula().fit()\n",
    "# Hint 2: Interpretation should be done with mod2.summary() and mod2.get_margeff(dummy=True).summary() \n",
    "# Hint 3: Influential values could be analyzed with mod3=GLM.from_formula().fit(), mod3.get_influence().plot_influence() and mod3.get_influence().cooks_distance[0]  \n"
   ]
  },
  {
   "cell_type": "markdown",
   "metadata": {},
   "source": [
    "Comment:"
   ]
  },
  {
   "cell_type": "markdown",
   "metadata": {},
   "source": [
    "### Conditional probabilities"
   ]
  },
  {
   "cell_type": "code",
   "execution_count": null,
   "metadata": {},
   "outputs": [],
   "source": [
    "# use visreg(). All explanatory variables, except xvar and by, should have been fixed in the cond dictionary.\n"
   ]
  },
  {
   "cell_type": "markdown",
   "metadata": {},
   "source": [
    "Comment:"
   ]
  },
  {
   "cell_type": "markdown",
   "metadata": {},
   "source": [
    "### Optimall selling price strategy unsold properties"
   ]
  },
  {
   "cell_type": "markdown",
   "metadata": {},
   "source": [
    "> Hint: Fix the selling price from a global policy of Propensity to be sold. \n",
    "\n",
    "Comment:"
   ]
  },
  {
   "cell_type": "code",
   "execution_count": null,
   "metadata": {},
   "outputs": [],
   "source": []
  }
 ],
 "metadata": {
  "jupytext": {
   "cell_metadata_filter": "message,fig.width,warning,name,tags,-all",
   "main_language": "R",
   "notebook_metadata_filter": "-all"
  },
  "kernelspec": {
   "display_name": "mufib_env383",
   "language": "python",
   "name": "mufib_env383"
  },
  "language_info": {
   "codemirror_mode": {
    "name": "ipython",
    "version": 3
   },
   "file_extension": ".py",
   "mimetype": "text/x-python",
   "name": "python",
   "nbconvert_exporter": "python",
   "pygments_lexer": "ipython3",
   "version": "3.8.3"
  },
  "toc": {
   "base_numbering": 1,
   "nav_menu": {},
   "number_sections": true,
   "sideBar": true,
   "skip_h1_title": false,
   "title_cell": "Table of Contents",
   "title_sidebar": "Contents",
   "toc_cell": true,
   "toc_position": {},
   "toc_section_display": true,
   "toc_window_display": false
  }
 },
 "nbformat": 4,
 "nbformat_minor": 4
}
