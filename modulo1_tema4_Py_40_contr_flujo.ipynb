{
 "cells": [
  {
   "cell_type": "markdown",
   "metadata": {
    "toc": true
   },
   "source": [
    "<h1>Table of Contents<span class=\"tocSkip\"></span></h1>\n",
    "<div class=\"toc\"><ul class=\"toc-item\"><li><span><a href=\"#7---Flow-Control\" data-toc-modified-id=\"7---Flow-Control-1\"><span class=\"toc-item-num\">1&nbsp;&nbsp;</span>7 - Flow Control</a></span><ul class=\"toc-item\"><li><ul class=\"toc-item\"><li><span><a href=\"#7.2.-Functions\" data-toc-modified-id=\"7.2.-Functions-1.0.1\"><span class=\"toc-item-num\">1.0.1&nbsp;&nbsp;</span>7.2. Functions</a></span><ul class=\"toc-item\"><li><span><a href=\"#7.2.1-args-and-*kwargs-parameters\" data-toc-modified-id=\"7.2.1-args-and-*kwargs-parameters-1.0.1.1\"><span class=\"toc-item-num\">1.0.1.1&nbsp;&nbsp;</span>7.2.1 <em>args and *</em>kwargs parameters</a></span></li></ul></li><li><span><a href=\"#7.3.-Conditionals\" data-toc-modified-id=\"7.3.-Conditionals-1.0.2\"><span class=\"toc-item-num\">1.0.2&nbsp;&nbsp;</span>7.3. Conditionals</a></span></li><li><span><a href=\"#7.4.-Loops\" data-toc-modified-id=\"7.4.-Loops-1.0.3\"><span class=\"toc-item-num\">1.0.3&nbsp;&nbsp;</span>7.4. Loops</a></span></li></ul></li></ul></li></ul></div>"
   ]
  },
  {
   "cell_type": "markdown",
   "metadata": {},
   "source": [
    "<img align=\"left\" style=\"padding-right:10px;\" width=\"150\" src=\"https://upload.wikimedia.org/wikipedia/commons/thumb/6/6c/Star_Wars_Logo.svg/320px-Star_Wars_Logo.svg.png\" />\n",
    "\n",
    "*made by Ferran Carrascosa Mallafrè.*"
   ]
  },
  {
   "cell_type": "markdown",
   "metadata": {},
   "source": [
    "< [Colecciones de objetos: pandas](modulo1_tema4_Py_32_pandas.ipynb) | [Índice](modulo1_tema4_Py_00_indice.ipynb) | [Gestión de datos](modulo1_tema4_Py_50_gest_dat.ipynb) >\n",
    "\n",
    "__[Abre en Colab](https://colab.research.google.com/github/griu/msc_python/blob/master/modulo1_tema4_Py_40_contr_flujo.ipynb)__   *: <span style=\"color:rgba(255, 99, 71, 0.8)\">Padawan! When you login to Colab, prepare the environment by running the following code.</span>*"
   ]
  },
  {
   "cell_type": "code",
   "execution_count": 1,
   "metadata": {
    "colab": {
     "base_uri": "https://localhost:8080/"
    },
    "executionInfo": {
     "elapsed": 25678,
     "status": "ok",
     "timestamp": 1604317087349,
     "user": {
      "displayName": "alumnos bigdata",
      "photoUrl": "",
      "userId": "10710302360204190833"
     },
     "user_tz": -60
    },
    "id": "2SBF5dlSTi-h",
    "outputId": "b85ff6ea-725c-464c-abf4-fc481a6882de"
   },
   "outputs": [],
   "source": [
    "if 'google.colab' in str(get_ipython()):\n",
    "    !git clone https://github.com/griu/msc_python.git /content/msc_python\n",
    "    !git -C /content/msc_python pull\n",
    "    %cd /content/msc_python"
   ]
  },
  {
   "cell_type": "markdown",
   "metadata": {
    "id": "oy-iI-ICxHRs"
   },
   "source": [
    "# 7 - Flow Control\n",
    "\n",
    "Flow control tools allow you to automate tasks. In this chapter, we will work on conditional functions and loops."
   ]
  },
  {
   "cell_type": "markdown",
   "metadata": {
    "id": "OQ4nIubYxHR1"
   },
   "source": [
    "##### 7.1. Sample data\n",
    "\n",
    "This chapter will use examples of vehicles from Star Wars:"
   ]
  },
  {
   "cell_type": "code",
   "execution_count": 2,
   "metadata": {
    "colab": {
     "base_uri": "https://localhost:8080/",
     "height": 645
    },
    "executionInfo": {
     "elapsed": 615,
     "status": "ok",
     "timestamp": 1604334675390,
     "user": {
      "displayName": "alumnos bigdata",
      "photoUrl": "",
      "userId": "10710302360204190833"
     },
     "user_tz": -60
    },
    "id": "hEe4mx7GxHR7",
    "outputId": "3496b893-1834-43f1-8344-ab8426b08425",
    "scrolled": false
   },
   "outputs": [
    {
     "data": {
      "text/html": [
       "<div>\n",
       "<style scoped>\n",
       "    .dataframe tbody tr th:only-of-type {\n",
       "        vertical-align: middle;\n",
       "    }\n",
       "\n",
       "    .dataframe tbody tr th {\n",
       "        vertical-align: top;\n",
       "    }\n",
       "\n",
       "    .dataframe thead th {\n",
       "        text-align: right;\n",
       "    }\n",
       "</style>\n",
       "<table border=\"1\" class=\"dataframe\">\n",
       "  <thead>\n",
       "    <tr style=\"text-align: right;\">\n",
       "      <th></th>\n",
       "      <th>cost_in_credits</th>\n",
       "      <th>length</th>\n",
       "      <th>max_atmosphering_speed</th>\n",
       "      <th>crew</th>\n",
       "      <th>cargo_capacity</th>\n",
       "      <th>pilots</th>\n",
       "      <th>films</th>\n",
       "    </tr>\n",
       "    <tr>\n",
       "      <th>name</th>\n",
       "      <th></th>\n",
       "      <th></th>\n",
       "      <th></th>\n",
       "      <th></th>\n",
       "      <th></th>\n",
       "      <th></th>\n",
       "      <th></th>\n",
       "    </tr>\n",
       "  </thead>\n",
       "  <tbody>\n",
       "    <tr>\n",
       "      <th>Sand Crawler</th>\n",
       "      <td>150000.0</td>\n",
       "      <td>36.80</td>\n",
       "      <td>30.0</td>\n",
       "      <td>46</td>\n",
       "      <td>50000.0</td>\n",
       "      <td>[]</td>\n",
       "      <td>[http://swapi.dev/api/films/1/, http://swapi.d...</td>\n",
       "    </tr>\n",
       "    <tr>\n",
       "      <th>T-16 skyhopper</th>\n",
       "      <td>14500.0</td>\n",
       "      <td>10.40</td>\n",
       "      <td>1200.0</td>\n",
       "      <td>1</td>\n",
       "      <td>50.0</td>\n",
       "      <td>[]</td>\n",
       "      <td>[http://swapi.dev/api/films/1/]</td>\n",
       "    </tr>\n",
       "    <tr>\n",
       "      <th>X-34 landspeeder</th>\n",
       "      <td>10550.0</td>\n",
       "      <td>3.40</td>\n",
       "      <td>250.0</td>\n",
       "      <td>1</td>\n",
       "      <td>5.0</td>\n",
       "      <td>[]</td>\n",
       "      <td>[http://swapi.dev/api/films/1/]</td>\n",
       "    </tr>\n",
       "    <tr>\n",
       "      <th>Storm IV Twin-Pod cloud car</th>\n",
       "      <td>75000.0</td>\n",
       "      <td>7.00</td>\n",
       "      <td>1500.0</td>\n",
       "      <td>2</td>\n",
       "      <td>10.0</td>\n",
       "      <td>[]</td>\n",
       "      <td>[http://swapi.dev/api/films/2/]</td>\n",
       "    </tr>\n",
       "    <tr>\n",
       "      <th>Sail barge</th>\n",
       "      <td>285000.0</td>\n",
       "      <td>30.00</td>\n",
       "      <td>100.0</td>\n",
       "      <td>26</td>\n",
       "      <td>2000000.0</td>\n",
       "      <td>[]</td>\n",
       "      <td>[http://swapi.dev/api/films/3/]</td>\n",
       "    </tr>\n",
       "    <tr>\n",
       "      <th>Bantha-II cargo skiff</th>\n",
       "      <td>8000.0</td>\n",
       "      <td>9.50</td>\n",
       "      <td>250.0</td>\n",
       "      <td>5</td>\n",
       "      <td>135000.0</td>\n",
       "      <td>[]</td>\n",
       "      <td>[http://swapi.dev/api/films/3/]</td>\n",
       "    </tr>\n",
       "    <tr>\n",
       "      <th>Imperial Speeder Bike</th>\n",
       "      <td>8000.0</td>\n",
       "      <td>3.00</td>\n",
       "      <td>360.0</td>\n",
       "      <td>1</td>\n",
       "      <td>4.0</td>\n",
       "      <td>[http://swapi.dev/api/people/1/, http://swapi....</td>\n",
       "      <td>[http://swapi.dev/api/films/3/]</td>\n",
       "    </tr>\n",
       "    <tr>\n",
       "      <th>Multi-Troop Transport</th>\n",
       "      <td>138000.0</td>\n",
       "      <td>31.00</td>\n",
       "      <td>35.0</td>\n",
       "      <td>4</td>\n",
       "      <td>12000.0</td>\n",
       "      <td>[]</td>\n",
       "      <td>[http://swapi.dev/api/films/4/]</td>\n",
       "    </tr>\n",
       "    <tr>\n",
       "      <th>C-9979 landing craft</th>\n",
       "      <td>200000.0</td>\n",
       "      <td>210.00</td>\n",
       "      <td>587.0</td>\n",
       "      <td>140</td>\n",
       "      <td>1800000.0</td>\n",
       "      <td>[]</td>\n",
       "      <td>[http://swapi.dev/api/films/4/]</td>\n",
       "    </tr>\n",
       "    <tr>\n",
       "      <th>Sith speeder</th>\n",
       "      <td>4000.0</td>\n",
       "      <td>1.50</td>\n",
       "      <td>180.0</td>\n",
       "      <td>1</td>\n",
       "      <td>2.0</td>\n",
       "      <td>[http://swapi.dev/api/people/44/]</td>\n",
       "      <td>[http://swapi.dev/api/films/4/]</td>\n",
       "    </tr>\n",
       "    <tr>\n",
       "      <th>Zephyr-G swoop bike</th>\n",
       "      <td>5750.0</td>\n",
       "      <td>3.68</td>\n",
       "      <td>350.0</td>\n",
       "      <td>1</td>\n",
       "      <td>200.0</td>\n",
       "      <td>[http://swapi.dev/api/people/11/]</td>\n",
       "      <td>[http://swapi.dev/api/films/5/]</td>\n",
       "    </tr>\n",
       "    <tr>\n",
       "      <th>Tsmeu-6 personal wheel bike</th>\n",
       "      <td>15000.0</td>\n",
       "      <td>3.50</td>\n",
       "      <td>330.0</td>\n",
       "      <td>1</td>\n",
       "      <td>10.0</td>\n",
       "      <td>[http://swapi.dev/api/people/79/]</td>\n",
       "      <td>[http://swapi.dev/api/films/6/]</td>\n",
       "    </tr>\n",
       "    <tr>\n",
       "      <th>Droid tri-fighter</th>\n",
       "      <td>20000.0</td>\n",
       "      <td>5.40</td>\n",
       "      <td>1180.0</td>\n",
       "      <td>1</td>\n",
       "      <td>0.0</td>\n",
       "      <td>[]</td>\n",
       "      <td>[http://swapi.dev/api/films/6/]</td>\n",
       "    </tr>\n",
       "    <tr>\n",
       "      <th>Oevvaor jet catamaran</th>\n",
       "      <td>12125.0</td>\n",
       "      <td>15.10</td>\n",
       "      <td>420.0</td>\n",
       "      <td>2</td>\n",
       "      <td>50.0</td>\n",
       "      <td>[]</td>\n",
       "      <td>[http://swapi.dev/api/films/6/]</td>\n",
       "    </tr>\n",
       "    <tr>\n",
       "      <th>Raddaugh Gnasp fluttercraft</th>\n",
       "      <td>14750.0</td>\n",
       "      <td>7.00</td>\n",
       "      <td>310.0</td>\n",
       "      <td>2</td>\n",
       "      <td>20.0</td>\n",
       "      <td>[]</td>\n",
       "      <td>[http://swapi.dev/api/films/6/]</td>\n",
       "    </tr>\n",
       "    <tr>\n",
       "      <th>Clone turbo tank</th>\n",
       "      <td>350000.0</td>\n",
       "      <td>49.40</td>\n",
       "      <td>160.0</td>\n",
       "      <td>20</td>\n",
       "      <td>30000.0</td>\n",
       "      <td>[]</td>\n",
       "      <td>[http://swapi.dev/api/films/6/]</td>\n",
       "    </tr>\n",
       "    <tr>\n",
       "      <th>Droid gunship</th>\n",
       "      <td>60000.0</td>\n",
       "      <td>12.30</td>\n",
       "      <td>820.0</td>\n",
       "      <td>0</td>\n",
       "      <td>0.0</td>\n",
       "      <td>[]</td>\n",
       "      <td>[http://swapi.dev/api/films/6/]</td>\n",
       "    </tr>\n",
       "    <tr>\n",
       "      <th>AT-RT</th>\n",
       "      <td>40000.0</td>\n",
       "      <td>3.20</td>\n",
       "      <td>90.0</td>\n",
       "      <td>1</td>\n",
       "      <td>20.0</td>\n",
       "      <td>[]</td>\n",
       "      <td>[http://swapi.dev/api/films/6/]</td>\n",
       "    </tr>\n",
       "  </tbody>\n",
       "</table>\n",
       "</div>"
      ],
      "text/plain": [
       "                             cost_in_credits  length  max_atmosphering_speed  \\\n",
       "name                                                                           \n",
       "Sand Crawler                        150000.0   36.80                    30.0   \n",
       "T-16 skyhopper                       14500.0   10.40                  1200.0   \n",
       "X-34 landspeeder                     10550.0    3.40                   250.0   \n",
       "Storm IV Twin-Pod cloud car          75000.0    7.00                  1500.0   \n",
       "Sail barge                          285000.0   30.00                   100.0   \n",
       "Bantha-II cargo skiff                 8000.0    9.50                   250.0   \n",
       "Imperial Speeder Bike                 8000.0    3.00                   360.0   \n",
       "Multi-Troop Transport               138000.0   31.00                    35.0   \n",
       "C-9979 landing craft                200000.0  210.00                   587.0   \n",
       "Sith speeder                          4000.0    1.50                   180.0   \n",
       "Zephyr-G swoop bike                   5750.0    3.68                   350.0   \n",
       "Tsmeu-6 personal wheel bike          15000.0    3.50                   330.0   \n",
       "Droid tri-fighter                    20000.0    5.40                  1180.0   \n",
       "Oevvaor jet catamaran                12125.0   15.10                   420.0   \n",
       "Raddaugh Gnasp fluttercraft          14750.0    7.00                   310.0   \n",
       "Clone turbo tank                    350000.0   49.40                   160.0   \n",
       "Droid gunship                        60000.0   12.30                   820.0   \n",
       "AT-RT                                40000.0    3.20                    90.0   \n",
       "\n",
       "                             crew  cargo_capacity  \\\n",
       "name                                                \n",
       "Sand Crawler                   46         50000.0   \n",
       "T-16 skyhopper                  1            50.0   \n",
       "X-34 landspeeder                1             5.0   \n",
       "Storm IV Twin-Pod cloud car     2            10.0   \n",
       "Sail barge                     26       2000000.0   \n",
       "Bantha-II cargo skiff           5        135000.0   \n",
       "Imperial Speeder Bike           1             4.0   \n",
       "Multi-Troop Transport           4         12000.0   \n",
       "C-9979 landing craft          140       1800000.0   \n",
       "Sith speeder                    1             2.0   \n",
       "Zephyr-G swoop bike             1           200.0   \n",
       "Tsmeu-6 personal wheel bike     1            10.0   \n",
       "Droid tri-fighter               1             0.0   \n",
       "Oevvaor jet catamaran           2            50.0   \n",
       "Raddaugh Gnasp fluttercraft     2            20.0   \n",
       "Clone turbo tank               20         30000.0   \n",
       "Droid gunship                   0             0.0   \n",
       "AT-RT                           1            20.0   \n",
       "\n",
       "                                                                        pilots  \\\n",
       "name                                                                             \n",
       "Sand Crawler                                                                []   \n",
       "T-16 skyhopper                                                              []   \n",
       "X-34 landspeeder                                                            []   \n",
       "Storm IV Twin-Pod cloud car                                                 []   \n",
       "Sail barge                                                                  []   \n",
       "Bantha-II cargo skiff                                                       []   \n",
       "Imperial Speeder Bike        [http://swapi.dev/api/people/1/, http://swapi....   \n",
       "Multi-Troop Transport                                                       []   \n",
       "C-9979 landing craft                                                        []   \n",
       "Sith speeder                                 [http://swapi.dev/api/people/44/]   \n",
       "Zephyr-G swoop bike                          [http://swapi.dev/api/people/11/]   \n",
       "Tsmeu-6 personal wheel bike                  [http://swapi.dev/api/people/79/]   \n",
       "Droid tri-fighter                                                           []   \n",
       "Oevvaor jet catamaran                                                       []   \n",
       "Raddaugh Gnasp fluttercraft                                                 []   \n",
       "Clone turbo tank                                                            []   \n",
       "Droid gunship                                                               []   \n",
       "AT-RT                                                                       []   \n",
       "\n",
       "                                                                         films  \n",
       "name                                                                            \n",
       "Sand Crawler                 [http://swapi.dev/api/films/1/, http://swapi.d...  \n",
       "T-16 skyhopper                                 [http://swapi.dev/api/films/1/]  \n",
       "X-34 landspeeder                               [http://swapi.dev/api/films/1/]  \n",
       "Storm IV Twin-Pod cloud car                    [http://swapi.dev/api/films/2/]  \n",
       "Sail barge                                     [http://swapi.dev/api/films/3/]  \n",
       "Bantha-II cargo skiff                          [http://swapi.dev/api/films/3/]  \n",
       "Imperial Speeder Bike                          [http://swapi.dev/api/films/3/]  \n",
       "Multi-Troop Transport                          [http://swapi.dev/api/films/4/]  \n",
       "C-9979 landing craft                           [http://swapi.dev/api/films/4/]  \n",
       "Sith speeder                                   [http://swapi.dev/api/films/4/]  \n",
       "Zephyr-G swoop bike                            [http://swapi.dev/api/films/5/]  \n",
       "Tsmeu-6 personal wheel bike                    [http://swapi.dev/api/films/6/]  \n",
       "Droid tri-fighter                              [http://swapi.dev/api/films/6/]  \n",
       "Oevvaor jet catamaran                          [http://swapi.dev/api/films/6/]  \n",
       "Raddaugh Gnasp fluttercraft                    [http://swapi.dev/api/films/6/]  \n",
       "Clone turbo tank                               [http://swapi.dev/api/films/6/]  \n",
       "Droid gunship                                  [http://swapi.dev/api/films/6/]  \n",
       "AT-RT                                          [http://swapi.dev/api/films/6/]  "
      ]
     },
     "execution_count": 2,
     "metadata": {},
     "output_type": "execute_result"
    }
   ],
   "source": [
    "%matplotlib inline\n",
    "import numpy as np\n",
    "import pandas as pd\n",
    "import matplotlib.pyplot as plt\n",
    "import seaborn as sns; sns.set()  # for graphics style\n",
    "\n",
    "entidades = ['planets','starships','vehicles','people','species']\n",
    "entidades_df = {x: pd.read_pickle('www/' + x + '_df.pkl') for x in entidades}\n",
    "vehicles_df = entidades_df['vehicles'][[\"cost_in_credits\",\"length\",\"max_atmosphering_speed\"\n",
    "                                        ,\"crew\",\"cargo_capacity\",\"pilots\",\"films\"]].dropna()\n",
    "\n",
    "vehicles_df"
   ]
  },
  {
   "cell_type": "markdown",
   "metadata": {
    "id": "ieAB6NihxHSf"
   },
   "source": [
    "### 7.2. Functions\n",
    "\n",
    "Let's briefly review what we've covered so far regarding functions in Python.\n",
    "\n",
    "We have introduced the concept of function in Python in the [Python Basics](modulo1_tema4_Py_10_elem_bas.ipynb) chapter.\n",
    "\n",
    "Next, in the [Lists, tuples and dictionaries](modulo1_tema4_Py_30_colec_obj.ipynb) chapter, we have explained the possibility of returning several elements, at the same time, in the form of tuples.\n",
    "\n",
    "In [numpy](modulo1_tema4_Py_31_numpy.ipynb), the universal functions (ufunc) have been explained as a group of functions that vectorize when applied to the elements of the numpy array.\n",
    "\n",
    "Finally, in [pandas](modulo1_tema4_Py_32_pandas.ipynb), the possibility of applying the universal functions of numpy to pandas objects (Series and DataFrame) and how these functions respect the row and column indexes has been commented. Also, we have discussed index alignment when performing arithmetic between two pandas objects.\n",
    "\n",
    "In the data management chapter, we will cover 2 additional concepts about functions.\n",
    "\n",
    "On the one hand, we will see how to vectorize any type of function, on the elements of pandas objects, through the apply function.\n",
    "\n",
    "> **Remember**: on the subject of R, we already defined apply functions for the same purpose.\n",
    "\n",
    "The second concept that we will see, will be the aggregation functions (sum, average, quantiles...). We will define them, first, on numpy objects and, later, on pandas.\n",
    "\n",
    "The combination of both concepts, vectorized functions and aggregation functions on pandas objects, will finish filling your toolbox to get started in data science."
   ]
  },
  {
   "cell_type": "markdown",
   "metadata": {},
   "source": [
    "#### 7.2.1 *args and **kwargs parameters\n",
    "\n",
    "There is a special case of function parameters:\n",
    "\n",
    "- Parameters starting with an asterisk (e.g. \\*args): allows sending parameters without a label (non keyworded arguments).\n",
    "- Parameters starting with two asterisks (e.g. \\*\\*kwargs):: allows sending parameters with a label (keyworded arguments).\n",
    "\n",
    "The names args and kwargs are used by convention.\n",
    "\n"
   ]
  },
  {
   "cell_type": "markdown",
   "metadata": {
    "id": "w4Mj0KCGxHSl"
   },
   "source": [
    "### 7.3. Conditionals\n",
    "\n",
    "Let us also make a brief review here of the aspects that we have already commented on regarding conditional structures.\n",
    "\n",
    "In the [Python Basics](module1_topic4_Py_10_elem_bas.ipynb) chapter, we introduced the basic *if-else* structure.\n",
    "\n",
    "In the chapter [Lists, tuples and dictionaries](modulo1_tema4_Py_30_colec_obj.ipynb), we use the if-else script in the *list comprehension*."
   ]
  },
  {
   "cell_type": "code",
   "execution_count": 3,
   "metadata": {
    "colab": {
     "base_uri": "https://localhost:8080/"
    },
    "executionInfo": {
     "elapsed": 805,
     "status": "ok",
     "timestamp": 1604334680895,
     "user": {
      "displayName": "alumnos bigdata",
      "photoUrl": "",
      "userId": "10710302360204190833"
     },
     "user_tz": -60
    },
    "id": "U37h-MkCxHSr",
    "outputId": "318572e7-54f1-461f-dbf0-15df38b0c1ed"
   },
   "outputs": [
    {
     "data": {
      "text/plain": [
       "[0, 2, 4]"
      ]
     },
     "execution_count": 3,
     "metadata": {},
     "output_type": "execute_result"
    }
   ],
   "source": [
    "[x for x in range(5) if x%2==0]  # list of pairs less than 5"
   ]
  },
  {
   "cell_type": "markdown",
   "metadata": {
    "id": "7D1lNGyoxHTG"
   },
   "source": [
    "The [Numpy](modulo1_tema4_Py_31_numpy.ipynb) and [Pandas](modulo1_tema4_Py_32_pandas.ipynb) chapters have also been used to deal with filters, as a form of conditional operations on vectors and data frames.\n",
    "\n",
    "A new way to do conditional transformations with numpy arrays and pandas strings is `np.where()`.\n",
    "\n",
    "For example, let's see the following variable *crew* that informs us of the maximum number of crew members that a vehicle can carry:"
   ]
  },
  {
   "cell_type": "code",
   "execution_count": 4,
   "metadata": {
    "colab": {
     "base_uri": "https://localhost:8080/",
     "height": 238
    },
    "executionInfo": {
     "elapsed": 584,
     "status": "ok",
     "timestamp": 1604334683476,
     "user": {
      "displayName": "alumnos bigdata",
      "photoUrl": "",
      "userId": "10710302360204190833"
     },
     "user_tz": -60
    },
    "id": "1lrpxmxCxHTK",
    "outputId": "b619f2ff-4d1e-4aa5-f1b1-1a721c53ed0b"
   },
   "outputs": [
    {
     "data": {
      "text/html": [
       "<div>\n",
       "<style scoped>\n",
       "    .dataframe tbody tr th:only-of-type {\n",
       "        vertical-align: middle;\n",
       "    }\n",
       "\n",
       "    .dataframe tbody tr th {\n",
       "        vertical-align: top;\n",
       "    }\n",
       "\n",
       "    .dataframe thead th {\n",
       "        text-align: right;\n",
       "    }\n",
       "</style>\n",
       "<table border=\"1\" class=\"dataframe\">\n",
       "  <thead>\n",
       "    <tr style=\"text-align: right;\">\n",
       "      <th></th>\n",
       "      <th>crew</th>\n",
       "    </tr>\n",
       "    <tr>\n",
       "      <th>name</th>\n",
       "      <th></th>\n",
       "    </tr>\n",
       "  </thead>\n",
       "  <tbody>\n",
       "    <tr>\n",
       "      <th>Sand Crawler</th>\n",
       "      <td>46</td>\n",
       "    </tr>\n",
       "    <tr>\n",
       "      <th>T-16 skyhopper</th>\n",
       "      <td>1</td>\n",
       "    </tr>\n",
       "    <tr>\n",
       "      <th>X-34 landspeeder</th>\n",
       "      <td>1</td>\n",
       "    </tr>\n",
       "    <tr>\n",
       "      <th>Storm IV Twin-Pod cloud car</th>\n",
       "      <td>2</td>\n",
       "    </tr>\n",
       "    <tr>\n",
       "      <th>Sail barge</th>\n",
       "      <td>26</td>\n",
       "    </tr>\n",
       "  </tbody>\n",
       "</table>\n",
       "</div>"
      ],
      "text/plain": [
       "                             crew\n",
       "name                             \n",
       "Sand Crawler                   46\n",
       "T-16 skyhopper                  1\n",
       "X-34 landspeeder                1\n",
       "Storm IV Twin-Pod cloud car     2\n",
       "Sail barge                     26"
      ]
     },
     "execution_count": 4,
     "metadata": {},
     "output_type": "execute_result"
    }
   ],
   "source": [
    "vehicles_df[['crew']].head()"
   ]
  },
  {
   "cell_type": "markdown",
   "metadata": {
    "id": "3VgZZLh2xHTl"
   },
   "source": [
    "To transform this variable into a new one indicating whether a vehicle can carry 1, 2, or 3 or more crew members:"
   ]
  },
  {
   "cell_type": "code",
   "execution_count": 5,
   "metadata": {
    "id": "8q1e0vBoxHTq",
    "outputId": "f45f0ed9-1256-41a4-d074-cee154fbb68e"
   },
   "outputs": [
    {
     "data": {
      "text/html": [
       "<div>\n",
       "<style scoped>\n",
       "    .dataframe tbody tr th:only-of-type {\n",
       "        vertical-align: middle;\n",
       "    }\n",
       "\n",
       "    .dataframe tbody tr th {\n",
       "        vertical-align: top;\n",
       "    }\n",
       "\n",
       "    .dataframe thead th {\n",
       "        text-align: right;\n",
       "    }\n",
       "</style>\n",
       "<table border=\"1\" class=\"dataframe\">\n",
       "  <thead>\n",
       "    <tr style=\"text-align: right;\">\n",
       "      <th></th>\n",
       "      <th>crew</th>\n",
       "      <th>crew_r</th>\n",
       "    </tr>\n",
       "    <tr>\n",
       "      <th>name</th>\n",
       "      <th></th>\n",
       "      <th></th>\n",
       "    </tr>\n",
       "  </thead>\n",
       "  <tbody>\n",
       "    <tr>\n",
       "      <th>Sand Crawler</th>\n",
       "      <td>46</td>\n",
       "      <td>3</td>\n",
       "    </tr>\n",
       "    <tr>\n",
       "      <th>T-16 skyhopper</th>\n",
       "      <td>1</td>\n",
       "      <td>1</td>\n",
       "    </tr>\n",
       "    <tr>\n",
       "      <th>X-34 landspeeder</th>\n",
       "      <td>1</td>\n",
       "      <td>1</td>\n",
       "    </tr>\n",
       "    <tr>\n",
       "      <th>Storm IV Twin-Pod cloud car</th>\n",
       "      <td>2</td>\n",
       "      <td>2</td>\n",
       "    </tr>\n",
       "    <tr>\n",
       "      <th>Sail barge</th>\n",
       "      <td>26</td>\n",
       "      <td>3</td>\n",
       "    </tr>\n",
       "  </tbody>\n",
       "</table>\n",
       "</div>"
      ],
      "text/plain": [
       "                             crew  crew_r\n",
       "name                                     \n",
       "Sand Crawler                   46       3\n",
       "T-16 skyhopper                  1       1\n",
       "X-34 landspeeder                1       1\n",
       "Storm IV Twin-Pod cloud car     2       2\n",
       "Sail barge                     26       3"
      ]
     },
     "execution_count": 5,
     "metadata": {},
     "output_type": "execute_result"
    }
   ],
   "source": [
    "vehicles_df['crew_r'] = np.where(vehicles_df.crew<3, vehicles_df.crew, 3)\n",
    "vehicles_df[['crew','crew_r']].head()"
   ]
  },
  {
   "cell_type": "markdown",
   "metadata": {
    "id": "AQkfJ3NhxHUG"
   },
   "source": [
    "> **Note**: This numpy function applies element by element. Note also that it has been applied to a series of a DataFrame, obtaining a new series."
   ]
  },
  {
   "cell_type": "markdown",
   "metadata": {
    "id": "5TYmfjSFxHUL"
   },
   "source": [
    "### 7.4. Loops\n",
    "\n",
    "We have treated for loops, in a basic way, in the *list comprehension* chapter of [Lists, tuples and dictionaries](modulo1_tema4_Py_30_colec_obj.ipynb).\n",
    "\n",
    "One way to define for loops is through lists and dictionaries:"
   ]
  },
  {
   "cell_type": "code",
   "execution_count": 6,
   "metadata": {
    "id": "t6_TYmh5xHUO",
    "outputId": "34972ea2-e9aa-4acf-c0b5-77203f7d6aea"
   },
   "outputs": [
    {
     "name": "stdout",
     "output_type": "stream",
     "text": [
      "There are 8 vehiclea con 1 crew member\n",
      "There are 3 vehiclea con 2 crew members\n",
      "There are 6 vehiclea con 3 or more crew members\n"
     ]
    }
   ],
   "source": [
    "crew_list = [1,2,3]\n",
    "for n_crew in crew_list:\n",
    "    \n",
    "    n_vehi = vehicles_df[vehicles_df.crew_r == n_crew].shape[0]\n",
    "    \n",
    "    if n_vehi == 1:\n",
    "        txt_vehicles = 'vehicle'\n",
    "    else:\n",
    "        txt_vehicles = 'vehiclea'\n",
    "    \n",
    "    txt_crew = 'crew member'\n",
    "    if n_crew != 1:\n",
    "        txt_crew = txt_crew + 's'\n",
    "    \n",
    "    txt_n_crew = str(n_crew)\n",
    "    if n_crew==3:\n",
    "        txt_n_crew = txt_n_crew + ' or more'\n",
    "    \n",
    "    print(\"There are {} {} con {} {}\".format(n_vehi, txt_vehicles, txt_n_crew, txt_crew))"
   ]
  },
  {
   "cell_type": "markdown",
   "metadata": {
    "id": "QIZPmrr-xHUj"
   },
   "source": [
    "This loop goes through the `n_crew` list and tells us the number of vehicles with that many crew members.\n",
    "\n",
    "When we iterate through a dictionary with a `for`, by default, it does so for its keys:"
   ]
  },
  {
   "cell_type": "code",
   "execution_count": 7,
   "metadata": {
    "id": "ZHAx-3BjxHUo",
    "outputId": "7ec6e5e6-252d-427a-878d-0fc3d8a7444f"
   },
   "outputs": [
    {
     "name": "stdout",
     "output_type": "stream",
     "text": [
      "one\n",
      "two\n",
      "3 or more\n"
     ]
    }
   ],
   "source": [
    "vehiculos_tripulantes = {'one': 8, 'two': 3, '3 or more': 6}\n",
    "\n",
    "for x in vehiculos_tripulantes:\n",
    "    print(x)"
   ]
  },
  {
   "cell_type": "markdown",
   "metadata": {
    "id": "DFCZzr_CxHVA"
   },
   "source": [
    "We can iterate over the `(key,value)` tuple with `.items()`:"
   ]
  },
  {
   "cell_type": "code",
   "execution_count": 8,
   "metadata": {
    "id": "mkfnPPTyxHVF",
    "outputId": "6241afc1-f689-4633-e6bb-d96fff7bb895"
   },
   "outputs": [
    {
     "name": "stdout",
     "output_type": "stream",
     "text": [
      "Hay 8 vehículo/s con one tripulante/s\n",
      "Hay 3 vehículo/s con two tripulante/s\n",
      "Hay 6 vehículo/s con 3 or more tripulante/s\n"
     ]
    }
   ],
   "source": [
    "for txt_n_crew, n_vehi in vehiculos_tripulantes.items():\n",
    "    print(\"Hay\",n_vehi,\"vehículo/s con\",txt_n_crew, \"tripulante/s\")"
   ]
  },
  {
   "cell_type": "markdown",
   "metadata": {
    "id": "CFkpi16ZxHVb"
   },
   "source": [
    "Loops with numpy have list-symmetric logic.\n",
    "\n",
    "In order to go through 2 collections of objects (lists, dictionaries, numpy, series...) with the same number of elements consecutively, we use the `zip()` function:"
   ]
  },
  {
   "cell_type": "code",
   "execution_count": 9,
   "metadata": {
    "id": "y7rrja5IxHVf",
    "outputId": "e17d08cf-704d-482f-8875-265280b739c2"
   },
   "outputs": [
    {
     "name": "stdout",
     "output_type": "stream",
     "text": [
      "Hay 8 vehículo/s con 1 tripulante/s\n",
      "Hay 3 vehículo/s con 2 tripulante/s\n",
      "Hay 6 vehículo/s con 3 o más tripulante/s\n"
     ]
    }
   ],
   "source": [
    "a = [1,2,3]\n",
    "b = [8,3,6]\n",
    "\n",
    "for x,y in zip(a,b):\n",
    "    print(\"Hay\",y,\"vehículo/s con\",[x if x<3 else '3 o más'][0], \"tripulante/s\")"
   ]
  },
  {
   "cell_type": "markdown",
   "metadata": {
    "id": "JBsJHb8ZxHV1"
   },
   "source": [
    "To iterate **through columns** of a DataFrame, we use `.iteritems()`. At each iteration we get the tuple `(column name, string value)`:"
   ]
  },
  {
   "cell_type": "code",
   "execution_count": 10,
   "metadata": {
    "id": "4q3OSBTgxHV3",
    "outputId": "5b103309-1149-4cba-dde0-411760eb923d",
    "scrolled": true
   },
   "outputs": [
    {
     "name": "stdout",
     "output_type": "stream",
     "text": [
      "cost_in_credits , tiene tipo: float64\n",
      "length , tiene tipo: float64\n",
      "max_atmosphering_speed , tiene tipo: float64\n",
      "crew , tiene tipo: int64\n",
      "cargo_capacity , tiene tipo: float64\n",
      "pilots , tiene tipo: object\n",
      "films , tiene tipo: object\n",
      "crew_r , tiene tipo: int64\n"
     ]
    }
   ],
   "source": [
    "for nombreCol,variable in vehicles_df.iteritems():\n",
    "    print(nombreCol,\", tiene tipo:\",variable.dtype)"
   ]
  },
  {
   "cell_type": "markdown",
   "metadata": {
    "id": "t29XrHuaxHWT"
   },
   "source": [
    "In the same way, but now iterating a DataFrame **by rows** with `.iterrows()`:"
   ]
  },
  {
   "cell_type": "code",
   "execution_count": 11,
   "metadata": {
    "id": "-F2dtHCHxHWX",
    "outputId": "ac4c864d-c5e7-4b49-93b6-444a0817a997"
   },
   "outputs": [
    {
     "name": "stdout",
     "output_type": "stream",
     "text": [
      "Sand Crawler , costs: 150000.0  and measure: 36.8 meters\n",
      "T-16 skyhopper , costs: 14500.0  and measure: 10.4 meters\n"
     ]
    }
   ],
   "source": [
    "for nombre,fila in vehicles_df.iloc[0:2,0:2].iterrows():\n",
    "    print(nombre,\", costs:\",fila.cost_in_credits,\" and measure:\",fila.length , \"meters\")\n"
   ]
  },
  {
   "cell_type": "markdown",
   "metadata": {},
   "source": [
    "< [Colecciones de objetos: pandas](modulo1_tema4_Py_32_pandas.ipynb) | [Índice](modulo1_tema4_Py_00_indice.ipynb) | [Gestión de datos](modulo1_tema4_Py_50_gest_dat.ipynb) >\n",
    "\n",
    "__[Open in Colab](https://colab.research.google.com/github/griu/msc_python/blob/master/modulo1_tema4_Py_40_contr_flujo.ipynb)__"
   ]
  }
 ],
 "metadata": {
  "colab": {
   "collapsed_sections": [],
   "name": "M1_BloqueII_Python_7_Control_flujo.ipynb",
   "provenance": [],
   "toc_visible": true
  },
  "kernelspec": {
   "display_name": "mufib_env383",
   "language": "python",
   "name": "mufib_env383"
  },
  "language_info": {
   "codemirror_mode": {
    "name": "ipython",
    "version": 3
   },
   "file_extension": ".py",
   "mimetype": "text/x-python",
   "name": "python",
   "nbconvert_exporter": "python",
   "pygments_lexer": "ipython3",
   "version": "3.8.3"
  },
  "toc": {
   "base_numbering": 1,
   "nav_menu": {},
   "number_sections": true,
   "sideBar": true,
   "skip_h1_title": false,
   "title_cell": "Table of Contents",
   "title_sidebar": "Contents",
   "toc_cell": true,
   "toc_position": {},
   "toc_section_display": true,
   "toc_window_display": false
  }
 },
 "nbformat": 4,
 "nbformat_minor": 1
}
