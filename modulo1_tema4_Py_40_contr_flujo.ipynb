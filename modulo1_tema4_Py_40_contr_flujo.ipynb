{
 "cells": [
  {
   "cell_type": "markdown",
   "metadata": {
    "toc": true
   },
   "source": [
    "<h1>Table of Contents<span class=\"tocSkip\"></span></h1>\n",
    "<div class=\"toc\"><ul class=\"toc-item\"><li><span><a href=\"#7---Flow-Control\" data-toc-modified-id=\"7---Flow-Control-1\"><span class=\"toc-item-num\">1&nbsp;&nbsp;</span>7 - Flow Control</a></span><ul class=\"toc-item\"><li><ul class=\"toc-item\"><li><span><a href=\"#7.2.-Functions\" data-toc-modified-id=\"7.2.-Functions-1.0.1\"><span class=\"toc-item-num\">1.0.1&nbsp;&nbsp;</span>7.2. Functions</a></span><ul class=\"toc-item\"><li><span><a href=\"#7.2.1-args-and-*kwargs-parameters\" data-toc-modified-id=\"7.2.1-args-and-*kwargs-parameters-1.0.1.1\"><span class=\"toc-item-num\">1.0.1.1&nbsp;&nbsp;</span>7.2.1 <em>args and *</em>kwargs parameters</a></span></li></ul></li><li><span><a href=\"#7.3.-Conditionals\" data-toc-modified-id=\"7.3.-Conditionals-1.0.2\"><span class=\"toc-item-num\">1.0.2&nbsp;&nbsp;</span>7.3. Conditionals</a></span></li><li><span><a href=\"#7.4.-Loops\" data-toc-modified-id=\"7.4.-Loops-1.0.3\"><span class=\"toc-item-num\">1.0.3&nbsp;&nbsp;</span>7.4. Loops</a></span></li></ul></li></ul></li></ul></div>"
   ]
  },
  {
   "cell_type": "markdown",
   "metadata": {},
   "source": [
    "<img align=\"left\" style=\"padding-right:10px;\" width=\"150\" src=\"https://upload.wikimedia.org/wikipedia/commons/thumb/6/6c/Star_Wars_Logo.svg/320px-Star_Wars_Logo.svg.png\" />\n",
    "\n",
    "*made by Ferran Carrascosa Mallafrè.*"
   ]
  },
  {
   "cell_type": "markdown",
   "metadata": {},
   "source": [
    "< [Object collections: pandas](modulo1_tema4_Py_32_pandas.ipynb) | [Table of contents](modulo1_tema4_Py_00_indice.ipynb) | [Data management](modulo1_tema4_Py_50_gest_dat.ipynb) >\n",
    "\n",
    "__[Abre en Colab](https://colab.research.google.com/github/griu/msc_python/blob/master/modulo1_tema4_Py_40_contr_flujo.ipynb)__   *: <span style=\"color:rgba(255, 99, 71, 0.8)\">Padawan! When you login to Colab, prepare the environment by running the following code.</span>*"
   ]
  },
  {
   "cell_type": "code",
   "execution_count": null,
   "metadata": {
    "colab": {
     "base_uri": "https://localhost:8080/"
    },
    "executionInfo": {
     "elapsed": 25678,
     "status": "ok",
     "timestamp": 1604317087349,
     "user": {
      "displayName": "alumnos bigdata",
      "photoUrl": "",
      "userId": "10710302360204190833"
     },
     "user_tz": -60
    },
    "id": "2SBF5dlSTi-h",
    "outputId": "b85ff6ea-725c-464c-abf4-fc481a6882de"
   },
   "outputs": [],
   "source": [
    "if 'google.colab' in str(get_ipython()):\n",
    "    !git clone https://github.com/griu/msc_python.git /content/msc_python\n",
    "    !git -C /content/msc_python pull\n",
    "    %cd /content/msc_python"
   ]
  },
  {
   "cell_type": "markdown",
   "metadata": {
    "id": "oy-iI-ICxHRs"
   },
   "source": [
    "# 7 - Flow Control\n",
    "\n",
    "Flow control tools allow you to automate tasks. In this chapter, we will work on conditional functions and loops."
   ]
  },
  {
   "cell_type": "markdown",
   "metadata": {
    "id": "OQ4nIubYxHR1"
   },
   "source": [
    "##### 7.1. Sample data\n",
    "\n",
    "This chapter will use examples of vehicles from Star Wars:"
   ]
  },
  {
   "cell_type": "code",
   "execution_count": null,
   "metadata": {
    "colab": {
     "base_uri": "https://localhost:8080/",
     "height": 645
    },
    "executionInfo": {
     "elapsed": 615,
     "status": "ok",
     "timestamp": 1604334675390,
     "user": {
      "displayName": "alumnos bigdata",
      "photoUrl": "",
      "userId": "10710302360204190833"
     },
     "user_tz": -60
    },
    "id": "hEe4mx7GxHR7",
    "outputId": "3496b893-1834-43f1-8344-ab8426b08425",
    "scrolled": false
   },
   "outputs": [],
   "source": [
    "%matplotlib inline\n",
    "import numpy as np\n",
    "import pandas as pd\n",
    "import matplotlib.pyplot as plt\n",
    "import seaborn as sns; sns.set()  # for graphics style\n",
    "\n",
    "entidades = ['planets','starships','vehicles','people','species']\n",
    "entidades_df = {x: pd.read_pickle('www/' + x + '_df.pkl') for x in entidades}\n",
    "vehicles_df = entidades_df['vehicles'][[\"cost_in_credits\",\"length\",\"max_atmosphering_speed\"\n",
    "                                        ,\"crew\",\"cargo_capacity\",\"pilots\",\"films\"]].dropna()\n",
    "\n",
    "vehicles_df"
   ]
  },
  {
   "cell_type": "markdown",
   "metadata": {
    "id": "ieAB6NihxHSf"
   },
   "source": [
    "### 7.2. Functions\n",
    "\n",
    "Let's briefly review what we've covered so far regarding functions in Python.\n",
    "\n",
    "We have introduced the concept of function in Python in the [Python Basics](modulo1_tema4_Py_10_elem_bas.ipynb) chapter.\n",
    "\n",
    "Next, in the [Lists, tuples and dictionaries](modulo1_tema4_Py_30_colec_obj.ipynb) chapter, we have explained the possibility of returning several elements, at the same time, in the form of tuples.\n",
    "\n",
    "In [numpy](modulo1_tema4_Py_31_numpy.ipynb), the universal functions (ufunc) have been explained as a group of functions that vectorize when applied to the elements of the numpy array.\n",
    "\n",
    "Finally, in [pandas](modulo1_tema4_Py_32_pandas.ipynb), the possibility of applying the universal functions of numpy to pandas objects (Series and DataFrame) and how these functions respect the row and column indexes has been commented. Also, we have discussed index alignment when performing arithmetic between two pandas objects.\n",
    "\n",
    "In the data management chapter, we will cover 2 additional concepts about functions.\n",
    "\n",
    "On the one hand, we will see how to vectorize any type of function, on the elements of pandas objects, through the apply function.\n",
    "\n",
    "> **Remember**: on the subject of R, we already defined apply functions for the same purpose.\n",
    "\n",
    "The second concept that we will see, will be the aggregation functions (sum, average, quantiles...). We will define them, first, on numpy objects and, later, on pandas.\n",
    "\n",
    "The combination of both concepts, vectorized functions and aggregation functions on pandas objects, will finish filling your toolbox to get started in data science."
   ]
  },
  {
   "cell_type": "markdown",
   "metadata": {},
   "source": [
    "#### 7.2.1 *args and **kwargs parameters\n",
    "\n",
    "There is a special case of function parameters:\n",
    "\n",
    "- Parameters starting with an asterisk (e.g. \\*args): allows sending parameters without a label (non keyworded arguments).\n",
    "- Parameters starting with two asterisks (e.g. \\*\\*kwargs):: allows sending parameters with a label (keyworded arguments).\n",
    "\n",
    "The names args and kwargs are used by convention.\n",
    "\n"
   ]
  },
  {
   "cell_type": "markdown",
   "metadata": {
    "id": "w4Mj0KCGxHSl"
   },
   "source": [
    "### 7.3. Conditionals\n",
    "\n",
    "Let us also make a brief review here of the aspects that we have already commented on regarding conditional structures.\n",
    "\n",
    "In the [Python Basics](module1_topic4_Py_10_elem_bas.ipynb) chapter, we introduced the basic *if-else* structure.\n",
    "\n",
    "In the chapter [Lists, tuples and dictionaries](modulo1_tema4_Py_30_colec_obj.ipynb), we use the if-else script in the *list comprehension*."
   ]
  },
  {
   "cell_type": "code",
   "execution_count": null,
   "metadata": {
    "colab": {
     "base_uri": "https://localhost:8080/"
    },
    "executionInfo": {
     "elapsed": 805,
     "status": "ok",
     "timestamp": 1604334680895,
     "user": {
      "displayName": "alumnos bigdata",
      "photoUrl": "",
      "userId": "10710302360204190833"
     },
     "user_tz": -60
    },
    "id": "U37h-MkCxHSr",
    "outputId": "318572e7-54f1-461f-dbf0-15df38b0c1ed"
   },
   "outputs": [],
   "source": [
    "[x for x in range(5) if x%2==0]  # list of pairs less than 5"
   ]
  },
  {
   "cell_type": "markdown",
   "metadata": {
    "id": "7D1lNGyoxHTG"
   },
   "source": [
    "The [Numpy](modulo1_tema4_Py_31_numpy.ipynb) and [Pandas](modulo1_tema4_Py_32_pandas.ipynb) chapters have also been used to deal with filters, as a form of conditional operations on vectors and data frames.\n",
    "\n",
    "A new way to do conditional transformations with numpy arrays and pandas strings is `np.where()`.\n",
    "\n",
    "For example, let's see the following variable *crew* that informs us of the maximum number of crew members that a vehicle can carry:"
   ]
  },
  {
   "cell_type": "code",
   "execution_count": null,
   "metadata": {
    "colab": {
     "base_uri": "https://localhost:8080/",
     "height": 238
    },
    "executionInfo": {
     "elapsed": 584,
     "status": "ok",
     "timestamp": 1604334683476,
     "user": {
      "displayName": "alumnos bigdata",
      "photoUrl": "",
      "userId": "10710302360204190833"
     },
     "user_tz": -60
    },
    "id": "1lrpxmxCxHTK",
    "outputId": "b619f2ff-4d1e-4aa5-f1b1-1a721c53ed0b"
   },
   "outputs": [],
   "source": [
    "vehicles_df[['crew']].head()"
   ]
  },
  {
   "cell_type": "markdown",
   "metadata": {
    "id": "3VgZZLh2xHTl"
   },
   "source": [
    "To transform this variable into a new one indicating whether a vehicle can carry 1, 2, or 3 or more crew members:"
   ]
  },
  {
   "cell_type": "code",
   "execution_count": null,
   "metadata": {
    "id": "8q1e0vBoxHTq",
    "outputId": "f45f0ed9-1256-41a4-d074-cee154fbb68e"
   },
   "outputs": [],
   "source": [
    "vehicles_df['crew_r'] = np.where(vehicles_df.crew<3, vehicles_df.crew, 3)\n",
    "vehicles_df[['crew','crew_r']].head()"
   ]
  },
  {
   "cell_type": "markdown",
   "metadata": {
    "id": "AQkfJ3NhxHUG"
   },
   "source": [
    "> **Note**: This numpy function applies element by element. Note also that it has been applied to a series of a DataFrame, obtaining a new series."
   ]
  },
  {
   "cell_type": "markdown",
   "metadata": {
    "id": "5TYmfjSFxHUL"
   },
   "source": [
    "### 7.4. Loops\n",
    "\n",
    "We have treated for loops, in a basic way, in the *list comprehension* chapter of [Lists, tuples and dictionaries](modulo1_tema4_Py_30_colec_obj.ipynb).\n",
    "\n",
    "One way to define for loops is through lists and dictionaries:"
   ]
  },
  {
   "cell_type": "code",
   "execution_count": null,
   "metadata": {
    "id": "t6_TYmh5xHUO",
    "outputId": "34972ea2-e9aa-4acf-c0b5-77203f7d6aea"
   },
   "outputs": [],
   "source": [
    "crew_list = [1,2,3]\n",
    "for n_crew in crew_list:\n",
    "    \n",
    "    n_vehi = vehicles_df[vehicles_df.crew_r == n_crew].shape[0]\n",
    "    \n",
    "    if n_vehi == 1:\n",
    "        txt_vehicles = 'vehicle'\n",
    "    else:\n",
    "        txt_vehicles = 'vehiclea'\n",
    "    \n",
    "    txt_crew = 'crew member'\n",
    "    if n_crew != 1:\n",
    "        txt_crew = txt_crew + 's'\n",
    "    \n",
    "    txt_n_crew = str(n_crew)\n",
    "    if n_crew==3:\n",
    "        txt_n_crew = txt_n_crew + ' or more'\n",
    "    \n",
    "    print(\"There are {} {} con {} {}\".format(n_vehi, txt_vehicles, txt_n_crew, txt_crew))"
   ]
  },
  {
   "cell_type": "markdown",
   "metadata": {
    "id": "QIZPmrr-xHUj"
   },
   "source": [
    "This loop goes through the `n_crew` list and tells us the number of vehicles with that many crew members.\n",
    "\n",
    "When we iterate through a dictionary with a `for`, by default, it does so for its keys:"
   ]
  },
  {
   "cell_type": "code",
   "execution_count": null,
   "metadata": {
    "id": "ZHAx-3BjxHUo",
    "outputId": "7ec6e5e6-252d-427a-878d-0fc3d8a7444f"
   },
   "outputs": [],
   "source": [
    "vehiculos_tripulantes = {'one': 8, 'two': 3, '3 or more': 6}\n",
    "\n",
    "for x in vehiculos_tripulantes:\n",
    "    print(x)"
   ]
  },
  {
   "cell_type": "markdown",
   "metadata": {
    "id": "DFCZzr_CxHVA"
   },
   "source": [
    "We can iterate over the `(key,value)` tuple with `.items()`:"
   ]
  },
  {
   "cell_type": "code",
   "execution_count": null,
   "metadata": {
    "id": "mkfnPPTyxHVF",
    "outputId": "6241afc1-f689-4633-e6bb-d96fff7bb895"
   },
   "outputs": [],
   "source": [
    "for txt_n_crew, n_vehi in vehiculos_tripulantes.items():\n",
    "    print(\"Hay\",n_vehi,\"vehículo/s con\",txt_n_crew, \"tripulante/s\")"
   ]
  },
  {
   "cell_type": "markdown",
   "metadata": {
    "id": "CFkpi16ZxHVb"
   },
   "source": [
    "Loops with numpy have list-symmetric logic.\n",
    "\n",
    "In order to go through 2 collections of objects (lists, dictionaries, numpy, series...) with the same number of elements consecutively, we use the `zip()` function:"
   ]
  },
  {
   "cell_type": "code",
   "execution_count": null,
   "metadata": {
    "id": "y7rrja5IxHVf",
    "outputId": "e17d08cf-704d-482f-8875-265280b739c2"
   },
   "outputs": [],
   "source": [
    "a = [1,2,3]\n",
    "b = [8,3,6]\n",
    "\n",
    "for x,y in zip(a,b):\n",
    "    print(\"Hay\",y,\"vehículo/s con\",[x if x<3 else '3 o más'][0], \"tripulante/s\")"
   ]
  },
  {
   "cell_type": "markdown",
   "metadata": {
    "id": "JBsJHb8ZxHV1"
   },
   "source": [
    "To iterate **through columns** of a DataFrame, we use `.iteritems()`. At each iteration we get the tuple `(column name, string value)`:"
   ]
  },
  {
   "cell_type": "code",
   "execution_count": null,
   "metadata": {
    "id": "4q3OSBTgxHV3",
    "outputId": "5b103309-1149-4cba-dde0-411760eb923d",
    "scrolled": true
   },
   "outputs": [],
   "source": [
    "for nombreCol,variable in vehicles_df.iteritems():\n",
    "    print(nombreCol,\", tiene tipo:\",variable.dtype)"
   ]
  },
  {
   "cell_type": "markdown",
   "metadata": {
    "id": "t29XrHuaxHWT"
   },
   "source": [
    "In the same way, but now iterating a DataFrame **by rows** with `.iterrows()`:"
   ]
  },
  {
   "cell_type": "code",
   "execution_count": null,
   "metadata": {
    "id": "-F2dtHCHxHWX",
    "outputId": "ac4c864d-c5e7-4b49-93b6-444a0817a997"
   },
   "outputs": [],
   "source": [
    "for nombre,fila in vehicles_df.iloc[0:2,0:2].iterrows():\n",
    "    print(nombre,\", costs:\",fila.cost_in_credits,\" and measure:\",fila.length , \"meters\")\n"
   ]
  },
  {
   "cell_type": "markdown",
   "metadata": {},
   "source": [
    "< [Object collections: pandas](modulo1_tema4_Py_32_pandas.ipynb) | [Table of contents](modulo1_tema4_Py_00_indice.ipynb) | [Data management](modulo1_tema4_Py_50_gest_dat.ipynb) >\n",
    "\n",
    "__[Open in Colab](https://colab.research.google.com/github/griu/msc_python/blob/master/modulo1_tema4_Py_40_contr_flujo.ipynb)__"
   ]
  }
 ],
 "metadata": {
  "colab": {
   "collapsed_sections": [],
   "name": "M1_BloqueII_Python_7_Control_flujo.ipynb",
   "provenance": [],
   "toc_visible": true
  },
  "kernelspec": {
   "display_name": "mufib_env383",
   "language": "python",
   "name": "mufib_env383"
  },
  "language_info": {
   "codemirror_mode": {
    "name": "ipython",
    "version": 3
   },
   "file_extension": ".py",
   "mimetype": "text/x-python",
   "name": "python",
   "nbconvert_exporter": "python",
   "pygments_lexer": "ipython3",
   "version": "3.8.3"
  },
  "toc": {
   "base_numbering": 1,
   "nav_menu": {},
   "number_sections": true,
   "sideBar": true,
   "skip_h1_title": false,
   "title_cell": "Table of Contents",
   "title_sidebar": "Contents",
   "toc_cell": true,
   "toc_position": {},
   "toc_section_display": true,
   "toc_window_display": false
  }
 },
 "nbformat": 4,
 "nbformat_minor": 1
}
