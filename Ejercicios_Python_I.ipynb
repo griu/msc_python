{
  "nbformat": 4,
  "nbformat_minor": 0,
  "metadata": {
    "colab": {
      "name": "Ejercicios_Python_I.ipynb",
      "provenance": [],
      "collapsed_sections": []
    },
    "kernelspec": {
      "display_name": "initPython383",
      "language": "python",
      "name": "initpython383"
    },
    "language_info": {
      "codemirror_mode": {
        "name": "ipython",
        "version": 3
      },
      "file_extension": ".py",
      "mimetype": "text/x-python",
      "name": "python",
      "nbconvert_exporter": "python",
      "pygments_lexer": "ipython3",
      "version": "3.6.9"
    }
  },
  "cells": [
    {
      "cell_type": "markdown",
      "metadata": {
        "id": "u6rktmGskhdZ"
      },
      "source": [
        "<img align=\"left\" style=\"padding-right:10px;\" width=\"150\" src=\"https://upload.wikimedia.org/wikipedia/commons/thumb/6/6c/Star_Wars_Logo.svg/320px-Star_Wars_Logo.svg.png\" />\n",
        "\n",
        "*elaborado por Ferran Carrascosa Mallafrè.*"
      ]
    },
    {
      "cell_type": "markdown",
      "metadata": {
        "id": "evteEWtqlCJe"
      },
      "source": [
        "__[Abre en Colab](https://colab.research.google.com/github/griu/init_python_b1/blob/master/Ejercicios_Python_I.ipynb)__"
      ]
    },
    {
      "cell_type": "markdown",
      "metadata": {
        "id": "5zZfGqOugjnr"
      },
      "source": [
        "# Preparación del entorno\n",
        "\n",
        "Padawan! Cuando inicies sesión en Colab, prepara el entorno ejecutando el siguiente código."
      ]
    },
    {
      "cell_type": "code",
      "metadata": {
        "id": "2SBF5dlSTi-h"
      },
      "source": [
        "if 'google.colab' in str(get_ipython()):\n",
        "    !git clone https://github.com/griu/init_python_b1.git /content/init_python_b1\n",
        "    !git -C /content/init_python_b1 pull\n",
        "    %cd /content/init_python_b1"
      ],
      "execution_count": null,
      "outputs": []
    },
    {
      "cell_type": "markdown",
      "metadata": {
        "id": "1J4h6kTngjn5"
      },
      "source": [
        "# Ejercicio 1\n",
        "\n",
        "Para realizar el ejercicio cargamos los datos de *Especies* en STARWARS SWAPI y las librerías principales."
      ]
    },
    {
      "cell_type": "code",
      "metadata": {
        "id": "2V3mrVHSgjn7"
      },
      "source": [
        "import numpy as np\n",
        "import pandas as pd\n",
        "import matplotlib.pyplot as plt\n",
        "import seaborn as sns; sns.set()  # para el estilo de graficos\n",
        "\n",
        "entidades = ['planets','starships','vehicles','people','species']\n",
        "entidades_df = {x: pd.read_pickle('www/' + x + '_df.pkl') for x in entidades}\n",
        "\n",
        "# Datos principales\n",
        "people_df = entidades_df['people'][[\"height\",\"mass\",\"birth_year\",\"gender\",\"homeworld\"]].dropna()\n",
        "\n",
        "people_df"
      ],
      "execution_count": null,
      "outputs": []
    },
    {
      "cell_type": "markdown",
      "metadata": {
        "id": "8y6PLIR-gjoF"
      },
      "source": [
        "## Ejercicio 1.1. \n",
        "\n",
        "Construye un gráfico de dispersión de los personajes donde se visualice: la altura (height), el peso (mass), la edad en años BBY (birth_year) y el género (gender). Para ello utiliza la función `sns.scatterplot()` de la librería seaborn. Aprovecha todos los parámetros: `x`, `y`, `size`, `hue` y `style` (consulta la ayuda de la función [.scatterplot()](https://seaborn.pydata.org/generated/seaborn.scatterplot.html)."
      ]
    },
    {
      "cell_type": "code",
      "metadata": {
        "id": "fURT1ovigjoH"
      },
      "source": [
        "# Solución:\n"
      ],
      "execution_count": null,
      "outputs": []
    },
    {
      "cell_type": "markdown",
      "metadata": {
        "id": "1MofC8dugjoQ"
      },
      "source": [
        "## Ejercicio 1.2.\n",
        "\n",
        "Sobre el gráfico del ejercicio 1.1:\n",
        "\n",
        "- Pon título al gráfico y a los ejes x e y. \n",
        "- Modifica los límites del eje y para que aparezcan sólo personajes de menos de 150 Kg de peso.\n",
        "- Sitúa en el gráfico los nombres de \"Darth Vader\" y \"Anakin Skywalker\". ¿Cómo es posible tengan un peso y altura tan distintos si eran la misma persona?"
      ]
    },
    {
      "cell_type": "code",
      "metadata": {
        "id": "iHmGn9OrgjoS"
      },
      "source": [
        "# Solución:\n"
      ],
      "execution_count": null,
      "outputs": []
    },
    {
      "cell_type": "markdown",
      "metadata": {
        "id": "D2pjJXbcgjoa"
      },
      "source": [
        "## Ejercicio 1.3.\n",
        "\n",
        "Utiliza las *list comprehension* para calcular el cuadrado de los valores positivos de la siguiente lista:\n",
        "\n",
        "Muestra el resultado por pantalla."
      ]
    },
    {
      "cell_type": "code",
      "metadata": {
        "id": "WJjNiT3Qgjoc"
      },
      "source": [
        "val = [5, 6, -1, 2, -3, -7, 9, 1]"
      ],
      "execution_count": null,
      "outputs": []
    },
    {
      "cell_type": "code",
      "metadata": {
        "id": "9Hf_uH8ugjol"
      },
      "source": [
        "# Solución:\n"
      ],
      "execution_count": null,
      "outputs": []
    },
    {
      "cell_type": "markdown",
      "metadata": {
        "id": "AE6CcvVggjou"
      },
      "source": [
        "## Ejercicio 1.4.\n",
        "\n",
        "Construye un diccionario donde se identifique, mediante claves y valores, las siguientes características del personaje Yoda: \"nombre\", \"altura\", \"peso\", \"edad\" y \"genero\". Utiliza los datos de people_df.\n",
        "\n",
        "Muestra el diccionario por pantalla."
      ]
    },
    {
      "cell_type": "code",
      "metadata": {
        "id": "eaq6M61-gjo4"
      },
      "source": [
        "# Solución:\n"
      ],
      "execution_count": null,
      "outputs": []
    },
    {
      "cell_type": "markdown",
      "metadata": {
        "id": "Z2bkPuuEgjpA"
      },
      "source": [
        "## Ejercicio 1.5.\n",
        "\n",
        "Calcula, a partir de los vectores numpy de altura y peso, definidos a continuación, el [índice de masa corporal (IMC)](https://es.wikipedia.org/wiki/%C3%8Dndice_de_masa_corporal) de los personajes de star wars contenidos en people_df: \n",
        "\n",
        "$IMC = \\frac{peso}{altura^{2}}$ donde altura está en metros y el peso en kg.\n",
        "\n",
        "Muestra los datos por pantalla."
      ]
    },
    {
      "cell_type": "code",
      "metadata": {
        "id": "j6vDGHHngjpK"
      },
      "source": [
        "# Solución:\n"
      ],
      "execution_count": null,
      "outputs": []
    },
    {
      "cell_type": "markdown",
      "metadata": {
        "id": "165OA48hgjpR"
      },
      "source": [
        "## Ejercicio 1.6.\n",
        "\n",
        "A partir del IMC que has calculado en el ejercicio 1.5. Construye un panel con dos histogramas:\n",
        "\n",
        "- Un histograma con toda la muestra\n",
        "- Un histograma seleccionando los valores con un IMC inferior a 100."
      ]
    },
    {
      "cell_type": "code",
      "metadata": {
        "id": "tRACj-JDgjpT"
      },
      "source": [
        "# Solución:\n"
      ],
      "execution_count": null,
      "outputs": []
    },
    {
      "cell_type": "markdown",
      "metadata": {
        "id": "zsqrzaingjpb"
      },
      "source": [
        "## Ejercicio 1.7.\n",
        "\n",
        "A partir del vector 1 y 2 que se definen a continuación contesta las siguientes preguntas:\n",
        "\n",
        "- Calcula el shape, ndim, size del vector1 y vector2\n",
        "- Explica cual es la diferencia entre vector1 y vector2 a partir de los que hayas observado"
      ]
    },
    {
      "cell_type": "code",
      "metadata": {
        "id": "DYLofIqugjpc"
      },
      "source": [
        "vector1 = np.hstack([altura,peso])\n",
        "vector2 = np.vstack([altura,peso])"
      ],
      "execution_count": null,
      "outputs": []
    },
    {
      "cell_type": "code",
      "metadata": {
        "id": "1WBV3vUxgjpm"
      },
      "source": [
        "# Solución:\n"
      ],
      "execution_count": null,
      "outputs": []
    },
    {
      "cell_type": "markdown",
      "metadata": {
        "id": "PnkDGSu0gjpw"
      },
      "source": [
        "## Ejercicio 1.8.\n",
        "\n",
        "Crea una copia de people_df llamada personajes_df y renombra las columnas con su traducción al castellano. \n",
        "\n",
        "Muestra los 5 primeros registros del nuevo data frame con `.head()`."
      ]
    },
    {
      "cell_type": "code",
      "metadata": {
        "id": "7jK-a6Engjpx"
      },
      "source": [
        "# Solución:\n"
      ],
      "execution_count": null,
      "outputs": []
    },
    {
      "cell_type": "markdown",
      "metadata": {
        "id": "blkoKgizgjp5"
      },
      "source": [
        "## Ejercicio 1.9.\n",
        "\n",
        "Haz el mismo cálculo de IMC que has hecho en 1.5. pero directamente sobre el objeto personajes_df.\n",
        "\n",
        "Ordena el data frame de mayor a menor IMC y muestra el nombre e IMC de los personajes con IMC por encima de 30.\n",
        "\n",
        "> ¿Sabias que IMC por encima de 30 se considera obeso?\n"
      ]
    },
    {
      "cell_type": "code",
      "metadata": {
        "id": "CHIIcuANgjp6"
      },
      "source": [
        "# Solución:\n"
      ],
      "execution_count": null,
      "outputs": []
    },
    {
      "cell_type": "markdown",
      "metadata": {
        "id": "E-goVaMEgjqB"
      },
      "source": [
        "## Ejercicio 1.10.\n",
        "\n",
        "Inserta un valor faltante en los valores de IMC que sean superiores a 100 y dibuja el histograma del IMC transformado con `.plot.hist()`."
      ]
    },
    {
      "cell_type": "code",
      "metadata": {
        "id": "oWQQoDs_gjqD"
      },
      "source": [
        "# Solución:\n"
      ],
      "execution_count": null,
      "outputs": []
    }
  ]
}