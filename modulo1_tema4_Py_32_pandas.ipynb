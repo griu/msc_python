{
 "cells": [
  {
   "cell_type": "markdown",
   "metadata": {
    "toc": true
   },
   "source": [
    "<h1>Table of Contents<span class=\"tocSkip\"></span></h1>\n",
    "<div class=\"toc\"><ul class=\"toc-item\"><li><span><a href=\"#6-–-Pandas\" data-toc-modified-id=\"6-–-Pandas-1\"><span class=\"toc-item-num\">1&nbsp;&nbsp;</span>6 – Pandas</a></span><ul class=\"toc-item\"><li><ul class=\"toc-item\"><li><span><a href=\"#6.2.-Panda-Series\" data-toc-modified-id=\"6.2.-Panda-Series-1.0.1\"><span class=\"toc-item-num\">1.0.1&nbsp;&nbsp;</span>6.2. Panda Series</a></span><ul class=\"toc-item\"><li><span><a href=\"#6.2.1.-Indexers:-LOC,-ILOC\" data-toc-modified-id=\"6.2.1.-Indexers:-LOC,-ILOC-1.0.1.1\"><span class=\"toc-item-num\">1.0.1.1&nbsp;&nbsp;</span>6.2.1. Indexers: LOC, ILOC</a></span></li></ul></li><li><span><a href=\"#6.3.-Pandas-Dataframe-Objects\" data-toc-modified-id=\"6.3.-Pandas-Dataframe-Objects-1.0.2\"><span class=\"toc-item-num\">1.0.2&nbsp;&nbsp;</span>6.3. Pandas Dataframe Objects</a></span><ul class=\"toc-item\"><li><span><a href=\"#6.3.1.-Column-Management-in-Dataframes\" data-toc-modified-id=\"6.3.1.-Column-Management-in-Dataframes-1.0.2.1\"><span class=\"toc-item-num\">1.0.2.1&nbsp;&nbsp;</span>6.3.1. Column Management in Dataframes</a></span></li></ul></li><li><span><a href=\"#6.4.-Filters-in-Dataframes\" data-toc-modified-id=\"6.4.-Filters-in-Dataframes-1.0.3\"><span class=\"toc-item-num\">1.0.3&nbsp;&nbsp;</span>6.4. Filters in Dataframes</a></span><ul class=\"toc-item\"><li><span><a href=\"#6.4.1.-Universal-functions-on-Pandas\" data-toc-modified-id=\"6.4.1.-Universal-functions-on-Pandas-1.0.3.1\"><span class=\"toc-item-num\">1.0.3.1&nbsp;&nbsp;</span>6.4.1. Universal functions on Pandas</a></span></li><li><span><a href=\"#6.4.2.-Index-Alignment\" data-toc-modified-id=\"6.4.2.-Index-Alignment-1.0.3.2\"><span class=\"toc-item-num\">1.0.3.2&nbsp;&nbsp;</span>6.4.2. Index Alignment</a></span></li><li><span><a href=\"#6.4.3.-Missing-Values\" data-toc-modified-id=\"6.4.3.-Missing-Values-1.0.3.3\"><span class=\"toc-item-num\">1.0.3.3&nbsp;&nbsp;</span>6.4.3. Missing Values</a></span></li><li><span><a href=\"#6.4.4.-Guided-Activity-2.4\" data-toc-modified-id=\"6.4.4.-Guided-Activity-2.4-1.0.3.4\"><span class=\"toc-item-num\">1.0.3.4&nbsp;&nbsp;</span>6.4.4. Guided Activity 2.4</a></span></li></ul></li></ul></li></ul></li></ul></div>"
   ]
  },
  {
   "cell_type": "markdown",
   "metadata": {},
   "source": [
    "<img align=\"left\" style=\"padding-right:10px;\" width=\"150\" src=\"https://upload.wikimedia.org/wikipedia/commons/thumb/6/6c/Star_Wars_Logo.svg/320px-Star_Wars_Logo.svg.png\" />\n",
    "\n",
    "*made by Ferran Carrascosa Mallafrè.*"
   ]
  },
  {
   "cell_type": "markdown",
   "metadata": {},
   "source": [
    "< [Object collections: numpy](modulo1_tema4_Py_31_numpy.ipynb) | [Table of contents](modulo1_tema4_Py_00_indice.ipynb) | [Flow control](modulo1_tema4_Py_40_contr_flujo.ipynb) >\n",
    "\n",
    "__[Open in Colab](https://colab.research.google.com/github/griu/msc_python/blob/master/modulo1_tema4_Py_32_pandas.ipynb)__   *: <span style=\"color:rgba(255, 99, 71, 0.8)\">Padawan! When you login to Colab, prepare the environment by running the following code.</span>*"
   ]
  },
  {
   "cell_type": "code",
   "execution_count": null,
   "metadata": {
    "colab": {
     "base_uri": "https://localhost:8080/"
    },
    "executionInfo": {
     "elapsed": 25678,
     "status": "ok",
     "timestamp": 1604317087349,
     "user": {
      "displayName": "alumnos bigdata",
      "photoUrl": "",
      "userId": "10710302360204190833"
     },
     "user_tz": -60
    },
    "id": "2SBF5dlSTi-h",
    "outputId": "b85ff6ea-725c-464c-abf4-fc481a6882de"
   },
   "outputs": [],
   "source": [
    "if 'google.colab' in str(get_ipython()):\n",
    "    !git clone https://github.com/griu/msc_python.git /content/msc_python\n",
    "    !git -C /content/msc_python pull\n",
    "    %cd /content/msc_python"
   ]
  },
  {
   "cell_type": "markdown",
   "metadata": {
    "id": "U3oTMspTVVjE"
   },
   "source": [
    "# 6 – Pandas\n",
    "\n",
    "Pandas is an abbreviation for Panel Data. Objects within pandas support data analysis with variables of different types: categorical, binary, numeric...\n",
    "\n",
    "Regarding the numpy, they allow indexing the rows and columns. This type of indexing makes it easier, for example, to perform time series analyses, not necessarily with a fixed frequency.\n",
    "\n",
    "As always, the first step is to load the library with *namespace* `pd`:"
   ]
  },
  {
   "cell_type": "code",
   "execution_count": null,
   "metadata": {
    "id": "kR6QBIb4VVjQ"
   },
   "outputs": [],
   "source": [
    "import pandas as pd"
   ]
  },
  {
   "cell_type": "markdown",
   "metadata": {
    "id": "Hd88I7fxVVju"
   },
   "source": [
    "##### 6.1. Guided Activity 2.4\n",
    "\n",
    "This time, it's about selecting the best possible planet to locate the Jedi academy. The search parameters are:\n",
    "\n",
    "- Long days to train a lot.\n",
    "- Plenty of water to cool off.\n",
    "- Low population density so as not to be disturbed.\n",
    "- Good climate (temperate or tropical).\n",
    "\n",
    "> \"If there is a true center of the universe, now you are on the planet farthest from it\"\n",
    "     ―Luke Skywalker on Tatooine, the desert planet where Anakin and Luke Skywalker were born.\n",
    "\n",
    "The first step is to load the planet data:"
   ]
  },
  {
   "cell_type": "code",
   "execution_count": null,
   "metadata": {
    "colab": {
     "base_uri": "https://localhost:8080/",
     "height": 708
    },
    "executionInfo": {
     "elapsed": 1126,
     "status": "ok",
     "timestamp": 1604334073522,
     "user": {
      "displayName": "alumnos bigdata",
      "photoUrl": "",
      "userId": "10710302360204190833"
     },
     "user_tz": -60
    },
    "id": "NVP0h67qVVjz",
    "outputId": "cb17cf5e-082f-4b58-c281-c5da52478bdf",
    "scrolled": true
   },
   "outputs": [],
   "source": [
    "%matplotlib inline\n",
    "import numpy as np\n",
    "import matplotlib.pyplot as plt\n",
    "import seaborn as sns; sns.set()  # for graphics style\n",
    "\n",
    "entidades = ['planets','starships','vehicles','people','species']\n",
    "entidades_df = {x: pd.read_pickle('www/' + x + '_df.pkl') for x in entidades}\n",
    "planets_df = entidades_df['planets'][[\"rotation_period\",\"diameter\",\"climate\"\n",
    "                                      ,\"temperate_tropical\",\"gravity\"\n",
    "                                     ,\"surface_water\",\"population\"]].dropna()\n",
    "planets_df = planets_df[planets_df.diameter>0]\n",
    "\n",
    "\n",
    "planets_df"
   ]
  },
  {
   "cell_type": "markdown",
   "metadata": {
    "id": "uNp0KfRlVVkP"
   },
   "source": [
    "### 6.2. Panda Series\n",
    "\n",
    "They are defined as a one-dimensional indexed array.\n",
    "\n",
    "It can be created from a list:"
   ]
  },
  {
   "cell_type": "code",
   "execution_count": null,
   "metadata": {
    "colab": {
     "base_uri": "https://localhost:8080/"
    },
    "executionInfo": {
     "elapsed": 704,
     "status": "ok",
     "timestamp": 1604334077587,
     "user": {
      "displayName": "alumnos bigdata",
      "photoUrl": "",
      "userId": "10710302360204190833"
     },
     "user_tz": -60
    },
    "id": "OlhfWpn7VVkV",
    "outputId": "ae013694-666a-4f4b-8b38-97a31480057c"
   },
   "outputs": [],
   "source": [
    "a = pd.Series([1.2, 0.4, 2.3])\n",
    "a"
   ]
  },
  {
   "cell_type": "markdown",
   "metadata": {
    "id": "GX3yD7FqVVku"
   },
   "source": [
    "As you see, it joins values and index. We access the values in numpy format with `.values`:"
   ]
  },
  {
   "cell_type": "code",
   "execution_count": null,
   "metadata": {
    "id": "gBZahSwVVVk1",
    "outputId": "34c8dba4-7036-453d-bf95-8f48e03f66b1"
   },
   "outputs": [],
   "source": [
    "a.values"
   ]
  },
  {
   "cell_type": "markdown",
   "metadata": {
    "id": "VB79bJssVVlR"
   },
   "source": [
    "Indexes have their own type and are accessed with `.index`:"
   ]
  },
  {
   "cell_type": "code",
   "execution_count": null,
   "metadata": {
    "colab": {
     "base_uri": "https://localhost:8080/"
    },
    "executionInfo": {
     "elapsed": 694,
     "status": "ok",
     "timestamp": 1604334080208,
     "user": {
      "displayName": "alumnos bigdata",
      "photoUrl": "",
      "userId": "10710302360204190833"
     },
     "user_tz": -60
    },
    "id": "9ymToXqtVVlV",
    "outputId": "5ca89c70-12a0-4f3f-b046-8eef18e77efb"
   },
   "outputs": [],
   "source": [
    "a.index"
   ]
  },
  {
   "cell_type": "markdown",
   "metadata": {
    "id": "4T2pinXaVVlo"
   },
   "source": [
    "Same features *slicing*, functions, *fancy indexing* as numpy arrays:"
   ]
  },
  {
   "cell_type": "code",
   "execution_count": null,
   "metadata": {
    "colab": {
     "base_uri": "https://localhost:8080/"
    },
    "executionInfo": {
     "elapsed": 739,
     "status": "ok",
     "timestamp": 1604334082616,
     "user": {
      "displayName": "alumnos bigdata",
      "photoUrl": "",
      "userId": "10710302360204190833"
     },
     "user_tz": -60
    },
    "id": "5gth52O9VVls",
    "outputId": "30f164b0-0c9c-4867-a1c1-708fda404620"
   },
   "outputs": [],
   "source": [
    "a[1:3] * 2"
   ]
  },
  {
   "cell_type": "markdown",
   "metadata": {
    "id": "XvwPDY3TVVmB"
   },
   "source": [
    "We can declare the index explicitly:"
   ]
  },
  {
   "cell_type": "code",
   "execution_count": null,
   "metadata": {
    "colab": {
     "base_uri": "https://localhost:8080/"
    },
    "executionInfo": {
     "elapsed": 994,
     "status": "ok",
     "timestamp": 1604334085798,
     "user": {
      "displayName": "alumnos bigdata",
      "photoUrl": "",
      "userId": "10710302360204190833"
     },
     "user_tz": -60
    },
    "id": "jTEWYnEIVVmG",
    "outputId": "8e22db1d-35db-4394-8297-3cb0a43abb50"
   },
   "outputs": [],
   "source": [
    "a = pd.Series([1.2, 0.4, 2.3], index=['a','b','c'])\n",
    "a"
   ]
  },
  {
   "cell_type": "markdown",
   "metadata": {
    "id": "cIUrhS8yVVmc"
   },
   "source": [
    "Or, from a dictionary:"
   ]
  },
  {
   "cell_type": "code",
   "execution_count": null,
   "metadata": {
    "colab": {
     "base_uri": "https://localhost:8080/"
    },
    "executionInfo": {
     "elapsed": 692,
     "status": "ok",
     "timestamp": 1604334088304,
     "user": {
      "displayName": "alumnos bigdata",
      "photoUrl": "",
      "userId": "10710302360204190833"
     },
     "user_tz": -60
    },
    "id": "722uIwuxVVmg",
    "outputId": "953e4e1e-e9b7-4edb-f586-a68117c29df1"
   },
   "outputs": [],
   "source": [
    "a = pd.Series({'a': 1.2, 'b': 0.4, 'c': 2.3})\n",
    "a"
   ]
  },
  {
   "cell_type": "markdown",
   "metadata": {
    "id": "Z5CpJH13VVm1"
   },
   "source": [
    "The index adds the ability to filter from its values:"
   ]
  },
  {
   "cell_type": "code",
   "execution_count": null,
   "metadata": {
    "colab": {
     "base_uri": "https://localhost:8080/"
    },
    "executionInfo": {
     "elapsed": 816,
     "status": "ok",
     "timestamp": 1604334090717,
     "user": {
      "displayName": "alumnos bigdata",
      "photoUrl": "",
      "userId": "10710302360204190833"
     },
     "user_tz": -60
    },
    "id": "l8fvwsxEVVm5",
    "outputId": "9451c06f-68ae-49e0-ef25-06be5d554a88"
   },
   "outputs": [],
   "source": [
    "a[['b','c']]"
   ]
  },
  {
   "cell_type": "markdown",
   "metadata": {
    "id": "EhWZeu7rVVnq"
   },
   "source": [
    "It even has the methods of a dictionary:"
   ]
  },
  {
   "cell_type": "code",
   "execution_count": null,
   "metadata": {
    "colab": {
     "base_uri": "https://localhost:8080/"
    },
    "executionInfo": {
     "elapsed": 709,
     "status": "ok",
     "timestamp": 1604334093070,
     "user": {
      "displayName": "alumnos bigdata",
      "photoUrl": "",
      "userId": "10710302360204190833"
     },
     "user_tz": -60
    },
    "id": "CqgydgCyVVnv",
    "outputId": "bb7584b0-fb28-4375-ff64-f74e36f0f1a6"
   },
   "outputs": [],
   "source": [
    "a.keys()"
   ]
  },
  {
   "cell_type": "code",
   "execution_count": null,
   "metadata": {
    "id": "hijOWgTsVVoJ",
    "outputId": "0ae89150-5cb6-4a38-c4b3-369533aacfc8"
   },
   "outputs": [],
   "source": [
    "list(a.items())"
   ]
  },
  {
   "cell_type": "markdown",
   "metadata": {
    "id": "U75KhoMvVVod"
   },
   "source": [
    "#### 6.2.1. Indexers: LOC, ILOC\n",
    "\n",
    "They are used to modify the behavior of filters.\n",
    "\n",
    "Its function is to avoid collisions between indexes and positions. For example, the following string has integer indices:"
   ]
  },
  {
   "cell_type": "code",
   "execution_count": null,
   "metadata": {
    "id": "fJ115Nr2VVoi",
    "outputId": "2edcc323-381e-4411-b257-fc1a77ba3e45"
   },
   "outputs": [],
   "source": [
    "a = pd.Series(['a', 'b', 'c'], index=[1, 3, 5])\n",
    "a"
   ]
  },
  {
   "cell_type": "markdown",
   "metadata": {
    "id": "lphA1u0sVVo2"
   },
   "source": [
    "If the value of index 1 is accessed."
   ]
  },
  {
   "cell_type": "code",
   "execution_count": null,
   "metadata": {
    "id": "ttCFytgVVVo5",
    "outputId": "0d5c40c2-8631-436f-a8c1-d928ba31d9f8"
   },
   "outputs": [],
   "source": [
    "a[1]"
   ]
  },
  {
   "cell_type": "markdown",
   "metadata": {
    "id": "hRXY0gulVVpL"
   },
   "source": [
    "On the other hand, if the values of positions 1 to 3 are requested with slicing."
   ]
  },
  {
   "cell_type": "code",
   "execution_count": null,
   "metadata": {
    "id": "DiuhrRTCVVpP",
    "outputId": "ed10954d-6410-4365-d9bd-2a00854d81e4"
   },
   "outputs": [],
   "source": [
    "a[1:3]"
   ]
  },
  {
   "cell_type": "markdown",
   "metadata": {
    "id": "Hi2prAWVVVpe"
   },
   "source": [
    "To avoid these confusions, `.loc` is introduced, which allows access to values always based on the index."
   ]
  },
  {
   "cell_type": "code",
   "execution_count": null,
   "metadata": {
    "id": "NyA4o8nZVVpj",
    "outputId": "3d68e9a8-9348-4013-8987-f30722eca514"
   },
   "outputs": [],
   "source": [
    "a.loc[1]"
   ]
  },
  {
   "cell_type": "code",
   "execution_count": null,
   "metadata": {
    "id": "xPa-RlaoVVpz",
    "outputId": "46cc71a4-e5bd-4b90-c999-7587e1b55722"
   },
   "outputs": [],
   "source": [
    "a.loc[1:3]"
   ]
  },
  {
   "cell_type": "markdown",
   "metadata": {
    "id": "jxBbh64zVVqA"
   },
   "source": [
    "By contrast, `.iloc` has the opposite purpose, to perform access by position."
   ]
  },
  {
   "cell_type": "code",
   "execution_count": null,
   "metadata": {
    "id": "ur2wljsdVVqG",
    "outputId": "831e0471-7de4-40e8-fa65-7c152dd8dd43"
   },
   "outputs": [],
   "source": [
    "a.iloc[1]"
   ]
  },
  {
   "cell_type": "code",
   "execution_count": null,
   "metadata": {
    "id": "_cmA-GMBVVqW",
    "outputId": "be119975-9bd8-4eb0-bbb0-51f254881ccf"
   },
   "outputs": [],
   "source": [
    "a.iloc[1:3]"
   ]
  },
  {
   "cell_type": "markdown",
   "metadata": {
    "id": "p1lS1-OrVVqk"
   },
   "source": [
    "### 6.3. Pandas Dataframe Objects\n",
    "\n",
    "They can be seen as a generalization of numpy or even dictionaries.\n",
    "\n",
    "To be able to visualize it, we start from two series, a series of the diameter and another of the population of the planets:"
   ]
  },
  {
   "cell_type": "code",
   "execution_count": null,
   "metadata": {
    "id": "ONMUqWiQVVqn"
   },
   "outputs": [],
   "source": [
    "diameter_dict = {'Tatooine': 10465.0,'Alderaan': 12500.0\n",
    "                 ,'Bespin': 118000.0,'Endor': 4900.0,'Naboo': 12120.0}\n",
    "population_dict = {'Tatooine': 2.000000e+05,'Alderaan': 2.000000e+09\n",
    "                   ,'Bespin': 6.000000e+06,'Endor': 3.000000e+07,'Naboo': 4.500000e+09}\n"
   ]
  },
  {
   "cell_type": "code",
   "execution_count": null,
   "metadata": {
    "colab": {
     "base_uri": "https://localhost:8080/"
    },
    "executionInfo": {
     "elapsed": 1163,
     "status": "ok",
     "timestamp": 1604334102256,
     "user": {
      "displayName": "alumnos bigdata",
      "photoUrl": "",
      "userId": "10710302360204190833"
     },
     "user_tz": -60
    },
    "id": "NzlAEYlPVVq2",
    "outputId": "d68c5fe8-1f4f-4e2d-f6be-16a246660c0c"
   },
   "outputs": [],
   "source": [
    "population = pd.Series(population_dict)\n",
    "population"
   ]
  },
  {
   "cell_type": "code",
   "execution_count": null,
   "metadata": {
    "colab": {
     "base_uri": "https://localhost:8080/"
    },
    "executionInfo": {
     "elapsed": 966,
     "status": "ok",
     "timestamp": 1604334104733,
     "user": {
      "displayName": "alumnos bigdata",
      "photoUrl": "",
      "userId": "10710302360204190833"
     },
     "user_tz": -60
    },
    "id": "oGRbYQ4bVVrL",
    "outputId": "4133eadf-8130-490a-8019-33709766fd50"
   },
   "outputs": [],
   "source": [
    "diameter = pd.Series(diameter_dict)\n",
    "diameter"
   ]
  },
  {
   "cell_type": "markdown",
   "metadata": {
    "id": "GyTBSWa6VVrk"
   },
   "source": [
    "Now, we build a `DataFrame` with the `pd.DataFrame()` method:"
   ]
  },
  {
   "cell_type": "code",
   "execution_count": null,
   "metadata": {
    "colab": {
     "base_uri": "https://localhost:8080/",
     "height": 206
    },
    "executionInfo": {
     "elapsed": 655,
     "status": "ok",
     "timestamp": 1604334107813,
     "user": {
      "displayName": "alumnos bigdata",
      "photoUrl": "",
      "userId": "10710302360204190833"
     },
     "user_tz": -60
    },
    "id": "dos1D2f8VVrr",
    "outputId": "bdc69a2a-dafa-4af8-c6a8-dfe8ed485e0c"
   },
   "outputs": [],
   "source": [
    "planetas = pd.DataFrame({'population': population,\n",
    "                       'diameter': diameter})\n",
    "planetas"
   ]
  },
  {
   "cell_type": "markdown",
   "metadata": {
    "id": "JgLKwOBYVVr6"
   },
   "source": [
    "As with series, we access its row index with `.index`:"
   ]
  },
  {
   "cell_type": "code",
   "execution_count": null,
   "metadata": {
    "id": "tCdVgN05VVr9",
    "outputId": "e096d885-b6fe-4123-9b84-67c59638fc48"
   },
   "outputs": [],
   "source": [
    "planetas.index"
   ]
  },
  {
   "cell_type": "markdown",
   "metadata": {
    "id": "YyAlEM7kVVsL"
   },
   "source": [
    "Also, we access the column index with `.columns`:"
   ]
  },
  {
   "cell_type": "code",
   "execution_count": null,
   "metadata": {
    "id": "YnW92FbmVVsO",
    "outputId": "0460b3f7-6f9f-4da3-d42c-8d0a3d859507",
    "scrolled": false
   },
   "outputs": [],
   "source": [
    "planetas.columns"
   ]
  },
  {
   "cell_type": "markdown",
   "metadata": {
    "id": "MwlILYNDVVsc"
   },
   "source": [
    "We can build from numpy, specifying the name of the columns:"
   ]
  },
  {
   "cell_type": "code",
   "execution_count": null,
   "metadata": {
    "id": "KTdPAV4bVVse",
    "outputId": "3188cbad-cfbd-48c2-d8ea-33a53b8d6f2d"
   },
   "outputs": [],
   "source": [
    "a = np.ones((3,2))\n",
    "a"
   ]
  },
  {
   "cell_type": "code",
   "execution_count": null,
   "metadata": {
    "id": "SkfumLpIVVst",
    "outputId": "af0fe1af-8f41-4d25-aeea-0f01dbf86f32"
   },
   "outputs": [],
   "source": [
    "b = pd.DataFrame(a, columns=[\"col1\",\"col2\"])\n",
    "b"
   ]
  },
  {
   "cell_type": "markdown",
   "metadata": {
    "id": "c2TaddJ9VVs8"
   },
   "source": [
    "We can retrieve the numpy with `.values`:"
   ]
  },
  {
   "cell_type": "code",
   "execution_count": null,
   "metadata": {
    "id": "dl0BBDY6VVs_",
    "outputId": "a6aab57b-c418-4b2a-e7ca-1771db998864"
   },
   "outputs": [],
   "source": [
    "b.values"
   ]
  },
  {
   "cell_type": "markdown",
   "metadata": {
    "id": "JFLzKAAyVVtJ"
   },
   "source": [
    "We access the inner types with `.dtypes`:"
   ]
  },
  {
   "cell_type": "code",
   "execution_count": null,
   "metadata": {
    "id": "2j64qS2vVVtM",
    "outputId": "702b308d-0e5c-4ace-9fc5-a6b9ee4d7e7d"
   },
   "outputs": [],
   "source": [
    "planets_df.dtypes"
   ]
  },
  {
   "cell_type": "markdown",
   "metadata": {
    "id": "qs6V4BPTVVtZ"
   },
   "source": [
    "#### 6.3.1. Column Management in Dataframes"
   ]
  },
  {
   "cell_type": "markdown",
   "metadata": {
    "id": "dxPF8A7FVVtb"
   },
   "source": [
    "We access the pandas Series using the dictionary notation:"
   ]
  },
  {
   "cell_type": "code",
   "execution_count": null,
   "metadata": {
    "id": "WFHwMVF8VVtd",
    "outputId": "b236b2b1-005a-4376-b734-527759eb24c8"
   },
   "outputs": [],
   "source": [
    "planets_df[\"population\"]"
   ]
  },
  {
   "cell_type": "markdown",
   "metadata": {
    "id": "Tf-vPcSgVVtu"
   },
   "source": [
    "Also, as if it were an attribute:"
   ]
  },
  {
   "cell_type": "code",
   "execution_count": null,
   "metadata": {
    "id": "EVY-wKq-VVtx",
    "outputId": "aa09061f-c18f-43dd-bcc3-bda1cb2cf3a8"
   },
   "outputs": [],
   "source": [
    "planets_df.diameter"
   ]
  },
  {
   "cell_type": "markdown",
   "metadata": {
    "id": "4lHx-8O6VVt9"
   },
   "source": [
    "We can create new columns or series. For example, we calculate:\n",
    "\n",
    "- The area in Km² of the planet (assuming they are spherical): $4*\\pi*Radio²$.\n",
    "- The population density in inhabitants / Km²."
   ]
  },
  {
   "cell_type": "code",
   "execution_count": null,
   "metadata": {
    "id": "C6Ob6AKzVVt_"
   },
   "outputs": [],
   "source": [
    "import math\n",
    "planets_df[\"area\"] = 4 * math.pi * (planets_df[\"diameter\"]/2)**2\n",
    "planets_df[\"density\"] = planets_df[\"population\"] / planets_df[\"area\"]"
   ]
  },
  {
   "cell_type": "markdown",
   "metadata": {
    "id": "T_c95YrOVVuJ"
   },
   "source": [
    "To select multiple columns we use lists. Notice that now, the DataFrame class is kept:"
   ]
  },
  {
   "cell_type": "code",
   "execution_count": null,
   "metadata": {
    "id": "AFtbKILUVVuM",
    "outputId": "96b78db4-8e90-408f-9dbf-4388edbe48eb"
   },
   "outputs": [],
   "source": [
    "planets_df[[\"population\",\"diameter\",\"area\",\"density\"]].head()"
   ]
  },
  {
   "cell_type": "markdown",
   "metadata": {
    "id": "Ghe3MEPJVVuW"
   },
   "source": [
    "We will rename a column with `.rename()`:"
   ]
  },
  {
   "cell_type": "code",
   "execution_count": null,
   "metadata": {
    "id": "LcdoEdS8VVuY",
    "outputId": "417e944e-4b2d-4fbd-bd35-9a2eec812446",
    "scrolled": false
   },
   "outputs": [],
   "source": [
    "planets_df.rename(columns={\"area\": \"Area\", \"density\": \"Densidad\"}, inplace=True)\n",
    "planets_df.head()"
   ]
  },
  {
   "cell_type": "markdown",
   "metadata": {
    "id": "FW-MffhtVVuj"
   },
   "source": [
    "We will drop the columns with `.drop()`:"
   ]
  },
  {
   "cell_type": "code",
   "execution_count": null,
   "metadata": {
    "id": "5xg3mkcsVVul",
    "outputId": "de2ee5b4-62ef-46ec-8fe6-7cd525982d31"
   },
   "outputs": [],
   "source": [
    "planets_df.drop(columns=\"Area\", inplace=True, errors=\"ignore\")\n",
    "planets_df.head()"
   ]
  },
  {
   "cell_type": "markdown",
   "metadata": {
    "id": "ksw5H_LZVVuw"
   },
   "source": [
    "### 6.4. Filters in Dataframes\n",
    "\n",
    "The same selection logic works as numpys and pandas arrays, but now with two dimensions:"
   ]
  },
  {
   "cell_type": "code",
   "execution_count": null,
   "metadata": {
    "id": "5iIz0zs5VVuy",
    "outputId": "3d15d272-e3cb-41b1-8147-9756d5cfba06"
   },
   "outputs": [],
   "source": [
    "planets_df.loc[planets_df.Densidad > 50, ['population', 'Densidad']]"
   ]
  },
  {
   "cell_type": "markdown",
   "metadata": {
    "id": "HGk2sG8bVVu9"
   },
   "source": [
    "As a curiosity, the slicing and logical filters are done by rows:"
   ]
  },
  {
   "cell_type": "code",
   "execution_count": null,
   "metadata": {
    "id": "gOp5T8u7VVvA",
    "outputId": "a9d33db3-f7d0-48e8-9193-369125ccb0a7"
   },
   "outputs": [],
   "source": [
    "planets_df[planets_df.Densidad > 50]"
   ]
  },
  {
   "cell_type": "markdown",
   "metadata": {
    "id": "AvbEgHAQVVvK"
   },
   "source": [
    "Another curiosity: now positional filters behave like in R, unlike numpy."
   ]
  },
  {
   "cell_type": "code",
   "execution_count": null,
   "metadata": {
    "id": "ytP0owp-VVvM",
    "outputId": "0ba80c7d-8aa5-4072-f14c-02080da13b6a"
   },
   "outputs": [],
   "source": [
    "a = planets_df.iloc[[1,7,14],[1,2,4]]\n",
    "a\n"
   ]
  },
  {
   "cell_type": "markdown",
   "metadata": {
    "id": "UwAbRN4AVVva"
   },
   "source": [
    "Instead, in numpy, coordinates 2 to 2 were paired:"
   ]
  },
  {
   "cell_type": "code",
   "execution_count": null,
   "metadata": {
    "id": "6HP0reucVVvc",
    "outputId": "ba0e97ea-5cc6-4ce3-c1b1-49df18a8e3b3"
   },
   "outputs": [],
   "source": [
    "planets_df.values[[1,4,5],[1,2,4]]"
   ]
  },
  {
   "cell_type": "markdown",
   "metadata": {
    "id": "p8Dh76OwVVvp"
   },
   "source": [
    "The View assignement is done in the same way."
   ]
  },
  {
   "cell_type": "code",
   "execution_count": null,
   "metadata": {
    "id": "LtrhLW5cVVvs",
    "outputId": "3816dd3b-0fde-453a-8da3-8dcacde729fe"
   },
   "outputs": [],
   "source": [
    "a = pd.DataFrame(np.ones((3,2)), columns=[\"col1\",\"col2\"])\n",
    "b = a.iloc[0:2,0:1]\n",
    "b"
   ]
  },
  {
   "cell_type": "code",
   "execution_count": null,
   "metadata": {
    "id": "evFU9xrxVVv2",
    "outputId": "3940dfef-1419-4ca3-b289-8a51c201310f"
   },
   "outputs": [],
   "source": [
    "b.iloc[1,0] = 20\n",
    "a"
   ]
  },
  {
   "cell_type": "markdown",
   "metadata": {
    "id": "qQ38faKYVVwF"
   },
   "source": [
    "> **Remember**: when necessary, make the copy of the object with `.copy()`, this way you will prevent all copies from being modified."
   ]
  },
  {
   "cell_type": "code",
   "execution_count": null,
   "metadata": {
    "id": "LA8RO8YPVVwH",
    "outputId": "1bb6187d-82d2-4069-c2ef-81b0e9281a87"
   },
   "outputs": [],
   "source": [
    "a = pd.DataFrame(np.ones((3,2)), columns=[\"col1\",\"col2\"])\n",
    "b = a.iloc[0:2,0:1].copy()\n",
    "b.iloc[1,0] = 20\n",
    "a"
   ]
  },
  {
   "cell_type": "markdown",
   "metadata": {
    "id": "w524FideVVwU"
   },
   "source": [
    "We have already learned how to see the first 5 rows with `.head()`. It is also possible to see the last rows with `.tail()`:"
   ]
  },
  {
   "cell_type": "code",
   "execution_count": null,
   "metadata": {
    "id": "ZHHFfeG3VVwW",
    "outputId": "8e0753f8-be01-4806-ae43-44fe2c1beb86"
   },
   "outputs": [],
   "source": [
    "planets_df.tail(2)"
   ]
  },
  {
   "cell_type": "markdown",
   "metadata": {
    "id": "UZLEbp3pVVwh"
   },
   "source": [
    "#### 6.4.1. Universal functions on Pandas\n",
    "\n",
    "We can apply the universal functions (ufunc) that we have seen in the previous chapter, in the same way, on pandas objects:"
   ]
  },
  {
   "cell_type": "code",
   "execution_count": null,
   "metadata": {
    "id": "f-uHPNX3VVwi",
    "outputId": "22494320-6f04-4a5b-ce5f-d00ecbcdb385"
   },
   "outputs": [],
   "source": [
    "a =  np.sqrt(planets_df[[\"rotation_period\",\"diameter\"]].tail(2))\n",
    "a"
   ]
  },
  {
   "cell_type": "markdown",
   "metadata": {
    "id": "jES9RAGRVVwy"
   },
   "source": [
    "We see how, in this case, we have applied the numpy function, square root, on a DataFrame and this has been applied on each element, respecting the row and column indexes of the table:"
   ]
  },
  {
   "cell_type": "markdown",
   "metadata": {
    "id": "xipiuI1kVVw0"
   },
   "source": [
    "#### 6.4.2. Index Alignment\n",
    "\n",
    "When we perform arithmetic operations between two pandas, the row and column indices are automatically aligned:"
   ]
  },
  {
   "cell_type": "code",
   "execution_count": null,
   "metadata": {
    "id": "ug5xypPWVVw2",
    "outputId": "73ab2c66-51d4-4d88-e476-e049d77968e3"
   },
   "outputs": [],
   "source": [
    "a = planets_df.iloc[[1,3,4],[4,7]]\n",
    "a"
   ]
  },
  {
   "cell_type": "code",
   "execution_count": null,
   "metadata": {
    "id": "oAkDp6J_VVxA",
    "outputId": "09d88131-1f80-4b99-8efa-11fff3f3109b"
   },
   "outputs": [],
   "source": [
    "b = planets_df.iloc[[1,4,7],[4,7]]\n",
    "b"
   ]
  },
  {
   "cell_type": "code",
   "execution_count": null,
   "metadata": {
    "id": "ax8JGHIZVVxM",
    "outputId": "9f988ebc-e07b-43cd-a1c3-260aeeb19d5c"
   },
   "outputs": [],
   "source": [
    "a + b"
   ]
  },
  {
   "cell_type": "markdown",
   "metadata": {
    "id": "iYDK-TSFVVxY"
   },
   "source": [
    "When a row vector is subtracted from a Data Frame, following the Broadcasting rules, this operation is applied to all the rows:"
   ]
  },
  {
   "cell_type": "code",
   "execution_count": null,
   "metadata": {
    "id": "cIWogezhVVxa",
    "outputId": "e6d11822-3cbf-45ee-f455-15d0a8f53876"
   },
   "outputs": [],
   "source": [
    "a"
   ]
  },
  {
   "cell_type": "code",
   "execution_count": null,
   "metadata": {
    "id": "lFSriuiwVVxm",
    "outputId": "a92627ac-0730-467b-9c3e-4102fb90b319"
   },
   "outputs": [],
   "source": [
    "c = a.iloc[0]\n",
    "c"
   ]
  },
  {
   "cell_type": "code",
   "execution_count": null,
   "metadata": {
    "id": "qVSuheKSVVxw",
    "outputId": "998b75aa-932a-4f7a-cbd0-e2994dc94230"
   },
   "outputs": [],
   "source": [
    "a - c "
   ]
  },
  {
   "cell_type": "markdown",
   "metadata": {
    "id": "HF-DJJD5VVx7"
   },
   "source": [
    "#### 6.4.3. Missing Values\n",
    "\n",
    "`None` and `np.nan` in Pandas are very similar. To see an example, we first prepared some sample data:"
   ]
  },
  {
   "cell_type": "code",
   "execution_count": null,
   "metadata": {
    "id": "T7e2P7LhVVx9",
    "outputId": "78c78170-ef6b-4b81-ff5e-7855a7c86354",
    "scrolled": true
   },
   "outputs": [],
   "source": [
    "print(planets_df.columns)\n",
    "planetsNA = planets_df[[\"gravity\", \"climate\", \"temperate_tropical\"]].head().copy()\n",
    "planetsNA.head()"
   ]
  },
  {
   "cell_type": "code",
   "execution_count": null,
   "metadata": {
    "id": "Q6_dq5z9VVyH",
    "outputId": "b2a3d683-80c0-418a-f03f-1ffe0c5a9f2e"
   },
   "outputs": [],
   "source": [
    "print(\"planetsNA shape: \", planetsNA.shape)\n",
    "planetsNA.dtypes # we see the internal types"
   ]
  },
  {
   "cell_type": "markdown",
   "metadata": {
    "id": "b2dpL3P0VVyQ"
   },
   "source": [
    "Now we inject None and NaN."
   ]
  },
  {
   "cell_type": "code",
   "execution_count": null,
   "metadata": {
    "id": "H8hqZS2KVVyT",
    "outputId": "4286a577-eaae-43fc-e35a-f1817f9da1e0"
   },
   "outputs": [],
   "source": [
    "planetsNA.loc[1:4,\"gravity\"] = None\n",
    "planetsNA.loc[0:2,\"temperate_tropical\"] = np.nan\n",
    "planetsNA.loc[0:2,\"climate\"] = np.nan\n",
    "planetsNA.loc[2:4,\"climate\"] = None\n",
    "planetsNA"
   ]
  },
  {
   "cell_type": "code",
   "execution_count": null,
   "metadata": {
    "id": "nm39ZzWLVVyb",
    "outputId": "a2b079ea-7ced-4224-f2fd-3227bfb7d3e5"
   },
   "outputs": [],
   "source": [
    "planetsNA.dtypes"
   ]
  },
  {
   "cell_type": "markdown",
   "metadata": {
    "id": "KQ7JY_1uVVym"
   },
   "source": [
    "Note that:\n",
    "\n",
    "- `gravity` which was of type `float`, when inserting `None`, it has been converted to `np.nan`.\n",
    "- `climate` with type object, differentiates `NaN` and `None`.\n",
    "- `rotation_period` which was initially of type integer (`int`), when assigning `np.nan`, it automatically casts to `float`"
   ]
  },
  {
   "cell_type": "markdown",
   "metadata": {
    "id": "JabIidk6VVzE"
   },
   "source": [
    "Four interesting methods:\n",
    "\n",
    "- isnull() / notnull(): Mark missing values with `True/False`.\n",
    "- dropna(): Removes rows and columns with some missing value.\n",
    "- fillna(): Returns a copy of the data with missing values filled in."
   ]
  },
  {
   "cell_type": "code",
   "execution_count": null,
   "metadata": {
    "id": "j9Otr4LUVVzH",
    "outputId": "ffd88028-c86b-494d-dfd0-ada581458004"
   },
   "outputs": [],
   "source": [
    "planetsNA.isnull() # np.nan and None behave the same."
   ]
  },
  {
   "cell_type": "code",
   "execution_count": null,
   "metadata": {
    "id": "i5Ucu2WeVVzQ",
    "outputId": "bf212746-ce8e-4c62-9bdc-455e624a0047"
   },
   "outputs": [],
   "source": [
    "planetsNA.dropna() # np.nan and None behave the same."
   ]
  },
  {
   "cell_type": "code",
   "execution_count": null,
   "metadata": {
    "id": "dSW3jBR_VVzY",
    "outputId": "b1e41238-dda1-4324-f88e-a73993ee1b31",
    "scrolled": false
   },
   "outputs": [],
   "source": [
    "planetsNA.fillna(0)  # a way to fill missings."
   ]
  },
  {
   "cell_type": "markdown",
   "metadata": {
    "id": "0y-SXC80VVzh"
   },
   "source": [
    "#### 6.4.4. Guided Activity 2.4\n",
    "\n",
    "Now, we have all the tools to solve the activity:\n",
    "\n",
    "- Long days to train a lot.\n",
    "- Plenty of water to cool off.\n",
    "- Low population density so as not to be disturbed.\n",
    "- Good climate (temperate or tropical)."
   ]
  },
  {
   "cell_type": "markdown",
   "metadata": {
    "id": "mIZxLnJkVVzi"
   },
   "source": [
    "Let's see its distribution with Boxplot:"
   ]
  },
  {
   "cell_type": "code",
   "execution_count": null,
   "metadata": {
    "id": "vepi74sLVVzl",
    "outputId": "2a702d46-90cc-49d4-ca86-9f6228f3b302"
   },
   "outputs": [],
   "source": [
    "sns.set(rc={'figure.figsize':(14,4)})\n",
    "fig, axs = plt.subplots(ncols=3)\n",
    "plt.gcf().subplots_adjust(bottom=0.15)\n",
    "sns.boxplot(x='temperate_tropical', y='rotation_period', data=planets_df, ax=axs[0])\n",
    "sns.boxplot(x='temperate_tropical', y='surface_water', data=planets_df, ax=axs[1])\n",
    "sns.boxplot(x='temperate_tropical', y='Densidad',data=planets_df, ax=axs[2]);"
   ]
  },
  {
   "cell_type": "markdown",
   "metadata": {
    "id": "zaZCdTx7VVzv"
   },
   "source": [
    "- Rotations above 24 are above the median (boxplot central axis).\n",
    "- % of water surface above 10%, avoid unsuitable planets.\n",
    "- Density below 50 people per Km² is more than enough to filter out overly populated planets."
   ]
  },
  {
   "cell_type": "code",
   "execution_count": null,
   "metadata": {
    "id": "3Hx_DAu0VVzx",
    "outputId": "6c0e4dd8-a255-4127-a8af-e17d2814e652",
    "scrolled": true
   },
   "outputs": [],
   "source": [
    "planets_df_sel = planets_df[(planets_df.Densidad<50) \n",
    "                            & (planets_df.rotation_period>24) \n",
    "                            & (planets_df.surface_water>10)]\n",
    "print(planets_df_sel.shape)\n",
    "planets_df_sel"
   ]
  },
  {
   "cell_type": "markdown",
   "metadata": {
    "id": "xh5CFmLHVVz7"
   },
   "source": [
    "There are 7 planets left. Let's now see a scatter plot with a summary of the main variables:"
   ]
  },
  {
   "cell_type": "code",
   "execution_count": null,
   "metadata": {
    "id": "GOL1jz1VVVz9",
    "outputId": "de357cf5-d9ac-4829-ed5e-7a8431794136",
    "scrolled": true
   },
   "outputs": [],
   "source": [
    "sns.set(rc={'figure.figsize':(10,6)});\n",
    "g = sns.scatterplot(x=\"rotation_period\", y = \"surface_water\", data=planets_df_sel\n",
    "                            , alpha =0.7\n",
    "                            , hue= \"climate\"\n",
    "                            , size=\"Densidad\")\n",
    "g.set_title('Planets for the Jedi academy');\n",
    "plt.legend(loc='lower right')\n",
    "limit = g.set(ylim=(-10, None));\n",
    "\n",
    "# search for the planet to be labeled\n",
    "planets_df_sel_final = planets_df_sel[(planets_df_sel.rotation_period>30)&(planets_df_sel.surface_water>60) ]\n",
    "# insert the label\n",
    "p = plt.annotate(planets_df_sel_final.index[0],\n",
    "             (planets_df_sel_final.rotation_period[0],planets_df_sel_final.surface_water[0])\n",
    "             , textcoords=\"offset points\" # offsets the point\n",
    "             , xytext=(0,5)  # offset distance\n",
    "             , ha='right'\n",
    "            , color=\"red\")   # centered)\n"
   ]
  },
  {
   "cell_type": "markdown",
   "metadata": {
    "id": "bVFa8SiDVV0R"
   },
   "source": [
    "Looks like we already have the perfect destination for the Jedi academy! His name is **Glee Anselm**\n",
    "\n",
    "Let's look at your data:"
   ]
  },
  {
   "cell_type": "code",
   "execution_count": null,
   "metadata": {
    "id": "8L3cn8uYVV0V",
    "outputId": "760e9c22-abfb-4ff8-a30b-cc5933873853",
    "scrolled": true
   },
   "outputs": [],
   "source": [
    "planets_df_sel_final"
   ]
  },
  {
   "cell_type": "markdown",
   "metadata": {},
   "source": [
    "< [Object collections: numpy](modulo1_tema4_Py_31_numpy.ipynb) | [Table of contents](modulo1_tema4_Py_00_indice.ipynb) | [Flow control](modulo1_tema4_Py_40_contr_flujo.ipynb) >\n",
    "\n",
    "__[Open in Colab](https://colab.research.google.com/github/griu/msc_python/blob/master/modulo1_tema4_Py_32_pandas.ipynb)__"
   ]
  }
 ],
 "metadata": {
  "colab": {
   "collapsed_sections": [
    "U75KhoMvVVod",
    "HF-DJJD5VVx7"
   ],
   "name": "M1_BloqueII_Python_6_Pandas.ipynb",
   "provenance": []
  },
  "kernelspec": {
   "display_name": "mufib_env383",
   "language": "python",
   "name": "mufib_env383"
  },
  "language_info": {
   "codemirror_mode": {
    "name": "ipython",
    "version": 3
   },
   "file_extension": ".py",
   "mimetype": "text/x-python",
   "name": "python",
   "nbconvert_exporter": "python",
   "pygments_lexer": "ipython3",
   "version": "3.8.3"
  },
  "toc": {
   "base_numbering": 1,
   "nav_menu": {},
   "number_sections": true,
   "sideBar": true,
   "skip_h1_title": false,
   "title_cell": "Table of Contents",
   "title_sidebar": "Contents",
   "toc_cell": true,
   "toc_position": {},
   "toc_section_display": true,
   "toc_window_display": false
  }
 },
 "nbformat": 4,
 "nbformat_minor": 1
}
