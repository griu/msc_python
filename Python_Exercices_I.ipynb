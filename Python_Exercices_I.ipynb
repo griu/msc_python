{
 "cells": [
  {
   "cell_type": "markdown",
   "metadata": {
    "id": "u6rktmGskhdZ"
   },
   "source": [
    "# Exercice Python 1\n",
    "\n",
    "*by Ferran Carrascosa Mallafrè.*"
   ]
  },
  {
   "cell_type": "markdown",
   "metadata": {
    "id": "evteEWtqlCJe"
   },
   "source": [
    "__[Abre en Colab](https://colab.research.google.com/github/griu/init_python_b1/blob/master/Ejercicios_Python_I.ipynb)__"
   ]
  },
  {
   "cell_type": "markdown",
   "metadata": {},
   "source": [
    "# Environment preparation"
   ]
  },
  {
   "cell_type": "code",
   "execution_count": 1,
   "metadata": {
    "id": "2SBF5dlSTi-h"
   },
   "outputs": [
    {
     "name": "stderr",
     "output_type": "stream",
     "text": [
      "Cloning into '/content/init_python_b1'...\n"
     ]
    },
    {
     "name": "stdout",
     "output_type": "stream",
     "text": [
      "Already up to date.\n",
      "C:\\content\\init_python_b1\n"
     ]
    }
   ],
   "source": [
    "!git clone https://github.com/griu/init_python_b1.git /content/init_python_b1\n",
    "!git -C /content/init_python_b1 pull\n",
    "%cd /content/init_python_b1"
   ]
  },
  {
   "cell_type": "markdown",
   "metadata": {
    "id": "1J4h6kTngjn5"
   },
   "source": [
    "# Exercise 1\n",
    "\n",
    "To carry out the exercise we load the data of *Species* in STARWARS SWAPI and the main libraries."
   ]
  },
  {
   "cell_type": "code",
   "execution_count": null,
   "metadata": {
    "id": "2V3mrVHSgjn7"
   },
   "outputs": [],
   "source": [
    "import numpy as np\n",
    "import pandas as pd\n",
    "import matplotlib.pyplot as plt\n",
    "import seaborn as sns; sns.set()  # for graphics style\n",
    "\n",
    "entidades = ['planets','starships','vehicles','people','species']\n",
    "entidades_df = {x: pd.read_pickle('www/' + x + '_df.pkl') for x in entidades}\n",
    "\n",
    "# Main data\n",
    "people_df = entidades_df['people'][[\"height\",\"mass\",\"birth_year\",\"gender\",\"homeworld\"]].dropna()\n",
    "\n",
    "people_df"
   ]
  },
  {
   "cell_type": "markdown",
   "metadata": {
    "id": "8y6PLIR-gjoF"
   },
   "source": [
    "## Exercise 1.1.\n",
    "\n",
    "Construct a scatter plot of the characters displaying: height (height), weight (mass), age in years BBY (birth_year) and gender (gender). To do this, use the `sns.scatterplot()` function from the seaborn library. Take advantage of all the parameters: `x`, `y`, `size`, `hue` and `style` (see the [.scatterplot() function help](https://seaborn.pydata.org/generated/ seaborn.scatterplot.html).[.scatterplot()](https://seaborn.pydata.org/generated/seaborn.scatterplot.html)."
   ]
  },
  {
   "cell_type": "code",
   "execution_count": null,
   "metadata": {
    "id": "fURT1ovigjoH"
   },
   "outputs": [],
   "source": [
    "# Solution:\n"
   ]
  },
  {
   "cell_type": "markdown",
   "metadata": {
    "id": "1MofC8dugjoQ"
   },
   "source": [
    "## Exercise 1.2.\n",
    "\n",
    "On the graph of exercise 1.1:\n",
    "\n",
    "- Give the graph a title and the x and y axes.\n",
    "- Modifies the limits of the y-axis so that only characters weighing less than 150 Kg appear.\n",
    "- Place the names \"Darth Vader\" and \"Anakin Skywalker\" on the chart. How is it possible to have such different weight and height if they were the same person?"
   ]
  },
  {
   "cell_type": "code",
   "execution_count": null,
   "metadata": {
    "id": "iHmGn9OrgjoS"
   },
   "outputs": [],
   "source": [
    "# Solution:\n"
   ]
  },
  {
   "cell_type": "markdown",
   "metadata": {
    "id": "D2pjJXbcgjoa"
   },
   "source": [
    "## Exercise 1.3.\n",
    "\n",
    "Use *list comprehension* to calculate the square of the positive values in the following list:\n",
    "\n",
    "Show the result on the screen."
   ]
  },
  {
   "cell_type": "code",
   "execution_count": null,
   "metadata": {
    "id": "WJjNiT3Qgjoc"
   },
   "outputs": [],
   "source": [
    "val = [5, 6, -1, 2, -3, -7, 9, 1]"
   ]
  },
  {
   "cell_type": "code",
   "execution_count": null,
   "metadata": {
    "id": "9Hf_uH8ugjol"
   },
   "outputs": [],
   "source": [
    "# Solution:\n"
   ]
  },
  {
   "cell_type": "markdown",
   "metadata": {
    "id": "AE6CcvVggjou"
   },
   "source": [
    "## Exercise 1.4.\n",
    "\n",
    "Build a dictionary where the following characteristics of the Yoda character are identified, using keys and values: \"name\", \"height\", \"weight\", \"age\" and \"gender\". It uses the data from people_df.\n",
    "\n",
    "Shows the dictionary on the screen."
   ]
  },
  {
   "cell_type": "code",
   "execution_count": null,
   "metadata": {
    "id": "eaq6M61-gjo4"
   },
   "outputs": [],
   "source": [
    "# Solution:\n"
   ]
  },
  {
   "cell_type": "markdown",
   "metadata": {
    "id": "Z2bkPuuEgjpA"
   },
   "source": [
    "## Exercise 1.5.\n",
    "\n",
    "Calculate, from the numpy vectors of height and weight, defined below, the [body mass index (BMI)](https://en.wikipedia.org/wiki/Body_mass_index) of the characters in star wars contained in people_df:\n",
    "\n",
    "$BMI = \\frac{weight}{height^{2}}$ where height is in meters and weight is in kg.\n",
    "\n",
    "Show the data on the screen."
   ]
  },
  {
   "cell_type": "code",
   "execution_count": null,
   "metadata": {
    "id": "j6vDGHHngjpK"
   },
   "outputs": [],
   "source": [
    "# Solution:\n"
   ]
  },
  {
   "cell_type": "markdown",
   "metadata": {
    "id": "165OA48hgjpR"
   },
   "source": [
    "## Exercise 1.6.\n",
    "\n",
    "From the BMI that you have calculated in exercise 1.5. Build a panel with two histograms:\n",
    "\n",
    "- A histogram with the entire sample\n",
    "- A histogram selecting the values with a BMI less than 100."
   ]
  },
  {
   "cell_type": "code",
   "execution_count": null,
   "metadata": {
    "id": "tRACj-JDgjpT"
   },
   "outputs": [],
   "source": [
    "# Solution:\n"
   ]
  },
  {
   "cell_type": "markdown",
   "metadata": {
    "id": "zsqrzaingjpb"
   },
   "source": [
    "## Exercise 1.7.\n",
    "\n",
    "From vector 1 and 2 defined below, answer the following questions:\n",
    "\n",
    "- Calculate the shape, ndim, size of vector1 and vector2\n",
    "- Explain the difference between vector1 and vector2 based on what you have observed"
   ]
  },
  {
   "cell_type": "code",
   "execution_count": null,
   "metadata": {
    "id": "DYLofIqugjpc"
   },
   "outputs": [],
   "source": [
    "vector1 = np.hstack([altura,peso])\n",
    "vector2 = np.vstack([altura,peso])"
   ]
  },
  {
   "cell_type": "code",
   "execution_count": null,
   "metadata": {
    "id": "1WBV3vUxgjpm"
   },
   "outputs": [],
   "source": [
    "# Solution:\n"
   ]
  },
  {
   "cell_type": "markdown",
   "metadata": {
    "id": "PnkDGSu0gjpw"
   },
   "source": [
    "## Exercise 1.8.\n",
    "\n",
    "Create a copy of people_df called personas_df and rename the columns with their Spanish translation.\n",
    "\n",
    "Return the first 5 records of the new data frame with `.head()`."
   ]
  },
  {
   "cell_type": "code",
   "execution_count": null,
   "metadata": {
    "id": "7jK-a6Engjpx"
   },
   "outputs": [],
   "source": [
    "# Solution:\n"
   ]
  },
  {
   "cell_type": "markdown",
   "metadata": {
    "id": "blkoKgizgjp5"
   },
   "source": [
    "## Exercise 1.9.\n",
    "\n",
    "Do the same BMI calculation that you did in 1.5. but directly on the characters_df object.\n",
    "\n",
    "It orders the data frame from highest to lowest BMI and shows the name and BMI of the characters with a BMI above 30.\n",
    "\n",
    "> Did you know that BMI over 30 is considered obese?"
   ]
  },
  {
   "cell_type": "code",
   "execution_count": null,
   "metadata": {
    "id": "CHIIcuANgjp6"
   },
   "outputs": [],
   "source": [
    "# Solution:\n"
   ]
  },
  {
   "cell_type": "markdown",
   "metadata": {
    "id": "E-goVaMEgjqB"
   },
   "source": [
    "## Exercise 1.10.\n",
    "\n",
    "Insert a missing value for BMI values greater than 100 and plot the transformed BMI histogram with `.plot.hist()`."
   ]
  },
  {
   "cell_type": "code",
   "execution_count": null,
   "metadata": {
    "id": "oWQQoDs_gjqD"
   },
   "outputs": [],
   "source": [
    "# Solution:\n"
   ]
  }
 ],
 "metadata": {
  "colab": {
   "collapsed_sections": [],
   "name": "Ejercicios_Python_I.ipynb",
   "provenance": []
  },
  "kernelspec": {
   "display_name": "mbdds_rpy20",
   "language": "python",
   "name": "mbdds_rpy20"
  },
  "language_info": {
   "codemirror_mode": {
    "name": "ipython",
    "version": 3
   },
   "file_extension": ".py",
   "mimetype": "text/x-python",
   "name": "python",
   "nbconvert_exporter": "python",
   "pygments_lexer": "ipython3",
   "version": "3.6.9"
  }
 },
 "nbformat": 4,
 "nbformat_minor": 1
}
